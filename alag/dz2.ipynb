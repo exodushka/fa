{
 "cells": [
  {
   "cell_type": "code",
   "execution_count": 2,
   "id": "f46633b4",
   "metadata": {},
   "outputs": [],
   "source": [
    "import numpy as np \n",
    "import scipy.linalg as la\n",
    "from sympy import *\n",
    "init_printing()"
   ]
  },
  {
   "cell_type": "markdown",
   "id": "69ae52e6",
   "metadata": {},
   "source": [
    "![Alt text](pic/2.1.png)"
   ]
  },
  {
   "cell_type": "code",
   "execution_count": 40,
   "id": "e77bdff5",
   "metadata": {},
   "outputs": [],
   "source": [
    "#2.1\n",
    "A = np.array([[7, 5, 8], [5, 5, 8], [2, 3, 3]])\n",
    "b = np.array([289, 283, 156]).reshape(3,1)\n",
    "x,y,z = symbols(\"x,y,z\")"
   ]
  },
  {
   "cell_type": "code",
   "execution_count": 41,
   "id": "1ca11b74",
   "metadata": {},
   "outputs": [
    {
     "data": {
      "text/latex": [
       "$\\displaystyle \\left( \\left[\\begin{matrix}1 & 0 & 0 & 3\\\\0 & 1 & 0 & 44\\\\0 & 0 & 1 & 6\\end{matrix}\\right], \\  \\left( 0, \\  1, \\  2\\right)\\right)$"
      ],
      "text/plain": [
       "⎛⎡1  0  0  3 ⎤           ⎞\n",
       "⎜⎢           ⎥           ⎟\n",
       "⎜⎢0  1  0  44⎥, (0, 1, 2)⎟\n",
       "⎜⎢           ⎥           ⎟\n",
       "⎝⎣0  0  1  6 ⎦           ⎠"
      ]
     },
     "execution_count": 41,
     "metadata": {},
     "output_type": "execute_result"
    }
   ],
   "source": [
    "A_b = np.hstack([A,b])\n",
    "Matrix(A_b).rref()"
   ]
  },
  {
   "cell_type": "code",
   "execution_count": 42,
   "id": "10d7a598",
   "metadata": {},
   "outputs": [
    {
     "data": {
      "text/latex": [
       "$\\displaystyle \\left( x = 3, \\  y = 44, \\  z = 6\\right)$"
      ],
      "text/plain": [
       "(x = 3, y = 44, z = 6)"
      ]
     },
     "execution_count": 42,
     "metadata": {},
     "output_type": "execute_result"
    }
   ],
   "source": [
    "eq1 = Eq(x, 3)\n",
    "eq2 = Eq(y, 44)\n",
    "eq3 = Eq(z, 6)\n",
    "eq1,eq2,eq3"
   ]
  },
  {
   "cell_type": "markdown",
   "id": "30637714",
   "metadata": {},
   "source": [
    "![Alt text](pic/2.2.png)"
   ]
  },
  {
   "cell_type": "code",
   "execution_count": 61,
   "id": "ae9a5182",
   "metadata": {},
   "outputs": [],
   "source": [
    "#x y z u v w\n",
    "A = np.array([[1, 0, 0, 1, 1, 0],\n",
    "               [0, 1, 0, 1, 0, 1],\n",
    "               [0, 0, 1, 0, 1, 1,],\n",
    "               [2, 3, 5, -1, 0, 0],\n",
    "               [8, 7, 2, 0, -1, 0],\n",
    "               [8, 8, 5, 0, 0, -1]])\n",
    "b = np.array([76, 67, 71, 159, 290, 372]).reshape(6,1)\n",
    "A_b = np.hstack([A,b])\n",
    "x,y,z,u,v,w, = symbols('x,y,z,u,v,w')"
   ]
  },
  {
   "cell_type": "code",
   "execution_count": 62,
   "id": "f1e1afa9",
   "metadata": {},
   "outputs": [
    {
     "data": {
      "text/latex": [
       "$\\displaystyle \\left( \\left[\\begin{matrix}1 & 0 & 0 & 0 & 0 & 0 & 19\\\\0 & 1 & 0 & 0 & 0 & 0 & 19\\\\0 & 0 & 1 & 0 & 0 & 0 & 18\\\\0 & 0 & 0 & 1 & 0 & 0 & 26\\\\0 & 0 & 0 & 0 & 1 & 0 & 31\\\\0 & 0 & 0 & 0 & 0 & 1 & 22\\end{matrix}\\right], \\  \\left( 0, \\  1, \\  2, \\  3, \\  4, \\  5\\right)\\right)$"
      ],
      "text/plain": [
       "⎛⎡1  0  0  0  0  0  19⎤                    ⎞\n",
       "⎜⎢                    ⎥                    ⎟\n",
       "⎜⎢0  1  0  0  0  0  19⎥                    ⎟\n",
       "⎜⎢                    ⎥                    ⎟\n",
       "⎜⎢0  0  1  0  0  0  18⎥                    ⎟\n",
       "⎜⎢                    ⎥, (0, 1, 2, 3, 4, 5)⎟\n",
       "⎜⎢0  0  0  1  0  0  26⎥                    ⎟\n",
       "⎜⎢                    ⎥                    ⎟\n",
       "⎜⎢0  0  0  0  1  0  31⎥                    ⎟\n",
       "⎜⎢                    ⎥                    ⎟\n",
       "⎝⎣0  0  0  0  0  1  22⎦                    ⎠"
      ]
     },
     "execution_count": 62,
     "metadata": {},
     "output_type": "execute_result"
    }
   ],
   "source": [
    "Matrix(A_b).rref()"
   ]
  },
  {
   "cell_type": "code",
   "execution_count": 63,
   "id": "0aa3e75f",
   "metadata": {},
   "outputs": [
    {
     "data": {
      "text/latex": [
       "$\\displaystyle \\left( x = 19, \\  u = 26\\right)$"
      ],
      "text/plain": [
       "(x = 19, u = 26)"
      ]
     },
     "execution_count": 63,
     "metadata": {},
     "output_type": "execute_result"
    }
   ],
   "source": [
    "x = Eq(x, 19)\n",
    "y = Eq(y, 19)\n",
    "z = Eq(z, 18)\n",
    "u = Eq(u, 26)\n",
    "v = Eq(v, 31)\n",
    "w = Eq(w, 22)\n",
    "x, u"
   ]
  },
  {
   "cell_type": "markdown",
   "id": "5592e68f",
   "metadata": {},
   "source": [
    "![Alt text](pic/2.3.png)"
   ]
  },
  {
   "cell_type": "code",
   "execution_count": 79,
   "id": "7e8eb784",
   "metadata": {},
   "outputs": [],
   "source": [
    "x,y,z,u,v,w = symbols(\"x,y,z,u,v,w\")\n",
    "A = np.array([[3, 5, 3, -1, 0, 0],\n",
    "              [1, 0, 0, 1, 1, 0],\n",
    "              [9, 7, 8, 0, -1, 0],\n",
    "              [0, 1, 0, 1, 0, 1],\n",
    "              [9, 2, 3, 0, 0, -1],\n",
    "              [0, 0, 1, 0, 1, 1]])\n",
    "b = np.array([72, 71, 198, 68, 94, 86]).reshape(6, 1)\n",
    "A_b = np.hstack([A,b])"
   ]
  },
  {
   "cell_type": "code",
   "execution_count": 80,
   "id": "39f5c76d",
   "metadata": {},
   "outputs": [
    {
     "data": {
      "text/latex": [
       "$\\displaystyle \\left( \\left[\\begin{matrix}1 & 0 & 0 & 0 & 0 & 0 & 8\\\\0 & 1 & 0 & 0 & 0 & 0 & 6\\\\0 & 0 & 1 & 0 & 0 & 0 & 15\\\\0 & 0 & 0 & 1 & 0 & 0 & 27\\\\0 & 0 & 0 & 0 & 1 & 0 & 36\\\\0 & 0 & 0 & 0 & 0 & 1 & 35\\end{matrix}\\right], \\  \\left( 0, \\  1, \\  2, \\  3, \\  4, \\  5\\right)\\right)$"
      ],
      "text/plain": [
       "⎛⎡1  0  0  0  0  0  8 ⎤                    ⎞\n",
       "⎜⎢                    ⎥                    ⎟\n",
       "⎜⎢0  1  0  0  0  0  6 ⎥                    ⎟\n",
       "⎜⎢                    ⎥                    ⎟\n",
       "⎜⎢0  0  1  0  0  0  15⎥                    ⎟\n",
       "⎜⎢                    ⎥, (0, 1, 2, 3, 4, 5)⎟\n",
       "⎜⎢0  0  0  1  0  0  27⎥                    ⎟\n",
       "⎜⎢                    ⎥                    ⎟\n",
       "⎜⎢0  0  0  0  1  0  36⎥                    ⎟\n",
       "⎜⎢                    ⎥                    ⎟\n",
       "⎝⎣0  0  0  0  0  1  35⎦                    ⎠"
      ]
     },
     "execution_count": 80,
     "metadata": {},
     "output_type": "execute_result"
    }
   ],
   "source": [
    "Matrix(A_b).rref()"
   ]
  },
  {
   "cell_type": "code",
   "execution_count": null,
   "id": "da801af2",
   "metadata": {},
   "outputs": [
    {
     "data": {
      "text/latex": [
       "$\\displaystyle \\left( y = 6, \\  v = 36\\right)$"
      ],
      "text/plain": [
       "(y = 6, v = 36)"
      ]
     },
     "execution_count": 81,
     "metadata": {},
     "output_type": "execute_result"
    }
   ],
   "source": [
    "x = Eq(x, 8)\n",
    "y = Eq(y, 6)\n",
    "z = Eq(z, 15)\n",
    "u = Eq(u, 27)\n",
    "v = Eq(v, 36)\n",
    "w = Eq(w, 35)\n",
    "y, v"
   ]
  },
  {
   "cell_type": "markdown",
   "id": "7337ba6f",
   "metadata": {},
   "source": [
    "![](pic/2.4.png)"
   ]
  },
  {
   "cell_type": "code",
   "execution_count": 90,
   "id": "ef34d748",
   "metadata": {},
   "outputs": [],
   "source": [
    "x,y,z,u,v,w = symbols(\"x,y,z,u,v,w\")\n",
    "#              x, y, z, u, v, w\n",
    "A = np.array([[1, 0, 0, 1, 1, 0],\n",
    "              [9, 3, 5, -1, 0, 0],\n",
    "              [0, 1, 0, 1, 0, 1],\n",
    "              [5, 2, 5, 0, -1, 0],\n",
    "              [0, 0, 1, 0, 1, 1],\n",
    "              [9, 7, 2, 0, 0, -1]])\n",
    "b = np.array([69, 211, 78, 135, 72, 219]).reshape(6,1)\n",
    "A_b = np.hstack([A,b])"
   ]
  },
  {
   "cell_type": "code",
   "execution_count": 91,
   "id": "1c7fce54",
   "metadata": {},
   "outputs": [
    {
     "data": {
      "text/latex": [
       "$\\displaystyle \\left( \\left[\\begin{matrix}1 & 0 & 0 & 0 & 0 & 0 & 17\\\\0 & 1 & 0 & 0 & 0 & 0 & 12\\\\0 & 0 & 1 & 0 & 0 & 0 & 10\\\\0 & 0 & 0 & 1 & 0 & 0 & 28\\\\0 & 0 & 0 & 0 & 1 & 0 & 24\\\\0 & 0 & 0 & 0 & 0 & 1 & 38\\end{matrix}\\right], \\  \\left( 0, \\  1, \\  2, \\  3, \\  4, \\  5\\right)\\right)$"
      ],
      "text/plain": [
       "⎛⎡1  0  0  0  0  0  17⎤                    ⎞\n",
       "⎜⎢                    ⎥                    ⎟\n",
       "⎜⎢0  1  0  0  0  0  12⎥                    ⎟\n",
       "⎜⎢                    ⎥                    ⎟\n",
       "⎜⎢0  0  1  0  0  0  10⎥                    ⎟\n",
       "⎜⎢                    ⎥, (0, 1, 2, 3, 4, 5)⎟\n",
       "⎜⎢0  0  0  1  0  0  28⎥                    ⎟\n",
       "⎜⎢                    ⎥                    ⎟\n",
       "⎜⎢0  0  0  0  1  0  24⎥                    ⎟\n",
       "⎜⎢                    ⎥                    ⎟\n",
       "⎝⎣0  0  0  0  0  1  38⎦                    ⎠"
      ]
     },
     "execution_count": 91,
     "metadata": {},
     "output_type": "execute_result"
    }
   ],
   "source": [
    "Matrix(A_b).rref()"
   ]
  },
  {
   "cell_type": "code",
   "execution_count": 93,
   "id": "fd9e776f",
   "metadata": {},
   "outputs": [
    {
     "data": {
      "text/latex": [
       "$\\displaystyle \\left( z = 10, \\  w = 38\\right)$"
      ],
      "text/plain": [
       "(z = 10, w = 38)"
      ]
     },
     "execution_count": 93,
     "metadata": {},
     "output_type": "execute_result"
    }
   ],
   "source": [
    "x = Eq(x, 17)\n",
    "y = Eq(y, 12)\n",
    "z = Eq(z, 10)\n",
    "u = Eq(u, 28)\n",
    "v = Eq(v, 24)\n",
    "w = Eq(w, 38)\n",
    "z,w"
   ]
  },
  {
   "cell_type": "markdown",
   "id": "f4fc85de",
   "metadata": {},
   "source": [
    "![](pic/2.5.png)"
   ]
  },
  {
   "cell_type": "code",
   "execution_count": 4,
   "id": "ff2f775f",
   "metadata": {},
   "outputs": [],
   "source": [
    "x,y,z,u = symbols(\"x,y,z,u\")\n",
    "A = np.array([[32, 97, 90, 48],\n",
    "              [35, 84, 91, 54],\n",
    "              [17, 18, 21, 13]])\n",
    "b = np.array([47, 40, 37]).reshape(3,1)\n",
    "A_b = np.hstack([A,b])"
   ]
  },
  {
   "cell_type": "code",
   "execution_count": 5,
   "id": "bfb71144",
   "metadata": {},
   "outputs": [
    {
     "data": {
      "text/latex": [
       "$\\displaystyle \\left( \\left[\\begin{matrix}1 & 0 & 0 & 10976 & 36121\\\\0 & 1 & 0 & 4262 & 14027\\\\0 & 0 & 1 & -10447 & -34382\\end{matrix}\\right], \\  \\left( 0, \\  1, \\  2\\right)\\right)$"
      ],
      "text/plain": [
       "⎛⎡1  0  0  10976   36121 ⎤           ⎞\n",
       "⎜⎢                       ⎥           ⎟\n",
       "⎜⎢0  1  0   4262   14027 ⎥, (0, 1, 2)⎟\n",
       "⎜⎢                       ⎥           ⎟\n",
       "⎝⎣0  0  1  -10447  -34382⎦           ⎠"
      ]
     },
     "execution_count": 5,
     "metadata": {},
     "output_type": "execute_result"
    }
   ],
   "source": [
    "A_b = Matrix(A_b)\n",
    "A_b.col_swap(0,3)\n",
    "A_b.rref()"
   ]
  },
  {
   "cell_type": "code",
   "execution_count": 102,
   "id": "0c00eae5",
   "metadata": {},
   "outputs": [],
   "source": [
    "eq1 = Eq(32*x + 97*y + 90*z + 48*u, 47)\n",
    "eq2 = Eq(35*x + 84*y + 91*z + 54*u, 40)\n",
    "eq3 = Eq(17*x + 18*y + 21*z + 13*u, 37)"
   ]
  },
  {
   "cell_type": "code",
   "execution_count": 105,
   "id": "1548f63c",
   "metadata": {},
   "outputs": [],
   "source": [
    "solution = solve([eq1, eq2, eq3], [y,z,u])\n",
    "y_s = solution[y]\n"
   ]
  },
  {
   "cell_type": "code",
   "execution_count": 106,
   "id": "bf3a9b54",
   "metadata": {},
   "outputs": [
    {
     "data": {
      "text/latex": [
       "$\\displaystyle 14027 - 4262 x$"
      ],
      "text/plain": [
       "14027 - 4262⋅x"
      ]
     },
     "execution_count": 106,
     "metadata": {},
     "output_type": "execute_result"
    }
   ],
   "source": [
    "y_s"
   ]
  },
  {
   "cell_type": "code",
   "execution_count": 108,
   "id": "9ac9465a",
   "metadata": {},
   "outputs": [
    {
     "data": {
      "text/latex": [
       "$\\displaystyle \\left( 14027, \\  -4262\\right)$"
      ],
      "text/plain": [
       "(14027, -4262)"
      ]
     },
     "execution_count": 108,
     "metadata": {},
     "output_type": "execute_result"
    }
   ],
   "source": [
    "a = y_s.subs(x, 0)\n",
    "b = y_s.coeff(x)\n",
    "a,b "
   ]
  },
  {
   "cell_type": "markdown",
   "id": "0c9d92ef",
   "metadata": {},
   "source": [
    "![](pic/2.6.png)"
   ]
  },
  {
   "cell_type": "code",
   "execution_count": 36,
   "id": "2c5b920d",
   "metadata": {},
   "outputs": [
    {
     "name": "stdout",
     "output_type": "stream",
     "text": [
      "Matrix([[2, 9, 8], [8, 5, 3], [a, a, a]])\n"
     ]
    },
    {
     "data": {
      "text/latex": [
       "$\\displaystyle \\left( \\left[\\begin{matrix}1 & 0 & 0\\\\0 & 1 & 0\\\\0 & 0 & 1\\end{matrix}\\right], \\  \\left( 0, \\  1, \\  2\\right)\\right)$"
      ],
      "text/plain": [
       "⎛⎡1  0  0⎤           ⎞\n",
       "⎜⎢       ⎥           ⎟\n",
       "⎜⎢0  1  0⎥, (0, 1, 2)⎟\n",
       "⎜⎢       ⎥           ⎟\n",
       "⎝⎣0  0  1⎦           ⎠"
      ]
     },
     "execution_count": 36,
     "metadata": {},
     "output_type": "execute_result"
    }
   ],
   "source": [
    "a = symbols(\"a\")\n",
    "print(A)\n",
    "A = Matrix([[2,9,8], [8, 5, 3], [a,9,9]])\n",
    "A.rref()\n",
    "\n",
    "#x,y,z,a = symbols(\"x,y,z,a\")"
   ]
  },
  {
   "cell_type": "code",
   "execution_count": 13,
   "id": "b5c862b1",
   "metadata": {},
   "outputs": [],
   "source": [
    "eq1 = Eq(2*x + 9*y + 8*z, 0)\n",
    "eq2 = Eq(8*x + 5*y + 3*z, 0)\n",
    "eq3 = Eq(a*x + 9*y + 9*z, 0)"
   ]
  },
  {
   "cell_type": "code",
   "execution_count": 14,
   "id": "2507de95",
   "metadata": {},
   "outputs": [
    {
     "data": {
      "text/latex": [
       "$\\displaystyle \\left[ \\left( \\frac{13 z}{62}, \\  - \\frac{29 z}{31}, \\  z, \\  - \\frac{36}{13}\\right), \\  \\left( 0, \\  0, \\  0, \\  a\\right)\\right]$"
      ],
      "text/plain": [
       "⎡⎛13⋅z  -29⋅z      -36 ⎞              ⎤\n",
       "⎢⎜────, ──────, z, ────⎟, (0, 0, 0, a)⎥\n",
       "⎣⎝ 62     31        13 ⎠              ⎦"
      ]
     },
     "execution_count": 14,
     "metadata": {},
     "output_type": "execute_result"
    }
   ],
   "source": [
    "answer = solve([eq1, eq2, eq3], [x,y,z,a])\n",
    "answer"
   ]
  },
  {
   "cell_type": "markdown",
   "id": "4f0c27d5",
   "metadata": {},
   "source": [
    "![](pic/2.7.png)"
   ]
  },
  {
   "cell_type": "code",
   "execution_count": null,
   "id": "49df8839",
   "metadata": {},
   "outputs": [
    {
     "data": {
      "text/latex": [
       "$\\displaystyle 14.1933333333333$"
      ],
      "text/plain": [
       "14.193333333333333"
      ]
     },
     "execution_count": 39,
     "metadata": {},
     "output_type": "execute_result"
    }
   ],
   "source": [
    "A = np.array([[8,3,8], [4,9,4], [5, 7, 2]])\n",
    "b = np.array([6,9,7]).reshape(3,1)\n",
    "A_b = Matrix(np.hstack([A,b]))\n",
    "A_b.rref()\n",
    "\n"
   ]
  },
  {
   "cell_type": "code",
   "execution_count": 9,
   "id": "67e92391",
   "metadata": {},
   "outputs": [],
   "source": [
    "x,y,z,a = symbols(\"x,y,z,a\")"
   ]
  },
  {
   "cell_type": "code",
   "execution_count": 10,
   "id": "c3a70bfc",
   "metadata": {},
   "outputs": [],
   "source": [
    "eq1 = Eq(9*x + 8*y + 7*z, a)\n",
    "eq2 = Eq(8*x + 3*y + 8*z, 6)\n",
    "eq3 = Eq(4*x + 9*y + 4*z, 9)\n",
    "eq4 = Eq(5*x + 7*y + 2*z,7)"
   ]
  },
  {
   "cell_type": "code",
   "execution_count": 21,
   "id": "c7926660",
   "metadata": {},
   "outputs": [],
   "source": [
    "answer = solve([eq1,eq2,eq3,eq4], [x,y,z,a])"
   ]
  },
  {
   "cell_type": "code",
   "execution_count": 22,
   "id": "6a758913",
   "metadata": {},
   "outputs": [
    {
     "data": {
      "text/latex": [
       "$\\displaystyle \\left\\{ a : \\frac{593}{60}, \\  x : \\frac{1}{6}, \\  y : \\frac{4}{5}, \\  z : \\frac{17}{60}\\right\\}$"
      ],
      "text/plain": [
       "⎧   593                     17⎫\n",
       "⎨a: ───, x: 1/6, y: 4/5, z: ──⎬\n",
       "⎩   60                      60⎭"
      ]
     },
     "execution_count": 22,
     "metadata": {},
     "output_type": "execute_result"
    }
   ],
   "source": [
    "answer"
   ]
  },
  {
   "cell_type": "code",
   "execution_count": 38,
   "id": "7a816979",
   "metadata": {},
   "outputs": [
    {
     "data": {
      "text/latex": [
       "$\\displaystyle 9.88333333333333$"
      ],
      "text/plain": [
       "9.883333333333333"
      ]
     },
     "execution_count": 38,
     "metadata": {},
     "output_type": "execute_result"
    }
   ],
   "source": [
    "593/60"
   ]
  },
  {
   "cell_type": "code",
   "execution_count": null,
   "id": "e8ed6cd2",
   "metadata": {},
   "outputs": [],
   "source": []
  }
 ],
 "metadata": {
  "kernelspec": {
   "display_name": "Python 3",
   "language": "python",
   "name": "python3"
  },
  "language_info": {
   "codemirror_mode": {
    "name": "ipython",
    "version": 3
   },
   "file_extension": ".py",
   "mimetype": "text/x-python",
   "name": "python",
   "nbconvert_exporter": "python",
   "pygments_lexer": "ipython3",
   "version": "3.13.5"
  }
 },
 "nbformat": 4,
 "nbformat_minor": 5
}
