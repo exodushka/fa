{
 "cells": [
  {
   "cell_type": "code",
   "execution_count": 1,
   "id": "effa4b5b",
   "metadata": {},
   "outputs": [],
   "source": [
    "from sympy import *\n",
    "import numpy as np\n",
    "from scipy.linalg import *\n",
    "init_printing()"
   ]
  },
  {
   "cell_type": "markdown",
   "id": "c2061579",
   "metadata": {},
   "source": [
    "![](pic/4/4.1.png)"
   ]
  },
  {
   "cell_type": "code",
   "execution_count": 18,
   "id": "b0f09a7f",
   "metadata": {},
   "outputs": [
    {
     "name": "stdout",
     "output_type": "stream",
     "text": [
      "[[-1  2 -3]\n",
      " [ 2 -4 -8]\n",
      " [ 0 -1  1]\n",
      " [ 1  1  4]]\n",
      "\n",
      "b32 = -1\n",
      "b23 = -8\n"
     ]
    }
   ],
   "source": [
    "A = np.array([\n",
    "    [1, 2, 3],\n",
    "    [0, -1, 1],\n",
    "    [-2, 1, 0],\n",
    "    [-1, 2, -3]\n",
    "])\n",
    "\n",
    "\n",
    "def P14(matrix):\n",
    "    result = matrix.copy()\n",
    "    result[[0, 3]] = result[[3, 0]]\n",
    "    return result\n",
    "\n",
    "A1 = P14(A)\n",
    "\n",
    "def A42(k, matrix):\n",
    "    result = matrix.copy()\n",
    "    result[3] += k * result[1]\n",
    "    return result\n",
    "\n",
    "A2 = A42(1, A1)\n",
    "\n",
    "def M3(k, matrix):\n",
    "    result = matrix.copy()\n",
    "    result[2] *= k\n",
    "    return result\n",
    "\n",
    "A3 = M3(-2, A2)\n",
    "\n",
    "def A34(k, matrix):\n",
    "    result = matrix.copy()\n",
    "    result[2] += k * result[3] \n",
    "    return result\n",
    "\n",
    "A4 = A34(-2, A3)\n",
    "\n",
    "def P23(matrix):\n",
    "    result = matrix.copy()\n",
    "    result[[1, 2]] = result[[2, 1]]\n",
    "    return result\n",
    "\n",
    "B = P23(A4)\n",
    "print(B)\n",
    "print()\n",
    "\n",
    "b32 = B[2, 1]\n",
    "b23 = B[1, 2]\n",
    "\n",
    "print(f\"b32 = {b32}\")\n",
    "print(f\"b23 = {b23}\")"
   ]
  },
  {
   "cell_type": "markdown",
   "id": "db070a49",
   "metadata": {},
   "source": [
    "![](pic/4/4.2.png)"
   ]
  },
  {
   "cell_type": "code",
   "execution_count": null,
   "id": "a3f7ecbe",
   "metadata": {},
   "outputs": [],
   "source": []
  },
  {
   "cell_type": "markdown",
   "id": "dc6c5b0e",
   "metadata": {},
   "source": [
    "![](pic/4/4.3.png)"
   ]
  },
  {
   "cell_type": "code",
   "execution_count": 42,
   "id": "2efdd039",
   "metadata": {},
   "outputs": [
    {
     "data": {
      "text/plain": [
       "array([[ 0.11764706, -0.17647059],\n",
       "       [ 0.29411765,  0.05882353]])"
      ]
     },
     "execution_count": 42,
     "metadata": {},
     "output_type": "execute_result"
    }
   ],
   "source": [
    "A = np.array([\n",
    "    [1,3],\n",
    "    [-5, 2]\n",
    "])\n",
    "\n",
    "np.linalg.inv(A)"
   ]
  },
  {
   "cell_type": "code",
   "execution_count": 45,
   "id": "e2434099",
   "metadata": {},
   "outputs": [
    {
     "data": {
      "text/plain": [
       "array([[ 12.09090909, -20.15151515],\n",
       "       [ -6.04545455, -12.09090909]])"
      ]
     },
     "execution_count": 45,
     "metadata": {},
     "output_type": "execute_result"
    }
   ],
   "source": [
    "A = np.array([\n",
    "    [3,2],\n",
    "    [1,3]\n",
    "])\n",
    "B = np.array([\n",
    "    [2,5],\n",
    "    [3, -2]\n",
    "])\n",
    "A_inv = np.linalg.inv(A)\n",
    "B_inv = np.linalg.inv(B)\n",
    "np.linalg.inv(A_inv*B_inv)"
   ]
  },
  {
   "cell_type": "markdown",
   "id": "996ec189",
   "metadata": {},
   "source": [
    "![](pic/4/4.4.png)"
   ]
  },
  {
   "cell_type": "code",
   "execution_count": 51,
   "id": "56caa34b",
   "metadata": {},
   "outputs": [
    {
     "data": {
      "text/plain": [
       "array([[ 2. ,  0.5],\n",
       "       [ 3. , -0. ]])"
      ]
     },
     "execution_count": 51,
     "metadata": {},
     "output_type": "execute_result"
    }
   ],
   "source": [
    "A = np.linalg.inv(np.array([[2,1], [3,1]]))\n",
    "C = np.linalg.inv(np.array([[0,2], [1,4]]))\n",
    "b = np.array([1,1]).reshape(2,1)\n",
    "Ct = C.T\n",
    "Ct * A / b "
   ]
  },
  {
   "cell_type": "markdown",
   "id": "2e1d9baa",
   "metadata": {},
   "source": [
    "![](pic/4/4.5.png)"
   ]
  },
  {
   "cell_type": "code",
   "execution_count": 52,
   "id": "cdbfba92",
   "metadata": {},
   "outputs": [
    {
     "data": {
      "text/plain": [
       "True"
      ]
     },
     "execution_count": 52,
     "metadata": {},
     "output_type": "execute_result"
    }
   ],
   "source": [
    "A = Matrix([\n",
    "    [3, -1, 2],\n",
    "    [5, -2, 3],\n",
    "    [-1, 0, -1]\n",
    "])\n",
    "\n",
    "O3 = zeros(3)\n",
    "A.pow(3) == O3"
   ]
  },
  {
   "cell_type": "code",
   "execution_count": 54,
   "id": "36776dca",
   "metadata": {},
   "outputs": [
    {
     "data": {
      "text/latex": [
       "$\\displaystyle \\left[\\begin{matrix}0 & 0 & -1\\\\-3 & 2 & -2\\\\-1 & 1 & 1\\end{matrix}\\right]$"
      ],
      "text/plain": [
       "⎡0   0  -1⎤\n",
       "⎢         ⎥\n",
       "⎢-3  2  -2⎥\n",
       "⎢         ⎥\n",
       "⎣-1  1  1 ⎦"
      ]
     },
     "execution_count": 54,
     "metadata": {},
     "output_type": "execute_result"
    }
   ],
   "source": [
    "(A+ eye(3)).pow(-1)"
   ]
  },
  {
   "cell_type": "markdown",
   "id": "cec206dc",
   "metadata": {},
   "source": [
    "![](pic/4/4.6.png)"
   ]
  },
  {
   "cell_type": "code",
   "execution_count": 61,
   "id": "9e4c6dca",
   "metadata": {},
   "outputs": [
    {
     "data": {
      "text/latex": [
       "$\\displaystyle \\left[\\begin{matrix}4.0 & 1.0\\\\-1.0 & 6.0\\end{matrix}\\right]$"
      ],
      "text/plain": [
       "⎡4.0   1.0⎤\n",
       "⎢         ⎥\n",
       "⎣-1.0  6.0⎦"
      ]
     },
     "execution_count": 61,
     "metadata": {},
     "output_type": "execute_result"
    }
   ],
   "source": [
    "I2 = eye(2) * 2\n",
    "B = np.array([\n",
    "    [2,1],\n",
    "    [-1, 0]\n",
    "])\n",
    "B = np.linalg.inv(B)\n",
    "B += 2*I2\n",
    "B.T"
   ]
  },
  {
   "cell_type": "markdown",
   "id": "fa4f962f",
   "metadata": {},
   "source": [
    "![](pic/4/4.7.png)"
   ]
  },
  {
   "cell_type": "code",
   "execution_count": 64,
   "id": "96f76845",
   "metadata": {},
   "outputs": [
    {
     "data": {
      "text/latex": [
       "$\\displaystyle \\left[\\begin{matrix}-8 & 0 & 3\\\\-5 & -2 & 3\\\\-1 & -1 & 1\\end{matrix}\\right]$"
      ],
      "text/plain": [
       "⎡-8  0   3⎤\n",
       "⎢         ⎥\n",
       "⎢-5  -2  3⎥\n",
       "⎢         ⎥\n",
       "⎣-1  -1  1⎦"
      ]
     },
     "execution_count": 64,
     "metadata": {},
     "output_type": "execute_result"
    }
   ],
   "source": [
    "A = Matrix([\n",
    "    [1, -3, 6],\n",
    "    [2, -5, 9],\n",
    "    [3, -8, 16]\n",
    "])\n",
    "A.pow(-1)"
   ]
  },
  {
   "cell_type": "markdown",
   "id": "49616d95",
   "metadata": {},
   "source": [
    "![](pic/4/4.8.png)"
   ]
  },
  {
   "cell_type": "code",
   "execution_count": null,
   "id": "c3d5ea17",
   "metadata": {},
   "outputs": [],
   "source": []
  },
  {
   "cell_type": "markdown",
   "id": "d1fdb3ab",
   "metadata": {},
   "source": [
    "![](pic/4/4.9.png)"
   ]
  },
  {
   "cell_type": "code",
   "execution_count": null,
   "id": "c1a1b328",
   "metadata": {},
   "outputs": [],
   "source": []
  },
  {
   "cell_type": "markdown",
   "id": "9ece1f97",
   "metadata": {},
   "source": [
    "![](pic/4/4.10.png)"
   ]
  },
  {
   "cell_type": "code",
   "execution_count": null,
   "id": "e9832816",
   "metadata": {},
   "outputs": [],
   "source": []
  },
  {
   "cell_type": "markdown",
   "id": "b50f6e3d",
   "metadata": {},
   "source": [
    "![](pic/4/4.11.png)"
   ]
  },
  {
   "cell_type": "code",
   "execution_count": null,
   "id": "a5324dcb",
   "metadata": {},
   "outputs": [],
   "source": []
  },
  {
   "cell_type": "markdown",
   "id": "58fb594e",
   "metadata": {},
   "source": [
    "![](pic/4/4.12.png)"
   ]
  },
  {
   "cell_type": "code",
   "execution_count": null,
   "id": "e947c494",
   "metadata": {},
   "outputs": [],
   "source": []
  },
  {
   "cell_type": "markdown",
   "id": "6aaa9b5a",
   "metadata": {},
   "source": [
    "![](pic/4/4.13.png)"
   ]
  },
  {
   "cell_type": "code",
   "execution_count": null,
   "id": "37062c53",
   "metadata": {},
   "outputs": [],
   "source": []
  }
 ],
 "metadata": {
  "kernelspec": {
   "display_name": "Python 3",
   "language": "python",
   "name": "python3"
  },
  "language_info": {
   "codemirror_mode": {
    "name": "ipython",
    "version": 3
   },
   "file_extension": ".py",
   "mimetype": "text/x-python",
   "name": "python",
   "nbconvert_exporter": "python",
   "pygments_lexer": "ipython3",
   "version": "3.13.5"
  }
 },
 "nbformat": 4,
 "nbformat_minor": 5
}
