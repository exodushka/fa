{
 "cells": [
  {
   "cell_type": "code",
   "execution_count": 4,
   "id": "490af5ae",
   "metadata": {},
   "outputs": [],
   "source": [
    "from sympy import *\n",
    "import numpy as np \n",
    "from scipy.linalg import *\n",
    "init_printing()"
   ]
  },
  {
   "cell_type": "markdown",
   "id": "101d2a0e",
   "metadata": {},
   "source": [
    "![alt text](pic/3/3.1.png)"
   ]
  },
  {
   "cell_type": "code",
   "execution_count": 5,
   "id": "fa323684",
   "metadata": {},
   "outputs": [
    {
     "data": {
      "text/latex": [
       "$\\displaystyle \\left[\\begin{matrix}13 & 1 & 0\\\\-11 & -1 & 1\\\\-6 & -8 & 9\\end{matrix}\\right]$"
      ],
      "text/plain": [
       "⎡13   1   0⎤\n",
       "⎢          ⎥\n",
       "⎢-11  -1  1⎥\n",
       "⎢          ⎥\n",
       "⎣-6   -8  9⎦"
      ]
     },
     "execution_count": 5,
     "metadata": {},
     "output_type": "execute_result"
    }
   ],
   "source": [
    "A = Matrix([\n",
    "    [3,1,0],\n",
    "    [-1,-1,1],\n",
    "    [2,0,5]\n",
    "])\n",
    "B = Matrix([\n",
    "    [-2,1,0],\n",
    "    [4,-1,1],\n",
    "    [6,4,3]\n",
    "])\n",
    "C = 3*A-2*B\n",
    "C"
   ]
  },
  {
   "cell_type": "markdown",
   "id": "b92bf444",
   "metadata": {},
   "source": [
    "![](pic/3/3.2.png)"
   ]
  },
  {
   "cell_type": "code",
   "execution_count": 6,
   "id": "01abd1c0",
   "metadata": {},
   "outputs": [
    {
     "data": {
      "text/latex": [
       "$\\displaystyle \\left[\\begin{matrix}7 & 4 & 5 & 11\\\\6 & 4 & -1 & 6\\\\0 & 0 & 6 & 12\\\\-1 & 2 & 1 & 3\\end{matrix}\\right]$"
      ],
      "text/plain": [
       "⎡7   4  5   11⎤\n",
       "⎢             ⎥\n",
       "⎢6   4  -1  6 ⎥\n",
       "⎢             ⎥\n",
       "⎢0   0  6   12⎥\n",
       "⎢             ⎥\n",
       "⎣-1  2  1   3 ⎦"
      ]
     },
     "execution_count": 6,
     "metadata": {},
     "output_type": "execute_result"
    }
   ],
   "source": [
    "A = Matrix([\n",
    "    [3, 0, 2],\n",
    "    [0, 1, 3],\n",
    "    [2, 2, 0],\n",
    "    [0, 1, 0]\n",
    "])\n",
    "B = Matrix([\n",
    "    [1, 2, -1, 2],\n",
    "    [-2, -1, 1, 2],\n",
    "    [2, 1, 1, 2]\n",
    "])\n",
    "C = Matrix([\n",
    "    [0, -4, 6, 1],\n",
    "    [2, 2, -5, -2],\n",
    "    [2, -2, 6, 4],\n",
    "    [1, 3, 0, 1]\n",
    "])\n",
    "D = A*B+C\n",
    "D"
   ]
  },
  {
   "cell_type": "markdown",
   "id": "44015dde",
   "metadata": {},
   "source": [
    "![d](pic/3/3.3.png)"
   ]
  },
  {
   "cell_type": "code",
   "execution_count": 7,
   "id": "2b88eef9",
   "metadata": {},
   "outputs": [
    {
     "data": {
      "text/latex": [
       "$\\displaystyle \\left[\\begin{matrix}3 & -2\\\\4 & 8\\end{matrix}\\right]$"
      ],
      "text/plain": [
       "⎡3  -2⎤\n",
       "⎢     ⎥\n",
       "⎣4  8 ⎦"
      ]
     },
     "execution_count": 7,
     "metadata": {},
     "output_type": "execute_result"
    }
   ],
   "source": [
    "A = Matrix([\n",
    "    [3,2],\n",
    "    [-4, -2]\n",
    "])\n",
    "A.pow(5)"
   ]
  },
  {
   "cell_type": "markdown",
   "id": "17b275cd",
   "metadata": {},
   "source": [
    "![](pic/3/3.4.png)"
   ]
  },
  {
   "cell_type": "code",
   "execution_count": 23,
   "id": "a4e66101",
   "metadata": {},
   "outputs": [
    {
     "name": "stdout",
     "output_type": "stream",
     "text": [
      "3\n"
     ]
    }
   ],
   "source": [
    "for n in range(1, 100000):\n",
    "    A = np.array([\n",
    "        [1,0,1],\n",
    "        [-1, -1, 1/2],\n",
    "        [0, 0, 1]\n",
    "    ])\n",
    "    I = np.identity(3)  # Единичная матрица 3x3\n",
    "    A = np.array([[1, 0, 1],\n",
    "                  [-1, 1, 2],\n",
    "                  [0, 0, 1]])\n",
    "\n",
    "    result = np.linalg.matrix_power(A - I, n)\n",
    "    if np.allclose(result, np.zeros((3, 3))):\n",
    "        print(n)\n",
    "        break"
   ]
  },
  {
   "cell_type": "markdown",
   "id": "df645a7d",
   "metadata": {},
   "source": [
    "![r](pic/3/3.5.png)"
   ]
  },
  {
   "cell_type": "code",
   "execution_count": 29,
   "id": "f5457e85",
   "metadata": {},
   "outputs": [
    {
     "data": {
      "text/plain": [
       "True"
      ]
     },
     "execution_count": 29,
     "metadata": {},
     "output_type": "execute_result"
    }
   ],
   "source": [
    "A = Matrix([\n",
    "    [2, 3, 4],\n",
    "    [4, 2, 0],\n",
    "    [-3, 0, 2]\n",
    "])\n",
    "I3 = eye(3)\n",
    "O3 = zeros(3)\n",
    "C = A - 2*I3\n",
    "result = C.pow(3)\n",
    "result == O3"
   ]
  },
  {
   "cell_type": "markdown",
   "id": "48e39fe2",
   "metadata": {},
   "source": [
    "![](pic/3/3.6.png)"
   ]
  },
  {
   "cell_type": "code",
   "execution_count": 41,
   "id": "ff8dbaa0",
   "metadata": {},
   "outputs": [
    {
     "data": {
      "text/latex": [
       "$\\displaystyle \\left[\\begin{matrix}- 3 x_{1} + 2 x_{2} & - 2 x_{0} - 3 x_{1} + 2 x_{3}\\\\3 x_{0} + 3 x_{2} - 3 x_{3} & 3 x_{1} - 2 x_{2}\\end{matrix}\\right]$"
      ],
      "text/plain": [
       "⎡   -3⋅x₁ + 2⋅x₂     -2⋅x₀ - 3⋅x₁ + 2⋅x₃⎤\n",
       "⎢                                       ⎥\n",
       "⎣3⋅x₀ + 3⋅x₂ - 3⋅x₃      3⋅x₁ - 2⋅x₂    ⎦"
      ]
     },
     "execution_count": 41,
     "metadata": {},
     "output_type": "execute_result"
    }
   ],
   "source": [
    "A = Matrix([\n",
    "    [1,2],\n",
    "    [3,4]\n",
    "])\n",
    "n = A.rows\n",
    "symbols_list = symbols(f\"x0:{n**2}\")\n",
    "X = Matrix(n,n,symbols_list)\n",
    "#X = Matrix(symbols(f\"{n**2}\")).reshape(n,n)\n",
    "eq = A * X - X * A\n",
    "eq"
   ]
  },
  {
   "cell_type": "markdown",
   "id": "0898eedc",
   "metadata": {},
   "source": [
    "![](pic/3/3.7.png)"
   ]
  },
  {
   "cell_type": "code",
   "execution_count": 49,
   "id": "b2101a86",
   "metadata": {},
   "outputs": [
    {
     "name": "stdout",
     "output_type": "stream",
     "text": [
      "False\n"
     ]
    },
    {
     "data": {
      "text/latex": [
       "$\\displaystyle \\left[\\begin{matrix}0 & 0 & 2 & 1 & 0 & 0\\\\0 & 0 & 1 & -1 & 0 & 0\\\\2 & 1 & 0 & 0 & 0 & 0\\\\1 & -1 & 0 & 0 & 0 & 0\\\\0 & 0 & 0 & 0 & 2 & 1\\\\0 & 0 & 0 & 0 & 1 & -1\\end{matrix}\\right]$"
      ],
      "text/plain": [
       "⎡0  0   2  1   0  0 ⎤\n",
       "⎢                   ⎥\n",
       "⎢0  0   1  -1  0  0 ⎥\n",
       "⎢                   ⎥\n",
       "⎢2  1   0  0   0  0 ⎥\n",
       "⎢                   ⎥\n",
       "⎢1  -1  0  0   0  0 ⎥\n",
       "⎢                   ⎥\n",
       "⎢0  0   0  0   2  1 ⎥\n",
       "⎢                   ⎥\n",
       "⎣0  0   0  0   1  -1⎦"
      ]
     },
     "execution_count": 49,
     "metadata": {},
     "output_type": "execute_result"
    }
   ],
   "source": [
    "A = Matrix([\n",
    "    [0, 1, 0],\n",
    "    [1, 0, 0],\n",
    "    [0, 0, 1]\n",
    "])\n",
    "B = Matrix([\n",
    "    [2, 1],\n",
    "    [1, -1]\n",
    "])\n",
    "print(kronecker_product(A,B) == kronecker_product(B,A))\n",
    "kronecker_product(A,B)"
   ]
  },
  {
   "cell_type": "markdown",
   "id": "daef41ec",
   "metadata": {},
   "source": [
    "![](pic/3/3.8.png)"
   ]
  },
  {
   "cell_type": "code",
   "execution_count": 52,
   "id": "b008afd4",
   "metadata": {},
   "outputs": [
    {
     "data": {
      "text/latex": [
       "$\\displaystyle \\left[\\begin{matrix}15\\\\18\\\\20\\\\24\\\\30\\\\36\\\\40\\\\48\\end{matrix}\\right]$"
      ],
      "text/plain": [
       "⎡15⎤\n",
       "⎢  ⎥\n",
       "⎢18⎥\n",
       "⎢  ⎥\n",
       "⎢20⎥\n",
       "⎢  ⎥\n",
       "⎢24⎥\n",
       "⎢  ⎥\n",
       "⎢30⎥\n",
       "⎢  ⎥\n",
       "⎢36⎥\n",
       "⎢  ⎥\n",
       "⎢40⎥\n",
       "⎢  ⎥\n",
       "⎣48⎦"
      ]
     },
     "execution_count": 52,
     "metadata": {},
     "output_type": "execute_result"
    }
   ],
   "source": [
    "a = Matrix([1,2])\n",
    "b = Matrix([3,4])\n",
    "c = Matrix([5,6])\n",
    "kronecker_product(a,b,c)"
   ]
  },
  {
   "cell_type": "markdown",
   "id": "38b45269",
   "metadata": {},
   "source": [
    "![](pic/3/3.9.png)"
   ]
  },
  {
   "cell_type": "code",
   "execution_count": 55,
   "id": "623fe9a1",
   "metadata": {},
   "outputs": [
    {
     "data": {
      "text/latex": [
       "$\\displaystyle \\left( \\left[\\begin{matrix}4\\\\5\\\\8\\\\10\\\\12\\\\15\\end{matrix}\\right], \\  \\left[\\begin{matrix}4 & 5\\\\8 & 10\\\\12 & 15\\end{matrix}\\right]\\right)$"
      ],
      "text/plain": [
       "⎛⎡4 ⎤          ⎞\n",
       "⎜⎢  ⎥          ⎟\n",
       "⎜⎢5 ⎥          ⎟\n",
       "⎜⎢  ⎥  ⎡4   5 ⎤⎟\n",
       "⎜⎢8 ⎥  ⎢      ⎥⎟\n",
       "⎜⎢  ⎥, ⎢8   10⎥⎟\n",
       "⎜⎢10⎥  ⎢      ⎥⎟\n",
       "⎜⎢  ⎥  ⎣12  15⎦⎟\n",
       "⎜⎢12⎥          ⎟\n",
       "⎜⎢  ⎥          ⎟\n",
       "⎝⎣15⎦          ⎠"
      ]
     },
     "execution_count": 55,
     "metadata": {},
     "output_type": "execute_result"
    }
   ],
   "source": [
    "a = Matrix([1,2,3])\n",
    "b = Matrix([4,5])\n",
    "v1 = kronecker_product(a,b)\n",
    "v2 = kronecker_product(a, b.T)\n",
    "v1,v2"
   ]
  },
  {
   "cell_type": "markdown",
   "id": "e00b1993",
   "metadata": {},
   "source": [
    "![](pic/3/3.10.png)"
   ]
  },
  {
   "cell_type": "code",
   "execution_count": 61,
   "id": "6d85eb7b",
   "metadata": {},
   "outputs": [
    {
     "data": {
      "text/plain": [
       "True"
      ]
     },
     "execution_count": 61,
     "metadata": {},
     "output_type": "execute_result"
    }
   ],
   "source": [
    "A = Matrix([\n",
    "    [1, -9, 13],\n",
    "    [12, -3, 9],\n",
    "    [3, 4, 5]\n",
    "])\n",
    "B = (A + A.T) / 2\n",
    "C = (A - A.T) / 2\n",
    "A == (B + C)"
   ]
  },
  {
   "cell_type": "markdown",
   "id": "072ef8ca",
   "metadata": {},
   "source": [
    "![](pic/3/3.11.png)"
   ]
  },
  {
   "cell_type": "code",
   "execution_count": 62,
   "id": "58d46db0",
   "metadata": {},
   "outputs": [
    {
     "data": {
      "text/latex": [
       "$\\displaystyle \\left[\\begin{matrix}16.0 & 16.0\\\\24.0 & 16.0\\end{matrix}\\right]$"
      ],
      "text/plain": [
       "⎡16.0  16.0⎤\n",
       "⎢          ⎥\n",
       "⎣24.0  16.0⎦"
      ]
     },
     "execution_count": 62,
     "metadata": {},
     "output_type": "execute_result"
    }
   ],
   "source": [
    "A = Matrix([\n",
    "    [1, 2],\n",
    "    [3, 1]\n",
    "])\n",
    "def f(M):\n",
    "    M3 = np.linalg.matrix_power(M, 3)\n",
    "    M2 = np.linalg.matrix_power(M, 2)\n",
    "    I = np.eye(M.shape[0])\n",
    "    return M3 - M2 + M + 3 * I\n",
    "\n",
    "f(A)\n"
   ]
  },
  {
   "cell_type": "markdown",
   "id": "a44bb007",
   "metadata": {},
   "source": [
    "![](pic/3/3.12.png)"
   ]
  },
  {
   "cell_type": "code",
   "execution_count": 101,
   "id": "654a7f0d",
   "metadata": {},
   "outputs": [
    {
     "data": {
      "text/plain": [
       "True"
      ]
     },
     "execution_count": 101,
     "metadata": {},
     "output_type": "execute_result"
    }
   ],
   "source": [
    "a,b,c,d = symbols(\"a b c d\")\n",
    "A = Matrix([\n",
    "    [a,b],\n",
    "    [c,d]\n",
    "])\n",
    "A2 = A*A\n",
    "r = (A.trace() * A) + ((b*c-a*d)*eye(2))\n",
    "\n",
    "A2.equals(r)"
   ]
  },
  {
   "cell_type": "markdown",
   "id": "82638130",
   "metadata": {},
   "source": [
    "![](pic/3/3.13.png)"
   ]
  },
  {
   "cell_type": "code",
   "execution_count": null,
   "id": "35f2cf92",
   "metadata": {},
   "outputs": [],
   "source": []
  },
  {
   "cell_type": "code",
   "execution_count": null,
   "id": "71685de5",
   "metadata": {},
   "outputs": [],
   "source": []
  }
 ],
 "metadata": {
  "kernelspec": {
   "display_name": "Python 3",
   "language": "python",
   "name": "python3"
  },
  "language_info": {
   "codemirror_mode": {
    "name": "ipython",
    "version": 3
   },
   "file_extension": ".py",
   "mimetype": "text/x-python",
   "name": "python",
   "nbconvert_exporter": "python",
   "pygments_lexer": "ipython3",
   "version": "3.13.5"
  }
 },
 "nbformat": 4,
 "nbformat_minor": 5
}
