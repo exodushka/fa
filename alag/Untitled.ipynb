{
 "cells": [
  {
   "cell_type": "markdown",
   "id": "6ffe7b17",
   "metadata": {},
   "source": [
    "#1.6"
   ]
  },
  {
   "cell_type": "code",
   "execution_count": 5,
   "id": "82894241-f895-423b-b1ea-9717ec0b6dc2",
   "metadata": {},
   "outputs": [],
   "source": [
    "import numpy as np\n",
    "import scipy.linalg as la\n",
    "from sympy import *\n",
    "init_printing()"
   ]
  },
  {
   "cell_type": "code",
   "execution_count": 6,
   "id": "21db17c7",
   "metadata": {},
   "outputs": [
    {
     "data": {
      "text/plain": [
       "array([[ 1,  5, -2,  0],\n",
       "       [-3,  1,  9, -5],\n",
       "       [ 4, -8, -1,  7]])"
      ]
     },
     "execution_count": 6,
     "metadata": {},
     "output_type": "execute_result"
    }
   ],
   "source": [
    "A = np.array([[1, 5, -2, 0], [-3, 1, 9, -5], [4, -8, -1, 7]])\n",
    "A"
   ]
  },
  {
   "cell_type": "code",
   "execution_count": 7,
   "id": "c650b897",
   "metadata": {},
   "outputs": [
    {
     "data": {
      "text/plain": [
       "array([[-7],\n",
       "       [ 9],\n",
       "       [ 0]])"
      ]
     },
     "execution_count": 7,
     "metadata": {},
     "output_type": "execute_result"
    }
   ],
   "source": [
    "b = np.array([-7, 9, 0]).reshape(3,1)\n",
    "b"
   ]
  },
  {
   "cell_type": "code",
   "execution_count": 9,
   "id": "86ce3b2c",
   "metadata": {},
   "outputs": [
    {
     "data": {
      "text/plain": [
       "array([[ 1,  5, -2,  0, -7],\n",
       "       [-3,  1,  9, -5,  9],\n",
       "       [ 4, -8, -1,  7,  0]])"
      ]
     },
     "execution_count": 9,
     "metadata": {},
     "output_type": "execute_result"
    }
   ],
   "source": [
    "A_b = np.hstack([A,b])\n",
    "A_b"
   ]
  },
  {
   "cell_type": "code",
   "execution_count": 10,
   "id": "d1bd41e3",
   "metadata": {},
   "outputs": [
    {
     "data": {
      "text/latex": [
       "$\\displaystyle \\left( \\left[\\begin{matrix}1 & 0 & 0 & \\frac{8}{7} & - \\frac{11}{7}\\\\0 & 1 & 0 & - \\frac{2}{7} & - \\frac{6}{7}\\\\0 & 0 & 1 & - \\frac{1}{7} & \\frac{4}{7}\\end{matrix}\\right], \\  \\left( 0, \\  1, \\  2\\right)\\right)$"
      ],
      "text/plain": [
       "⎛⎡1  0  0  8/7   -11/7⎤           ⎞\n",
       "⎜⎢                    ⎥           ⎟\n",
       "⎜⎢0  1  0  -2/7  -6/7 ⎥, (0, 1, 2)⎟\n",
       "⎜⎢                    ⎥           ⎟\n",
       "⎝⎣0  0  1  -1/7   4/7 ⎦           ⎠"
      ]
     },
     "execution_count": 10,
     "metadata": {},
     "output_type": "execute_result"
    }
   ],
   "source": [
    "Matrix(A_b).rref()"
   ]
  },
  {
   "cell_type": "markdown",
   "id": "5cc662a6",
   "metadata": {},
   "source": [
    "#1.7"
   ]
  },
  {
   "cell_type": "code",
   "execution_count": 65,
   "id": "e4af47d0",
   "metadata": {},
   "outputs": [],
   "source": [
    "import numpy as np\n",
    "import scipy.linalg as la\n",
    "from sympy import *\n",
    "init_printing()"
   ]
  },
  {
   "cell_type": "code",
   "execution_count": null,
   "id": "3afc7662",
   "metadata": {},
   "outputs": [],
   "source": [
    "A = np.array([[5, -1, 5, 9, -2],\n",
    "              [3, 0, 6, 9, -1],\n",
    "              [2, 0, 4, 6, -1]])"
   ]
  },
  {
   "cell_type": "code",
   "execution_count": 82,
   "id": "10e542d6",
   "metadata": {},
   "outputs": [],
   "source": [
    "b = np.array([[-3], [4], [0]]).reshape(3,1)"
   ]
  },
  {
   "cell_type": "code",
   "execution_count": 83,
   "id": "159cd925",
   "metadata": {},
   "outputs": [],
   "source": [
    "A_b = np.hstack([A,b])"
   ]
  },
  {
   "cell_type": "code",
   "execution_count": 84,
   "id": "c366c62f",
   "metadata": {},
   "outputs": [
    {
     "data": {
      "text/latex": [
       "$\\displaystyle \\left( \\left[\\begin{matrix}1 & 0 & 2 & 3 & 0 & 4\\\\0 & 1 & 5 & 6 & 0 & 7\\\\0 & 0 & 0 & 0 & 1 & 8\\end{matrix}\\right], \\  \\left( 0, \\  1, \\  4\\right)\\right)$"
      ],
      "text/plain": [
       "⎛⎡1  0  2  3  0  4⎤           ⎞\n",
       "⎜⎢                ⎥           ⎟\n",
       "⎜⎢0  1  5  6  0  7⎥, (0, 1, 4)⎟\n",
       "⎜⎢                ⎥           ⎟\n",
       "⎝⎣0  0  0  0  1  8⎦           ⎠"
      ]
     },
     "execution_count": 84,
     "metadata": {},
     "output_type": "execute_result"
    }
   ],
   "source": [
    "Matrix(A_b).rref()"
   ]
  },
  {
   "cell_type": "code",
   "execution_count": null,
   "id": "050ebad5",
   "metadata": {},
   "outputs": [],
   "source": [
    "x1,x2,x3,x4,x5 = symbols(\"x1 x2 x3 x4 x5\")\n",
    "#free - 3 4 "
   ]
  },
  {
   "cell_type": "code",
   "execution_count": 98,
   "id": "7c87af24",
   "metadata": {},
   "outputs": [],
   "source": [
    "eq1 = Eq(x1 + 2*x3 + 3*x4, 4)\n",
    "eq2 = Eq(x2 + 5*x3 + 6*x4, 7)\n",
    "eq3 = Eq(x5, 8)"
   ]
  },
  {
   "cell_type": "code",
   "execution_count": 101,
   "id": "f6ce5719",
   "metadata": {},
   "outputs": [],
   "source": [
    "answer = solve([eq1,eq2,eq3], [x1,x2,x5])"
   ]
  },
  {
   "cell_type": "code",
   "execution_count": 103,
   "id": "ac57dd4b",
   "metadata": {},
   "outputs": [
    {
     "name": "stdout",
     "output_type": "stream",
     "text": [
      "-2*x3 - 3*x4 + 4\n",
      "-5*x3 - 6*x4 + 7\n",
      "8\n"
     ]
    }
   ],
   "source": [
    "print(answer[x1])\n",
    "print(answer[x2])\n",
    "print(answer[x5])"
   ]
  },
  {
   "cell_type": "code",
   "execution_count": null,
   "id": "7a09719d",
   "metadata": {},
   "outputs": [],
   "source": []
  }
 ],
 "metadata": {
  "kernelspec": {
   "display_name": "Python 3",
   "language": "python",
   "name": "python3"
  },
  "language_info": {
   "codemirror_mode": {
    "name": "ipython",
    "version": 3
   },
   "file_extension": ".py",
   "mimetype": "text/x-python",
   "name": "python",
   "nbconvert_exporter": "python",
   "pygments_lexer": "ipython3",
   "version": "3.13.5"
  }
 },
 "nbformat": 4,
 "nbformat_minor": 5
}
