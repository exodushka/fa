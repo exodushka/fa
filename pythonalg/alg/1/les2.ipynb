{
 "cells": [
  {
   "cell_type": "code",
   "execution_count": 33,
   "id": "0ce39a08",
   "metadata": {},
   "outputs": [],
   "source": [
    "from math import pi\n",
    "from math import dist\n",
    "from math import radians\n"
   ]
  },
  {
   "cell_type": "code",
   "execution_count": 4,
   "id": "fee5dfc1-42c0-4252-9248-d3cc316cd2be",
   "metadata": {},
   "outputs": [
    {
     "data": {
      "text/plain": [
       "22"
      ]
     },
     "execution_count": 4,
     "metadata": {},
     "output_type": "execute_result"
    }
   ],
   "source": [
    "#1\n",
    "a,b,c = list(map(int, input().split()))\n",
    "s = 2 * (a*b + b*c + c*a)\n",
    "s"
   ]
  },
  {
   "cell_type": "code",
   "execution_count": 5,
   "id": "3d791238",
   "metadata": {},
   "outputs": [
    {
     "name": "stdout",
     "output_type": "stream",
     "text": [
      "L: 6.283185307179586 | R: 1\n"
     ]
    }
   ],
   "source": [
    "#2\n",
    "r = int(input())\n",
    "l = 2 * pi * r\n",
    "s = pi * r**2\n",
    "print(f\"L: {l} | R: {r}\")"
   ]
  },
  {
   "cell_type": "code",
   "execution_count": 8,
   "id": "defd9a6e",
   "metadata": {},
   "outputs": [
    {
     "name": "stdout",
     "output_type": "stream",
     "text": [
      "c: 2.23606797749979 | P: 5.23606797749979\n"
     ]
    }
   ],
   "source": [
    "#3\n",
    "a = int(input())\n",
    "b = int(input())\n",
    "c = (a**2 + b**2)**0.5\n",
    "p = a + b + c\n",
    "print(f\"c: {c} | P: {p}\")"
   ]
  },
  {
   "cell_type": "code",
   "execution_count": 12,
   "id": "9a6f4644",
   "metadata": {},
   "outputs": [
    {
     "name": "stdout",
     "output_type": "stream",
     "text": [
      "R1: 2 | S1: 12.566370614359172\n",
      "R2: 1 | S2: 3.141592653589793\n",
      "R3: 3.0 | S3: 9.42477796076938\n"
     ]
    }
   ],
   "source": [
    "#4\n",
    "r1 = int(input(\"R1: \"))\n",
    "r2 = int(input(\"R2: \"))\n",
    "s1 = pi * r1**2\n",
    "s2 = pi * r2**2\n",
    "s3 = s1-s2\n",
    "r3 = s3 / pi\n",
    "print(f\"R1: {r1} | S1: {s1}\")\n",
    "print(f\"R2: {r2} | S2: {s2}\")\n",
    "print(f\"R3: {r3} | S3: {s3}\")"
   ]
  },
  {
   "cell_type": "code",
   "execution_count": 14,
   "id": "ee801317",
   "metadata": {},
   "outputs": [
    {
     "name": "stdout",
     "output_type": "stream",
     "text": [
      "Площадь: 4 | Периметр: 8\n"
     ]
    }
   ],
   "source": [
    "#5\n",
    "x1,y1 = list(map(int, input().split()))\n",
    "x2,y2 = list(map(int, input().split()))\n",
    "x = abs(x1-x2)\n",
    "y = abs(y1-y2)\n",
    "p = 2*(x+y)\n",
    "s = x*y\n",
    "print(f\"Площадь: {s} | Периметр: {p}\")"
   ]
  },
  {
   "cell_type": "code",
   "execution_count": null,
   "id": "a686c98b",
   "metadata": {},
   "outputs": [
    {
     "name": "stdout",
     "output_type": "stream",
     "text": [
      "2.8284271247461903\n"
     ]
    }
   ],
   "source": [
    "#6\n",
    "cord1 = list(map(int, input().split()))\n",
    "cord2 = list(map(int, input().split()))\n",
    "print(dist(cord1, cord2))"
   ]
  },
  {
   "cell_type": "code",
   "execution_count": null,
   "id": "51afb670",
   "metadata": {},
   "outputs": [
    {
     "name": "stdout",
     "output_type": "stream",
     "text": [
      "P: 3.414213562373095 | S: 0.4999999999999998\n"
     ]
    }
   ],
   "source": [
    "#7\n",
    "cord1 = list(map(int, input().split()))\n",
    "cord2 = list(map(int, input().split()))\n",
    "cord3 = list(map(int, input().split()))\n",
    "a = dist(cord1, cord2)\n",
    "b = dist(cord2, cord3)\n",
    "c = dist(cord3, cord1)\n",
    "P = a+b+c\n",
    "p = (a+b+c)/2\n",
    "s = (p*(p-a)*(p-b)*(p-c))**0.5\n",
    "print(f\"P: {P} | S: {s}\")\n",
    "##"
   ]
  },
  {
   "cell_type": "code",
   "execution_count": 23,
   "id": "253e4e12",
   "metadata": {},
   "outputs": [
    {
     "name": "stdout",
     "output_type": "stream",
     "text": [
      "50.55555555555556\n"
     ]
    }
   ],
   "source": [
    "#8\n",
    "tf = int(input())\n",
    "tc = 5*(tf - 32) / 9\n",
    "print(tc)"
   ]
  },
  {
   "cell_type": "code",
   "execution_count": null,
   "id": "d871f67c",
   "metadata": {},
   "outputs": [],
   "source": [
    "#9\n",
    "x = int(input(\"chocolate weight: \"))\n",
    "a = int(input(\"price chocolate: \"))\n",
    "y = int(input(\"toffee price: \"))\n",
    "b = int(input(\"toffee weight: \"))\n",
    "priceC = a/x\n",
    "priceT = y/b\n",
    "print(f\"1 кг шоколадных конфет: {priceC}\")\n",
    "print(f\"1 кг: {priceT}\")\n",
    "print(f\"в {priceC / priceT} раз шоколдные конфеты дороже\")"
   ]
  },
  {
   "cell_type": "code",
   "execution_count": 30,
   "id": "8a52f288",
   "metadata": {},
   "outputs": [
    {
     "name": "stdout",
     "output_type": "stream",
     "text": [
      "x: -0.3333333333333333 | y: 0.6666666666666666\n"
     ]
    }
   ],
   "source": [
    "#10\n",
    "a1, b1, c1 = list(map(int, input().split()))\n",
    "a2, b2, c2 = list(map(int, input().split()))\n",
    "d = a1*b2 - a2*b1\n",
    "if d == 0: print(\"невозможно вычислить\")\n",
    "else:\n",
    "    x = (c1*b2 - c2*b1) / d \n",
    "    y = (a1*c2 - a2*c1) / d\n",
    "    print(f\"x: {x} | y: {y}\")"
   ]
  },
  {
   "cell_type": "code",
   "execution_count": 34,
   "id": "aea93e4b",
   "metadata": {},
   "outputs": [
    {
     "name": "stdout",
     "output_type": "stream",
     "text": [
      "3.141592653589793\n"
     ]
    }
   ],
   "source": [
    "#11\n",
    "print(radians(int(input())))"
   ]
  },
  {
   "cell_type": "code",
   "execution_count": null,
   "id": "1e9c22e9",
   "metadata": {},
   "outputs": [
    {
     "name": "stdout",
     "output_type": "stream",
     "text": [
      "0.30000000000000004\n"
     ]
    }
   ],
   "source": [
    "#12\n",
    "v1,v2 = list(map(int, input().split()))\n",
    "s = int(input())\n",
    "t = int(input())\n",
    "\n",
    "s1 = v1 * t\n",
    "s2 = v2*t\n",
    "r = s2 + s - s1\n",
    "r"
   ]
  },
  {
   "cell_type": "code",
   "execution_count": null,
   "id": "af9a91e9",
   "metadata": {},
   "outputs": [],
   "source": [
    "#13\n",
    "a,b,c = list(map(int, input().split()))\n",
    "ac = abs(a-c)\n",
    "bc = abs(b-c)\n",
    "print(ac, bc, ac+bc)"
   ]
  },
  {
   "cell_type": "code",
   "execution_count": 1,
   "id": "89534438",
   "metadata": {},
   "outputs": [
    {
     "name": "stdout",
     "output_type": "stream",
     "text": [
      "sum: 26 | sub: -24 | mul: 25 | div: 0.04\n",
      "sum: 26 | sub: 24 | mul: 25 | div: 25.0\n"
     ]
    }
   ],
   "source": [
    "#14\n",
    "n1 = int(input())**2\n",
    "n2 = int(input())**2\n",
    "print(f\"sum: {n1+n2} | sub: {n1 - n2} | mul: {n1 * n2} | div: {n1 / n2}\")\n",
    "print(f\"sum: {n2 + n1} | sub: {n2 - n1} | mul: {n2 * n1} | div: {n2 / n1}\")"
   ]
  },
  {
   "cell_type": "code",
   "execution_count": null,
   "id": "49349a43",
   "metadata": {},
   "outputs": [],
   "source": [
    "#15\n",
    "a = int(input())\n",
    "b = int(input())\n",
    "s = a**2 + b**2\n",
    "r = a**2 - b**2\n",
    "p = a**2 * b ** 2\n",
    "c = a**2 / b**2\n",
    "print(s, r, p, c)"
   ]
  },
  {
   "cell_type": "code",
   "execution_count": 10,
   "id": "150d6828",
   "metadata": {},
   "outputs": [
    {
     "name": "stdout",
     "output_type": "stream",
     "text": [
      "239\n",
      "239\n"
     ]
    }
   ],
   "source": [
    "x = int(input())\n",
    "if x > 2:\n",
    "  print(2 * x**3 -2*x -1)\n",
    "else:\n",
    "  print(3 * x**2 - 2*x +1)\n",
    "\n",
    "print((2 * x**3 -2*x -1) if x > 2 else (3 * x**2 - 2*x +1))"
   ]
  },
  {
   "cell_type": "code",
   "execution_count": 20,
   "id": "e7fbcfad",
   "metadata": {},
   "outputs": [
    {
     "name": "stdout",
     "output_type": "stream",
     "text": [
      "x: 5 y: 239\n"
     ]
    }
   ],
   "source": [
    "print(\"x:\", x:= int(input()), \"y:\", (2* x **3 -2*x -1) if x > 2 else (3 * x**2 - 2*x +1))"
   ]
  },
  {
   "cell_type": "code",
   "execution_count": null,
   "id": "0e2b5537",
   "metadata": {},
   "outputs": [
    {
     "name": "stdout",
     "output_type": "stream",
     "text": [
      "-0.5984600690578581\n"
     ]
    }
   ],
   "source": []
  },
  {
   "cell_type": "code",
   "execution_count": null,
   "id": "22a6f12a",
   "metadata": {},
   "outputs": [],
   "source": []
  }
 ],
 "metadata": {
  "kernelspec": {
   "display_name": "Python 3",
   "language": "python",
   "name": "python3"
  },
  "language_info": {
   "codemirror_mode": {
    "name": "ipython",
    "version": 3
   },
   "file_extension": ".py",
   "mimetype": "text/x-python",
   "name": "python",
   "nbconvert_exporter": "python",
   "pygments_lexer": "ipython3",
   "version": "3.13.5"
  }
 },
 "nbformat": 4,
 "nbformat_minor": 5
}
