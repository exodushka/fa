{
 "cells": [
  {
   "cell_type": "markdown",
   "id": "bc761fb3",
   "metadata": {},
   "source": [
    "1. Подсчитайте количество символов (частоты символов) в заданной с клаиватуры строке."
   ]
  },
  {
   "cell_type": "code",
   "execution_count": 4,
   "id": "5890bc39",
   "metadata": {},
   "outputs": [],
   "source": [
    "char = dict()\n",
    "s = input()\n",
    "for i in s:\n",
    "    if i == \" \": continue\n",
    "    if i in char:\n",
    "        char[i] += 1\n",
    "    else:\n",
    "        char[i] = 1\n",
    "for i in char:\n",
    "    print(i, char[i])"
   ]
  },
  {
   "cell_type": "markdown",
   "id": "d0e33890",
   "metadata": {},
   "source": [
    "2. Получите строку, состоящую из первых двух и последних двух символов заданной строки. Если длина строки меньше двух, то выведите соответствующее сообщение."
   ]
  },
  {
   "cell_type": "code",
   "execution_count": 6,
   "id": "c4fc2857",
   "metadata": {},
   "outputs": [
    {
     "name": "stdout",
     "output_type": "stream",
     "text": [
      "прет\n"
     ]
    }
   ],
   "source": [
    "s = input()\n",
    "if len(s) < 4: \n",
    "    print(\"Длина строки меньше 4 символов\")\n",
    "else:\n",
    "    print(s[:2] + s[-2:])"
   ]
  },
  {
   "cell_type": "markdown",
   "id": "6be63388",
   "metadata": {},
   "source": [
    "3. Получите строку из заданной, в которой все вхождения ее первого символа были изменены на `$`, кроме самого первого символа.\n"
   ]
  },
  {
   "cell_type": "code",
   "execution_count": null,
   "id": "236913da",
   "metadata": {},
   "outputs": [
    {
     "name": "stdout",
     "output_type": "stream",
     "text": [
      "жопа$"
     ]
    }
   ],
   "source": [
    "#type 1\n",
    "s = input()\n",
    "c = s[0]\n",
    "print(c, end=\"\")\n",
    "for i in s[1:]:\n",
    "    if i == c: \n",
    "        print(\"$\", end=\"\")\n",
    "    else:\n",
    "        print(i, end=\"\")"
   ]
  },
  {
   "cell_type": "code",
   "execution_count": 10,
   "id": "e07f9711",
   "metadata": {},
   "outputs": [
    {
     "name": "stdout",
     "output_type": "stream",
     "text": [
      "po$$a\n"
     ]
    }
   ],
   "source": [
    "#type 2\n",
    "s = input()\n",
    "c = s[0]\n",
    "print(c + s[1:].replace(c, \"$\"))"
   ]
  },
  {
   "cell_type": "markdown",
   "id": "1c72a188",
   "metadata": {},
   "source": [
    "4. Получите одну строку из двух заданных строк, разделенных пробелом, и поменяте местами первые два символа каждой строки."
   ]
  },
  {
   "cell_type": "code",
   "execution_count": 11,
   "id": "a4116b27",
   "metadata": {},
   "outputs": [
    {
     "name": "stdout",
     "output_type": "stream",
     "text": [
      "попа жопа\n"
     ]
    }
   ],
   "source": [
    "s1, s2 = input().split()\n",
    "print(s2[:2] + s1[2:], s1[:2] + s2[2:])"
   ]
  },
  {
   "cell_type": "markdown",
   "id": "27ed2eea",
   "metadata": {},
   "source": [
    "5. Добавьте `ing` в конце заданной строки (длина должна быть не менее трех). Если данная строка уже заканчивается на `ing`, добавьте вместо этого `ly`. Если длина заданной строки меньше трех, оставьте ее без изменений.\n"
   ]
  },
  {
   "cell_type": "code",
   "execution_count": 14,
   "id": "08fd6f21",
   "metadata": {},
   "outputs": [
    {
     "name": "stdout",
     "output_type": "stream",
     "text": [
      "ping\n"
     ]
    }
   ],
   "source": [
    "s = input()\n",
    "if len(s) < 3:\n",
    "    print(\"Ошибка\")\n",
    "else:\n",
    "    if s[-3:] == \"ing\":\n",
    "        print(s[:-3] + \"ly\")\n",
    "    else:\n",
    "        print(s[:-3] + \"ing\")"
   ]
  },
  {
   "cell_type": "markdown",
   "id": "0ba82265",
   "metadata": {},
   "source": [
    "6. Удалите из непустой строки каждый $n$-й символ, начиная с первого.\n"
   ]
  },
  {
   "cell_type": "code",
   "execution_count": null,
   "id": "bb3355dc",
   "metadata": {},
   "outputs": [
    {
     "name": "stdout",
     "output_type": "stream",
     "text": [
      "oa"
     ]
    }
   ],
   "source": [
    "#type 1\n",
    "s = input()\n",
    "n = int(input())\n",
    "for num, i in enumerate(s):\n",
    "    if num%n == 0: print(\"\", end=\"\")\n",
    "    else: print(i, end=\"\")\n"
   ]
  },
  {
   "cell_type": "code",
   "execution_count": 19,
   "id": "2117df39",
   "metadata": {},
   "outputs": [
    {
     "name": "stdout",
     "output_type": "stream",
     "text": [
      "oa\n"
     ]
    }
   ],
   "source": [
    "#type 2\n",
    "s = input()\n",
    "n = int(input())\n",
    "new_s = \"\"\n",
    "for num, i in enumerate(s):\n",
    "    if num%n == 0: ...\n",
    "    else: new_s += i\n",
    "print(new_s)"
   ]
  },
  {
   "cell_type": "markdown",
   "id": "d4dbc3bb",
   "metadata": {},
   "source": [
    "7. Измените заданную строку на новую строку, в которой первый и последний символы поменяны местами."
   ]
  },
  {
   "cell_type": "code",
   "execution_count": 20,
   "id": "402f70de",
   "metadata": {},
   "outputs": [
    {
     "name": "stdout",
     "output_type": "stream",
     "text": [
      "aopp\n"
     ]
    }
   ],
   "source": [
    "#type 1\n",
    "s = input()\n",
    "print(s[-1] + s[1:-1] + s[0])"
   ]
  },
  {
   "cell_type": "code",
   "execution_count": 25,
   "id": "47f98a62",
   "metadata": {},
   "outputs": [
    {
     "name": "stdout",
     "output_type": "stream",
     "text": [
      "aopp\n"
     ]
    }
   ],
   "source": [
    "#type 2\n",
    "s = input()\n",
    "print(s[-1], end=\"\")\n",
    "for i in range(1, len(s)):\n",
    "    if i == len(s)-1: break\n",
    "    print(s[i], end=\"\")\n",
    "print(s[0])"
   ]
  },
  {
   "cell_type": "markdown",
   "id": "3af2958e",
   "metadata": {},
   "source": [
    "8. Удалите символы, которые имеют нечетные значения индексов в заданной строке."
   ]
  },
  {
   "cell_type": "code",
   "execution_count": 26,
   "id": "5fdb77f5",
   "metadata": {},
   "outputs": [
    {
     "name": "stdout",
     "output_type": "stream",
     "text": [
      "pp"
     ]
    }
   ],
   "source": [
    "#type 1\n",
    "s = input()\n",
    "for i in range(len(s)):\n",
    "    if i%2!=0: ...\n",
    "    else: print(s[i], end=\"\")\n"
   ]
  },
  {
   "cell_type": "code",
   "execution_count": 27,
   "id": "0711bfc9",
   "metadata": {},
   "outputs": [
    {
     "name": "stdout",
     "output_type": "stream",
     "text": [
      "pp\n"
     ]
    }
   ],
   "source": [
    "#type 2\n",
    "s = input()\n",
    "print(s[::2])"
   ]
  },
  {
   "cell_type": "markdown",
   "id": "5f499a4a",
   "metadata": {},
   "source": [
    "9. Дана строка-предложение. Подсчитайте вхождение каждого слова в данное предложение."
   ]
  },
  {
   "cell_type": "code",
   "execution_count": 3,
   "id": "80919c74",
   "metadata": {},
   "outputs": [
    {
     "name": "stdout",
     "output_type": "stream",
     "text": [
      "жопа 2\n",
      "попа 1\n",
      "привет 1\n"
     ]
    }
   ],
   "source": [
    "s = input().split()\n",
    "words = dict()\n",
    "for i in s:\n",
    "    if i in words:\n",
    "        words[i] += 1\n",
    "    else:\n",
    "        words[i] = 1\n",
    "for i in words:\n",
    "    print(i, words[i])"
   ]
  },
  {
   "cell_type": "markdown",
   "id": "4bf34d19",
   "metadata": {},
   "source": [
    "10. Переверните заданную строку в обратном порядке, если ее длина кратна четырем."
   ]
  },
  {
   "cell_type": "code",
   "execution_count": 4,
   "id": "ff90b9ad",
   "metadata": {},
   "outputs": [
    {
     "name": "stdout",
     "output_type": "stream",
     "text": [
      "апож\n"
     ]
    }
   ],
   "source": [
    "s = input()\n",
    "if len(s)%4==0:\n",
    "    print(s[::-1])\n",
    "else:\n",
    "    print(s)"
   ]
  },
  {
   "cell_type": "markdown",
   "id": "380c8322",
   "metadata": {},
   "source": [
    "11. Переведите в заданной строке все буквы в верхний регистр, если она содержит не менее двух символов верхнего регистра в первых четырех символах."
   ]
  },
  {
   "cell_type": "code",
   "execution_count": 10,
   "id": "94c50895",
   "metadata": {},
   "outputs": [
    {
     "name": "stdout",
     "output_type": "stream",
     "text": [
      "asdqwdasdqwads\n"
     ]
    }
   ],
   "source": [
    "s = input()\n",
    "k = 0\n",
    "for i in s[:4]:\n",
    "    if i.upper() == i:\n",
    "        k+=1\n",
    "if k >= 2:\n",
    "    print(s.upper())\n",
    "else:\n",
    "    print(s)"
   ]
  },
  {
   "cell_type": "markdown",
   "id": "33554cdb",
   "metadata": {},
   "source": [
    "12. Дана строка-предложение. Зашифровать ее, выполнив циклическую замену каждой буквы на следующую за ней в алфавите и сохранив при этом регистр букв («A» перейдет в «B», «a» — в «b», «B» — в «D», «z» — в «a» и т. д.). Знаки препинания и пробелы не изменять."
   ]
  },
  {
   "cell_type": "code",
   "execution_count": 10,
   "id": "a08756ef",
   "metadata": {},
   "outputs": [
    {
     "name": "stdout",
     "output_type": "stream",
     "text": [
      "A"
     ]
    }
   ],
   "source": [
    "from string import (\n",
    "    ascii_lowercase,\n",
    "    ascii_uppercase\n",
    ")\n",
    "rus_alf_high = \"АБВГДЕЁЖЗИЙКЛМНОПРСТУФХЦЧШЩЪЫЬЭЮЯ\"\n",
    "rus_alf_low = rus_alf_high.lower()\n",
    "s = input()\n",
    "lang_flag = -1\n",
    "for i in s:\n",
    "    if i in ascii_lowercase: lang_flag = 1\n",
    "    if i in ascii_uppercase: lang_flag = 2\n",
    "    if i in rus_alf_low: lang_flag = 3\n",
    "    if i in rus_alf_high: lang_flag = 4\n",
    "    match lang_flag:\n",
    "        case 1:\n",
    "            print(ascii_lowercase[(ascii_lowercase.index(i)+1)%len(ascii_lowercase)], end=\"\")\n",
    "        case 2:\n",
    "            print(ascii_uppercase[(ascii_uppercase.index(i)+1)%len(ascii_uppercase)], end=\"\")\n",
    "        case 3:\n",
    "            print(rus_alf_low[(rus_alf_low.index(i)+1)%len(rus_alf_low)], end=\"\")\n",
    "        case 4:\n",
    "            print(rus_alf_high[(rus_alf_high.index[i]+1)%len(rus_alf_high)], end=\"\")\n",
    "        case _:\n",
    "            ...\n"
   ]
  },
  {
   "cell_type": "markdown",
   "id": "3aba1cff",
   "metadata": {},
   "source": [
    "13. Найти первый неповторяющийся символ в заданной строке."
   ]
  },
  {
   "cell_type": "code",
   "execution_count": 11,
   "id": "9c4e42de",
   "metadata": {},
   "outputs": [
    {
     "name": "stdout",
     "output_type": "stream",
     "text": [
      "я\n"
     ]
    }
   ],
   "source": [
    "s = input()\n",
    "for i in s:\n",
    "    if s.count(i)==1:\n",
    "        print(i)\n",
    "        break"
   ]
  },
  {
   "cell_type": "markdown",
   "id": "d271ba4f",
   "metadata": {},
   "source": [
    "14. Перевести в верхний регистр первую и последнюю буквы каждого слова заданной строки."
   ]
  },
  {
   "cell_type": "code",
   "execution_count": 18,
   "id": "a8110963",
   "metadata": {},
   "outputs": [
    {
     "name": "stdout",
     "output_type": "stream",
     "text": [
      "DsaD D AsdadW D "
     ]
    }
   ],
   "source": [
    "s = input()\n",
    "for i in s.split():\n",
    "    if len(i)>=2:\n",
    "        print(i[0].upper(), end=\"\")\n",
    "        print(i[1:-1], end=\"\")\n",
    "        print(i[-1].upper(), end=\"\")\n",
    "    else:\n",
    "        print(i.upper(), end=\"\")\n",
    "    print(\" \", end=\"\")"
   ]
  },
  {
   "cell_type": "markdown",
   "id": "0de034e3",
   "metadata": {},
   "source": [
    "15. Дана строка, содержащая цифры и строчные латинские буквы. Если буквы в строке упорядочены по алфавиту, то вывести 0; в противном случае вывести номер первого символа строки, нарушающего алфавитный порядок."
   ]
  },
  {
   "cell_type": "code",
   "execution_count": 28,
   "id": "18a788bb",
   "metadata": {},
   "outputs": [
    {
     "name": "stdout",
     "output_type": "stream",
     "text": [
      "a\n"
     ]
    }
   ],
   "source": [
    "s = input()\n",
    "from string import ascii_letters, digits\n",
    "chars = []\n",
    "for i in s:\n",
    "    if i in digits: ...\n",
    "    else:\n",
    "        chars.append(i)\n",
    "first_i = ascii_letters.index(chars[0])\n",
    "for i in chars[1:]:\n",
    "    if ascii_letters.index(i) >= first_i:\n",
    "        first_i = ascii_letters.index(i)\n",
    "    else:\n",
    "        print(i)\n",
    "        break\n",
    "else:\n",
    "    print(0)"
   ]
  }
 ],
 "metadata": {
  "kernelspec": {
   "display_name": "Python 3",
   "language": "python",
   "name": "python3"
  },
  "language_info": {
   "codemirror_mode": {
    "name": "ipython",
    "version": 3
   },
   "file_extension": ".py",
   "mimetype": "text/x-python",
   "name": "python",
   "nbconvert_exporter": "python",
   "pygments_lexer": "ipython3",
   "version": "3.13.5"
  }
 },
 "nbformat": 4,
 "nbformat_minor": 5
}
