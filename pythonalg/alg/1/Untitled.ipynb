{
 "cells": [
  {
   "cell_type": "code",
   "execution_count": 6,
   "id": "3b1a2177",
   "metadata": {},
   "outputs": [],
   "source": [
    "from math import (cos,\n",
    "                  sin)"
   ]
  },
  {
   "cell_type": "code",
   "execution_count": null,
   "id": "4727f5a6-038d-43d3-94d3-69cf07f01ed7",
   "metadata": {},
   "outputs": [
    {
     "name": "stdout",
     "output_type": "stream",
     "text": [
      "47.72058450180107\n"
     ]
    }
   ],
   "source": [
    "#1\n",
    "x = int(input(\"Enter x: \"))\n",
    "y = 3*x**2 + sin(x+2)\n",
    "print(y)\n"
   ]
  },
  {
   "cell_type": "code",
   "execution_count": null,
   "id": "947d8509",
   "metadata": {},
   "outputs": [],
   "source": [
    "#2\n",
    "a = int(input(\"Enter a: \"))\n",
    "x = int(input(\"Enter x: \"))\n",
    "y = a * x ** 2 + cos(2*x + 1)\n",
    "print(y)"
   ]
  },
  {
   "cell_type": "code",
   "execution_count": null,
   "id": "368b1cdf",
   "metadata": {},
   "outputs": [],
   "source": [
    "#3\n",
    "a = int(input(\"Enter a: \"))\n",
    "b = int(input(\"Enter b: \"))\n",
    "x = int(input(\"Enter x: \"))\n",
    "y = a * x**3+cos(3*x + 1)\n",
    "print(y)"
   ]
  },
  {
   "cell_type": "code",
   "execution_count": null,
   "id": "75aec6bf",
   "metadata": {},
   "outputs": [],
   "source": [
    "#4\n",
    "a = int(input(\"Enter a: \"))\n",
    "x = int(input(\"Enter x: \"))\n",
    "y = a*x**3 + cos(3*x + 1)\n",
    "print(y)"
   ]
  },
  {
   "cell_type": "code",
   "execution_count": 11,
   "id": "fe0317ff",
   "metadata": {},
   "outputs": [
    {
     "name": "stdout",
     "output_type": "stream",
     "text": [
      "3.283662185463226\n"
     ]
    }
   ],
   "source": [
    "#5\n",
    "a = int(input(\"Enter a: \"))\n",
    "x = int(input(\"Enter x: \"))\n",
    "if a != 0:\n",
    "    y = (x ** 2) / a + cos(2*x -1)\n",
    "    print(y)\n",
    "else:\n",
    "    print(\"деление на ноль\")\n",
    "    "
   ]
  },
  {
   "cell_type": "code",
   "execution_count": null,
   "id": "88e2b880",
   "metadata": {},
   "outputs": [],
   "source": []
  },
  {
   "cell_type": "code",
   "execution_count": 10,
   "id": "75c3fe75",
   "metadata": {},
   "outputs": [
    {
     "name": "stdout",
     "output_type": "stream",
     "text": [
      "деление на ноль\n"
     ]
    }
   ],
   "source": [
    "#6\n",
    "x = int(input(\"Enter x: \"))\n",
    "a = int(input(\"Enter a: \"))\n",
    "if a == 0:\n",
    "    print(\"деление на ноль\")\n",
    "else:\n",
    "    y = x / a + 2*x**2\n",
    "    print(y)"
   ]
  },
  {
   "cell_type": "code",
   "execution_count": null,
   "id": "9f7c7cd8",
   "metadata": {},
   "outputs": [],
   "source": [
    "#7\n",
    "x = int(input(\"Enter x: \"))\n",
    "y = 3*x**2 -2*+1\n",
    "print(y)"
   ]
  },
  {
   "cell_type": "code",
   "execution_count": null,
   "id": "4ca6a148",
   "metadata": {},
   "outputs": [],
   "source": [
    "#8\n",
    "x = int(input(\"Enter x: \"))\n",
    "y = (x**2) / 2 - 3*x + 1\n",
    "print(y)"
   ]
  },
  {
   "cell_type": "code",
   "execution_count": null,
   "id": "2bcc72d4",
   "metadata": {},
   "outputs": [],
   "source": [
    "#9\n",
    "x = int(input(\"x: \"))\n",
    "a = int(input(\"a: \"))\n",
    "y = (1 / (x**2 + 1)) - a\n",
    "print(y)"
   ]
  },
  {
   "cell_type": "code",
   "execution_count": null,
   "id": "bd47c942",
   "metadata": {},
   "outputs": [],
   "source": [
    "#13\n"
   ]
  },
  {
   "cell_type": "markdown",
   "id": "e9ff3cd9",
   "metadata": {},
   "source": [
    "#занятие два"
   ]
  },
  {
   "cell_type": "code",
   "execution_count": 3,
   "id": "97cd758e",
   "metadata": {},
   "outputs": [
    {
     "data": {
      "text/plain": [
       "22"
      ]
     },
     "execution_count": 3,
     "metadata": {},
     "output_type": "execute_result"
    }
   ],
   "source": [
    "#1\n",
    "a,b,c = list(map(int, input().split()))\n",
    "s = 2 * (a*b + b*c + c*a)\n",
    "s\n"
   ]
  },
  {
   "cell_type": "code",
   "execution_count": null,
   "id": "1e0217c0",
   "metadata": {},
   "outputs": [],
   "source": [
    "#2\n",
    "from math import pi\n",
    "r = int(input())\n",
    "l = 2 * pi * r\n",
    "s = pi * r**2\n",
    "print(f\"L: {l} | R: {r}\")"
   ]
  },
  {
   "cell_type": "code",
   "execution_count": null,
   "id": "1e839be0",
   "metadata": {},
   "outputs": [],
   "source": [
    "a = int(input())\n",
    "b = int(input())\n",
    "c = (a**2 + b**2)**0.5\n",
    "p = a + b + c\n",
    "print(f\"c: {c} | P: {p}\")"
   ]
  },
  {
   "cell_type": "code",
   "execution_count": null,
   "id": "46ab2680",
   "metadata": {},
   "outputs": [],
   "source": []
  }
 ],
 "metadata": {
  "kernelspec": {
   "display_name": "Python 3",
   "language": "python",
   "name": "python3"
  },
  "language_info": {
   "codemirror_mode": {
    "name": "ipython",
    "version": 3
   },
   "file_extension": ".py",
   "mimetype": "text/x-python",
   "name": "python",
   "nbconvert_exporter": "python",
   "pygments_lexer": "ipython3",
   "version": "3.13.5"
  }
 },
 "nbformat": 4,
 "nbformat_minor": 5
}
