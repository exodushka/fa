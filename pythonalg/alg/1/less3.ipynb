{
 "cells": [
  {
   "cell_type": "code",
   "execution_count": null,
   "id": "56d8ae73",
   "metadata": {},
   "outputs": [],
   "source": [
    "#1\n",
    "print(len(input().split()))"
   ]
  },
  {
   "cell_type": "code",
   "execution_count": 3,
   "id": "d3ea5acd",
   "metadata": {},
   "outputs": [
    {
     "name": "stdout",
     "output_type": "stream",
     "text": [
      "2\n"
     ]
    }
   ],
   "source": [
    "#2\n",
    "words = input().split()\n",
    "k=0\n",
    "for i in words:\n",
    "    i = i.lower()\n",
    "    if i[0] == i[-1] and len(i)!=1:\n",
    "        k+=1\n",
    "print(k)"
   ]
  },
  {
   "cell_type": "code",
   "execution_count": 8,
   "id": "61f6d22c",
   "metadata": {},
   "outputs": [
    {
     "name": "stdout",
     "output_type": "stream",
     "text": [
      "asd afsa ad fsdg dfh\n",
      "длина самого длинного слова 4\n"
     ]
    }
   ],
   "source": [
    "text = input('')\n",
    "words = text.split()\n",
    "print(*words)\n",
    "if words:\n",
    "    max_len = max(len(word) for word in words)\n",
    "    print('длина самого длинного слова', max_len)\n",
    "else:\n",
    "    print('строка не содержит слов.')\n"
   ]
  },
  {
   "cell_type": "code",
   "execution_count": 10,
   "id": "6ea60eb7",
   "metadata": {},
   "outputs": [
    {
     "data": {
      "text/plain": [
       "'аааа ббб вв ггг'"
      ]
     },
     "execution_count": 10,
     "metadata": {},
     "output_type": "execute_result"
    }
   ],
   "source": [
    "a = input().split()\n",
    "a = sorted(a)\n",
    "\" \".join(a)"
   ]
  },
  {
   "cell_type": "code",
   "execution_count": null,
   "id": "7ebf801a",
   "metadata": {},
   "outputs": [
    {
     "ename": "TypeError",
     "evalue": "str.join() takes exactly one argument (0 given)",
     "output_type": "error",
     "traceback": [
      "\u001b[31m---------------------------------------------------------------------------\u001b[39m",
      "\u001b[31mTypeError\u001b[39m                                 Traceback (most recent call last)",
      "\u001b[36mCell\u001b[39m\u001b[36m \u001b[39m\u001b[32mIn[11]\u001b[39m\u001b[32m, line 2\u001b[39m\n\u001b[32m      1\u001b[39m \u001b[38;5;28;01mfrom\u001b[39;00m\u001b[38;5;250m \u001b[39m\u001b[34;01mstring\u001b[39;00m\u001b[38;5;250m \u001b[39m\u001b[38;5;28;01mimport\u001b[39;00m punctuation\n\u001b[32m----> \u001b[39m\u001b[32m2\u001b[39m s = \u001b[38;5;28;43minput\u001b[39;49m\u001b[43m(\u001b[49m\u001b[43m)\u001b[49m\u001b[43m.\u001b[49m\u001b[43mjoin\u001b[49m\u001b[43m(\u001b[49m\u001b[43m)\u001b[49m\n\u001b[32m      3\u001b[39m k = \u001b[32m0\u001b[39m\n\u001b[32m      4\u001b[39m \u001b[38;5;28;01mfor\u001b[39;00m _ \u001b[38;5;129;01min\u001b[39;00m s:\n",
      "\u001b[31mTypeError\u001b[39m: str.join() takes exactly one argument (0 given)"
     ]
    }
   ],
   "source": [
    "from string import punctuation\n",
    "s = input().split()\n",
    "k = 0\n",
    "for _ in s:\n",
    "    for i in _:\n",
    "        if i not in punctuation:\n",
    "            k+=1\n",
    "print(k)"
   ]
  },
  {
   "cell_type": "code",
   "execution_count": null,
   "id": "5afcc2aa",
   "metadata": {},
   "outputs": [],
   "source": []
  }
 ],
 "metadata": {
  "kernelspec": {
   "display_name": "Python 3",
   "language": "python",
   "name": "python3"
  },
  "language_info": {
   "codemirror_mode": {
    "name": "ipython",
    "version": 3
   },
   "file_extension": ".py",
   "mimetype": "text/x-python",
   "name": "python",
   "nbconvert_exporter": "python",
   "pygments_lexer": "ipython3",
   "version": "3.13.5"
  }
 },
 "nbformat": 4,
 "nbformat_minor": 5
}
