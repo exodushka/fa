{
 "cells": [
  {
   "cell_type": "markdown",
   "metadata": {
    "id": "fHbADoOlkw_e"
   },
   "source": [
    "# <font color='CadetBlue'> **АЛГОРИТМЫ И СТРУКТУРЫ ДАННЫХ В ЯЗЫКЕ PYTHON**"
   ]
  },
  {
   "cell_type": "markdown",
   "metadata": {
    "id": "UHFP36oYlxVP"
   },
   "source": [
    "## <font color='CadetBlue'> **ПЕРВЫЙ СЕМЕСТР**"
   ]
  },
  {
   "cell_type": "markdown",
   "metadata": {
    "id": "Qtks3ldxSlRQ"
   },
   "source": [
    "### <font color='CadetBlue'> **I** — сентябрь, октябрь"
   ]
  },
  {
   "cell_type": "markdown",
   "metadata": {
    "id": "deqygj8V4cFn"
   },
   "source": [
    "#### <font color='LightCoral'> **ЗАДАНИЕ 1.** Ввод/вывод информации. Оператор =."
   ]
  },
  {
   "cell_type": "markdown",
   "metadata": {
    "id": "jpBiY3sNmiiz"
   },
   "source": [
    "Вычислите значение функции:"
   ]
  },
  {
   "cell_type": "markdown",
   "metadata": {
    "id": "VbPz_-PYm51i"
   },
   "source": [
    "1. $y = 3x^2 + \\sin(x + 2)$."
   ]
  },
  {
   "cell_type": "markdown",
   "metadata": {
    "id": "k6nxZFI7nI3_"
   },
   "source": [
    "2. $y = ax^2 + \\cos(2x + 1)$."
   ]
  },
  {
   "cell_type": "markdown",
   "metadata": {
    "id": "brm99-6mnJC4"
   },
   "source": [
    "3. $y = ax + b\\sin(2x + 2)$."
   ]
  },
  {
   "cell_type": "markdown",
   "metadata": {
    "id": "OfEtCGwlnJZ-"
   },
   "source": [
    "4. $y = ax^3 + \\cos(3x + 1)$."
   ]
  },
  {
   "cell_type": "markdown",
   "metadata": {
    "id": "IQyrV45jnJjp"
   },
   "source": [
    "5. $y = \\frac{x^2}{a} + \\cos(2x - 1)$."
   ]
  },
  {
   "cell_type": "markdown",
   "metadata": {
    "id": "kfC88-wVnKQ_"
   },
   "source": [
    "6. $y = \\frac{x}{a} + 2x^2$."
   ]
  },
  {
   "cell_type": "markdown",
   "metadata": {
    "id": "KaZG4BLenKcv"
   },
   "source": [
    "7. $y = 3x^2 - 2x + 1 $."
   ]
  },
  {
   "cell_type": "markdown",
   "metadata": {
    "id": "i3VEP1z_nKxW"
   },
   "source": [
    "8. $y = \\frac{1}{2}x^2 - 3x + 1$."
   ]
  },
  {
   "cell_type": "markdown",
   "metadata": {
    "id": "yDZATrponU28"
   },
   "source": [
    "9. $y = \\frac{1}{x^2 + 1} - a$."
   ]
  },
  {
   "cell_type": "markdown",
   "metadata": {
    "id": "QDxzZ2yhnUhA"
   },
   "source": [
    "10. $y = \\frac{a}{x^2 + 1} - \\cos(2x - 1)$."
   ]
  },
  {
   "cell_type": "markdown",
   "metadata": {
    "id": "b6B7RyvXnVey"
   },
   "source": [
    "11. $y = x^3 - 2x^2 + 4$."
   ]
  },
  {
   "cell_type": "markdown",
   "metadata": {
    "id": "4D479Z4FnVAF"
   },
   "source": [
    "12. $y = ax^2 + bx^3 - 8$."
   ]
  },
  {
   "cell_type": "markdown",
   "metadata": {
    "id": "5hIH_q_ZnVIj"
   },
   "source": [
    "13. $y = a\\sqrt{x^2 + 4} - b$."
   ]
  },
  {
   "cell_type": "markdown",
   "metadata": {
    "id": "HaN7qZd4nVPt"
   },
   "source": [
    "14. $y = \\cos(2x - 1) + \\sin{x}$."
   ]
  },
  {
   "cell_type": "markdown",
   "metadata": {
    "id": "lXLJVkcHnVXn"
   },
   "source": [
    "15. $y = a\\sqrt{x} + bx^2$."
   ]
  },
  {
   "cell_type": "markdown",
   "metadata": {
    "id": "iTMMjxHx34ze"
   },
   "source": [
    "#### <font color='LightCoral'> **ЗАДАНИЕ 2.** Ввод/вывод информации. Оператор =."
   ]
  },
  {
   "cell_type": "markdown",
   "metadata": {
    "id": "8jJpcrHx4gCe"
   },
   "source": [
    "1. Даны длины ребер  $a$, $b$, $c$ прямоугольного параллелепипеда. Найти его объем $V = a \\cdot b \\cdot c$ и площадь поверхности $S = 2 \\cdot (a \\cdot b + b \\cdot c + a \\cdot c)$."
   ]
  },
  {
   "cell_type": "markdown",
   "metadata": {
    "id": "Igfe3VlA5T-T"
   },
   "source": [
    "2. Найти длину окружности $L$ и площадь круга $S$ заданного радиуса $R$: $L = 2 \\cdot \\pi \\cdot R$, $S = \\pi \\cdot R^2$."
   ]
  },
  {
   "cell_type": "markdown",
   "metadata": {
    "id": "GGdwLtjy5auX"
   },
   "source": [
    "3. Даны катеты прямоугольного треугольника $a$ и $b$. Найти его гипотенузу $c$ и периметр $P$: $c = \\sqrt{a^2 + b^2}$, $P = a + b + c$.\n"
   ]
  },
  {
   "cell_type": "markdown",
   "metadata": {
    "id": "bPLqyNNJ5kE5"
   },
   "source": [
    "4. Даны два круга с общим центром и радиусами $R_1$ и $R_2$ ($R_1 > R_2$ ). Найти площади этих кругов $S_1$ и $S_2$, а также площадь $S_3$ кольца, внешний радиус которого равен $R_1$, а внутренний радиус равен $R_2$: $S_1 = \\pi \\cdot R^{2}_{1}$, $S_2 = \\pi \\cdot R^{2}_{2}$, $S_3 = S_1 - S_2$."
   ]
  },
  {
   "cell_type": "markdown",
   "metadata": {
    "id": "RFddSANW5qkv"
   },
   "source": [
    "5. Даны координаты двух противоположных вершин прямоугольника: $(x_1, y_1)$, $(x_2, y_2)$. Стороны прямоугольника параллельны осям координат. Найти периметр и площадь данного прямоугольника.\n",
    "\n",
    "\n"
   ]
  },
  {
   "cell_type": "markdown",
   "metadata": {
    "id": "GFSiSAmf5waT"
   },
   "source": [
    "6. Найти расстояние между двумя точками с заданными координатами $(x_1, y_1)$ и $(x_2, y_2)$  на плоскости. Расстояние вычисляется по формуле $\\sqrt{(x_2 - x_1)^2 + (y_2 - y_1)^2}$.\n"
   ]
  },
  {
   "cell_type": "markdown",
   "metadata": {
    "id": "ZDqm8iDx53Ob"
   },
   "source": [
    "7. Даны координаты трех вершин треугольника: $(x_1, y_1)$, $(x_2, y_2)$, $(x_3, y_3)$. Найти его периметр и площадь, используя формулу для расстояния между двумя точками на плоскости. Для нахождения площади треугольника со сторонами  $a$, $b$, $c$ использовать формулу Герона: $S = \\sqrt{p \\cdot (p - a) \\cdot (p - b) \\cdot (p - c)}$, где $p$ — полупериметр.\n"
   ]
  },
  {
   "cell_type": "markdown",
   "metadata": {
    "id": "4ujv0uH46AwL"
   },
   "source": [
    "8. Дано значение температуры $T$ в градусах Фаренгейта. Определить значение этой же температуры в градусах Цельсия. Температура по Цельсию $T_C$ и температура по Фаренгейту $T_F$ связаны следующим соотношением: $T_C = (T_F - 32) \\cdot \\frac59$.\n"
   ]
  },
  {
   "cell_type": "markdown",
   "metadata": {
    "id": "d0aU5y-L6H2l"
   },
   "source": [
    "9. Известно, что $X$ кг шоколадных конфет стоит $A$ рублей, а $Y$ кг ирисок стоит $B$ рублей. Определить, сколько стоит 1 кг шоколадных конфет, 1 кг ирисок, а также во сколько раз шоколадные конфеты дороже ирисок.\n"
   ]
  },
  {
   "cell_type": "markdown",
   "metadata": {
    "id": "3K5BHbFa6UB6"
   },
   "source": [
    "10. Найти решение системы линейных уравнений вида  \n",
    "\\begin{align}\n",
    "    \\left\\{\n",
    "        \\begin{array}{ll}\n",
    "                A_1 \\cdot x + B_1 \\cdot y = C_1, \\\\\n",
    "                A_2 \\cdot x + B_2 \\cdot y = C_2,\n",
    "        \\end{array}\n",
    "    \\right.\n",
    "\\end{align}\n",
    "заданной своими коэффициентами $A_1$, $B_1$, $C_1$, $A_2$, $B_2$, $C_2$, если известно, что данная система имеет единственное решение. Воспользоваться формулами $x = \\frac{C_1 \\cdot B_2 - C_2 \\cdot B_1}{D}$, $y = \\frac{A_1 \\cdot C_2 - A_2 \\cdot C_1}{D}$, где $D = A_1 \\cdot B_2 - A_2 \\cdot B_1$.\n",
    "\n"
   ]
  },
  {
   "cell_type": "markdown",
   "metadata": {
    "id": "YXvWAVZn6fAY"
   },
   "source": [
    "11. Дано значение угла $\\alpha$ в градусах ($0 < \\alpha <360^{\\circ}$). Определить значение этого же угла в радианах, учитывая, что 180 градусов равно $\\pi$ радианов."
   ]
  },
  {
   "cell_type": "markdown",
   "metadata": {
    "id": "e8ZmVwjf7Gk9"
   },
   "source": [
    "12. Скорость первого автомобиля $V_1$ км/ч, второго — $V_2$ км/ч, расстояние между ними $S$ км. Определить расстояние между ними через $T$ часов, если автомобили удаляются друг от друга. Данное расстояние равно сумме начального расстояния и общего пути, проделанного автомо-билями; общий путь = время $\\times$ суммарная скорость.\n"
   ]
  },
  {
   "cell_type": "markdown",
   "metadata": {
    "id": "UOgpwVdp7SYg"
   },
   "source": [
    "13. Даны три точки $A$, $B$, $C$ на числовой оси. Найти длины отрезков $AC$ и $BC$ и их сумму.\n"
   ]
  },
  {
   "cell_type": "markdown",
   "metadata": {
    "id": "gCifRUYt7fFn"
   },
   "source": [
    "14. Даны два ненулевых числа. Найти сумму, разность, произведение и частное их квадратов.\n"
   ]
  },
  {
   "cell_type": "markdown",
   "metadata": {
    "id": "AX6Nl6qL7sTg"
   },
   "source": [
    "15. Скорость лодки в стоячей воде $V$ км/ч, скорость течения реки $U$ км/ч ($U<V$). Время дви-жения лодки по озеру $T_1$ ч, а по реке (против течения) — $T_2$ ч. Определить путь $S$, пройден-ный лодкой (путь = время $\\times$ скорость). Учесть, что при движении против течения скорость лодки уменьшается на величину скорости течения."
   ]
  },
  {
   "cell_type": "markdown",
   "metadata": {
    "id": "hHvyt-v4tqHf"
   },
   "source": [
    "#### <font color='LightCoral'> **ЗАДАНИЕ 3.** Условный оператор."
   ]
  },
  {
   "cell_type": "markdown",
   "metadata": {
    "id": "YbJOr4sMtv9j"
   },
   "source": [
    "1. Вычислите значение функции:\n",
    "\n",
    "\\begin{align}\n",
    "    y = \\left\\{\n",
    "            \\begin{array}{ll}\n",
    "                ax^2 + 1, & x > 0; \\\\\n",
    "                ax - 1, & x \\le 0.\n",
    "            \\end{array}\n",
    "        \\right.\n",
    "\\end{align}"
   ]
  },
  {
   "cell_type": "markdown",
   "metadata": {
    "id": "m-MsEm64t1PZ"
   },
   "source": [
    "2. Вычислите значение функции:\n",
    "\n",
    "\\begin{align}\n",
    "    y = \\left\\{\n",
    "            \\begin{array}{ll}\n",
    "                ax + 1, & x \\ge 1; \\\\\n",
    "                x^2 - 1, & x < 1.\n",
    "            \\end{array}\n",
    "        \\right.\n",
    "\\end{align}"
   ]
  },
  {
   "cell_type": "markdown",
   "metadata": {
    "id": "YDnEyviYt4hP"
   },
   "source": [
    "3. Вычислите значение функции:\n",
    "\n",
    "\\begin{align}\n",
    "    y = \\left\\{\n",
    "            \\begin{array}{ll}\n",
    "                3a^2, & x < 0; \\\\\n",
    "                4ax - 1, & x \\ge 0.\n",
    "            \\end{array}\n",
    "        \\right.\n",
    "\\end{align}"
   ]
  },
  {
   "cell_type": "markdown",
   "metadata": {
    "id": "tYgYXPQHt-MH"
   },
   "source": [
    "4. Вычислите значение функции:\n",
    "\n",
    "\\begin{align}\n",
    "    y = \\left\\{\n",
    "            \\begin{array}{ll}\n",
    "                2a^2, & x > 4; \\\\\n",
    "                3x - 1, & x \\le 4.\n",
    "            \\end{array}\n",
    "        \\right.\n",
    "\\end{align}"
   ]
  },
  {
   "cell_type": "markdown",
   "metadata": {
    "id": "W4q-A8RTt-28"
   },
   "source": [
    "5. Вычислите значение функции:\n",
    "\n",
    "\\begin{align}\n",
    "    y = \\left\\{\n",
    "            \\begin{array}{ll}\n",
    "                2ax - 2, & x > 2; \\\\\n",
    "                3a^2 - 2x, & x \\le 2.\n",
    "            \\end{array}\n",
    "        \\right.\n",
    "\\end{align}"
   ]
  },
  {
   "cell_type": "markdown",
   "metadata": {
    "id": "pdkls3iVuCCz"
   },
   "source": [
    "6. Вычислите значение функции:\n",
    "\n",
    "\\begin{align}\n",
    "    y = \\left\\{\n",
    "            \\begin{array}{ll}\n",
    "                2ax^2 - 1, & x > 1; \\\\\n",
    "                x, & x \\le 1.\n",
    "            \\end{array}\n",
    "        \\right.\n",
    "\\end{align}"
   ]
  },
  {
   "cell_type": "markdown",
   "metadata": {
    "id": "AD3exxljuEab"
   },
   "source": [
    "7. Вычислите значение функции:\n",
    "\n",
    "\\begin{align}\n",
    "    y = \\left\\{\n",
    "            \\begin{array}{ll}\n",
    "                x^2, & x > 2; \\\\\n",
    "                2a - 1, & x \\le 2.\n",
    "            \\end{array}\n",
    "        \\right.\n",
    "\\end{align}"
   ]
  },
  {
   "cell_type": "markdown",
   "metadata": {
    "id": "6dZfX7ccuG6m"
   },
   "source": [
    "8. Вычислите значение функции:\n",
    "\n",
    "\\begin{align}\n",
    "    y = \\left\\{\n",
    "            \\begin{array}{ll}\n",
    "                \\cos(2x - 1), & x > 2; \\\\\n",
    "                \\sin(3x + 1), & x \\le 2.\n",
    "            \\end{array}\n",
    "        \\right.\n",
    "\\end{align}"
   ]
  },
  {
   "cell_type": "markdown",
   "metadata": {
    "id": "lEwdhqyRuJN2"
   },
   "source": [
    "9. Вычислите значение функции:\n",
    "\n",
    "\\begin{align}\n",
    "    y = \\left\\{\n",
    "            \\begin{array}{ll}\n",
    "                2x^3 - 2x - 1, & x > 2; \\\\\n",
    "                3x^2 - 2x + 1, & x \\le 2.\n",
    "            \\end{array}\n",
    "        \\right.\n",
    "\\end{align}"
   ]
  },
  {
   "cell_type": "markdown",
   "metadata": {
    "id": "P4CEc8WUuL-1"
   },
   "source": [
    "10. Вычислите значение функции:\n",
    "\n",
    "\\begin{align}\n",
    "    y = \\left\\{\n",
    "            \\begin{array}{ll}\n",
    "                2ax^2 - 1, & x > 1; \\\\\n",
    "                1/a, & x \\le 1.\n",
    "            \\end{array}\n",
    "        \\right.\n",
    "\\end{align}"
   ]
  },
  {
   "cell_type": "markdown",
   "metadata": {
    "id": "GXw0EF0TuOWL"
   },
   "source": [
    "11. Вычислите значение функции:\n",
    "\n",
    "\\begin{align}\n",
    "    y = \\left\\{\n",
    "            \\begin{array}{ll}\n",
    "                a\\sqrt{x} + 1, & x \\ge 0; \\\\\n",
    "                ax - 1, & x < 0.\n",
    "            \\end{array}\n",
    "        \\right.\n",
    "\\end{align}\n"
   ]
  },
  {
   "cell_type": "markdown",
   "metadata": {
    "id": "n508TlXMuRYe"
   },
   "source": [
    "12. Вычислите значение функции:\n",
    "\n",
    "\\begin{align}\n",
    "    y = \\left\\{\n",
    "            \\begin{array}{ll}\n",
    "                \\sqrt{x} + a, & x \\ge 0; \\\\\n",
    "                a/x - 1, & x < 0.\n",
    "            \\end{array}\n",
    "        \\right.\n",
    "\\end{align}"
   ]
  },
  {
   "cell_type": "markdown",
   "metadata": {
    "id": "g3cnyVQEuTkV"
   },
   "source": [
    "13. Вычислите значение функции:\n",
    "\n",
    "\\begin{align}\n",
    "    y = \\left\\{\n",
    "            \\begin{array}{ll}\n",
    "                1/x + a, & x > 0; \\\\\n",
    "                x^2 - 1, & x \\le 0.\n",
    "            \\end{array}\n",
    "        \\right.\n",
    "\\end{align}"
   ]
  },
  {
   "cell_type": "markdown",
   "metadata": {
    "id": "jHKm1Up6uV6z"
   },
   "source": [
    "14. Вычислите значение функции:\n",
    "\n",
    "\\begin{align}\n",
    "    y = \\left\\{\n",
    "            \\begin{array}{ll}\n",
    "                \\cos{x}, & x > \\pi/2; \\\\\n",
    "                \\sin{x}, & x \\le \\pi/2.\n",
    "            \\end{array}\n",
    "        \\right.\n",
    "\\end{align}"
   ]
  },
  {
   "cell_type": "markdown",
   "metadata": {
    "id": "J_BXmgctuYBy"
   },
   "source": [
    "15. Вычислите значение функции:\n",
    "\n",
    "\\begin{align}\n",
    "    y = \\left\\{\n",
    "            \\begin{array}{ll}\n",
    "                \\sqrt{x - 2}, & x > 2; \\\\\n",
    "                (x - 2)^2 + 1, & x \\le 2.\n",
    "            \\end{array}\n",
    "        \\right.\n",
    "\\end{align}"
   ]
  },
  {
   "cell_type": "markdown",
   "metadata": {
    "id": "CRGxay6Yuc7F"
   },
   "source": [
    "#### <font color='LightCoral'> **ЗАДАНИЕ 4.** Циклы."
   ]
  },
  {
   "cell_type": "markdown",
   "metadata": {
    "id": "6atQ9bJDuauJ"
   },
   "source": [
    "1. Даны целые числа $K$ и $N$ ($N>0$). Вывести $N$ раз число $K$."
   ]
  },
  {
   "cell_type": "markdown",
   "metadata": {
    "id": "JfVB7MlZujlM"
   },
   "source": [
    "2. Даны два целых числа $A$ и $B$ ($A < B$). Вывести в порядке возрастания все целые числа, расположенные между $A$ и $B$ (включая сами числа $A$ и $B$), а также количество $N$ этих чисел.\n"
   ]
  },
  {
   "cell_type": "markdown",
   "metadata": {
    "id": "sxgPqVxxulf1"
   },
   "source": [
    "3. Даны два целых числа $A$ и $B$ ($A < B$). Вывести в порядке убывания все целые числа, расположенные между $A$ и $B$ (не включая числа $A$ и $B$), а также количество $N$ этих чисел."
   ]
  },
  {
   "cell_type": "markdown",
   "metadata": {
    "id": "GLlUV527uopx"
   },
   "source": [
    "4. Одна штука некоторого товара стоит 20,4 руб. Напечатать таблицу стоимости для 1, 2, ..., 10 штук этого товара.\n"
   ]
  },
  {
   "cell_type": "markdown",
   "metadata": {
    "id": "t-sycTv1uqs6"
   },
   "source": [
    "5. Напечатать квадраты всех целых чисел от $A$ до $B$ ($A < B$) с шагом $H$.\n"
   ]
  },
  {
   "cell_type": "markdown",
   "metadata": {
    "id": "zJTY5-VRute2"
   },
   "source": [
    "6. Напечатать все положительные числа из диапазона от $A$ до $B$ ($A < B$) с шагом $H$.\n"
   ]
  },
  {
   "cell_type": "markdown",
   "metadata": {
    "id": "f8n0NgDMuv-S"
   },
   "source": [
    "7. Даны два целых числа $A$ и $B$ ($A < B$). Найти сумму всех целых чисел от $A$ до $B$ включительно.\n"
   ]
  },
  {
   "cell_type": "markdown",
   "metadata": {
    "id": "0dh-7jd7ux6P"
   },
   "source": [
    "8. Даны два целых числа $A$ и $B$ ($A < B$). Найти произведение всех целых чисел от $A$ до $B$ включительно.\n"
   ]
  },
  {
   "cell_type": "markdown",
   "metadata": {
    "id": "D9cqRycquz7a"
   },
   "source": [
    "9. Даны два целых числа $A$ и $B$ ($A < B$). Найти сумму квадратов всех целых чисел от $A$ до $B$ включительно.\n"
   ]
  },
  {
   "cell_type": "markdown",
   "metadata": {
    "id": "GZE4Er7ju1_v"
   },
   "source": [
    "10. Дано положительное вещественное число — цена 1 кг конфет. Вывести стоимость 1.2, 1.4, ..., 2 кг конфет.\n"
   ]
  },
  {
   "cell_type": "markdown",
   "metadata": {
    "id": "rNY-EB13u31y"
   },
   "source": [
    "11. Дано положительное целое число N. Найти квадрат данного числа, используя для его вычисления следующую формулу:\n",
    "\n",
    "\\begin{align}\n",
    "    N^2 = 1 + 3 + 5 + ... + (2 \\cdot N - 1).\n",
    "\\end{align}\n"
   ]
  },
  {
   "cell_type": "markdown",
   "metadata": {
    "id": "5BR1OeUju6ag"
   },
   "source": [
    "12. Дано вещественное число $A$ и положительное целое число $N$. Вывести все целые степени числа $A$ от $1$ до $N$.\n"
   ]
  },
  {
   "cell_type": "markdown",
   "metadata": {
    "id": "9ieB0sdyu86Q"
   },
   "source": [
    "13. Дано положительное целое число $N$. Найти наибольшее целое число $K$, квадрат которого не превосходит $N$: $K^2 \\le N$.\n"
   ]
  },
  {
   "cell_type": "markdown",
   "metadata": {
    "id": "cVPGwKSXu_H-"
   },
   "source": [
    "14. Дано целое число $N > 1$. Найти наибольшее целое число $K$, при котором выполняется неравенство $3^K < N$.\n"
   ]
  },
  {
   "cell_type": "markdown",
   "metadata": {
    "id": "WgUyNWQMvCIt"
   },
   "source": [
    "15. Дано целое число $N > 1$ и две вещественные точки на числовой оси: $A$, $B$ ($A<B$). Отрезок $[A, B]$ разбит на $N$ равных отрезков. Вывести $H$ — длину каждого отрезка, а также набор точек $A$, $A + H$, $A + 2H$, $A + 3H$, ..., $B$, образующий разбиение отрезка $[A, B]$.\n"
   ]
  },
  {
   "cell_type": "markdown",
   "metadata": {
    "id": "jtrdGrUwvGSW"
   },
   "source": [
    "#### <font color='LightCoral'> **ЗАДАНИЕ 5.** Циклы."
   ]
  },
  {
   "cell_type": "markdown",
   "metadata": {
    "id": "Q-45d3vAvJd6"
   },
   "source": [
    "1. Для заданного натурального $n$ подсчитать сумму:\n",
    "\n",
    "\\begin{align}\n",
    "    \\frac{1}{2} + \\frac{1}{2^2} + \\frac{1}{2^3} + ... + \\frac{1}{2^n}.\n",
    "\\end{align}"
   ]
  },
  {
   "cell_type": "markdown",
   "metadata": {
    "id": "KfojP_MHvMQr"
   },
   "source": [
    "2. Для заданного натурального $n$ и действительного $x$ подсчитать сумму:\n",
    "\n",
    "\\begin{align}\n",
    "    \\cos{x} + \\frac{\\cos^2{x}}{2} + \\frac{\\cos^3{x}}{3} + ... + \\frac{\\cos^n{x}}{n}.\n",
    "\\end{align}"
   ]
  },
  {
   "cell_type": "markdown",
   "metadata": {
    "id": "i7CCVOy2vPSM"
   },
   "source": [
    "3. Для заданного натурального $n$ подсчитать сумму:\n",
    "\n",
    "\\begin{align}\n",
    "    1 - 3 + 3^2 - 3^3 + ... + (-1)^n3^n.\n",
    "\\end{align}\n"
   ]
  },
  {
   "cell_type": "markdown",
   "metadata": {
    "id": "BULaXuorvSOc"
   },
   "source": [
    "4. Для заданного натурального $n$ подсчитать сумму:\n",
    "\n",
    "\\begin{align}\n",
    "    \\frac{1}{\\sin{1}} + \\frac{1}{\\sin{2}} + ... + \\frac{1}{\\sin{n}}.\n",
    "\\end{align}"
   ]
  },
  {
   "cell_type": "markdown",
   "metadata": {
    "id": "F8fGUBVnvUde"
   },
   "source": [
    "5. Для заданного натурального $n$ подсчитать сумму:\n",
    "\n",
    "\\begin{align}\n",
    "    1 - 2^3 + 3^3 - ... + (-1)^{n + 1}n^3.\n",
    "\\end{align}"
   ]
  },
  {
   "cell_type": "markdown",
   "metadata": {
    "id": "2eWCg_qRvWte"
   },
   "source": [
    "6. Для заданного натурального $n$ подсчитать сумму:\n",
    "\n",
    "\\begin{align}\n",
    "    \\cos{1} - \\cos{2} + \\cos{3} - ... + (-1)^{n + 1} \\cos{n} .\n",
    "\\end{align}"
   ]
  },
  {
   "cell_type": "markdown",
   "metadata": {
    "id": "mVHJY4ksvZtl"
   },
   "source": [
    "7. Для заданного натурального $n$ и действительного $x$ подсчитать сумму:\n",
    "\n",
    "\\begin{align}\n",
    "    x - \\frac{x^2}{2} + \\frac{x^3}{3} - ... + \\frac{(-1)^{n-1}x^n}{n}, \\quad |x|<1.\n",
    "\\end{align}"
   ]
  },
  {
   "cell_type": "markdown",
   "metadata": {
    "id": "A2SB9Puovc7a"
   },
   "source": [
    "8. Для заданного натурального $n$ подсчитать сумму:\n",
    "\n",
    "\\begin{align}\n",
    "    1! - 2! + 3! - ... + (-1)^{n + 1}n!.\n",
    "\\end{align}\n"
   ]
  },
  {
   "cell_type": "markdown",
   "metadata": {
    "id": "omospO6VvfgT"
   },
   "source": [
    "9. Для заданного натурального $n$ и действительного $x$ подсчитать сумму:\n",
    "\n",
    "\\begin{align}\n",
    "    \\sin{x} + \\sin{x^2} + \\sin{x^3} + ... + \\sin{x^n}.\n",
    "\\end{align}"
   ]
  },
  {
   "cell_type": "markdown",
   "metadata": {
    "id": "E_L4q7HkviOu"
   },
   "source": [
    "10. Для заданного натурального $n$ подсчитать сумму:\n",
    "\n",
    "\\begin{align}\n",
    "    1 + \\frac{1}{2!} + \\frac{1}{3!} + ... + \\frac{1}{n!}.\n",
    "\\end{align}"
   ]
  },
  {
   "cell_type": "markdown",
   "metadata": {
    "id": "TdS3s2JGvksn"
   },
   "source": [
    "11. Для заданного натурального $n$ подсчитать сумму:\n",
    "\n",
    "\\begin{align}\n",
    "    n^2 + (n + 1)^2 + (n + 2)^2 + ... + (2 \\cdot n)^2.\n",
    "\\end{align}"
   ]
  },
  {
   "cell_type": "markdown",
   "metadata": {
    "id": "3ss1I5Xjvne_"
   },
   "source": [
    "12. Для заданного натурального $n$ подсчитать сумму:\n",
    "\n",
    "\\begin{align}\n",
    "    1! + 2! + 3! + ... + n!.\n",
    "\\end{align}"
   ]
  },
  {
   "cell_type": "markdown",
   "metadata": {
    "id": "5e1HULwCvpmQ"
   },
   "source": [
    "13. Для заданного натурального $n$ и действительного $x$ подсчитать сумму:\n",
    "\n",
    "\\begin{align}\n",
    "    1 + x + \\frac{x^2}{2!} + \\frac{x^3}{3!} + ... + \\frac{x^n}{n!}.\n",
    "\\end{align}"
   ]
  },
  {
   "cell_type": "markdown",
   "metadata": {
    "id": "MT8Z68Ggvr7Y"
   },
   "source": [
    "14. Для заданного натурального $n$ и действительного $x$ подсчитать сумму:\n",
    "\n",
    "\\begin{align}\n",
    "    1 - x + x^2 - x^3 + ... + (-1)^nx^n.\n",
    "\\end{align}"
   ]
  },
  {
   "cell_type": "markdown",
   "metadata": {
    "id": "spSiFn2avuND"
   },
   "source": [
    "15. Для заданного натурального $n$ и действительного $x$ подсчитать сумму:\n",
    "\n",
    "\\begin{align}\n",
    "    x - \\frac{x^3}{3} + \\frac{x^5}{5} - ... + (-1)^n\\frac{x^{2n + 1}}{2n + 1}, \\quad |x|<1.\n",
    "\\end{align}"
   ]
  },
  {
   "cell_type": "markdown",
   "metadata": {
    "id": "JJyN-79_JHIz"
   },
   "source": [
    "#### <font color='LightCoral'> **ЗАДАНИЕ 6.** Списки."
   ]
  },
  {
   "cell_type": "markdown",
   "metadata": {
    "id": "gSJw8IwMJw_f"
   },
   "source": [
    "1. Дан список, включающий $N$ элементов, и целые числа $K$ и $L$ ($1 ≤ K ≤ L ≤ N$). Найти среднее арифметическое элементов списка с порядковыми номерами от $K$ до $L$ включительно."
   ]
  },
  {
   "cell_type": "markdown",
   "metadata": {
    "id": "VzBuXVqLKYZA"
   },
   "source": [
    "2. Дан список, включающий $N$ элементов, и целые числа $K$ и $L$ ($1 < K ≤ L ≤ N$). Найти сумму всех элементов списка, кроме элементов с порядковыми номерами от $K$ до $L$ включительно."
   ]
  },
  {
   "cell_type": "markdown",
   "metadata": {
    "id": "txStb_slKaQs"
   },
   "source": [
    "3. Дан список, включающий $N$ элементов, и целые числа $K$ и $L$ ($1 < K ≤ L ≤ N$). Найти среднее арифметическое всех элементов списка, кроме элементов с порядковыми номерами от $K$ до $L$ включительно."
   ]
  },
  {
   "cell_type": "markdown",
   "metadata": {
    "id": "qJP7omX0KeEr"
   },
   "source": [
    "4. Дан список. Вывести вначале все содержащиеся в данном списке четные числа в порядке возрастания их индексов, а затем — все нечетные числа в порядке убывания их индексов."
   ]
  },
  {
   "cell_type": "markdown",
   "metadata": {
    "id": "wHNJTySJKhXA"
   },
   "source": [
    "5. Дан список. Вывести вначале его элементы с четными номерами (в порядке возрастания номеров), а затем — элементы с нечетными номерами (также в порядке возрастания номеров)."
   ]
  },
  {
   "cell_type": "markdown",
   "metadata": {
    "id": "zsSEMgNOKiMH"
   },
   "source": [
    "6. Дан список. Найти произведение всех элементов списка, расположенных справа от максимального элементами, не включая максимальный элемент."
   ]
  },
  {
   "cell_type": "markdown",
   "metadata": {
    "id": "KhYyOsXCKrNo"
   },
   "source": [
    "7. Дан список. Найти сумму всех элементов списка, расположенных между его минимальным и максимальным элементами, включая минимальный и максимальный элементы."
   ]
  },
  {
   "cell_type": "markdown",
   "metadata": {
    "id": "j-4TGMO4Ktn5"
   },
   "source": [
    "8. Дан список. Обнулить элементы списка, расположенные между его минимальным и максимальным элементами (не включая минимальный и максимальный элементы)."
   ]
  },
  {
   "cell_type": "markdown",
   "metadata": {
    "id": "x9wt_wk2KwO5"
   },
   "source": [
    "9. Дан список. Увеличить все четные числа, содержащиеся в списке, на заданное число. Если четные числа в списке отсутствуют, то оставить список без изменений."
   ]
  },
  {
   "cell_type": "markdown",
   "metadata": {
    "id": "OI3z2uxEKyTW"
   },
   "source": [
    "10. Дан список. Обнулить все нечетные числа, содержащиеся в списке. Если нечетные числа в списке отсутствуют, то оставить список без изменений."
   ]
  },
  {
   "cell_type": "markdown",
   "metadata": {
    "id": "uE0Fq8BNK0kg"
   },
   "source": [
    "11. Дан список. Найти минимальный элемент из его элементов с четными номерами."
   ]
  },
  {
   "cell_type": "markdown",
   "metadata": {
    "id": "VW6a1mbRK4Hg"
   },
   "source": [
    "12. Дан список. Найти номера тех элементов списка, которые больше своего правого соседа, и количество таких элементов. Найденные номера выводить в порядке их возрастания."
   ]
  },
  {
   "cell_type": "markdown",
   "metadata": {
    "id": "gF3oD6u2K8n2"
   },
   "source": [
    "13. Дан список. Найти два соседних элемента, сумма которых максимальна, и вывести эти элементы в порядке возрастания их индексов."
   ]
  },
  {
   "cell_type": "markdown",
   "metadata": {
    "id": "pGyA5bY-LBK9"
   },
   "source": [
    "14. Дан список. Поменять местами его минимальный и максимальный элементы."
   ]
  },
  {
   "cell_type": "markdown",
   "metadata": {
    "id": "XLlrAghZLB9g"
   },
   "source": [
    "15. Даны целые числа $N>2$, $A$ и $B$. Сформировать и вывести список размера $N$, первый элемент которого равен $A$, второй равен $B$, а каждый последующий элемент равен сумме всех предыдущих."
   ]
  },
  {
   "cell_type": "markdown",
   "metadata": {
    "id": "5ASh5cH0JJzO"
   },
   "source": [
    "#### <font color='LightCoral'> **ЗАДАНИЕ 7.** Сортировка списков."
   ]
  },
  {
   "cell_type": "markdown",
   "metadata": {
    "id": "kNFmWsUSLKO8"
   },
   "source": [
    "1. Дан список. Выбрать из списка все нечетные числа и упорядочить их по убыванию."
   ]
  },
  {
   "cell_type": "markdown",
   "metadata": {
    "id": "xWz-DMvRLVML"
   },
   "source": [
    "2. Дан список. Выбрать из списка все положительные числа и упорядочить их по возрастанию."
   ]
  },
  {
   "cell_type": "markdown",
   "metadata": {
    "id": "SOGXQAr9LXQj"
   },
   "source": [
    "3. Дан список. Выбрать из списка все положительные числа и упорядочить их по убыванию."
   ]
  },
  {
   "cell_type": "markdown",
   "metadata": {
    "id": "yghapskVLZda"
   },
   "source": [
    "4. Дан список. Выбрать из списка все четные числа и упорядочить их по возрастанию."
   ]
  },
  {
   "cell_type": "markdown",
   "metadata": {
    "id": "8e6Syub1Lc-3"
   },
   "source": [
    "5. Дан список. Выбрать из списка все числа больше заданного числа $k$ и упорядочить их по убыванию."
   ]
  },
  {
   "cell_type": "markdown",
   "metadata": {
    "id": "6n3e3q-qLgQr"
   },
   "source": [
    "6. Дан список. Выбрать из списка все числа больше 10 и упорядочить их по возрастанию."
   ]
  },
  {
   "cell_type": "markdown",
   "metadata": {
    "id": "ho6RUmw7Lj1G"
   },
   "source": [
    "7. Дан список. Выбрать из списка все числа кратные 5 и упорядочить их по убыванию."
   ]
  },
  {
   "cell_type": "markdown",
   "metadata": {
    "id": "JSpQ6bzcLmpI"
   },
   "source": [
    "8. Дан список. Выбрать из списка все числа меньше заданного числа $k$ и упорядочить их по возрастанию."
   ]
  },
  {
   "cell_type": "markdown",
   "metadata": {
    "id": "Q59Xf5jGLoyS"
   },
   "source": [
    "9. Дан список. Выбрать из списка все числа меньше 15 и упорядочить их по убыванию."
   ]
  },
  {
   "cell_type": "markdown",
   "metadata": {
    "id": "c5-g9oKGLsCG"
   },
   "source": [
    "10. Дан список. Выбрать из списка все числа кратные 3 и упорядочить их по возрастанию."
   ]
  },
  {
   "cell_type": "markdown",
   "metadata": {
    "id": "nW0zHOtoLuPE"
   },
   "source": [
    "11. Дан список. Выбрать из списка все числа кратные заданному числу $k$ и упорядочить их по убыванию."
   ]
  },
  {
   "cell_type": "markdown",
   "metadata": {
    "id": "8TQuX2fcLw_0"
   },
   "source": [
    "12. Дан список. Выбрать из списка все отрицательные числа и упорядочить их по возрастанию."
   ]
  },
  {
   "cell_type": "markdown",
   "metadata": {
    "id": "PdDC4sBJLzh5"
   },
   "source": [
    "13. Дан список. Выбрать из списка все числа на нечетных позициях и упорядочить эти числа по убыванию."
   ]
  },
  {
   "cell_type": "markdown",
   "metadata": {
    "id": "hL87MKeBL11k"
   },
   "source": [
    "14. Дан список. Выбрать из списка все двузначные числа и упорядочить эти числа по возрастанию."
   ]
  },
  {
   "cell_type": "markdown",
   "metadata": {
    "id": "7gJukV0iL308"
   },
   "source": [
    "15. Дан список. Выбрать из списка все числа на четных позициях и упорядочить эти числа по возрастанию."
   ]
  },
  {
   "cell_type": "markdown",
   "metadata": {
    "id": "pSYyv9rQJKeQ"
   },
   "source": [
    "#### <font color='LightCoral'> **ЗАДАНИЕ 8.** Вложенные списки."
   ]
  },
  {
   "cell_type": "markdown",
   "metadata": {
    "id": "EfS8-FMLMgK-"
   },
   "source": [
    "1. Дана целочисленная матрица размера $M×N$. Найти номер первого из ее столбцов, содержащих только нечетные числа. Если таких столбцов нет, то вывести 0."
   ]
  },
  {
   "cell_type": "markdown",
   "metadata": {
    "id": "PCU4fxLyMhHJ"
   },
   "source": [
    "2. Дана матрица размера $M×N$. Преобразовать матрицу, поменяв местами минимальный и максимальный элемент в каждой строке."
   ]
  },
  {
   "cell_type": "markdown",
   "metadata": {
    "id": "u9r1Euh8Mjqs"
   },
   "source": [
    "3. Дана матрица размера $M×N$. Поменять местами строки, содержащие минимальный и максимальный элементы матрицы."
   ]
  },
  {
   "cell_type": "markdown",
   "metadata": {
    "id": "4VRCT49eMmIv"
   },
   "source": [
    "4. Дана матрица размера $M×N$. Зеркально отразить ее элементы относительно горизонтальной оси симметрии матрицы (при этом поменяются местами строки с номерами $1$ и $M$, $2$ и $M – 1$ и т.д.)."
   ]
  },
  {
   "cell_type": "markdown",
   "metadata": {
    "id": "V4AkmyBXMojn"
   },
   "source": [
    "5. Дана матрица размера $M×N$. Удалить строку, содержащую минимальный элемент матрицы."
   ]
  },
  {
   "cell_type": "markdown",
   "metadata": {
    "id": "0ANLcvaNMsbK"
   },
   "source": [
    "6. Дана матрица размера $M×N$. Удалить столбец, содержащий максимальный элемент матрицы."
   ]
  },
  {
   "cell_type": "markdown",
   "metadata": {
    "id": "27oSlG6QMuur"
   },
   "source": [
    "7. Дана матрица размера $M×N$. Зеркально отразить ее элементы относительно вертикальной оси симметрии матрицы (при этом поменяются местами столбцы с номерами $1$ и $N$, $2$ и $N – 1$ и т.д.)."
   ]
  },
  {
   "cell_type": "markdown",
   "metadata": {
    "id": "gVc_TU3YSF7F"
   },
   "source": [
    "8. Дана матрица размера $M×N$. Продублировать строку матрицы, содержащую ее максимальный элемент."
   ]
  },
  {
   "cell_type": "markdown",
   "metadata": {
    "id": "WfiyT97nSIai"
   },
   "source": [
    "9. Дана матрица размера $M×N$. В каждом ее столбце найти количество элементов, больших среднего арифметического всех элементов этого столбца."
   ]
  },
  {
   "cell_type": "markdown",
   "metadata": {
    "id": "fegaH4TiSLIg"
   },
   "source": [
    "10. Дана матрица размера $M×N$ ($M$ и $N$ — четные числа). Поменять местами левую верхнюю и правую нижнюю четверти матрицы."
   ]
  },
  {
   "cell_type": "markdown",
   "metadata": {
    "id": "XChEDNjgSPpF"
   },
   "source": [
    "11. Дана матрица размера $M×N$. Для каждой строки матрицы с нечетным номером (1, 3, ...) найти среднее арифметическое ее элементов."
   ]
  },
  {
   "cell_type": "markdown",
   "metadata": {
    "id": "_p82vHh2SSV_"
   },
   "source": [
    "12. Дана матрица размера $M×N$. Найти номер ее строки с наибольшей суммой элементов и вывести данный номер, а также значение наибольшей суммы."
   ]
  },
  {
   "cell_type": "markdown",
   "metadata": {
    "id": "NoYUyMmYSU4H"
   },
   "source": [
    "13. Дана матрица размера $M×N$. Перед строкой матрицы, содержащей минимальный элемент матрицы, вставить строку из нулей."
   ]
  },
  {
   "cell_type": "markdown",
   "metadata": {
    "id": "RwxNroNNSXp3"
   },
   "source": [
    "14. Дана целочисленная матрица размера $M×N$. Найти номер последней из ее строк, содержащих только четные числа. Если таких строк нет, то вывести 0."
   ]
  },
  {
   "cell_type": "markdown",
   "metadata": {
    "id": "wt-kFGNkSaSs"
   },
   "source": [
    "15. Дана матрица размера $M×N$. Поменять местами столбец с номером 1 и последний из столбцов, содержащих только положительные элементы. Если требуемых столбцов нет, то вывести матрицу без изменений."
   ]
  },
  {
   "cell_type": "markdown",
   "metadata": {
    "id": "LOrWCgzgJKqw"
   },
   "source": [
    "#### <font color='LightCoral'> **ЗАДАНИЕ 9.** Строки."
   ]
  },
  {
   "cell_type": "markdown",
   "metadata": {
    "id": "NWg1dTUeTdF9"
   },
   "source": [
    "1. Дана строка, состоящая из русских слов, разделенных пробелами (одним или несколькими). Найти количество слов в строке."
   ]
  },
  {
   "cell_type": "markdown",
   "metadata": {
    "id": "5TQgmFlNUDzf"
   },
   "source": [
    "2. Дана строка, состоящая из русских слов, набранных заглавными буквами и разделенных пробелами (одним или несколькими). Найти количество слов, которые начинаются и заканчиваются одной и той же буквой."
   ]
  },
  {
   "cell_type": "markdown",
   "metadata": {
    "id": "mWrtzEoCUGlX"
   },
   "source": [
    "3. Дана строка, состоящая из русских слов, набранных заглавными буквами и разделенных пробелами (одним или несколькими). Найти количество слов, которые содержат хотя бы одну букву «А»."
   ]
  },
  {
   "cell_type": "markdown",
   "metadata": {
    "id": "ut2dBlL-UMrK"
   },
   "source": [
    "4. Дана строка, состоящая из русских слов, разделенных пробелами (одним или несколькими). Найти длину самого короткого слова."
   ]
  },
  {
   "cell_type": "markdown",
   "metadata": {
    "id": "ZVKsZUAbUQy6"
   },
   "source": [
    "5. Дана строка, состоящая из русских слов, разделенных пробелами (одним или несколькими). Вывести строку, содержащую эти же слова, разделенные одним пробелом и расположенные в обратном порядке."
   ]
  },
  {
   "cell_type": "markdown",
   "metadata": {
    "id": "bt9OoLHZUTNB"
   },
   "source": [
    "6. Дана строка, состоящая из русских слов, набранных заглавными буквами и разделенных пробелами (одним или несколькими). Вывести строку, содержащую эти же слова, разделенные одним пробелом и расположенные в алфавитном порядке."
   ]
  },
  {
   "cell_type": "markdown",
   "metadata": {
    "id": "IFihu9BBUWpL"
   },
   "source": [
    "7. Дан символ `C` и строки `S`, `S0`. Перед каждым вхождением символа `C` в строку `S` вставить строку `S0`."
   ]
  },
  {
   "cell_type": "markdown",
   "metadata": {
    "id": "e1POnozjUZ5e"
   },
   "source": [
    "8. Дана строка-предложение с избыточными пробелами между словами. Преобразовать ее так, чтобы между словами был ровно один пробел."
   ]
  },
  {
   "cell_type": "markdown",
   "metadata": {
    "id": "r90NQqcvUcTz"
   },
   "source": [
    "9. Дана строка. Подсчитать общее количество содержащихся в ней строчных латинских и русских букв."
   ]
  },
  {
   "cell_type": "markdown",
   "metadata": {
    "id": "DUa6zaoTUfMk"
   },
   "source": [
    "10. Дана строка, состоящая из русских слов, разделенных пробелами (одним или несколькими). Найти длину самого длинного слова."
   ]
  },
  {
   "cell_type": "markdown",
   "metadata": {
    "id": "3WY_9j1PUhlV"
   },
   "source": [
    "11. Дана строка-предложение. Зашифровать ее, поместив вначале все символы, расположенные на четных позициях строки, а затем, в обратном порядке, все символы, расположенные на нечетных позициях (например, строка `Программа` превратится в `ргамамроП`)."
   ]
  },
  {
   "cell_type": "markdown",
   "metadata": {
    "id": "1GFnPNEWUnz9"
   },
   "source": [
    "12. Дана непустая строка `S` и положительное целое число `N`. Вывести строку, содержащую символы строки `S`, между которыми вставлено по `N` символов `*` (звездочка)."
   ]
  },
  {
   "cell_type": "markdown",
   "metadata": {
    "id": "cv3IcVcEUq25"
   },
   "source": [
    "13. Дана строка, состоящая из русских слов, разделенных пробелами (одним или несколькими). Вывести строку, содержащую эти же слова, разделенные одним символом `.` (точка). В конце строки точку не ставить."
   ]
  },
  {
   "cell_type": "markdown",
   "metadata": {
    "id": "2yK-mdTAUu1a"
   },
   "source": [
    "14. Дана строка, содержащая полное имя файла, то есть имя диска, список каталогов (путь), собственно имя и расширение (например, `d:\\ivanov\\primer\\prog.py`). Выделить из этой строки имя файла (без расширения)."
   ]
  },
  {
   "cell_type": "markdown",
   "metadata": {
    "id": "NspViBIrUxeS"
   },
   "source": [
    "15. Дана строка, состоящая из русских слов, разделенных пробелами (одним или несколькими). Вывести самое длинное слово в предложении. Если таких слов несколько, то вывести последнее из них."
   ]
  },
  {
   "cell_type": "markdown",
   "metadata": {
    "id": "sJf0cye_JKzu"
   },
   "source": [
    "#### <font color='LightCoral'> **ЗАДАНИЕ 10.** Строки."
   ]
  },
  {
   "cell_type": "markdown",
   "metadata": {
    "id": "0UnYa89lU2Or"
   },
   "source": [
    "1. Подсчитайте количество символов (частоты символов) в заданной с клаиватуры строке."
   ]
  },
  {
   "cell_type": "markdown",
   "metadata": {
    "id": "L2xvLZWFVFei"
   },
   "source": [
    "2. Получите строку, состоящую из первых двух и последних двух символов заданной строки. Если длина строки меньше двух, то выведите соответствующее сообщение."
   ]
  },
  {
   "cell_type": "markdown",
   "metadata": {
    "id": "GCLd8pVaVIMz"
   },
   "source": [
    "3. Получите строку из заданной, в которой все вхождения ее первого символа были изменены на `$`, кроме самого первого символа.\n"
   ]
  },
  {
   "cell_type": "markdown",
   "metadata": {
    "id": "g1PCxXGwVN0S"
   },
   "source": [
    "4. Получите одну строку из двух заданных строк, разделенных пробелом, и поменяте местами первые два символа каждой строки."
   ]
  },
  {
   "cell_type": "markdown",
   "metadata": {
    "id": "mzYotYBRVSDj"
   },
   "source": [
    "5. Добавьте `ing` в конце заданной строки (длина должна быть не менее трех). Если данная строка уже заканчивается на `ing`, добавьте вместо этого `ly`. Если длина заданной строки меньше трех, оставьте ее без изменений.\n"
   ]
  },
  {
   "cell_type": "markdown",
   "metadata": {
    "id": "ZWgRtFc3VeFy"
   },
   "source": [
    "6. Удалите из непустой строки каждый $n$-й символ, начиная с первого.\n"
   ]
  },
  {
   "cell_type": "markdown",
   "metadata": {
    "id": "ozcFQk-9VkDw"
   },
   "source": [
    "7. Измените заданную строку на новую строку, в которой первый и последний символы поменяны местами."
   ]
  },
  {
   "cell_type": "markdown",
   "metadata": {
    "id": "gsbQ02BjVnvy"
   },
   "source": [
    "8. Удалите символы, которые имеют нечетные значения индексов в заданной строке."
   ]
  },
  {
   "cell_type": "markdown",
   "metadata": {
    "id": "MAf76AygVrDr"
   },
   "source": [
    "9. Дана строка-предложение. Подсчитайте вхождение каждого слова в данное предложение."
   ]
  },
  {
   "cell_type": "markdown",
   "metadata": {
    "id": "HmE0XQWVVtaE"
   },
   "source": [
    "10. Переверните заданную строку в обратном порядке, если ее длина кратна четырем."
   ]
  },
  {
   "cell_type": "markdown",
   "metadata": {
    "id": "xCZjZryvVwu6"
   },
   "source": [
    "11. Переведите в заданной строке все буквы в верхний регистр, если она содержит не менее двух символов верхнего регистра в первых четырех символах."
   ]
  },
  {
   "cell_type": "markdown",
   "metadata": {
    "id": "DuLKCJCLVzej"
   },
   "source": [
    "12. Дана строка-предложение. Зашифровать ее, выполнив циклическую замену каждой буквы на следующую за ней в алфавите и сохранив при этом регистр букв («A» перейдет в «B», «a» — в «b», «B» — в «D», «z» — в «a» и т. д.). Знаки препинания и пробелы не изменять."
   ]
  },
  {
   "cell_type": "markdown",
   "metadata": {
    "id": "AVwMdt5lV5Xp"
   },
   "source": [
    "13. Найти первый неповторяющийся символ в заданной строке."
   ]
  },
  {
   "cell_type": "markdown",
   "metadata": {
    "id": "w5p6H7viV791"
   },
   "source": [
    "14. Перевести в верхний регистр первую и последнюю буквы каждого слова заданной строки."
   ]
  },
  {
   "cell_type": "markdown",
   "metadata": {
    "id": "NP26gE6hV-KX"
   },
   "source": [
    "15. Дана строка, содержащая цифры и строчные латинские буквы. Если буквы в строке упорядочены по алфавиту, то вывести 0; в противном случае вывести номер первого символа строки, нарушающего алфавитный порядок."
   ]
  },
  {
   "cell_type": "markdown",
   "metadata": {
    "id": "yUJ1yoYFJLRx"
   },
   "source": [
    "#### <font color='LightCoral'> **ЗАДАНИЕ 11.** Словари."
   ]
  },
  {
   "cell_type": "markdown",
   "metadata": {
    "id": "h7VbNulWWT2C"
   },
   "source": [
    "1. Создайте программу, которая выполняет следующие действия:</br>а) Возвращает словарь, отсортированный по значениям в порядке возрастания и убывания. _Пример_: `{1:2, 3:4, 4:3, 2:1, 0:0}` → `{0:0, 2:1, 1:2, 4:3, 3:4}`.</br>б) Объединяет два словаря, при этом суммирует значения для одинаковых ключей. _Пример_: `{1:2, 3:4}` и `{3:5, 6:7}` → `{1:2, 3:9, 6:7}`.</br>в) Проверяет наличие определенных ключей в словаре. _Пример_: `{1:2, 3:4}` и `[1, 3]` → `True`."
   ]
  },
  {
   "cell_type": "code",
   "execution_count": null,
   "metadata": {},
   "outputs": [],
   "source": [
    "def a(d: dict):\n",
    "    copy_dict = dict()\n",
    "    list_from_dict = []\n",
    "    for i in d:\n",
    "        index, value = i, d[i]\n",
    "        list_from_dict.append([index, value])\n",
    "    \n",
    "    for i in range(len(list_from_dict)):\n",
    "        for j in range(i, len(list_from_dict)):\n",
    "            if list_from_dict[i][0] > list_from_dict[j][0]:\n",
    "                temp = list_from_dict[i]\n",
    "                list_from_dict[i] = list_from_dict[j]\n",
    "                list_from_dict[j] = temp\n",
    "    for i1, i2 in list_from_dict:\n",
    "        copy_dict[i1] = i2\n",
    "    return copy_dict\n",
    "\n",
    "def b(d1: dict, d2: dict):\n",
    "    for index in d2:\n",
    "        if index in d1:\n",
    "            d1[index] += d2[index]\n",
    "        else:\n",
    "            d1[index] = d2[index]\n",
    "    return d1\n",
    "\n",
    "def c(d: dict, value: list):\n",
    "    for i in value:\n",
    "        if i not in d:\n",
    "            return False\n",
    "    return True\n",
    "test_dict_a = {\n",
    "    2: 1,\n",
    "    4: 5,\n",
    "    1: 6,\n",
    "    3: 7\n",
    "}\n",
    "q = (a(test_dict_a))\n",
    "print(\"пункт а\")\n",
    "for i in q:\n",
    "    print(i, q[i])\n",
    "\n",
    "\n",
    "\n",
    "test_dict_b1 = {\n",
    "    1:2,\n",
    "    3:4,\n",
    "}\n",
    "test_dict_b2 = {\n",
    "    3:5,\n",
    "    6:7\n",
    "}\n",
    "print()\n",
    "print(\"пунтк б\")\n",
    "q = (b(test_dict_b1, test_dict_b2))\n",
    "for i in q:\n",
    "    print(i, q[i])\n",
    "\n",
    "\n",
    "\n",
    "test_dict_c = {\n",
    "    1:2,\n",
    "    3:4\n",
    "}\n",
    "test_list = [1,3]\n",
    "print()\n",
    "print(\"пунтк в\")\n",
    "print(c(test_dict_c, test_list))\n"
   ]
  },
  {
   "cell_type": "markdown",
   "metadata": {
    "id": "e-cbFiHxWVCn"
   },
   "source": [
    "2. Создайте программу, которая выполняет следующие действия:</br>а) Добавляет новый ключ в словарь. _Пример_: `{1:2, 3:4}`, `5`, `6` → `{1:2, 3:4, 5:6}`.</br>б) Выводит все уникальные значения из словаря. _Пример_: `{1:2, 3:4, 5:2}` → `{2,4}`.</br>в) Подсчитывает общее количество элементов в списках, которые являются значениями в словаре. _Пример_: `{1:[2,3,4], 3:[5,6,7], 5:[8,9,0]}` → `9`."
   ]
  },
  {
   "cell_type": "code",
   "execution_count": null,
   "metadata": {},
   "outputs": [],
   "source": [
    "def a(d: dict, key, value):\n",
    "    d[key] = value\n",
    "    return d\n",
    "def b1(d: dict):\n",
    "    l = []\n",
    "    for i in d:\n",
    "        if d[i] not in l:\n",
    "            l.append(d[i])\n",
    "    return l\n",
    "\n",
    "def b2(d: dict):\n",
    "    l = set()\n",
    "    for i in d:\n",
    "        l.add(d[i])\n",
    "    return list(l)\n",
    "\n",
    "def c(d: dict):\n",
    "    k = 0\n",
    "    for i in d:\n",
    "        k += len(d[i])\n",
    "    return k\n",
    "\n",
    "print(\"пункт а\")\n",
    "test_dict_a = {\n",
    "    1:2,\n",
    "    3:4\n",
    "}\n",
    "key = 5\n",
    "value = 6\n",
    "q = (a(test_dict_a, key, value))\n",
    "for i in q:\n",
    "    print(i,q[i])\n",
    "\n",
    "print()\n",
    "print(\"пункт б\")\n",
    "test_dict_b = {\n",
    "    1:2,\n",
    "    3:4,\n",
    "    5:2\n",
    "}\n",
    "print(b1(test_dict_b))\n",
    "print(b2(test_dict_b))\n",
    "\n",
    "print()\n",
    "print(\"пункт в\")\n",
    "test_dict_c = {\n",
    "    1:[2,3,4],\n",
    "    3:[5,6,7],\n",
    "    5:[8,9,0]\n",
    "}\n",
    "print(c(test_dict_c))"
   ]
  },
  {
   "cell_type": "markdown",
   "metadata": {
    "id": "--nBg9bIWbDl"
   },
   "source": [
    "3. Создайте программу, которая выполняет следующие действия:</br>а) Объединяет несколько словарей в один новый словарь. _Пример_: `{1:2}`, `{3:4}`, `{5:6}` → `{1:2, 3:4, 5:6}`.</br>б) Возвращает словарь, отсортированный по значениям. _Пример_: `{1:2, 3:4, 4:3, 2:1, 0:0}` → `{0:0, 2:1, 1:2, 4:3, 3:4}`.</br>в) Очищает списки, которые являются значениями в словаре. _Пример_: `{1:[2,3,4], 3:[5,6,7], 5:[8,9,0]}` → `{1:[], 3:[], 5:[]}`."
   ]
  },
  {
   "cell_type": "code",
   "execution_count": null,
   "metadata": {},
   "outputs": [],
   "source": [
    "def a(*args):\n",
    "    d = dict()\n",
    "    for i in args:\n",
    "        for j in i:\n",
    "            d[j] = i[j]\n",
    "    return d\n",
    "\n",
    "def b(d: dict):\n",
    "    copy_dict = dict()\n",
    "    list_from_dict = []\n",
    "    for i in d:\n",
    "        index, value = i, d[i]\n",
    "        list_from_dict.append([index, value])\n",
    "    \n",
    "    for i in range(len(list_from_dict)):\n",
    "        for j in range(i, len(list_from_dict)):\n",
    "            if list_from_dict[i][0] > list_from_dict[j][0]:\n",
    "                temp = list_from_dict[i]\n",
    "                list_from_dict[i] = list_from_dict[j]\n",
    "                list_from_dict[j] = temp\n",
    "    for i1, i2 in list_from_dict:\n",
    "        copy_dict[i1] = i2\n",
    "    return copy_dict\n",
    "\n",
    "def c(d: dict):\n",
    "    for i in d:\n",
    "        d[i] = []\n",
    "    return d\n",
    "\n",
    "print(a({1:2}, {3:4}, {5:6}, {7:8}))\n",
    "print(b({1:2, 3:4, 4:3, 2:1, 0:0}))\n",
    "print(c({1: [2,3,4], 2:[4,5,6]}))"
   ]
  },
  {
   "cell_type": "markdown",
   "metadata": {
    "id": "q1fuU8DvWej_"
   },
   "source": [
    "4. Создайте программу, которая выполняет следующие действия:</br>а) Проверяет наличие заданного ключа в словаре. _Пример_: `{1:2, 3:4}` и `[1, 3]` → `True`.</br>б) Генерирует и выводит все возможные комбинации букв, используя каждую букву из значения заданного ключа в словаре. _Пример_: `{1: 'abc', 2: 'def'}`, `1` → `['abc', 'acb', 'bac', 'bca', 'cab', 'cba']`.</br>в) Заменяет каждое значение в словаре его средним значением. _Пример_: `{1:[2,3,4], 3:[5,6,7], 5:[8,9,0]}` → `{1:3.0, 3:6.0, 5:5.7}`."
   ]
  },
  {
   "cell_type": "code",
   "execution_count": null,
   "metadata": {},
   "outputs": [],
   "source": [
    "from itertools import permutations\n",
    "def a(d: dict, value: list):\n",
    "    for i in value:\n",
    "        if i not in d:\n",
    "            return False\n",
    "    return True\n",
    "\n",
    "def b(d: dict, key: int):\n",
    "    chars = d[key]\n",
    "    var = list(permutations(chars))\n",
    "    k = []\n",
    "    for i in var:\n",
    "        k.append(\"\".join(i))\n",
    "    return k\n",
    "\n",
    "def c(d: dict):\n",
    "    for i in d:\n",
    "        d[i] = sum(d[i])/len(d[i])\n",
    "    return d\n",
    "\n",
    "test_dict_a = {\n",
    "    1:2,\n",
    "    3:4\n",
    "}\n",
    "test_list = [1,3]\n",
    "print(\"пунтк а\")\n",
    "print(a(test_dict_a, test_list))\n",
    "\n",
    "print()\n",
    "print(\"пункт б\")\n",
    "print(b({1: \"abc\"}, 1))\n",
    "print()\n",
    "print(c({1:[1,2,3], 2:[4,5,6]}))"
   ]
  },
  {
   "cell_type": "markdown",
   "metadata": {
    "id": "ywNqC0b9Whe8"
   },
   "source": [
    "5. Создайте программу, которая выполняет следующие действия:</br>а) Проходит по всем элементам словаря с использованием цикла `for`. _Пример_: `{1:2, 3:4, 5:6}` → `1: 2`, `3: 4`, `5: 6`.</br>б) Находит и выводит три наибольших значения из словаря. _Пример_: `{1:2, 3:4, 5:6}` → `[6, 4, 2]`.</br>в) Сравнивает и сопоставляет значения одинаковых ключей в двух словарях. _Пример_: `{1:2, 3:4}` и `{1:3, 3:4}` → `{1:(2, 3), 3:(4, 4)}`."
   ]
  },
  {
   "cell_type": "code",
   "execution_count": null,
   "metadata": {},
   "outputs": [],
   "source": [
    "def a(d: dict):\n",
    "    for i in d:\n",
    "        print(f\"{i}: {d[i]}\")\n",
    "def b(d: dict):\n",
    "    nums = []\n",
    "    for i in d:\n",
    "        nums.append(d[i])\n",
    "    nums.sort()\n",
    "    nums = nums[::-1]\n",
    "    return nums[:3]\n",
    "def c(d1: dict, d2: dict):\n",
    "    answer = {}\n",
    "    for i in d1:\n",
    "        if i in answer:\n",
    "            answer[i].append(d1[i])\n",
    "        else:\n",
    "            answer[i] = list()\n",
    "            answer[i].append(d1[i])\n",
    "    for i in d2:\n",
    "        if i in answer:\n",
    "            answer[i].append(d2[i])\n",
    "        else:\n",
    "            answer[i] = list()\n",
    "            answer[i].append(d2[i])\n",
    "    return answer\n",
    "\n",
    "\n",
    "a({1:2, 3:4, 5:6})\n",
    "print()\n",
    "print(b({3:4, 5:6}))\n",
    "print()\n",
    "print(c({1:2,3:4}, {1:3, 3:4}))"
   ]
  },
  {
   "cell_type": "markdown",
   "metadata": {
    "id": "2USvbWWiWkK1"
   },
   "source": [
    "6. Создайте программу, которая выполняет следующие действия:</br>а) Создает и выводит словарь, где каждый ключ — это число от 1 до $n$, а соответствующее ему значение — это квадрат этого числа. _Пример_: `5` → `{1:1, 2:4, 3:9, 4:16, 5:25}`.</br>б) Объединяет значения из списка словарей в один список. _Пример_: `[{1:2}, {3:4}, {5:6}]` → `[2, 4, 6]`.</br>в) Удаляет все пустые элементы из заданного словаря. _Пример_: `{1:'', 2:'abc', 3:None}` → `{2:'abc'}`."
   ]
  },
  {
   "cell_type": "code",
   "execution_count": null,
   "metadata": {},
   "outputs": [],
   "source": [
    "def a(n):\n",
    "    answer = dict()\n",
    "    for i in range(1, n+1):\n",
    "        answer[i] = i**2\n",
    "    return answer\n",
    "\n",
    "def b(d):\n",
    "    answer = []\n",
    "    for i in d:\n",
    "        for j in i:\n",
    "            answer.append(i[j])\n",
    "    return answer\n",
    "\n",
    "def c(d: dict):\n",
    "    for i in d.copy():\n",
    "        if not(d[i]):\n",
    "            d.pop(i)\n",
    "    return d\n",
    "\n",
    "print(a(5))\n",
    "print(b([{1:2}, {3:4}, {5:6}]))\n",
    "print(c({1:\"\", 2:\"abc\",3:None}))"
   ]
  },
  {
   "cell_type": "markdown",
   "metadata": {
    "id": "mx5bcEwDWmu6"
   },
   "source": [
    "7. Создайте программу, которая выполняет следующие действия:</br>а) Создает и выводит на печать словарь, в котором ключами являются числа от 1 до 15, а значениями — квадраты этих чисел; `{1:1, 2:4, 3:9, 4:16, 5:25, 6:36, 7:49, 8:64, 9:81, 10:100, 11:121, 12:144, 13:169, 14:196, 15:225}`.</br>б) Создает словарь из заданной строки, где каждый символ строки является ключом, а его значение — количество раз, которое этот символ встречается в строке. _Пример_: `\"hello world\"` → `{'h':1, 'e':1, 'l':3, 'o':2, ' ':1, 'w':1, 'r':1, 'd':1}`.</br>в) Отфильтровывает словарь, оставляя только определенные значения. _Пример_: `{'a':1, 'b':2, 'c':3, 'd':4}` → `{'c':3, 'd':4}`."
   ]
  },
  {
   "cell_type": "code",
   "execution_count": null,
   "metadata": {},
   "outputs": [],
   "source": [
    "def a():\n",
    "    d = dict()\n",
    "    for i in range(1, 16):\n",
    "        d[i] = i**2\n",
    "    return d\n",
    "\n",
    "def b(s):\n",
    "    d = dict()\n",
    "    for i in s:\n",
    "        if i in d:\n",
    "            d[i] += 1\n",
    "        else:\n",
    "            d[i] = 1\n",
    "    return d\n",
    "\n",
    "def c():\n",
    "    ...\n",
    "\n",
    "print(a())\n",
    "print(b(\"hello world\"))"
   ]
  },
  {
   "cell_type": "markdown",
   "metadata": {
    "id": "967bTZ-FWpVb"
   },
   "source": [
    "8. Создайте программу, которая выполняет следующие действия:</br>а) Объединяет два заданных словаря в один. _Пример_: `{'a':1, 'b':2}, {'c':3, 'd':4}` → `{'a': 1, 'b': 2, 'c': 3, 'd': 4}`.</br>б) Выводит содержимое словаря в виде таблицы. _Пример_: `{'a':1, 'b':2, 'c':3, 'd':4}` → </br>`a 1`</br>`b 2`</br>`c 3`</br>`d 4`.</br>в) Преобразует несколько заданных списков в словарь, где каждый список является значением отдельного ключа. _Пример_: `[1, 2, 3]`, `[4, 5, 6]` → `{'key1': [1, 2, 3], 'key2': [4, 5, 6]}`."
   ]
  },
  {
   "cell_type": "code",
   "execution_count": null,
   "metadata": {},
   "outputs": [],
   "source": [
    "def a(d1, d2):\n",
    "    for i in d2:\n",
    "        d1[i] = d2[i]\n",
    "    return d1\n",
    "\n",
    "def b(d):\n",
    "    for i in d:\n",
    "        print(i, d[i])\n",
    "\n",
    "def c(*args):\n",
    "    d = dict()\n",
    "    for n, i in enumerate(args):\n",
    "        d[f\"key{n+1}\"] = i\n",
    "    return d\n",
    "\n",
    "print(a({\"a\":1, \"b\":2}, {\"c\":3, \"d\":4}))\n",
    "(b({\"a\":1, \"b\":2, \"c\":3, \"d\":4}))\n",
    "print(c([1,2,3], [4,5,6]))"
   ]
  },
  {
   "cell_type": "markdown",
   "metadata": {
    "id": "jw65N-kIWsEx"
   },
   "source": [
    "9. Создайте программу, которая выполняет следующие действия:</br>а) Обходит все ключи и значения в заданном словаре с использованием цикла for. _Пример_: `{'a':1, 'b':2, 'c':3, 'd':4}` → </br>`key: a, value: 1`</br>`key: b, value: 2`</br>`key: c, value: 3`</br>`key: d, value: 4`.</br>б) Вычисляет сумму значений, связанных с определенным ключом, в списке словарей. _Пример_: `[{'a': 1}, {'a': 2}, {'a': 3}, {'b': 1}]` → `6`.</br>в) Отфильтровывает данные о росте и весе учащихся, хранящиеся в словаре. _Пример_: `{'Иван': {'рост':170, 'вес':70}, 'Михаил': {'рост':180, 'вес':75}}` → `{'Иван': {'рост': 170}, 'Михаил': {'рост': 180}}`."
   ]
  },
  {
   "cell_type": "code",
   "execution_count": null,
   "metadata": {},
   "outputs": [],
   "source": [
    "def a(d):\n",
    "    for i in d:\n",
    "        print(f\"key: {i}, value: {d[i]}\")\n",
    "\n",
    "def b(l):\n",
    "    answer = 0\n",
    "    for d in l:\n",
    "        for i in d:\n",
    "            if i == \"a\":\n",
    "                answer += d[i]\n",
    "    return answer\n",
    "\n",
    "def c(d):\n",
    "    ..."
   ]
  },
  {
   "cell_type": "markdown",
   "metadata": {
    "id": "heyk6cxjWvFP"
   },
   "source": [
    "10. Создайте программу, которая выполняет следующие действия:</br>а) Вычисляет сумму всех значений в заданном словаре. _Пример_: `{'a':1, 'b':2, 'c':3, 'd':4}` → `10`.</br>б) Преобразует заданный список в словарь, где каждый элемент списка становится ключом вложенного словаря. _Пример_: `['a', 'b', 'c']` → `{'a': {}, 'b': {}, 'c': {}}`.</br>в) Проверяет, являются ли все значения в словаре одинаковыми. _Пример_: `{'a':1, 'b':1, 'c':1}` → `True`."
   ]
  },
  {
   "cell_type": "markdown",
   "metadata": {
    "id": "q6GGvekZWygN"
   },
   "source": [
    "11. Создайте программу, которая выполняет следующие действия:</br>а) Перемножает все значения в заданном словаре. _Пример_: `{'a':1, 'b':2, 'c':3, 'd':4}` → `24`.</br>б) Сортирует список значений каждого ключа в словаре в алфавитном порядке. _Пример_: `{'a':['c', 'b', 'a'], 'b':['c', 'b', 'a']}` → `{'a': ['a', 'b', 'c'], 'b': ['a', 'b', 'c']}`.</br>в) Создает словарь, где каждый ключ связан с списком значений, сгруппированных из заданной последовательности пар ключ-значение. _Пример_: `[('a', 1), ('b', 2), ('a', 3), ('b', 4)]` → `{'a': [1, 3], 'b': [2, 4]}`"
   ]
  },
  {
   "cell_type": "markdown",
   "metadata": {
    "id": "rc3bDMOxW1XH"
   },
   "source": [
    "12. Создайте программу, которая выполняет следующие действия:</br>а) Удаляет заданный ключ из словаря. _Пример_: `{'a':1, 'b':2, 'c':3}` → `{'a': 1, 'c': 3}`.</br>б) Удаляет пробелы из всех ключей в словаре. _Пример_: `{' a ':1, ' b ':2, ' c ':3}` → `{'a': 1, 'b': 2, 'c': 3}`.</br>в) Преобразует заданный словарь списков в список словарей. _Пример_: `{'a': [1, 2], 'b': [3, 4]}` → `[{'a': 1}, {'a': 2}, {'b': 3}, {'b': 4}]`."
   ]
  },
  {
   "cell_type": "markdown",
   "metadata": {
    "id": "qPBGeE1IW3fK"
   },
   "source": [
    "13. Создайте программу, которая выполняет следующие действия:</br>а) Преобразует два заданных списка в словарь, где один список будет ключами, а другой — значениями. _Пример_: `keys = ['a', 'b', 'c']`, `values = [1, 2, 3]` → `{'a': 1, 'b': 2, 'c': 3}`.</br>б) Определяет три наиболее дорогих товара в заданном списке товаров магазина. _Пример_: `items = [{'name': 'item1', 'price': 10}, {'name': 'item2', 'price': 50}, {'name': 'item3', 'price': 30}, {'name': 'item4', 'price': 40}]` → `[{'name': 'item2', 'price': 50}, {'name': 'item4', 'price': 40}, {'name': 'item3', 'price': 30}]`.</br>в) Удаляет определенный словарь из предоставленного списка словарей. _Пример_: `[{'a': 1}, {'b': 2}, {'c': 3}]`, `{'b': 2}` → `[{'a': 1}, {'c': 3}]`."
   ]
  },
  {
   "cell_type": "markdown",
   "metadata": {
    "id": "P7o0iOJbW5vs"
   },
   "source": [
    "14. Создайте программу, которая выполняет следующие действия:</br>а) Сортирует элементы заданного словаря по ключам. _Пример_: `{'b': 1, 'a': 2, 'c': 3}` → `{'a': 2, 'b': 1, 'c': 3}`.</br>б) Извлекает и отображает ключ, значение и элемент из указанного словаря. _Пример_: `{'a': 1, 'b': 2, 'c': 3}` → `key: a, value: 1, item: (a, 1)` и т.д.</br>в) Преобразует строковые значения в указанном словаре в числовые значения (целые числа или числа с плавающей точкой). _Пример_: `{'a': '1', 'b': '2', 'c': '3.0'}` → `{'a': 1, 'b': 2, 'c': 3.0}`."
   ]
  },
  {
   "cell_type": "markdown",
   "metadata": {
    "id": "XBwMiu-8W8hr"
   },
   "source": [
    "15. Создайте программу, которая выполняет следующие действия:</br>а) Определяет и отображает максимальное и минимальное значение в предоставленном словаре. _Пример_: `{'a': 1, 'b': 2, 'c': 3}` → `max: 3`, `min: 1`.</br>б) Выводит на печать ключи и значения заданного словаря, каждый в отдельной строке. _Пример_: `{'a': 1, 'b': 2, 'c': 3}` → `key: a, value: 1` и т.д.</br>в) Создайте словарь с ключами `x`, `y` и `z`, где каждому ключу соответствует список значений от 11 до 20, от 21 до 30 и от 31 до 40 соответственно. Получите доступ и отобразите пятое значение каждого из этих ключей. _Пример_: `{'x': [11, 12, 13, 14, 15, 16, 17, 18, 19, 20], 'y': [21, 22, 23, 24, 25, 26, 27, 28, 29, 30], 'z': [31, 32, 33, 34, 35, 36, 37, 38, 39, 40]}` → `пятый элемент из x: 15` и т.д."
   ]
  },
  {
   "cell_type": "markdown",
   "metadata": {
    "id": "RBeJ_jewJLc7"
   },
   "source": [
    "#### <font color='LightCoral'> **ЗАДАНИЕ 12.** Кортежи."
   ]
  },
  {
   "cell_type": "markdown",
   "metadata": {
    "id": "cnqDTixVXJPv"
   },
   "source": [
    "1. Разработайте программу, которая:</br>а) создает кортеж из строк, введенных пользователем;</br>б) преобразует этот кортеж в словарь, где каждая строка становится ключом, а значение — длиной строки, учитывая только буквы верхнего регистра."
   ]
  },
  {
   "cell_type": "code",
   "execution_count": null,
   "metadata": {},
   "outputs": [],
   "source": [
    "def uppers(s: str):\n",
    "    answer = 0\n",
    "    for i in s:\n",
    "        if i.isupper(): answer += 1\n",
    "    return answer\n",
    "\n",
    "strings = []\n",
    "while True:\n",
    "    s = input()\n",
    "    if s == \"stop\" or s == \"q\":\n",
    "        break\n",
    "    else:\n",
    "        strings.append(s)\n",
    "t = tuple(x for x in strings)\n",
    "\n",
    "\n",
    "d = dict()\n",
    "for i in t:\n",
    "    d[i] = uppers(i)\n",
    "d"
   ]
  },
  {
   "cell_type": "markdown",
   "metadata": {
    "id": "OsAcKDIlXMRS"
   },
   "source": [
    "2. Разработайте программу, которая:</br>а) создает кортеж, содержащий различные типы данных (строки, числа, списки и т. д.);</br>б) распаковывает список кортежей, содержащих различные типы данных, в отдельные списки, сортируя их по типу данных."
   ]
  },
  {
   "cell_type": "code",
   "execution_count": 25,
   "metadata": {},
   "outputs": [
    {
     "name": "stdout",
     "output_type": "stream",
     "text": [
      "[[0, 0.0, 0j, b'z', ''], [[], {}, set(), ()], [True, None]]\n"
     ]
    }
   ],
   "source": [
    "t = (\n",
    "    int(),\n",
    "    float(),\n",
    "    complex(),\n",
    "    b\"z\",\n",
    "    str(),\n",
    "    [],\n",
    "    {},\n",
    "    set(),\n",
    "    tuple(),\n",
    "    True,\n",
    "    None\n",
    ")\n",
    "q = [[],[],[]]\n",
    "for i in t:\n",
    "    if type(i) in [int, float, complex, bytes, str]:\n",
    "        q[0].append(i)\n",
    "    elif type(i) in [set, list, tuple, dict]:\n",
    "        q[1].append(i)\n",
    "    else:\n",
    "        q[2].append(i)\n",
    "print(q)"
   ]
  },
  {
   "cell_type": "markdown",
   "metadata": {
    "id": "TrqZ_QCRXPtJ"
   },
   "source": [
    "3. Разработайте программу, которая:</br>а) создает кортеж из чисел, введенных пользователем, и выводит на экран первый элемент;</br>б) переворачивает элементы кортежа в обратном порядке и выводит результат, удаляя все числа, кратные 3."
   ]
  },
  {
   "cell_type": "code",
   "execution_count": null,
   "metadata": {},
   "outputs": [
    {
     "name": "stdout",
     "output_type": "stream",
     "text": [
      "2\n",
      "6\n",
      "5\n",
      "3\n",
      "1\n"
     ]
    }
   ],
   "source": [
    "#type 1\n",
    "nums = []\n",
    "while True:\n",
    "    x = input()\n",
    "    if x == \"stop\" or x == \"q\": break\n",
    "    try:\n",
    "        nums.append(x)\n",
    "    except ValueError:\n",
    "        print(\"Это не число\")\n",
    "t = tuple(x for x in nums)\n",
    "for i in t[::-1]:\n",
    "    if i%3!=0: print(i)"
   ]
  },
  {
   "cell_type": "code",
   "execution_count": null,
   "metadata": {},
   "outputs": [],
   "source": [
    "#type 2\n",
    "nums = []\n",
    "for i in range(int(input())):\n",
    "    nums.append(i)\n",
    "t = tuple(nums)\n",
    "for i in t[::-1]:\n",
    "    if i % 3 == 0:\n",
    "        ...\n",
    "    else:\n",
    "        print(i)"
   ]
  },
  {
   "cell_type": "markdown",
   "metadata": {
    "id": "TV8K37wsXSjP"
   },
   "source": [
    "4. Разработайте программу, которая:</br>а) распаковывает кортеж в несколько переменных и выводит их на экран;</br>б) преобразует список кортежей в словарь, где каждый кортеж становится парой ключ-значение, сортируя словарь по значениям."
   ]
  },
  {
   "cell_type": "code",
   "execution_count": null,
   "metadata": {},
   "outputs": [
    {
     "name": "stdout",
     "output_type": "stream",
     "text": [
      "1\n",
      "[2, 3]\n",
      "4\n"
     ]
    }
   ],
   "source": [
    "t = tuple([1,2,3,4])\n",
    "first, *midle, last = t\n",
    "print(first)\n",
    "print(midle)\n",
    "print(last)\n",
    "\n",
    "\n",
    " "
   ]
  },
  {
   "cell_type": "markdown",
   "metadata": {
    "id": "IpPkCE-QXVOx"
   },
   "source": [
    "5. Разработайте программу, которая:</br>а) добавляет элемент, введенный пользователем, в уже существующий кортеж;</br>б) выводит на экран форматированный кортеж, где каждый элемент представлен в виде строки с обратной последовательностью символов."
   ]
  },
  {
   "cell_type": "code",
   "execution_count": 6,
   "metadata": {},
   "outputs": [
    {
     "name": "stdout",
     "output_type": "stream",
     "text": [
      "(1, 2, 3, 4)\n",
      "('virp', 'lol', 'gmo')\n"
     ]
    }
   ],
   "source": [
    "t = tuple([1,2,3])\n",
    "t = t + tuple([int(input())])\n",
    "print(t)\n",
    "\n",
    "def b(t):\n",
    "    return tuple([x[::-1] for x in t])\n",
    "print(b(tuple([\"priv\", \"lol\", \"omg\"])))"
   ]
  },
  {
   "cell_type": "markdown",
   "metadata": {
    "id": "laqk93PPXb1O"
   },
   "source": [
    "6. Разработайте программу, которая:</br>а) преобразует кортеж в строку с использованием разделителя, введенного пользователем;</br>б) заменяет последний элемент в каждом кортеже в списке кортежей на значение, введенное пользователем, только если последний элемент является числом."
   ]
  },
  {
   "cell_type": "code",
   "execution_count": 5,
   "metadata": {},
   "outputs": [
    {
     "name": "stdout",
     "output_type": "stream",
     "text": [
      "1zz2zz3zz4\n",
      "((1, 2, 3), 'd')\n",
      "(1, 2, 3, 'f')\n"
     ]
    }
   ],
   "source": [
    "def a(t: tuple):\n",
    "    spl = input()\n",
    "    answer = \"\"\n",
    "    for i in range(len(t) - 1):\n",
    "        answer += str(t[i]) + spl\n",
    "    answer += str(t[-1])\n",
    "    return answer\n",
    "\n",
    "def b(t: tuple):\n",
    "    if type(t[-1]) in [int, float, complex]:\n",
    "        return tuple([t[:-1], input()])\n",
    "    else:\n",
    "        return t\n",
    "\n",
    "\n",
    "test_a = tuple([1,2,3,4])\n",
    "test_b_1 = tuple([1,2,3,4])\n",
    "test_b_2 = tuple([1,2,3,\"f\"])\n",
    "\n",
    "print(a(test_a))\n",
    "print(b(test_b_1))\n",
    "print(b(test_b_2))\n"
   ]
  },
  {
   "cell_type": "markdown",
   "metadata": {
    "id": "oL2iDYklXfHJ"
   },
   "source": [
    "7. Разработайте программу, которая:</br>а) выводит на экран четвертый элемент кортежа с начала и четвертый элемент с конца;</br>б) удаляет все пустые кортежи из списка кортежей, заменяя их на кортежи, содержащие случайные числа."
   ]
  },
  {
   "cell_type": "code",
   "execution_count": null,
   "metadata": {},
   "outputs": [],
   "source": [
    "def a(t: tuple):\n",
    "    ..."
   ]
  },
  {
   "cell_type": "markdown",
   "metadata": {
    "id": "mLGpStwDXhYv"
   },
   "source": [
    "8. Разработайте программу, которая:</br>а) создает кортеж словарей, где каждый словарь содержит данные, введенные пользователем;</br>б) сортирует кортеж по элементу, являющемуся числом с плавающей точкой, и выводит результат в обратном порядке."
   ]
  },
  {
   "cell_type": "markdown",
   "metadata": {
    "id": "FO8R687PXj6e"
   },
   "source": [
    "9. Разработайте программу, которая:</br>а) ищет и выводит повторяющиеся элементы кортежа;</br>б) подсчитывает количество элементов в списке до тех пор, пока не встретится кортеж, и выводит сумму всех найденных элементов."
   ]
  },
  {
   "cell_type": "markdown",
   "metadata": {
    "id": "ymPr0S5WXnSH"
   },
   "source": [
    "10. Разработайте программу, которая:</br>а) проверяет, содержит ли кортеж элемент, заданный пользователем, и выводит количество его вхождений;</br>б) преобразует список строк, введенных пользователем, в кортеж, удаляя все повторяющиеся элементы."
   ]
  },
  {
   "cell_type": "markdown",
   "metadata": {
    "id": "CNF0s4f8Xp5M"
   },
   "source": [
    "11. Разработайте программу, которая:</br>а) преобразует список, введенный пользователем, в кортеж;</br>б) перемножает все числа заданного кортежа и выводит результат, учитывая только числа, кратные 2."
   ]
  },
  {
   "cell_type": "markdown",
   "metadata": {
    "id": "SY4yQXUMXsP5"
   },
   "source": [
    "12. Разработайте программу, которая:</br>а) удаляет из кортежа элемент, заданный пользователем;</br>б) вычисляет среднее значение чисел в каждом кортеже в заданном кортеже кортежей, учитывая только числа, большие 5."
   ]
  },
  {
   "cell_type": "markdown",
   "metadata": {
    "id": "k9ahnhMkXuyR"
   },
   "source": [
    "13. Разработайте программу, которая:</br>а) выводит на экран срез кортежа, заданный пользователем, удаляя все элементы, являющиеся строками;</br>б) преобразует кортеж строковых значений в кортеж целочисленных значений, удаляя все отрицательные числа."
   ]
  },
  {
   "cell_type": "markdown",
   "metadata": {
    "id": "0syx_taUXxaC"
   },
   "source": [
    "14. Разработайте программу, которая:</br>а) ищет порядковый номер заданного пользователем элемента кортежа, учитывая только элементы, являющиеся числами;</br>б) преобразует заданный кортеж положительных целых чисел в одно большое целое число, учитывая только числа, кратные 3."
   ]
  },
  {
   "cell_type": "markdown",
   "metadata": {
    "id": "i_iqTa_LXz-h"
   },
   "source": [
    "15. Разработайте программу, которая:</br>а) определяет длину кортежа и выводит ее на экран, учитывая только элементы, являющиеся строками;</br>б) проверяет, присутствует ли указанный пользователем элемент в кортеже кортежей, и выводит количество его вхождений."
   ]
  },
  {
   "cell_type": "markdown",
   "metadata": {
    "id": "J8W2WrivJLmB"
   },
   "source": [
    "#### <font color='LightCoral'> **ЗАДАНИЕ 13.** Множества."
   ]
  },
  {
   "cell_type": "markdown",
   "metadata": {
    "id": "gEu2WbRobxso"
   },
   "source": [
    "1. Примените структуру данных множества для решения следующих задач:</br>а) Создать множества, содержащие встречающиеся в заданной последовательности символов цифры и знаки арифметических операций, а также буквы от «A» до «F» и от «X» до «Z».</br>б) В магазине есть 20 различных товаров, каждый из которых имеет свой уникальный код. Необходимо написать программу, которая будет определять, какие товары отсутствуют в заданном списке кодов товаров."
   ]
  },
  {
   "cell_type": "code",
   "execution_count": 5,
   "metadata": {},
   "outputs": [
    {
     "name": "stdout",
     "output_type": "stream",
     "text": [
      "{0, 4, 5, 6, 7, 8, 9, 10, 11, 12, 13, 14, 15, 16, 17, 18, 19}\n"
     ]
    }
   ],
   "source": [
    "from string import (\n",
    "    ascii_lowercase,\n",
    "    digits,\n",
    "    )\n",
    "s = set([*ascii_lowercase, *digits, *\"+-/*\"])\n",
    "s\n",
    "\n",
    "full_items = set(x for x in range(20))\n",
    "test_items = set([1,2,3])\n",
    "for i in test_items:\n",
    "    if i in full_items:\n",
    "        full_items.remove(i)\n",
    "print(full_items)"
   ]
  },
  {
   "cell_type": "markdown",
   "metadata": {
    "id": "WN2-QfjdbzEJ"
   },
   "source": [
    "2. Примените структуру данных множества для решения следующих задач:</br>а) Используя множества, определить количество цифр и знаков «+», «–», «*» в пользовательском вводе.</br>б) Даны два списка чисел. Необходимо определить, какие элементы присутствуют в обоих списках и вывести их на экран."
   ]
  },
  {
   "cell_type": "markdown",
   "metadata": {
    "id": "P3HDtKYwcAXW"
   },
   "source": [
    "3. Примените структуру данных множества для решения следующих задач:</br>а) Сформировать множество строчных латинских букв из пользовательского ввода и подсчитать количество знаков препинания в этом вводе.</br>б) Даны два множества $A$ и $B$, содержащих некоторые элементы. Необходимо определить, является ли множество $A$ подмножеством множества $B$."
   ]
  },
  {
   "cell_type": "markdown",
   "metadata": {
    "id": "9nnDozRqcBNA"
   },
   "source": [
    "4. Примените структуру данных множества для решения следующих задач:</br>а) Используя множества, определить общие буквы для трёх заданных предложений.</br>б) В базе данных содержится информация о студентах двух университетов. Каждый студент имеет уникальный идентификационный номер и список предметов, которые он изучает. Необходимо написать программу, которая будет определять, какие предметы изучают только студенты одного университета."
   ]
  },
  {
   "cell_type": "markdown",
   "metadata": {
    "id": "rJ-alxKfcEQm"
   },
   "source": [
    "5. Примените структуру данных множества для решения следующих задач:</br>а) Используя множества, найти наибольшую цифру среди трёх заданных целых чисел.</br>б) Даны два множества $A$ и $B$, содержащих некоторые элементы. Необходимо определить, какие элементы присутствуют только в одном из множеств (исключая общие элементы и вывести их на экран)."
   ]
  },
  {
   "cell_type": "markdown",
   "metadata": {
    "id": "yDl5w-lVcGoG"
   },
   "source": [
    "6. Примените структуру данных множества для решения следующих задач:</br>а) Используя множества, подсчитать количество уникальных цифр в заданной строке и вывести их.</br>б) В базе данных содержится информация о покупках пользователей интернет-магазина. Каждая покупка имеет уникальный номер и список купленных товаров. Необходимо написать программу, которая будет определять, какие товары были куплены только одним пользователем и выводить их на экран."
   ]
  },
  {
   "cell_type": "markdown",
   "metadata": {
    "id": "XVvSC76McIj3"
   },
   "source": [
    "7. Примените структуру данных множества для решения следующих задач:</br>а) Используя множества, определить уникальные буквы для трёх заданных предложений.</br>б) Даны два множества $A$ и $B$, содержащих некоторые элементы. Необходимо определить, являются ли эти множества непересекающимися (то есть не имеют общих элементов)."
   ]
  },
  {
   "cell_type": "markdown",
   "metadata": {
    "id": "z6cj_Gi1cLfG"
   },
   "source": [
    "8. Примените структуру данных множества для решения следующих задач:</br>а) Используя множества, проверить, можно ли составить третью строку из символов первых двух строк.</br>б) Дан список сотрудников компании, каждый из которых имеет уникальный идентификационный номер и список навыков, которыми он обладает. Необходимо определить, какие навыки есть только у одного сотрудника."
   ]
  },
  {
   "cell_type": "markdown",
   "metadata": {
    "id": "tn_-w9eTcOAs"
   },
   "source": [
    "9. Примените структуру данных множества для решения следующих задач:</br>а) Используя множества, вывести все уникальные строчные русские гласные буквы из заданного текста в алфавитном порядке.</br>б) В базе данных содержится информация о продуктах в интернет-магазине. Каждый продукт имеет уникальный идентификационный номер и список категорий, к которым он относится. Необходимо написать программу, которая будет определять, в каких категориях есть только один продукт."
   ]
  },
  {
   "cell_type": "markdown",
   "metadata": {
    "id": "FiF5B0X9cQR7"
   },
   "source": [
    "10. Примените структуру данных множества для решения следующих задач:</br>а) Используя множества, вывести все уникальные цифры из десятичной записи заданного числа в возрастающем порядке.</br>б) Даны два множества $A$ и $B$, содержащих некоторые элементы. Необходимо определить, является ли множество $A$ строгим подмножеством множества $B$ (то есть все элементы множества $A$ также присутствуют в множестве $B$, но множество $B$ содержит дополнительные элементы)."
   ]
  },
  {
   "cell_type": "markdown",
   "metadata": {
    "id": "xORI-XudcSRm"
   },
   "source": [
    "11. Примените структуру данных множества для решения следующих задач:</br>а) Используя множества, определить, каких букв больше в заданном тексте — гласных или согласных.</br>б) В базе данных содержится информация о заказах в интернет-магазине. Каждый заказ имеет уникальный номер и список товаров, которые были заказаны. Необходимо написать программу, которая будет определять, какие товары были заказаны только в определенный день."
   ]
  },
  {
   "cell_type": "markdown",
   "metadata": {
    "id": "q3EXZ9jzcV5K"
   },
   "source": [
    "12. Примените структуру данных множества для решения следующих задач:</br>а) Используя множества, вывести все цифры, которые не встречаются в записи заданного натурального числа, в возрастающем порядке.</br>б) Даны два множества $A$ и $B$, содержащих некоторые элементы. Необходимо определить, является ли множество $A$ надмножеством множества $B$ (то есть все элементы множества $B$ также присутствуют в множестве $A$, но множество $A$ может содержать дополнительные элементы)."
   ]
  },
  {
   "cell_type": "markdown",
   "metadata": {
    "id": "OCdcArjLcXFG"
   },
   "source": [
    "13. Примените структуру данных множества для решения следующих задач:</br>а) Создать программу, которая удалит из первого множества все элементы, которые пересекаются со вторым множеством.</br>б) В базе данных содержится информация о покупках пользователей интернет-магазина. Каждая покупка имеет уникальный номер и список купленных товаров. Необходимо написать программу, которая будет определять, какие товары были куплены хотя бы одним пользователем."
   ]
  },
  {
   "cell_type": "markdown",
   "metadata": {
    "id": "jrd7x47RcZ4i"
   },
   "source": [
    "14. Примените структуру данных множества для решения следующих задач:</br>а) Используя множества, вывести все согласные буквы, которые не встречаются в заданном тексте, в алфавитном порядке.</br>б) Даны два множества $A$ и $B$, содержащих некоторые элементы. Необходимо определить, являются ли эти множества равными (то есть содержат одни и те же элементы)."
   ]
  },
  {
   "cell_type": "markdown",
   "metadata": {
    "id": "3jP-nAF8ccME"
   },
   "source": [
    "15. Примените структуру данных множества для решения следующих задач:</br>а) Проверить, имеют ли два заданных множества общие элементы.</br>б) В базе данных содержится информация о студентах двух университетов. Каждый студент имеет уникальный идентификационный номер и список предметов, которые он изучает. Необходимо написать программу, которая будет определять, какие предметы изучают только студенты обоих университетов."
   ]
  },
  {
   "cell_type": "code",
   "execution_count": null,
   "metadata": {},
   "outputs": [
    {
     "name": "stdout",
     "output_type": "stream",
     "text": [
      "True\n",
      "False\n"
     ]
    }
   ],
   "source": [
    "def a(s1, s2):\n",
    "    for i in s1:\n",
    "        if i in s2:\n",
    "            return True\n",
    "    return False\n",
    "set1 = set([1,2,3])\n",
    "set2 = set([3,4,5])\n",
    "set3 = set([1,2,3])\n",
    "set4 = set([4,5,6])\n",
    "print(a(set1, set2))\n",
    "print(a(set3, set4))\n",
    "\n",
    "def b(students1, students2):\n",
    "    sub1, sub2 = set(), set()\n",
    "    for i in students1:\n",
    "        sub1.add(i[1])\n",
    "    for i in students2:\n",
    "        sub2.add(i[1])\n",
    "    answer = set()\n",
    "    for i in sub1:\n",
    "        if i in sub2:\n",
    "            answer.add(i)\n",
    "    if len(answer) == 0: return \"Нет пересечений\"\n",
    "    return answer\n",
    "\n"
   ]
  },
  {
   "cell_type": "markdown",
   "metadata": {
    "id": "nbrmNnQkSqTF"
   },
   "source": [
    "### <font color='CadetBlue'> **II** —  ноябрь, декабрь"
   ]
  },
  {
   "cell_type": "markdown",
   "metadata": {
    "id": "eEfJ3hdacn2O"
   },
   "source": [
    "#### <font color='LightCoral'> **ЗАДАНИЕ 14.** Функции."
   ]
  },
  {
   "cell_type": "markdown",
   "metadata": {
    "id": "2qtxovtzkokd"
   },
   "source": [
    "1. Описать функцию `Mean`, вычисляющую среднее арифметическое `AMean` и среднее геометрическое `GMean` двух положительных чисел $X$ и $Y$ формулам: `AMean = (X + Y)/2`, `GMean = X * Y`."
   ]
  },
  {
   "cell_type": "markdown",
   "metadata": {
    "id": "VC2z5Pm9kq_N"
   },
   "source": [
    "2. Описать функцию `Circle`, находящую площадь и длину окружности круга радиуса $R$."
   ]
  },
  {
   "cell_type": "markdown",
   "metadata": {
    "id": "hDWBY0Hikv4o"
   },
   "source": [
    "3. Описать функцию `TrianglePS`, вычисляющую по стороне a равностороннего треугольника его периметр $P = 3a$ и площадь $S = 3/4a^2$."
   ]
  },
  {
   "cell_type": "markdown",
   "metadata": {
    "id": "nbheKb6-k62P"
   },
   "source": [
    "4. Описать функцию `RingS`, находящую площадь кольца, заключённого между двумя окружностями с общим центром и радиусами $R_1$ и $R_2$.\n"
   ]
  },
  {
   "cell_type": "markdown",
   "metadata": {
    "id": "5hiGJWdxlINt"
   },
   "source": [
    "5. Описать функцию `RectPS`, вычисляющую периметр $P$ и площадь $S$ прямоугольника со сторонами, параллельными осям координат, по координатам $(x_1, y_1)$, $(x_2, y_2)$ его противоположных вершин.\n"
   ]
  },
  {
   "cell_type": "markdown",
   "metadata": {
    "id": "W0tG3MahlcGN"
   },
   "source": [
    "6. Описать функцию `TriangleP`, находящую периметр равнобедренного треугольника по его основанию $a$ и высоте $h$, проведенной к основанию. Для нахождения боковой стороны $b$ треугольника использовать теорему Пифагора: $b^2 = (a/2)^2 + h^2$.\n"
   ]
  },
  {
   "cell_type": "markdown",
   "metadata": {
    "id": "EXT3USJ7lrmU"
   },
   "source": [
    "7. Описать функцию `InvertDigits`, меняющую порядок следования цифр целого положительного числа $K$ на обратный.\n"
   ]
  },
  {
   "cell_type": "markdown",
   "metadata": {
    "id": "3QVlX_NMlyRc"
   },
   "source": [
    "8. Описать функцию `SumRange`, находящую сумму всех целых чисел от $A$ до $B$ включительно ($A$ и $B$ — целые). Если $A>B$, то функция возвращает $0$.\n"
   ]
  },
  {
   "cell_type": "markdown",
   "metadata": {
    "id": "Vhmvmq_BmMvE"
   },
   "source": [
    "9. Описать функцию `TypeTrl`, которая позволяет по заданным координатами вершин треугольника определить вид треугольника (равнобедренный, равносторонний, прямоугольный или обычный)."
   ]
  },
  {
   "cell_type": "markdown",
   "metadata": {
    "id": "vQUjEqh-mSUp"
   },
   "source": [
    "10. Описать функцию `Quarter`, определяющую номер координатной четверти, в которой находится точка с ненулевыми вещественными координатами $(x, y)$.\n"
   ]
  },
  {
   "cell_type": "markdown",
   "metadata": {
    "id": "wL7onBOfmV5A"
   },
   "source": [
    "11. Описать функцию `DigitCountSum`, находящую количество цифр целого положительного числа $K$, а также их сумму $S$.\n"
   ]
  },
  {
   "cell_type": "markdown",
   "metadata": {
    "id": "GiJfeDkRmeJu"
   },
   "source": [
    "12. Описать функцию `Calc`, выполняющую над ненулевыми вещественными числами $A$ и $B$ одну из арифметических операций и возвращающую её результат. Вид операции определяется целым параметром `Op`: `1` — вычитание, `2` — умножение, `3` — деление, остальные значения — сложение.\n"
   ]
  },
  {
   "cell_type": "markdown",
   "metadata": {
    "id": "eqNe-jKEmpMR"
   },
   "source": [
    "13. Описать функцию `LuckyNum`, которая позволяет определить, является ли четырёхзначный номер счастливым. Счастливым называется номер, у которого сумма первых двух цифр номера равна сумме последних двух цифр. Получить все четырёхзначные счастливые номера."
   ]
  },
  {
   "cell_type": "markdown",
   "metadata": {
    "id": "AoCkpJ8jmujh"
   },
   "source": [
    "14. Описать функцию `DegToRad`, находящую величину угла в радианах, если дана его величина $D$ в градусах ($0 < D < 360$). Воспользоваться следующим соотношением: $180°= π$ радианов.\n"
   ]
  },
  {
   "cell_type": "markdown",
   "metadata": {
    "id": "p2DvhHcbm6hS"
   },
   "source": [
    "15. Описать функцию `IsLeapYear`, определяющую, является ли год $Y$ високосным. Високосным считается год, делящийся на 4, за исключением тех годов, которые делятся на 100 и не делятся на 400."
   ]
  },
  {
   "cell_type": "markdown",
   "metadata": {
    "id": "XdpHm6SQco3u"
   },
   "source": [
    "#### <font color='LightCoral'> **ЗАДАНИЕ 15.** Функции."
   ]
  },
  {
   "cell_type": "markdown",
   "metadata": {
    "id": "wD9I7kwXnDBn"
   },
   "source": [
    "1. Описать функцию `RemoveRowCol`, удаляющую из матрицы $A$ размера $M×N$ строку и столбец, которые содержат элемент $A_{K, L}$ (предполагается, что $M > 1$ и $N > 1$; если $K > M$ или $L > N$, то матрица не изменяется).\n"
   ]
  },
  {
   "cell_type": "markdown",
   "metadata": {
    "id": "TcK7zZgkncR5"
   },
   "source": [
    "2. Описать функцию `Split`, формирующую по заданному списку $A$ два новых списка $B$ и $C$; при этом список $B$ содержит все чётные числа из списка $A$, а список $C$ — все нечётные числа (в том же порядке).\n"
   ]
  },
  {
   "cell_type": "markdown",
   "metadata": {
    "id": "DlOynSUsnmzX"
   },
   "source": [
    "3. Описать функцию `SwapRow`, осуществляющую перемену местами строк вещественной матрицы $A$ размера $M×N$ с номерами $K_1$ и $K_2$.\n"
   ]
  },
  {
   "cell_type": "markdown",
   "metadata": {
    "id": "guGVn1_WnxlP"
   },
   "source": [
    "4. Описать функцию `Transp`, выполняющую транспонирование (то есть зеркальное отражение относительно главной диагонали) квадратной матрицы $A$ порядка $M$.\n"
   ]
  },
  {
   "cell_type": "markdown",
   "metadata": {
    "id": "pe1hvT_An4qy"
   },
   "source": [
    "5. Описать функцию `MtrProd`, вычисляющую произведение двух матриц."
   ]
  },
  {
   "cell_type": "markdown",
   "metadata": {
    "id": "QHU8zp_QnDMU"
   },
   "source": [
    "6. Описать функцию `SumMtr`, вычисляющую сумму двух матриц."
   ]
  },
  {
   "cell_type": "markdown",
   "metadata": {
    "id": "mOPq9x6Kn_01"
   },
   "source": [
    "7. Дана квадратная матрица. Вычислить сумму элементов главной или побочной диагонали в зависимости от выбора пользователя. Сумма элементов любой диагонали должна вычисляться в одной и той же функции."
   ]
  },
  {
   "cell_type": "markdown",
   "metadata": {
    "id": "QkV8R1QBoGOd"
   },
   "source": [
    "8. Описать функцию `RemoveRows`, удаляющую из матрицы $A$ размера $M×N$ строки с номерами от $K_1$ до $K_2$ включительно (предполагается, что $1 < K_1 ≤ K_2$). Если $K_1 > M$, то матрица не изменяется; если $K_2 > M$, то удаляются строки матрицы с номерами от $K_1$ до $M$."
   ]
  },
  {
   "cell_type": "markdown",
   "metadata": {
    "id": "-so_iVlKpTLe"
   },
   "source": [
    "9. Описать функцию `InvertStr`, возвращающую инвертированную подстроку строки $S$, содержащую в обратном порядке $N$ символов строки $S$, начиная с её $K$-го символа. Если $K$ превосходит длину строки $S$, то возвращается пустая строка; если длина строки меньше $K + N$, то инвертируются все символы строки, начиная с её $K$-го символа."
   ]
  },
  {
   "cell_type": "markdown",
   "metadata": {
    "id": "L14050dKpcdw"
   },
   "source": [
    "10. Описать функцию `SwapCol`, осуществляющую перемену местами столбцов матрицы $A$ размера $M×N$ с номерами $K_1$ и $K_2$."
   ]
  },
  {
   "cell_type": "markdown",
   "metadata": {
    "id": "GjCNOlerpnjZ"
   },
   "source": [
    "11. Описать функцию `CompressStr`, выполняющую сжатие строки $S$ по следующему правилу: каждая подстрока строки $S$, состоящая из более чем четырёх одинаковых символов $C$, заменяется текстом вида `C{K}`, где $K$ — количество символов $C$ (предполагается, что строка $S$ не содержит фигурных скобок `{` и  `}`). Например, для строки `S = bbbccccce` функция вернет строку `bbbc{5}e`.\n"
   ]
  },
  {
   "cell_type": "markdown",
   "metadata": {
    "id": "xLCqWoqpp7EE"
   },
   "source": [
    "12. Описать функцию `IsIdent`, проверяющую, является ли строка `S` допустимым идентификатором, то есть непустой строкой, которая содержит только латинские буквы, цифры и символ подчеркивания `_` и не начинается с цифры.\n"
   ]
  },
  {
   "cell_type": "markdown",
   "metadata": {
    "id": "dKg849rUuWD9"
   },
   "source": [
    "13. Описать функцию `Chessboard`, формирующую по целым положительным числам $M$ и $N$ матрицу $A$ размера $M×N$, которая содержит числа 0 и 1, расположенные в «шахматном» порядке, причём $A_{00} = 0$."
   ]
  },
  {
   "cell_type": "markdown",
   "metadata": {
    "id": "1nvV7wLJvF5M"
   },
   "source": [
    "14. Описать функцию `Bell`, меняющую порядок элементов списка $L$ на следующий: наименьший элемент списка располагается на первом месте, наименьший из оставшихся элементов — на последнем, следующий по величине располагается на втором месте, следующий — на предпоследнем и т.д. (в результате график значений элементов будет напоминать колокол).\n"
   ]
  },
  {
   "cell_type": "markdown",
   "metadata": {
    "id": "37f25fjovPly"
   },
   "source": [
    "15. Описать функцию `RemoveCols`, удаляющую из матрицы $A$ размера $M×N$ столбцы с номерами от $K_1$ до $K_2$ включительно (предполагается, что $1 < K_1 ≤ K_2$). Если $K_1 > N$, то матрица не изменяется; если $K_2 > N$, то удаляются столбцы матрицы с номерами от $K_1$ до $N$."
   ]
  },
  {
   "cell_type": "markdown",
   "metadata": {
    "id": "DfIGsLWPwH6D"
   },
   "source": [
    "#### <font color='LightCoral'> **ЗАДАНИЕ 16.** Функции: необязательные параметры, неопределенное количество параметров"
   ]
  },
  {
   "cell_type": "markdown",
   "metadata": {
    "id": "dHb49L-C0Ab_"
   },
   "source": [
    "1. <br>а) Напишите функцию `full_name`, которая принимает обязательные параметры `first_name` (имя) и `last_name` (фамилия), а также необязательный параметр `middle_name` (отчество). Функция должна возвращать полное имя человека в формате: если `middle_name` указан: `\"Фамилия Имя Отчество\"`; если `middle_name` не указан: `\"Фамилия Имя\"`. *Примеры вызова и возвращаемые результаты:*\n",
    "<br>`full_name('Иван', 'Петров')` → `'Петров Иван'`\n",
    "<br>`full_name('Мария', 'Сидорова', middle_name='Алексеевна')` → `'Сидорова Мария Алексеевна'`\n",
    "<br><br>б) Создайте функцию `transform_list`, которая принимает список чисел `numbers` и необязательный параметр `transform_function`. Если `transform_function` указан, функция должна применить его к каждому элементу списка и вернуть новый список с преобразованными элементами. Если `transform_function` не указан, функция должна вернуть копию исходного списка без изменений. *Примеры вызова и возвращаемые результаты:* <br>`transform_list([1, 2, 3])` → `[1, 2, 3]` <br>`transform_list([1, 2, 3], transform_function=lambda x: x * 2)` → `[2, 4, 6]`\n",
    "<br><br>в) Напишите функцию `sum_positive_numbers`, которая принимает произвольное количество числовых аргументов и возвращает сумму только положительных чисел из переданных аргументов. *Примеры вызова и возвращаемые результаты:* <br>`sum_positive_numbers(1, -2, 3, -4, 5)` → `9`\n",
    "<br>`sum_positive_numbers(-1, -2, -3)` → `0`\n",
    "<br><br>г) Создайте функцию `common_keys`, которая принимает произвольное количество словарей в виде именованных аргументов (например, `dict1`, `dict2` и т.д.) и возвращает новый словарь, содержащий только те ключи и значения, которые присутствуют во всех переданных словарях. *Примеры вызова и возвращаемые результаты:* <br>`common_keys(dict1={'a': 1, 'b': 2}, dict2={'b': 2, 'c': 3})` → `{'b': 2}`\n",
    "<br>`common_keys(dict1={'x': 5, 'y': 6}, dict2={'y': 6, 'z': 7}, dict3={'y': 6, 'w': 8})` → `{'y': 6}`"
   ]
  },
  {
   "cell_type": "markdown",
   "metadata": {
    "id": "msfE54KT0B0R"
   },
   "source": [
    "2. <br>а) Реализуйте функцию `sort_numbers`, которая принимает список чисел `numbers` и необязательный параметр `reverse_order`. Если `reverse_order` установлен в `True`, функция должна вернуть список, отсортированный по убыванию. Если `reverse_order` не указан или установлен в `False`, функция должна вернуть список, отсортированный по возрастанию. *Примеры вызова и возвращаемые результаты:* <br>`sort_numbers([4, 2, 5, 1, 3])` → `[1, 2, 3, 4, 5]`\n",
    "<br>`sort_numbers([4, 2, 5, 1, 3], reverse_order=True)` → `[5, 4, 3, 2, 1]`\n",
    "<br><br>б) Напишите функцию `uppercase_text`, которая принимает обязательный параметр `text` (строка) и необязательный параметр `separator` (символ-разделитель, по умолчанию — пробел). Функция должна разбить строку `text` по разделителю `separator`, преобразовать каждое слово в верхний регистр и вернуть новую строку, в которой слова объединены тем же разделителем. *Примеры вызова и возвращаемые результаты:* <br>`uppercase_text('hello world')` → `'HELLO WORLD'`\n",
    "<br>`uppercase_text('python,java,c++', separator=',')` → `'PYTHON,JAVA,C++'`\n",
    "<br><br>в) Создайте функцию `multiply_all`, которая принимает произвольное количество числовых аргументов и возвращает их произведение. *Примеры вызова и возвращаемые результаты:* <br>`multiply_all(1, 2, 3, 4)` → `24`\n",
    "<br>`multiply_all(5, 10)` → `50`\n",
    "<br><br>г) Напишите функцию `filter_strings`, которая принимает список строк `strings` и произвольное количество именованных параметров-критериев. Критерии могут быть следующими: `min_length` — минимальная длина строки, `starts_with` — символ или строка, с которой должна начинаться строка, `ends_with` — символ или строка, которой должна оканчиваться строка. Функция должна вернуть новый список строк, удовлетворяющих всем заданным критериям. *Примеры вызова и возвращаемые результаты:* <br>`filter_strings(['яблоко', 'вишня', 'киви'], min_length=6)` → `['яблоко']`\n",
    "<br>`filter_strings(['test', 'text', 'tent'], starts_with='te', ends_with='t')` → `['test', 'tent']`"
   ]
  },
  {
   "cell_type": "markdown",
   "metadata": {
    "id": "8OB7yQa90Jny"
   },
   "source": [
    "3. <br>а) Напишите функцию `split_string`, которая принимает строку `text` и необязательный параметр `delimiter` (по умолчанию — пробел). Функция должна разделить строку `text` по разделителю `delimiter` и вернуть список полученных подстрок. *Примеры вызова и возвращаемые результаты:* <br>`split_string('яблоко виноград дыня')` → `['яблоко', 'виноград', 'дыня']`\n",
    "<br>`split_string('one,two,three', delimiter=',')` → `['one', 'two', 'three']`\n",
    "<br><br>б) Создайте функцию `compare_elements`, которая принимает два списка `list1` и `list2`, а также необязательный параметр `comparison_function`. Функция должна сравнить элементы из `list1` и `list2` по индексам, используя `comparison_function`, и вернуть список пар элементов, для которых функция сравнения вернула `True`. Если `comparison_function` не указана, сравнение должно осуществляться на равенство элементов. *Примеры вызова и возвращаемые результаты:* <br>`compare_elements([1, 2, 3], [1, 4, 3])` → `[(1, 1), (3, 3)]`\n",
    "<br>`compare_elements([1, 2, 3], [4, 5, 6], comparison_function=lambda x, y: x + y > 5)` → `[(2, 5), (3, 6)]`\n",
    "<br><br>в) Реализуйте функцию `count_unique_chars`, которая принимает произвольное количество строковых аргументов и возвращает общее количество уникальных символов во всех переданных строках. *Примеры вызова и возвращаемые результаты:* <br>`count_unique_chars('hello', 'world')` → `7`\n",
    "<br>`count_unique_chars('abc', 'def', 'ghi')` → `9`\n",
    "<br><br>г) Напишите функцию `common_elements`, которая принимает произвольное количество списков и возвращает список элементов, которые присутствуют во всех переданных списках. *Примеры вызова и возвращаемые результаты:* <br>`common_elements([1, 2, 3], [2, 3, 4], [3, 4, 5])` → `[3]`\n",
    "<br>`common_elements(['a', 'b'], ['b', 'c'], ['b', 'd'])` → `['b']`"
   ]
  },
  {
   "cell_type": "markdown",
   "metadata": {
    "id": "XUxf1xrg0MnB"
   },
   "source": [
    "4. <br>а) Напишите функцию `calculate`, которая принимает два числа `a` и `b`, а также необязательный параметр `operation`. Параметр `operation` может принимать значения `'add'`, `'subtract'`, `'multiply'`, `'divide'`. Функция должна выполнить указанную операцию над числами `a` и `b`. По умолчанию операция — `'add'`. *Примеры вызова и возвращаемые результаты:* <br>`calculate(10, 5)` → `15`\n",
    "<br>`calculate(10, 5, operation='multiply')` → `50`\n",
    "<br><br>б) Реализуйте функцию `modify_strings`, которая принимает список строк `strings` и необязательный параметр `case`. Если `case` установлен в `'upper'`, функция должна вернуть новый список строк в верхнем регистре. Если `case` установлен в `'lower'`, функция должна вернуть новый список строк в нижнем регистре. Если `case` не указан, вернуть исходный список. *Примеры вызова и возвращаемые результаты:* <br>`modify_strings(['Hello', 'World'])` → `['Hello', 'World']`\n",
    "<br>`modify_strings(['Hello', 'World'], case='upper')` → `['HELLO', 'WORLD']`\n",
    "<br><br>в) Создайте функцию `average`, которая принимает произвольное количество числовых аргументов и возвращает их среднее значение. *Примеры вызова и возвращаемые результаты:* <br>`average(1, 2, 3, 4, 5)` → `3.0`\n",
    "<br>`average(10, 20)` → `15.0`\n",
    "<br><br>г) Напишите функцию `merge_dictionaries`, которая принимает один обязательный словарь и произвольное количество дополнительных словарей в виде именованных аргументов. Функция должна объединить все словари в один, при этом значения ключей из дополнительных словарей должны перезаписывать значения из предыдущих словарей, если ключи совпадают. Верните итоговый объединённый словарь. *Примеры вызова и возвращаемые результаты:* <br>`merge_dictionaries({'a': 1, 'b': 2}, dict1={'b': 3, 'c': 4})` → `{'a': 1, 'b': 3, 'c': 4}`\n",
    "<br>`merge_dictionaries({'x': 5}, dict1={'y': 6}, dict2={'z': 7})` → `{'x': 5, 'y': 6, 'z': 7}`"
   ]
  },
  {
   "cell_type": "markdown",
   "metadata": {
    "id": "5YMXSJb10Svl"
   },
   "source": [
    "5. <br>а) Реализуйте функцию `filter_items`, которая принимает список `items` и необязательный параметр `condition` — функцию-критерий. Функция должна вернуть новый список, содержащий элементы, для которых функция `condition` вернула `True`. Если `condition` не указана, вернуть исходный список. *Примеры вызова и возвращаемые результаты:* <br>`filter_items([1, 2, 3, 4, 5])` → `[1, 2, 3, 4, 5]`\n",
    "<br>`filter_items([1, 2, 3, 4, 5], condition=lambda x: x > 3)` → `[4, 5]`\n",
    "<br><br>б) Напишите функцию `merge_and_filter`, которая принимает два списка `list1` и `list2`, а также необязательный параметр `filter_function`. Функция должна объединить оба списка и вернуть новый список, содержащий только элементы, для которых `filter_function` возвращает `True`. Если `filter_function` не указана, вернуть объединённый список без изменений. *Примеры вызова и возвращаемые результаты:* <br>`merge_and_filter([1, 2], [3, 4])` → `[1, 2, 3, 4]`\n",
    "<br>`merge_and_filter([1, 2], [3, 4], filter_function=lambda x: x % 2 == 0)` → `[2, 4]`\n",
    "<br><br>в) Создайте функцию `common_in_all`, которая принимает произвольное количество списков и возвращает список элементов, которые присутствуют во всех переданных списках. *Примеры вызова и возвращаемые результаты:* <br>`common_in_all([1, 2, 3], [2, 3, 4], [3, 4, 5])` → `[3]`\n",
    "<br>`common_in_all(['яблоко', 'вишня'], ['виноград', 'вишня'], ['вишня', 'дыня'])` → `['вишня']`\n",
    "<br><br>г) Реализуйте функцию `find_primes`, которая принимает произвольное количество числовых аргументов и возвращает список чисел, которые являются простыми числами. *Примеры вызова и возвращаемые результаты:* <br>`find_primes(2, 3, 4, 5, 6, 7)` → `[2, 3, 5, 7]`\n",
    "<br>`find_primes(10, 15, 17, 19, 23)` → `[17, 19, 23]`"
   ]
  },
  {
   "cell_type": "markdown",
   "metadata": {
    "id": "tTZTJpIj0VFD"
   },
   "source": [
    "6. <br>а) Напишите функцию `word_count`, которая принимает строку `text` и необязательный параметр `separator` (по умолчанию — пробел). Функция должна разбить строку `text` по разделителю `separator` и вернуть словарь, где ключи — это слова, а значения — количество их вхождений в строку. *Примеры вызова и возвращаемые результаты:* <br>`word_count('один два один')` → `{'один': 2, 'два': 1}`\n",
    "<br>`word_count('red,green,blue,red', separator=',')` → `{'red': 2, 'green': 1, 'blue': 1}`\n",
    "<br><br>б) Создайте функцию `filter_numbers`, которая принимает список чисел `numbers` и необязательный параметр `exclude_multiples_of` (число, по умолчанию — `2`). Функция должна вернуть новый список чисел, которые НЕ являются кратными числу `exclude_multiples_of`. *Примеры вызова и возвращаемые результаты:* <br>`filter_numbers([1, 2, 3, 4, 5])` → `[1, 3, 5]`\n",
    "<br>`filter_numbers([10, 15, 20, 25], exclude_multiples_of=5)` → `[]`\n",
    "<br><br>в) Реализуйте функцию `merge_and_sort_keys`, которая принимает произвольное количество словарей и возвращает список всех ключей из этих словарей, отсортированных по убыванию их соответствующих значений. Если ключи совпадают, использовать наибольшее значение. *Примеры вызова и возвращаемые результаты:* <br>`merge_and_sort_keys({'a': 2, 'b': 3}, {'a': 5, 'c': 1})` → `['a', 'b', 'c']`\n",
    "<br>`merge_and_sort_keys({'x': 10}, {'y': 5}, {'z': 15})` → `['z', 'x', 'y']`\n",
    "<br><br>г) Напишите функцию `sum_non_negative`, которая принимает произвольное количество числовых аргументов и возвращает сумму всех неотрицательных чисел. *Примеры вызова и возвращаемые результаты:* <br>`sum_non_negative(1, -2, 3, -4, 5)` → `9`\n",
    "<br>`sum_non_negative(-10, -20)` → `0`"
   ]
  },
  {
   "cell_type": "markdown",
   "metadata": {
    "id": "27aKV3_c0XD9"
   },
   "source": [
    "7. <br>а) Реализуйте функцию `join_strings`, которая принимает список строк `strings` и необязательный параметр `delimiter` (по умолчанию — запятая). Функция должна объединить элементы списка `strings` в одну строку, разделяя их с помощью `delimiter`. *Примеры вызова и возвращаемые результаты:* <br>`join_strings(['один', 'два', 'три'])` → `'один,два,три'`\n",
    "<br>`join_strings(['sun', 'moon', 'stars'], delimiter=' | ')` → `'sun | moon | stars'`\n",
    "<br><br>б) Напишите функцию `combine_lists`, которая принимает два списка `list1` и `list2`, а также необязательный параметр `join_str` (по умолчанию — пустая строка). Функция должна вернуть новый список, где каждый элемент — это конкатенация соответствующих элементов из `list1` и `list2`, разделённых строкой `join_str`. *Примеры вызова и возвращаемые результаты:* <br>`combine_lists(['a', 'b'], ['1', '2'])` → `['a1', 'b2']`\n",
    "<br>`combine_lists(['x', 'y'], ['10', '20'], join_str='-')` → `['x-10', 'y-20']`\n",
    "<br><br>в) Создайте функцию `unique_values`, которая принимает произвольное количество аргументов и возвращает список уникальных значений среди них. *Примеры вызова и возвращаемые результаты:* <br>`unique_values(1, 2, 2, 3, 3, 3)` → `[1, 2, 3]`\n",
    "<br>`unique_values('a', 'b', 'a', 'c', 'b')` → `['a', 'b', 'c']`\n",
    "<br><br>г) Реализуйте функцию `reverse_concatenate`, которая принимает произвольное количество строковых аргументов и возвращает одну строку, содержащую все входные строки, разделённые пробелом, в обратном порядке. *Примеры вызова и возвращаемые результаты:* <br>`reverse_concatenate('one', 'two', 'three')` → `'three two one'`\n",
    "<br>`reverse_concatenate('hello', 'world')` → `'world hello'`"
   ]
  },
  {
   "cell_type": "markdown",
   "metadata": {
    "id": "t2ty55Vu0e-A"
   },
   "source": [
    "8. <br>а) Напишите функцию `pair_and_filter`, которая принимает два списка `list1` и `list2`, а также необязательный параметр `filter_function`. Функция должна создать список из пар элементов `(x, y)`, где `x` из `list1`, а `y` из `list2`, для которых `filter_function(x, y)` возвращает `True`. Если `filter_function` не указан, вернуть все возможные пары. *Примеры вызова и возвращаемые результаты:* <br>`pair_and_filter([1, 2], [3, 4])` → `[(1, 3), (1, 4), (2, 3), (2, 4)]`\n",
    "<br>`pair_and_filter([1, 2], [3, 4], filter_function=lambda x, y: (x + y) % 2 == 0)` → `[(1, 3), (2, 4)]`\n",
    "<br><br>б) Создайте функцию `concat_or_upper`, которая принимает список строк `strings` и необязательный параметр `uppercase` (булево значение). Если `uppercase` установлено в `True`, функция должна вернуть одну строку, где все элементы списка соединены пробелом и преобразованы в верхний регистр. Если `uppercase` не указан или установлен в `False`, соединить элементы без изменения регистра. *Примеры вызова и возвращаемые результаты:* <br>`concat_or_upper(['hello', 'world'])` → `'hello world'`\n",
    "<br>`concat_or_upper(['hello', 'world'], uppercase=True)` → `'HELLO WORLD'`\n",
    "<br><br>в) Напишите функцию `filter_uppercase_strings`, которая принимает список строк и возвращает новый список, содержащий только те строки, которые полностью состоят из заглавных букв. *Примеры вызова и возвращаемые результаты:* <br>`filter_uppercase_strings(['HELLO', 'World', 'BYE'])` → `['HELLO', 'BYE']`\n",
    "<br>`filter_uppercase_strings(['Python', 'JAVA', 'c++'])` → `['JAVA']`\n",
    "<br><br>г) Реализуйте функцию `unique_sorted_elements`, которая принимает произвольное количество списков и возвращает список уникальных элементов из всех списков, отсортированный в порядке возрастания. *Примеры вызова и возвращаемые результаты:* <br>`unique_sorted_elements([3, 1], [2, 3], [1, 4])` → `[1, 2, 3, 4]`\n",
    "<br>`unique_sorted_elements(['b', 'a'], ['c', 'a'], ['d', 'b'])` → `['a', 'b', 'c', 'd']`"
   ]
  },
  {
   "cell_type": "markdown",
   "metadata": {
    "id": "mODo6Yxh0h7s"
   },
   "source": [
    "9. <br>а) Создайте функцию `capitalize_words`, которая принимает строку `text` и необязательный параметр `separator` (по умолчанию — пробел). Функция должна разбить строку `text` по разделителю `separator`, преобразовать каждое слово (первая буква — заглавная, остальные — строчные) и вернуть новую строку, объединённую тем же разделителем. *Примеры вызова и возвращаемые результаты:* <br>`capitalize_words('hello world')` → `'Hello World'`\n",
    "<br>`capitalize_words('python,java,c++', separator=',')` → `'Python,Java,C++'`\n",
    "<br><br>б) Напишите функцию `filter_elements`, которая принимает два списка `list1` и `list2`, а также необязательный параметр `filter_function`. Функция должна вернуть новый список, содержащий элементы из `list1` и `list2`, для которых `filter_function` возвращает `True`. Если `filter_function` не указан, вернуть все элементы из обоих списков. *Примеры вызова и возвращаемые результаты:* <br>`filter_elements([1, 2, 3], [4, 5, 6])` → `[1, 2, 3, 4, 5, 6]`\n",
    "<br>`filter_elements([1, 2, 3], [4, 5, 6], filter_function=lambda x: x > 3)` → `[4, 5, 6]`\n",
    "<br><br>в) Реализуйте функцию `merge_dictionaries`, которая принимает произвольное количество словарей и объединяет их в один. Если ключи совпадают, значение должно быть из последнего словаря, в котором этот ключ встречается. *Примеры вызова и возвращаемые результаты:* <br>`merge_dictionaries({'a': 1}, {'b': 2}, {'a': 3})` → `{'a': 3, 'b': 2}`\n",
    "<br>`merge_dictionaries({'x': 5}, {'y': 6}, {'z': 7}, {'x': 8})` → `{'x': 8, 'y': 6, 'z': 7}`\n",
    "<br><br>г) Напишите функцию `unique_keys`, которая принимает произвольное количество словарей и возвращает словарь, содержащий только те ключи и значения, которые не повторяются в других словарях. *Примеры вызова и возвращаемые результаты:* <br>`unique_keys({'a': 1, 'b': 2}, {'b': 3, 'c': 4})` → `{'a': 1, 'c': 4}`\n",
    "<br>`unique_keys({'x': 5}, {'y': 6}, {'z': 7}, {'x': 8})` → `{'y': 6, 'z': 7}`"
   ]
  },
  {
   "cell_type": "markdown",
   "metadata": {
    "id": "Y6MfsXdT0koa"
   },
   "source": [
    "10.  \n",
    " <br>а) Создайте функцию `filter_numbers`, которая принимает список чисел `numbers` и необязательный параметр `condition`. Параметр `condition` — это функция, которая принимает число и возвращает `True` или `False`. Функция `filter_numbers` должна вернуть новый список, содержащий числа, для которых `condition` вернула `True`. Если `condition` не указана, вернуть исходный список.\n",
    " *Примеры вызова и возвращаемые результаты:*\n",
    " <br>`filter_numbers([1, 2, 3, 4, 5])` → `[1, 2, 3, 4, 5]`\n",
    " <br>`filter_numbers([1, 2, 3, 4, 5], condition=lambda x: x % 2 == 0)` → `[2, 4]`\n",
    " <br><br>б) Напишите функцию `transform_numbers`, которая принимает список чисел `numbers` и необязательный параметр `transform_function`. Функция должна применить `transform_function` к каждому элементу и вернуть новый список. Если `transform_function` не указана, вернуть исходный список.\n",
    " *Примеры вызова и возвращаемые результаты:*\n",
    " <br>`transform_numbers([1, 2, 3])` → `[1, 2, 3]`\n",
    " <br>`transform_numbers([1, 2, 3], transform_function=lambda x: x ** 3)` → `[1, 8, 27]`\n",
    " <br><br>в) Реализуйте функцию `cube_numbers`, которая принимает произвольное количество числовых списков и возвращает новый список, содержащий кубы всех чисел из всех списков.\n",
    " *Примеры вызова и возвращаемые результаты:*\n",
    " <br>`cube_numbers([1, 2], [3, 4])` → `[1, 8, 27, 64]`\n",
    " <br>`cube_numbers([5], [6, 7], [8])` → `[125, 216, 343, 512]`\n",
    " <br><br>г) Напишите функцию `product_non_zero`, которая принимает произвольное количество числовых аргументов и возвращает их произведение, исключая нули.\n",
    " *Примеры вызова и возвращаемые результаты:*\n",
    " <br>`product_non_zero(1, 2, 0, 4)` → `8`\n",
    " <br>`product_non_zero(0, 0, 0)` → `1` (так как нет ненулевых чисел, возвращается мультипликативная единица)"
   ]
  },
  {
   "cell_type": "markdown",
   "metadata": {
    "id": "NTOZ-NU-0oBx"
   },
   "source": [
    "11. <br>а) Напишите функцию `format_strings`, которая принимает список строк `strings` и необязательный параметр `separator` (по умолчанию — пробел `' '`). Функция должна вернуть одну строку, где каждое слово из `strings` начинается с заглавной буквы, а слова соединены через `separator`. *Примеры вызова и возвращаемые результаты:* <br>`format_strings(['hello', 'world'])` → `'Hello World'` <br>`format_strings(['good', 'morning'], separator='-')` → `'Good-Morning'` <br><br>б) Создайте функцию `merge_and_sort`, которая принимает два списка `list1` и `list2`, а также необязательный параметр `sort_function`. Функция должна объединить оба списка и вернуть отсортированный список, используя `sort_function`, если он указан; иначе сортировать по возрастанию. *Примеры вызова и возвращаемые результаты:* <br>`merge_and_sort([3, 1], [4, 2])` → `[1, 2, 3, 4]` <br>`merge_and_sort([3, 1], [4, 2], sort_function=lambda x: -x)` → `[4, 3, 2, 1]` <br><br>в) Реализуйте функцию `concat_all_strings`, которая принимает произвольное количество списков строк и возвращает одну строку, содержащую все строки из входных списков, разделённых запятыми. *Примеры вызова и возвращаемые результаты:* <br>`concat_all_strings(['a', 'b'], ['c', 'd'])` → `'a,b,c,d'` <br>`concat_all_strings(['вишня'], ['банан', 'дыня'], ['киви'])` → `'вишня,банан,дыня,киви'` <br><br>г) Создайте функцию `unique_sorted_strings`, которая принимает произвольное количество строковых аргументов и возвращает список уникальных строк, отсортированных в алфавитном порядке. *Примеры вызова и возвращаемые результаты:* <br>`unique_sorted_strings('виноград', 'яблоко', 'тыква', 'яблоко')` → `['виноград', 'тыква', 'яблоко']` <br>`unique_sorted_strings('x', 'z', 'y', 'x', 'y')` → `['x', 'y', 'z']`"
   ]
  },
  {
   "cell_type": "markdown",
   "metadata": {
    "id": "1iAqEjoC0tic"
   },
   "source": [
    "12.  <br>а) Напишите функцию `combine_lists`, которая принимает два списка `list1` и `list2`, а также необязательный параметр `order`, который может быть `'first_second'` или `'second_first'` (по умолчанию — `'first_second'`). Функция должна возвращать объединённый список из `list1` и `list2` в указанном порядке.  *Примеры вызова и возвращаемые результаты:* <br>`combine_lists([1, 2], [3, 4])` → `[1, 2, 3, 4]` <br>`combine_lists([1, 2], [3, 4], order='second_first')` → `[3, 4, 1, 2]` <br><br>б) Реализуйте функцию `process_string`, которая принимает строку `text` и необязательный параметр `separator`. Если `separator` указан, функция должна разбить `text` по этому разделителю, каждое слово преобразовать так, чтобы первая буква была заглавной, остальные — строчными, затем соединить слова обратно с помощью `separator`. Если `separator` не указан, разбить по пробелам и вернуть строку в нижнем регистре.  *Примеры вызова и возвращаемые результаты:* <br>`process_string('HELLO WORLD')` → `'hello world'` <br>`process_string('python_java_c++', separator='_')` → `'Python_Java_C++'` <br><br>в) Создайте функцию `difference`, которая принимает произвольное количество списков и возвращает список элементов, которые присутствуют только в первом списке, но отсутствуют во всех остальных.  *Примеры вызова и возвращаемые результаты:* <br>`difference([1, 2, 3], [2, 3, 4], [3, 4, 5])` → `[1]` <br>`difference(['a', 'b', 'c'], ['b', 'c'], ['c'])` → `['a']` <br><br>г) Напишите функцию `common_in_at_least_two`, которая принимает произвольное количество списков и возвращает список элементов, встречающихся как минимум в двух из них.  *Примеры вызова и возвращаемые результаты:* <br>`common_in_at_least_two([1, 2], [2, 3], [2, 4])` → `[2]` <br>`common_in_at_least_two(['a', 'b'], ['b', 'c'], ['b', 'd'])` → `['b']`"
   ]
  },
  {
   "cell_type": "markdown",
   "metadata": {
    "id": "a3o4qKRA0vrc"
   },
   "source": [
    "13. <br>а) Реализуйте функцию `divisible_by`, которая принимает список чисел `numbers` и необязательный параметр `divisor` (по умолчанию — `2`). Функция должна вернуть список чисел из `numbers`, которые делятся на `divisor` без остатка.  *Примеры вызова и возвращаемые результаты:* <br>`divisible_by([1, 2, 3, 4, 5])` → `[2, 4]` <br>`divisible_by([10, 15, 20, 25], divisor=5)` → `[10, 15, 20, 25]` <br><br>б) Напишите функцию `transform_numbers`, которая принимает список чисел `numbers` и необязательный параметр `transform_function`. Функция должна вернуть новый список, где каждый элемент — результат применения `transform_function` к числам из `numbers`. Если `transform_function` не указан, удалить из списка все отрицательные числа.  *Примеры вызова и возвращаемые результаты:* <br>`transform_numbers([1, -2, 3, -4])` → `[1, 3]` <br>`transform_numbers([1, 2, 3], transform_function=lambda x: x ** 2)` → `[1, 4, 9]` <br><br>в) Создайте функцию `sorted_values_by_keys`, которая принимает произвольное количество словарей и возвращает список значений из всех словарей, отсортированных по возрастанию их соответствующих ключей.  *Примеры вызова и возвращаемые результаты:* <br>`sorted_values_by_keys({'2': 'b', '1': 'a'}, {'4': 'd', '3': 'c'})` → `['a', 'b', 'c', 'd']` <br>`sorted_values_by_keys({'10': 'j'}, {'5': 'e', '15': 'o'})` → `['e', 'j', 'o']` <br><br>г) Напишите функцию `common_keys_in_dicts`, которая принимает произвольное количество словарей и возвращает словарь, содержащий только те ключи и значения, которые присутствуют во всех словарях, с значениями из последнего словаря, в котором они встречаются.  *Примеры вызова и возвращаемые результаты:* <br>`common_keys_in_dicts({'a': 1, 'b': 2}, {'b': 3, 'c': 4})` → `{'b': 3}` <br>`common_keys_in_dicts({'x': 5, 'y': 6}, {'y': 7, 'z': 8}, {'y': 9, 'w': 10})` → `{'y': 9}`"
   ]
  },
  {
   "cell_type": "markdown",
   "metadata": {
    "id": "pRq7ohpa0xqb"
   },
   "source": [
    "14. <br>а) Реализуйте функцию `merge_lists_with`, которая принимает два списка `list1` и `list2`, а также необязательный параметр `merge_function`. Функция должна вернуть новый список, полученный объединением элементов из `list1` и `list2` с использованием `merge_function`. Если `merge_function` не указан, просто объединить списки.  *Примеры вызова и возвращаемые результаты:* <br>`merge_lists_with([1, 2], [3, 4])` → `[1, 2, 3, 4]` <br>`merge_lists_with([1, 2], [3, 4], merge_function=lambda x, y: x + y)` → `[4, 6]` <br><br>б) Создайте функцию `extract_digits`, которая принимает список строк `strings` и необязательный параметр `digits_only` (булево значение). Если `digits_only` установлено в `True`, функция должна вернуть новый список строк, содержащих только цифры из каждой строки. Если `digits_only` не указано или установлено в `False`, вернуть исходный список.  *Примеры вызова и возвращаемые результаты:* <br>`extract_digits(['a1b2', 'c3d4'])` → `['a1b2', 'c3d4']` <br>`extract_digits(['a1b2', 'c3d4'], digits_only=True)` → `['12', '34']` <br><br>в) Напишите функцию `filter_even_numbers`, которая принимает произвольное количество числовых аргументов и возвращает список, содержащий только чётные числа.  *Примеры вызова и возвращаемые результаты:* <br>`filter_even_numbers(1, 2, 3, 4, 5, 6)` → `[2, 4, 6]` <br>`filter_even_numbers(7, 9, 11)` → `[]` <br><br>г) Реализуйте функцию `sorted_positive_numbers`, которая принимает произвольное количество числовых аргументов и возвращает список положительных чисел, отсортированных в порядке убывания.  *Примеры вызова и возвращаемые результаты:* <br>`sorted_positive_numbers(-1, 3, -5, 7, 0)` → `[7, 3]` <br>`sorted_positive_numbers(-10, -20)` → `[]`"
   ]
  },
  {
   "cell_type": "markdown",
   "metadata": {
    "id": "FZlkhfM900z2"
   },
   "source": [
    "15. <br>а) Напишите функцию `change_case`, которая принимает список строк `strings` и необязательный параметр `to_upper` (булево значение). Если `to_upper` установлено в `True`, функция должна вернуть новую строку, где все символы каждой строки из `strings` преобразованы в верхний регистр. Если `to_upper` не указано или установлено в `False`, преобразовать все символы в нижний регистр.  *Примеры вызова и возвращаемые результаты:* <br>`change_case(['Hello', 'World'])` → `'hello world'` <br>`change_case(['Hello', 'World'], to_upper=True)` → `'HELLO WORLD'` <br><br>б) Создайте функцию `filter_combined_lists`, которая принимает два списка `list1` и `list2`, а также необязательный параметр `filter_function`. Функция должна вернуть список элементов из обоих списков, удовлетворяющих `filter_function`. Если `filter_function` не указан, вернуть все элементы из обоих списков.  *Примеры вызова и возвращаемые результаты:* <br>`filter_combined_lists([2, 4], [6, 8])` → `[2, 4, 6, 8]` <br>`filter_combined_lists([2, 4], [6, 8], filter_function=lambda x: x > 5)` → `[6, 8]` <br><br>в) Реализуйте функцию `unique_sorted_numbers`, которая принимает список чисел и возвращает новый список, содержащий только уникальные значения, отсортированные в порядке возрастания.  *Примеры вызова и возвращаемые результаты:* <br>`unique_sorted_numbers([3, 1, 2, 3, 4, 2])` → `[1, 2, 3, 4]` <br>`unique_sorted_numbers([5, 5, 5, 5])` → `[5]` <br><br>г) Напишите функцию `strings_starting_with_upper`, которая принимает произвольное количество строковых аргументов и возвращает список строк, которые начинаются с заглавной буквы.  *Примеры вызова и возвращаемые результаты:* <br>`strings_starting_with_upper('Apple', 'banana', 'Cherry')` → `['Apple', 'Cherry']` <br>`strings_starting_with_upper('dog', 'Elephant', 'fox')` → `['Elephant']`"
   ]
  },
  {
   "cell_type": "markdown",
   "metadata": {
    "id": "AsCxG7xFcpFg"
   },
   "source": [
    "#### <font color='LightCoral'> **ЗАДАНИЕ 17.** Рекурсия."
   ]
  },
  {
   "cell_type": "markdown",
   "metadata": {
    "id": "KbVcHVzCv3vb"
   },
   "source": [
    "1. Описать рекурсивные функции `Fact` и `Fact2`, вычисляющие значения факториала $N!$ и двойного факториала $N!!$ соответственно ($N > 0$ — параметр целого типа)."
   ]
  },
  {
   "cell_type": "markdown",
   "metadata": {
    "id": "qlGaAc6Nv_Mi"
   },
   "source": [
    "2. Описать рекурсивную функцию `PowerN`, находящую значение $n$-й степени числа $x$ по формуле:\n",
    "\n",
    "\\begin{align}\n",
    "    x^0 = 1, \\quad x^n = x \\cdot x^{n - 1} \\quad при \\quad n>0, \\\\\n",
    "    x^n=1/x^{-n} \\quad при \\quad n<0,\n",
    "\\end{align}\n",
    "\n",
    "где $x≥0$ — вещественное число, $n$ — целое."
   ]
  },
  {
   "cell_type": "markdown",
   "metadata": {
    "id": "xaNvlkiExSe6"
   },
   "source": [
    "3. Описать рекурсивную функцию `SqrtK(x, k, n)`, находящую приближенное значение корня $k$-й степени из числа $x$ по формуле:\n",
    "\\begin{align}\n",
    "    y(0)=1, \\quad y(n + 1) = y(n) – \\frac{y(n) – \\frac{x}{y^{k–1}(n)}}{k},\n",
    "\\end{align}\n",
    "\n",
    "где $y(n)$ обозначает `SqrtK(x, k, n)`, $x$ — вещественный параметр, $k$ и $n$ — целые; $x > 0$, $k > 1$, $n > 0$."
   ]
  },
  {
   "cell_type": "markdown",
   "metadata": {
    "id": "Ld7hIQaA0gTH"
   },
   "source": [
    "4. Описать рекурсивную функцию `FibRec`, вычисляющую $N$-е число Фибоначчи $F(N)$ по формуле:\n",
    "\n",
    "\\begin{align}\n",
    "    F(1)=F(2)=1, \\quad F(k) = F(k-2) + F(k - 1), \\quad k = 3, 4, ...\n",
    "\\end{align}\n",
    "\n",
    "С помощью этой функции найти пять чисел Фибоначчи с указанными номерами и вывести эти числа вместе с количеством рекурсивных вызовов функции `FibRec`, потребовавшихся для их нахождения."
   ]
  },
  {
   "cell_type": "markdown",
   "metadata": {
    "id": "ZDqTS5PE1WMp"
   },
   "source": [
    "5.\tОписать рекурсивную функцию `C(m, n)`, находящую число сочетаний из $n$ элементов по $m$, используя формулу:\n",
    "\n",
    "\\begin{align}\n",
    "    C(0, n) = C(n, n) = 1, \\quad C(m,  n) = C(m,  n – 1)+C(m – 1, n – 1)\n",
    "\\end{align}\n",
    "\n",
    "при $0 < m < n$ ($m$ и $n$ — целые параметры; $n > 0$, $0 ≤ m ≤ n$). Дано число $N$ и пять различных значений $M$. Вывести числа `C(M, N)` вместе с количеством рекурсивных вызовов функции `C`, потребовавшихся для их нахождения."
   ]
  },
  {
   "cell_type": "markdown",
   "metadata": {
    "id": "0xWqnXXH1_GB"
   },
   "source": [
    "6. Описать рекурсивную функцию `NOD(A, B)`, находящую наибольший общий делитель двух натуральных чисел `A` и `B`, используя алгоритм Евклида:\n",
    "\n",
    "\\begin{align}\n",
    "    \\text{NOD}(A, B) = \\text{NOD}(B\\bmod{A}, A), \\text{  если  } A ≠ 0, \\quad \\text{NOD}(0, B) = B.\n",
    "\\end{align}\n",
    "\n",
    "С помощью этой функции найти наибольшие общие делители пар $A$ и $B$, $A$ и $C$, $A$ и $D$, если даны числа $A$, $B$, $C$, $D$."
   ]
  },
  {
   "cell_type": "markdown",
   "metadata": {
    "id": "Vp4rITB74Uyy"
   },
   "source": [
    "7. Описать рекурсивную функцию `MinRec`, которая находит минимальный элемент массива $A$ размера $N$, не используя оператор цикла. С помощью этой функции найти минимальные элементы трёх заданных массивов."
   ]
  },
  {
   "cell_type": "markdown",
   "metadata": {
    "id": "EGL2wVeC5sZQ"
   },
   "source": [
    "8. Описать рекурсивную функцию `Digits`, находящую количество цифр в строке $S$ без использования оператора цикла. С помощью этой функции найти количество цифр в заданной строке."
   ]
  },
  {
   "cell_type": "markdown",
   "metadata": {
    "id": "naSGu7UE5yqe"
   },
   "source": [
    "9. Описать рекурсивную функцию `Simm`, проверяющую, является ли симметричной строка $S$, без использования оператора цикла. С помощью этой функции проверить заданную строку."
   ]
  },
  {
   "cell_type": "markdown",
   "metadata": {
    "id": "QeU0lnGy59ou"
   },
   "source": [
    "10. Задано положительное и отрицательное число в двоичной системе. Составить программу вычисления суммы этих чисел, используя функцию сложения чисел в двоичной системе счисления."
   ]
  },
  {
   "cell_type": "markdown",
   "metadata": {
    "id": "psnUZTWj6DBe"
   },
   "source": [
    "11. Описать рекурсивную функцию `Root`, которая методом деления отрезка пополам находит с точностью $ε$ корень уравнения $f(x) = 0$ на отрезке $[a, b]$ (считать, что $ε > 0$, $a < b$, $f(a) – f(b) < 0$ и $f(x)$ — непрерывная и монотонная на отрезке $[a, b]$ функция).\n"
   ]
  },
  {
   "cell_type": "markdown",
   "metadata": {
    "id": "9xCGk_Io6RlL"
   },
   "source": [
    "12. Дано число $n$, десятичная запись которого не содержит нулей. Получите число, записанное теми же цифрами, но в противоположном порядке. При решении этой задачи нельзя использовать циклы, строки, списки разрешается только рекурсия и целочисленная арифметика. Функция должна возвращать целое число, являющееся результатом работы программы, выводить число по одной цифре нельзя.\n"
   ]
  },
  {
   "cell_type": "markdown",
   "metadata": {
    "id": "IKMGQGH76YZd"
   },
   "source": [
    "13. Описать рекурсивную логическую функцию `Simm`, проверяющую, является ли симметричной часть строки $S$, начинающаяся $i$-м и заканчивающаяся $j$-м её элементами."
   ]
  },
  {
   "cell_type": "markdown",
   "metadata": {
    "id": "1SJ_LHaV6gll"
   },
   "source": [
    "14. Дано натуральное число $N$. Вычислите сумму его цифр. При решении этой задачи нельзя использовать строки, списки и циклы.\n"
   ]
  },
  {
   "cell_type": "markdown",
   "metadata": {
    "id": "XIbgaqVm6lsy"
   },
   "source": [
    "15. Дано слово, состоящее только из строчных латинских букв. Проверьте, является ли это слово палиндромом. Выведите `yes` или `no`. При решении этой задачи нельзя пользоваться циклами, также нельзя использовать срезы с шагом, отличным от 1."
   ]
  },
  {
   "cell_type": "markdown",
   "metadata": {
    "id": "nODNI4fhcpR_"
   },
   "source": [
    "#### <font color='LightCoral'> **ЗАДАНИЕ 18.** Модули."
   ]
  },
  {
   "cell_type": "markdown",
   "metadata": {
    "id": "UaZ7n9yG9K1H"
   },
   "source": [
    "1. Создать модуль, содержащий указанные функции:\n",
    "* вычисление середины отрезка по координатам его концов;\n",
    "* проверки возможности построения из трех отрезков треугольника;\n",
    "* вычисления площади треугольника по длинам его сторон.\n",
    "\n",
    "Привести пример на использование модуля."
   ]
  },
  {
   "cell_type": "markdown",
   "metadata": {
    "id": "BtyqD6Nf9Xic"
   },
   "source": [
    "2. Создать модуль, содержащий указанные функции: для трех точек на плоскости,\n",
    "заданных координатами, найти:\n",
    "* расстояния между точками;\n",
    "* периметр треугольника, если его можно построить по заданным точкам;\n",
    "* площадь треугольника, если его можно построить по заданным точкам.\n",
    "\n",
    "Привести пример на использование модуля.\n"
   ]
  },
  {
   "cell_type": "markdown",
   "metadata": {
    "id": "eakaydUe9nte"
   },
   "source": [
    "3. Создать модуль, содержащий указанные функции:\n",
    "* нахождения НОД двух чисел;\n",
    "* приведения простой дроби к несократимому виду;\n",
    "* перевода простой дроби в десятичную.\n",
    "\n",
    "Привести пример на использование модуля."
   ]
  },
  {
   "cell_type": "markdown",
   "metadata": {
    "id": "k4TbBHBK9ss8"
   },
   "source": [
    "4. Создать модуль, содержащий указанные функции:\n",
    "* построения уравнения прямой через две точки;\n",
    "* проверки параллельности прямых;\n",
    "* проверки принадлежности точки прямой.\n",
    "\n",
    "Привести пример на использование модуля."
   ]
  },
  {
   "cell_type": "markdown",
   "metadata": {
    "id": "K74sMMta9zHA"
   },
   "source": [
    "5. Создать модуль, содержащий функции для вычисления:\n",
    "* площади круга;\n",
    "* длины окружности;\n",
    "* площади сектора круга;\n",
    "* периметра квадрата, вписанного в окружность.\n",
    "\n",
    "Привести пример на использование модуля."
   ]
  },
  {
   "cell_type": "markdown",
   "metadata": {
    "id": "e_4596Wj99o0"
   },
   "source": [
    "6. Создать модуль, содержащий указанные функции:\n",
    "* удаления заданного символа из строки;\n",
    "* замены в строке одного символа на другой;\n",
    "* подсчета количества заданного символа в строке.\n",
    "\n",
    "Привести пример на использование модуля.\n"
   ]
  },
  {
   "cell_type": "markdown",
   "metadata": {
    "id": "XpCdbcl7-CYP"
   },
   "source": [
    "7. Создать модуль, содержащий указанные функции:\n",
    "* ввода-вывода матриц на экран;\n",
    "* сложения матриц;\n",
    "* умножения матриц;\n",
    "* построение транспонированной матрицы.\n",
    "\n",
    "Привести пример на использование модуля."
   ]
  },
  {
   "cell_type": "markdown",
   "metadata": {
    "id": "q-EhUZ70-HTS"
   },
   "source": [
    "8. Создать модуль, содержащий указанные функции:\n",
    "* сложения числовых векторов;\n",
    "* умножения вектора на число;\n",
    "* поиска минимального и максимального значений вектора.\n",
    "\n",
    "Привести пример на использование модуля."
   ]
  },
  {
   "cell_type": "markdown",
   "metadata": {
    "id": "HaMj7O6U-LXj"
   },
   "source": [
    "9. Создать модуль, содержащий указанные функции:\n",
    "* удаления из текстового файла цифр;\n",
    "* вычисления количества символов в текстовом файле;\n",
    "* вычисления количества строк в текстовом файле.\n",
    "\n",
    "Привести пример на использование модуля."
   ]
  },
  {
   "cell_type": "markdown",
   "metadata": {
    "id": "5ykOJj_0-P-U"
   },
   "source": [
    "10. Создать модуль, содержащий указанные функции:\n",
    "* вычисления модуля комплексного числа;\n",
    "* умножения комплексных чисел;\n",
    "* деления комплексных чисел.\n",
    "\n",
    "Привести пример на использование модуля."
   ]
  },
  {
   "cell_type": "markdown",
   "metadata": {
    "id": "5915fUPP-Vmx"
   },
   "source": [
    "11. Создать модуль, содержащий функции, реализующие следующие операции над\n",
    "обыкновенными дробями вида $P/Q$ ($P$ — целое, $Q$ — натуральное):\n",
    "* возведение дроби в степень $N$ ($N$ — натуральное);\n",
    "* операции отношения (равно, больше, меньше).\n",
    "\n",
    "Привести пример на использование модуля."
   ]
  },
  {
   "cell_type": "markdown",
   "metadata": {
    "id": "M9umy-6c-ihr"
   },
   "source": [
    "12. Создать модуль, содержащий функции для выполнения следующих операций\n",
    "над векторами на плоскости:\n",
    "* вычитание векторов;\n",
    "* скалярное произведение векторов;\n",
    "* длина вектора.\n",
    "\n",
    "Привести пример на использование модуля."
   ]
  },
  {
   "cell_type": "markdown",
   "metadata": {
    "id": "hgbKXOqS-oVG"
   },
   "source": [
    "13. Создать модуль, содержащий функции для сортировки одномерного массива:\n",
    "* сортировка методом вставки;\n",
    "* сортировка методом обмена;\n",
    "* сортировка методом выбора.\n",
    "\n",
    "Привести пример на использование модуля."
   ]
  },
  {
   "cell_type": "markdown",
   "metadata": {
    "id": "bKLbx3QV-smn"
   },
   "source": [
    "14. Создать модуль, содержащий указанные функции:\n",
    "* поиск минимального элемента матрицы;\n",
    "* поиск максимального элемента матрицы;\n",
    "* вычисление суммы элементов матрицы;\n",
    "* вычисление суммы элементов заданной строки матрицы.\n",
    "\n",
    "Привести пример на использование модуля."
   ]
  },
  {
   "cell_type": "markdown",
   "metadata": {
    "id": "5zvBcwxI-ww1"
   },
   "source": [
    "15. Создать модуль, содержащий функции, реализующие следующие операции над\n",
    "обыкновенными дробями вида $P/Q$ ($P$ — целое, $Q$ — натуральное):\n",
    "* сложение дробей;\n",
    "* вычитание дробей;\n",
    "* умножение дробей.\n",
    "\n",
    "Привести пример на использование модуля."
   ]
  },
  {
   "cell_type": "markdown",
   "metadata": {
    "id": "S1z_xRDucpkG"
   },
   "source": [
    "#### <font color='LightCoral'> **ЗАДАНИЕ 19.** Файлы."
   ]
  },
  {
   "cell_type": "markdown",
   "metadata": {
    "id": "S8zTj3DO_pMq"
   },
   "source": [
    "1. Дано целое число $K$ ($0 < K < 10$) и текстовый файл, содержащий более $K$ строк. Создать новый текстовый файл, содержащий $K$ последних строк исходного файла."
   ]
  },
  {
   "cell_type": "markdown",
   "metadata": {
    "id": "Xhs5-5aq_rHr"
   },
   "source": [
    "2. Дано целое число $K$ ($0 < K < 10$) и текстовый файл, содержащий более $K$ строк. Удалить из файла последние $K$ строк."
   ]
  },
  {
   "cell_type": "markdown",
   "metadata": {
    "id": "vk0hnd-y_tRF"
   },
   "source": [
    "3. Дано целое число $K$ и текстовый файл. Удалить из каждой строки файла первые $K$ символов (если длина строки меньше $K$, то удалить из нее все символы)."
   ]
  },
  {
   "cell_type": "markdown",
   "metadata": {
    "id": "SwekRavs_xQz"
   },
   "source": [
    "4. Даны два текстовых файла. Добавить в конец каждой строки первого файла соответствующую строку второго файла. Если второй файл короче первого, то оставшиеся строки первого файла не изменять."
   ]
  },
  {
   "cell_type": "markdown",
   "metadata": {
    "id": "w0wr3-Oe_3qM"
   },
   "source": [
    "5. Дано целое число $K$ и текстовый файл. Удалить из файла строку с номером $K$. Если строки с таким номером нет, то оставить файл без изменений."
   ]
  },
  {
   "cell_type": "markdown",
   "metadata": {
    "id": "2Y7AhVf4_5au"
   },
   "source": [
    "6. Дан текстовый файл. Создать символьный файл, содержащий все знаки препинания, встретившиеся в текстовом файле (в том же порядке)."
   ]
  },
  {
   "cell_type": "markdown",
   "metadata": {
    "id": "MO6AuKsg_8_4"
   },
   "source": [
    "7. Дан текстовый файл, каждая строка которого изображает целое число, дополненное слева и справа несколькими пробелами. Вывести количество этих чисел и их сумму."
   ]
  },
  {
   "cell_type": "markdown",
   "metadata": {
    "id": "vQ67XqmGAC4T"
   },
   "source": [
    "8. Дана строка $S$ и текстовый файл. Заменить в файле все пустые строки на строку $S$."
   ]
  },
  {
   "cell_type": "markdown",
   "metadata": {
    "id": "jyuoIa1cAM59"
   },
   "source": [
    "9. Дан текстовый файл, содержащий текст, выровненный по левому краю. Выровнять текст по центру, добавив в начало каждой непустой строки нужное количество пробелов (ширину текста считать равной 50). Строки нечетной длины перед центрированием дополнять слева пробелом."
   ]
  },
  {
   "cell_type": "markdown",
   "metadata": {
    "id": "K9wOtsy0APg8"
   },
   "source": [
    "10. Дан текстовый файл. Найти количество абзацев в тексте, если абзацы отделяются друг от друга одной или несколькими пустыми строками."
   ]
  },
  {
   "cell_type": "markdown",
   "metadata": {
    "id": "guwqGPfRASa5"
   },
   "source": [
    "11. Дан текстовый файл, содержащий текст, выровненный по левому краю. Выровнять текст по правому краю, добавив в начало каждой непустой строки нужное количество пробелов (ширину текста считать равной 50)."
   ]
  },
  {
   "cell_type": "markdown",
   "metadata": {
    "id": "nz8-YoCIAVPt"
   },
   "source": [
    "12. Даны два текстовых файла. Добавить в начало первого файла содержимое второго файла."
   ]
  },
  {
   "cell_type": "markdown",
   "metadata": {
    "id": "f2weusB2AiYt"
   },
   "source": [
    "13. Дано целое число $K$ и текстовый файл. Вставить пустую строку перед строкой\n",
    "файла с номером $K$. Если строки с таким номером нет, то оставить файл без изменений."
   ]
  },
  {
   "cell_type": "markdown",
   "metadata": {
    "id": "9YV08v1RAn9g"
   },
   "source": [
    "14. Дан текстовый файл. Продублировать в нем все пустые строки."
   ]
  },
  {
   "cell_type": "markdown",
   "metadata": {
    "id": "y5avDyCsAtax"
   },
   "source": [
    "15. Дан непустой текстовый файл (число строк больше двух). Удалить из него первую и последнюю строки."
   ]
  },
  {
   "cell_type": "markdown",
   "metadata": {
    "id": "tdV2beFdcpuO"
   },
   "source": [
    "#### <font color='LightCoral'> **ЗАДАНИЕ 20.** Работа с файлами."
   ]
  },
  {
   "cell_type": "markdown",
   "metadata": {
    "id": "Cw4FPc-wBQpm"
   },
   "source": [
    "1. Дан файл $f$, компоненты которого являются действительными числами. Найти произведение компонент файла."
   ]
  },
  {
   "cell_type": "markdown",
   "metadata": {
    "id": "Q0KpvOunBThw"
   },
   "source": [
    "2. Дан файл $f$, компоненты которого являются целыми числами. Ни одна из компонент файла не равна нулю. Файл $f$ содержит столько же отрицательных чисел, сколько и положительных. Переписать компоненты файла $f$ в файл $g$ так, чтобы в файле $g$ сначала шли положительные, потом отрицательные числа."
   ]
  },
  {
   "cell_type": "markdown",
   "metadata": {
    "id": "8_QRYvcIBW9H"
   },
   "source": [
    "3. Дан файл $f$, компоненты которого являются целыми числами. Получить в файле $g$ все компоненты файла $f$, являющиеся точными квадратами."
   ]
  },
  {
   "cell_type": "markdown",
   "metadata": {
    "id": "rON2Gz6RBcq-"
   },
   "source": [
    "4. Дан файл $f$, компоненты которого являются действительными числами. Найти сумму наибольшего и наименьшего из значений компонент."
   ]
  },
  {
   "cell_type": "markdown",
   "metadata": {
    "id": "y040oQNeBfX3"
   },
   "source": [
    "5. Дан файл, содержащий различные даты. Каждая дата — это число, месяц и год. Найти год с наименьшим номером."
   ]
  },
  {
   "cell_type": "markdown",
   "metadata": {
    "id": "Moq3_nX1BiMW"
   },
   "source": [
    "6. Дан файл $f$, компоненты которого являются целыми числами. Найти количество чётных чисел среди компонент."
   ]
  },
  {
   "cell_type": "markdown",
   "metadata": {
    "id": "Q8feKkqhBmkM"
   },
   "source": [
    "7. Дан файл $f$. В файле не менее двух компонент. Определить, являются ли два первых символа файла цифрами. Если да, то установить, является ли число, образованное этими цифрами чётным."
   ]
  },
  {
   "cell_type": "markdown",
   "metadata": {
    "id": "BNuZfG_bBqMa"
   },
   "source": [
    "8. Дан файл $f$, компоненты которого являются целыми числами. Получить в файле $g$ все компоненты файла $f$, являющиеся чётными числами."
   ]
  },
  {
   "cell_type": "markdown",
   "metadata": {
    "id": "xb_QX5r1BtGJ"
   },
   "source": [
    "9. Дан файл $f$, компоненты которого являются действительными числами. Найти наибольшее из значений модулей компонент с нечётными номерами."
   ]
  },
  {
   "cell_type": "markdown",
   "metadata": {
    "id": "ymLknsMVBv3l"
   },
   "source": [
    "10. Дан файл, содержащий различные даты. Каждая дата — это число, месяц и год. Найти все весенние даты."
   ]
  },
  {
   "cell_type": "markdown",
   "metadata": {
    "id": "v1kVlkX7BzOE"
   },
   "source": [
    "11. Дан файл $f$, компоненты которого являются целыми числами. Получить в файле $g$ все компоненты файла $f$, делящиеся на 3 и не делящиеся на 7."
   ]
  },
  {
   "cell_type": "markdown",
   "metadata": {
    "id": "oLkq3SZwB1zf"
   },
   "source": [
    "12. Дан файл $f$, компоненты которого являются действительными числами. Найти наименьшее из значений компонент с чётными номерами."
   ]
  },
  {
   "cell_type": "markdown",
   "metadata": {
    "id": "oFo22kCLB4vX"
   },
   "source": [
    "13. Записать в файл $g$ все чётные числа файла $f$, а в файл $h$ все нечётные. Порядок следования чисел сохраняется."
   ]
  },
  {
   "cell_type": "markdown",
   "metadata": {
    "id": "A_itjMTjB7tA"
   },
   "source": [
    "14. Дан файл $f$, компоненты которого являются целыми числами. Ни одна из компонент файла не равна нулю. Файл $f$ содержит столько же отрицательных чисел, сколько и положительных. Переписать компоненты файла $f$ в файл $g$ так, чтобы в файле $g$ не было двух соседних чисел с одним знаком."
   ]
  },
  {
   "cell_type": "markdown",
   "metadata": {
    "id": "AabFdfdMCBPA"
   },
   "source": [
    "15. Дан файл $f$, компоненты которого являются целыми числами. Ни одна из компонент файла не равна нулю. Файл $f$ содержит столько же отрицательных чисел, сколько и положительных. Переписать компоненты файла $f$ в файл $g$ так, чтобы в файле $g$ числа шли в следующем порядке: два положительных два отрицательных, два положительных, два отрицательных и т.д. (предполагается, что число компонент в файле $f$ делится на 4)."
   ]
  },
  {
   "cell_type": "markdown",
   "metadata": {
    "id": "YbP9A-Z4cp5y"
   },
   "source": [
    "#### <font color='LightCoral'> **ЗАДАНИЕ 21.** Работа с файлами."
   ]
  },
  {
   "cell_type": "markdown",
   "metadata": {
    "id": "j-zDWAG5DHT_"
   },
   "source": [
    "1. В первом файле хранится $k$ матриц размерности $m × n$, во втором — $l$ матриц размерности $m × n$. Те матрицы из первого файла, у которых $a_{00} = 0$, перенести в конец второго файла. Вывести на экран содержимое обоих файлов."
   ]
  },
  {
   "cell_type": "markdown",
   "metadata": {
    "id": "N3IzIRHdDJ-B"
   },
   "source": [
    "2. В первом файле хранится $k$ матриц размерности $m × n$, во втором — $l$ матриц размерности $m × n$. Убрать из файла, в котором больше матриц, лишние матрицы в третий файл. Вывести на экран содержимое всех трёх файлов."
   ]
  },
  {
   "cell_type": "markdown",
   "metadata": {
    "id": "ab-Dy9jHDNH5"
   },
   "source": [
    "3. Файл состоит из $k$ компонент структуры, где каждая компонента содержит две матрицы: первая размерности $m × n$, вторая размерности $m × l$. Получить $k$ произведений соответствующих матриц и записать их во второй файл. Вывести на экран содержимое обоих файлов."
   ]
  },
  {
   "cell_type": "markdown",
   "metadata": {
    "id": "HJBQkmciDVhU"
   },
   "source": [
    "4. В первом файле хранится $k$ матриц размерности $m × n$, во втором — $l$ матриц размерности $m × n$. Добавить во второй файл те матрицы из первого, которых нет во втором. Вывести на экран содержимое обоих файлов."
   ]
  },
  {
   "cell_type": "markdown",
   "metadata": {
    "id": "ltncABeVDZ0X"
   },
   "source": [
    "5. В файле хранится $k$ матриц размерности $m × n$. Для каждой матрицы из файла вычислить сумму её положительных четных элементов. Все матрицы с чётными суммами записать в другой файл, заменив их в исходном файле единичными матрицами. Вывести на экран содержимое обоих файлов."
   ]
  },
  {
   "cell_type": "markdown",
   "metadata": {
    "id": "obwaAWcmDdIq"
   },
   "source": [
    "6. В первом файле хранится $k$ матриц размерности $m × n$, во втором — $l$ матриц размерности $m × n$. Поменять местами все нечётные (по порядковому номеру в файле) матрицы из первого и второго файлов (до конца меньшего из файлов). Вывести на экран содержимое обоих файлов."
   ]
  },
  {
   "cell_type": "markdown",
   "metadata": {
    "id": "JYtP3dg7Dgit"
   },
   "source": [
    "7. В первом файле хранится $k$ квадратных матриц порядка n, во втором — $l$ квадратных матриц. Если $k ≠ 1$, то в файл с меньшим числом матриц добавить в конец файла недостающее количество единичных матриц. Вывести на экран содержимое обоих файлов."
   ]
  },
  {
   "cell_type": "markdown",
   "metadata": {
    "id": "F3RVyLnoDlcz"
   },
   "source": [
    "8. В файле хранится $k$ матриц размерности $n×n$. Для каждой матрицы из файла вычислить сумму её диагональных элементов. Все матрицы с нечётными суммами записать в другой файл, заменив их в исходном файле транспонированными матрицами. Вывести на экран содержимое обоих файлов."
   ]
  },
  {
   "cell_type": "markdown",
   "metadata": {
    "id": "Naqwe3ERDvKy"
   },
   "source": [
    "9. В первом файле хранится $k$ квадратных матриц. Записать в другой файл из исходного файла все симметрические матрицы ($A = A^T$), в третий файл — остальные. Вывести на экран содержимое всех трёх файлов."
   ]
  },
  {
   "cell_type": "markdown",
   "metadata": {
    "id": "-H7KEYYLDyjq"
   },
   "source": [
    "10. В первом файле хранится $k$ матриц размерности $m × n$, во втором — $k$ матриц размерности n × $l$. Получить $k$ произведений соответствующих матриц из первого и второго файлов и записать их в третий файл в виде компонент структуры, где каждая компонента содержит три матрицы:<br>а) первая размерности $m × n$ из первого файла;<br>б) вторая размерности $n × l$ из второго файла;<br>в) третья, матрица размерности $m × l$, результат произведения.<br>Вывести на экран содержимое всех файлов."
   ]
  },
  {
   "cell_type": "markdown",
   "metadata": {
    "id": "QIvOhrgJEDD1"
   },
   "source": [
    "11. В первом файле хранится $k$ матриц порядка $m × n$, во втором — $l$ матриц. Поменять местами все нечётные (1, 3, 5,... по порядковому номеру в файле) матрицы из первого файла с чётными матрицами (0, 2, 4,...) второго файла (до конца меньшего из файлов). Оставшиеся в большем файле матрицы переписать в третий файл. Вывести на экран содержимое всех файлов."
   ]
  },
  {
   "cell_type": "markdown",
   "metadata": {
    "id": "V7IFsTO4ELoF"
   },
   "source": [
    "12. Файл состоит из $k$ компонент структуры, где каждая компонента содержит две матрицы: первая размерности $m × n$, вторая размерности $m × n$. Получить $k$ сумму соответствующих матриц и записать их во второй файл. Вывести на экран содержимое обоих файлов."
   ]
  },
  {
   "cell_type": "markdown",
   "metadata": {
    "id": "2lRvXedvEQQX"
   },
   "source": [
    "13. В файле хранится $k$ матриц размерности $m × n$. Для каждой матрицы из файла вычислить сумму её отрицательных нечётных элементов. Все матрицы с нечёт ными суммами записать в другой файл, заменив их в исходном файле единичными матрицами. Вывести на экран содержимое обоих файлов."
   ]
  },
  {
   "cell_type": "markdown",
   "metadata": {
    "id": "YfTTG09PETZU"
   },
   "source": [
    "14. В первом файле хранится $k$ матриц размерности $m × n$, во втором — $l$ матриц размерности $m × n$. Те матрицы из первого файла, у которых сумма первой строки больше заданного числа перенести в конец второго файла. Вывести на экран содержимое обоих файлов."
   ]
  },
  {
   "cell_type": "markdown",
   "metadata": {
    "id": "o-1eLzSjDqYP"
   },
   "source": [
    "15. В файле хранится $k$ матриц размерности $n × n$. Для каждой матрицы из файла вычислить произведение элементов её главной диагонали. Все матрицы, у которых произведение больше заданного числа, записать в другой файл. Вывести на экран содержимое обоих файлов."
   ]
  },
  {
   "cell_type": "markdown",
   "metadata": {
    "id": "jLbD02v5Ef9L"
   },
   "source": [
    "#### <font color='LightCoral'> **ЗАДАНИЕ 22.** Регулярные выражения."
   ]
  },
  {
   "cell_type": "markdown",
   "metadata": {
    "id": "grsBPZ3Dc8vC"
   },
   "source": [
    "1. <br>а) Напишите программу, которая проверяет введенный пользователем email на соответствие стандарту. Используйте регулярные выражения для проверки.<br>б) Дан текстовый файл. Найдите все email-адреса в этом файле и выведите их на экран. Используйте регулярные выражения для поиска."
   ]
  },
  {
   "cell_type": "markdown",
   "metadata": {
    "id": "i-cgam-Hc98z"
   },
   "source": [
    "2. <br>а) Напишите программу, которая проверяет введенный пользователем номер телефона на соответствие стандарту. Используйте регулярные выражения для проверки.<br>б) Дан текстовый файл. Найдите все номера телефонов в этом файле и выведите их на экран. Используйте регулярные выражения для поиска."
   ]
  },
  {
   "cell_type": "markdown",
   "metadata": {
    "id": "QsOcWaTZdA7o"
   },
   "source": [
    "3. <br>а) Напишите программу, которая проверяет введенный пользователем url-адрес на соответствие стандарту. Используйте регулярные выражения для проверки.<br>б) Дан текстовый файл. Найдите все url-адреса в этом файле и выведите их на экран. Используйте регулярные выражения для поиска."
   ]
  },
  {
   "cell_type": "markdown",
   "metadata": {
    "id": "8GxfnYtWdDi_"
   },
   "source": [
    "4. <br>а) Напишите программу, которая проверяет введенный пользователем дату на соответствие стандарту. Используйте регулярные выражения для проверки.<br>б) Дан текстовый файл. Найдите все даты в этом файле и выведите их на экран. Используйте регулярные выражения для поиска."
   ]
  },
  {
   "cell_type": "markdown",
   "metadata": {
    "id": "vr34q2ZtdGJW"
   },
   "source": [
    "5. <br>а) Напишите программу, которая проверяет введенный пользователем IP-адрес на соответствие стандарту. Используйте регулярные выражения для проверки.<br>б) Дан текстовый файл. Найдите все IP-адреса в этом файле и выведите их на экран. Используйте регулярные выражения для поиска."
   ]
  },
  {
   "cell_type": "markdown",
   "metadata": {
    "id": "u6BK-N9YdIlC"
   },
   "source": [
    "6. <br>а) Пользователь вводит строку, состоящую из слов, разделенных пробелами. Напишите функцию, которая с помощью регулярного выражения находит все слова, содержащие две и более согласных подряд.<br>б) Дан текстовый файл. Напишите функцию, которая с помощью регулярного выражения заменяет все URL-адреса на слово «ссылка»."
   ]
  },
  {
   "cell_type": "markdown",
   "metadata": {
    "id": "bBBRo_3pdP69"
   },
   "source": [
    "7. <br>а) Пользователь вводит строку, состоящую из номеров телефонов, разделенных запятыми. Напишите функцию, которая с помощью регулярного выражения проверяет, все ли номера телефонов корректны (формат +7(999)999-99-99).<br>б) Дан текстовый файл. Напишите функцию, которая с помощью регулярного выражения находит все даты в формате мм-гггг и выводит их список."
   ]
  },
  {
   "cell_type": "markdown",
   "metadata": {
    "id": "EQ-xb1QzddwI"
   },
   "source": [
    "8. <br>а) Пользователь вводит строку, состоящую из слов, разделенных пробелами. Напишите функцию, которая с помощью регулярного выражения находит все слова, начинающиеся на согласную букву.<br>б) Дан текстовый файл. Напишите функцию, которая с помощью регулярного выражения находит и выводит все номера телефонов."
   ]
  },
  {
   "cell_type": "markdown",
   "metadata": {
    "id": "2nRmhnD1dhGO"
   },
   "source": [
    "9. <br>а) Пользователь вводит строку, состоящую из слов, разделенных пробелами. Напишите функцию, которая с помощью регулярного выражения находит все слова, содержащие две и более цифры подряд.<br>б) Дан текстовый файл. Напишите функцию, которая с помощью регулярного выражения заменяет все русские слова на их перевод на английский язык (перевод задается вами)."
   ]
  },
  {
   "cell_type": "markdown",
   "metadata": {
    "id": "XAlnJNoldjnP"
   },
   "source": [
    "10. <br>а) Пользователь вводит строку, состоящую из номеров кредитных карт, разделенных запятыми. Напишите функцию, которая с помощью регулярного выражения проверяет, все ли номера кредитных карт корректны (формат 9999 9999 9999 9999).<br>б) Дан текстовый файл. Напишите функцию, которая с помощью регулярного выражения находит все упоминания денежных сумм в формате $999.99 и выводит их список."
   ]
  },
  {
   "cell_type": "markdown",
   "metadata": {
    "id": "seUE0kZwdnBi"
   },
   "source": [
    "11. <br>а) Пользователь вводит строку, состоящую из слов, разделенных пробелами. Напишите функцию, которая с помощью регулярного выражения проверяет, все ли слова в этой строке начинаются с заглавной буквы.<br>б) Дан текстовый файл. Напишите функцию, которая с помощью регулярного выражения заменяет все даты в формате дд.мм.гггг на формат мм/дд/гггг."
   ]
  },
  {
   "cell_type": "markdown",
   "metadata": {
    "id": "fLKrrjWzdp_G"
   },
   "source": [
    "12. <br>а) Пользователь вводит строку, состоящую из email-адресов, разделенных запятыми. Напишите функцию, которая с помощью регулярного выражения проверяет, все ли email-адреса корректны.<br>б) Дан текстовый файл. Напишите функцию, которая с помощью регулярного выражения находит все упоминания времени в формате чч:мм (24-часовой формат) и выводит их список."
   ]
  },
  {
   "cell_type": "markdown",
   "metadata": {
    "id": "obPb9FovdsV2"
   },
   "source": [
    "13. <br>а) Пользователь вводит строку, состоящую из слов, разделенных пробелами. Напишите функцию, которая с помощью регулярного выражения находит все слова, заканчивающиеся на «ing».<br>б) Дан текстовый файл. Напишите функцию, которая с помощью регулярного выражения заменяет все цифры на звездочки."
   ]
  },
  {
   "cell_type": "markdown",
   "metadata": {
    "id": "xo6dq0z6du4H"
   },
   "source": [
    "14. <br>а) Пользователь вводит строку, состоящую из слов, разделенных пробелами. Напишите функцию, которая с помощью регулярного выражения находит все слова, начинающиеся на гласную букву.<br>б) Дан текстовый файл. Напишите функцию, которая с помощью регулярного выражения находит и выводит все адреса электронной почты."
   ]
  },
  {
   "cell_type": "markdown",
   "metadata": {
    "id": "QnqmgMYgdxUN"
   },
   "source": [
    "15. <br>а) Пользователь вводит строку, состоящую из слов, разделенных пробелами. Напишите функцию, которая с помощью регулярного выражения находит все слова, содержащие две и более гласных подряд.<br>б) Дан текстовый файл. Напишите функцию, которая с помощью регулярного выражения заменяет все английские слова на их перевод на русский язык (перевод задается вами)."
   ]
  },
  {
   "cell_type": "markdown",
   "metadata": {
    "id": "jRQwjKp1cqGI"
   },
   "source": [
    "#### <font color='LightCoral'> **ЗАДАНИЕ 23.** Обработка исключений."
   ]
  },
  {
   "cell_type": "markdown",
   "metadata": {
    "id": "dcZaTYuvWADb"
   },
   "source": [
    "1. <br>а) Пользователь вводит число. Если число отрицательное, выводится сообщение «Число должно быть положительным». Если число равно нулю, выводится сообщение «Число не может быть нулевым». В остальных случаях выводится сообщение «Число введено корректно». Используйте исключения `ValueError` и `ZeroDivisionError`.<br>б) Пользователь вводит свой возраст. Если возраст меньше 18 лет, выбрасывается исключение «Несовершеннолетний пользователь». Если возраст больше 100 лет, выбрасывается исключение «Неверный возраст». В остальных случаях выводится сообщение «Возраст введен корректно».<br>в) Пользователь вводит число. Если число отрицательное, используя инструкцию `assert`, проверить условие и вывести сообщение «Число должно быть положительным». В остальных случаях выводится сообщение «Число введено корректно»."
   ]
  },
  {
   "cell_type": "markdown",
   "metadata": {
    "id": "f8VUi5FSWCkt"
   },
   "source": [
    "2. <br>а) Необходимо открыть файл с заданным именем. Если файл не существует, вывести сообщение «Файл не найден». Если возникла ошибка при чтении файла, вывести сообщение «Ошибка чтения файла». В остальных случаях вывести сообщение «Файл успешно прочитан». Используйте исключения `FileNotFoundError` и `IOError`.<br>б) Необходимо проверить, является ли введенная пользователем строка палиндромом. Если строка не является палиндромом, выбрасывается исключение «Строка не является палиндромом». В остальных случаях выводится сообщение «Строка является палиндромом».<br>в) Необходимо открыть файл с заданным именем. Если файл не существует, используя инструкцию `assert`, проверить условие и вывести сообщение «Файл не найден». В остальных случаях вывести сообщение «Файл успешно прочитан»."
   ]
  },
  {
   "cell_type": "markdown",
   "metadata": {
    "id": "dTpmyqQqWHGF"
   },
   "source": [
    "3. <br>а) Необходимо разделить два числа, введенных пользователем. Если второе число равно нулю, вывести сообщение «Деление на ноль запрещено». В остальных случаях вывести результат деления. Используйте исключение `ZeroDivisionError`.<br>б) Необходимо проверить, является ли введенное пользователем число простым. Если число не является простым, выбрасывается исключение «Число не является простым». В остальных случаях выводится сообщение «Число является простым».<br>в) Необходимо разделить два числа, введенных пользователем. Если второе число равно нулю, используя инструкцию `assert`, проверить условие и вывести сообщение «Деление на ноль запрещено». В остальных случаях вывести результат деления."
   ]
  },
  {
   "cell_type": "markdown",
   "metadata": {
    "id": "WXsxfNiHWKDX"
   },
   "source": [
    "4. <br>а) Пользователь вводит имя файла. Если имя файла содержит недопустимые символы, выбрасывается исключение «Недопустимое имя файла». В остальных случаях выводится сообщение «Имя файла введено корректно».<br>б) Пользователь вводит дату своего рождения. Если дата не соответствует формату «дд.мм.гггг», выбрасывается исключение «Неверный формат даты». В остальных случаях выводится сообщение «Дата введена корректно».<br>в) Пользователь вводит координаты точки на плоскости. Если хотя бы одна из координат не является числом, выбрасывается исключение «Некорректные координаты». В остальных случаях выводится сообщение «Координаты введены корректно»."
   ]
  },
  {
   "cell_type": "markdown",
   "metadata": {
    "id": "IO8GcnNcWaOD"
   },
   "source": [
    "5. <br>а) Необходимо открыть файл с заданным именем. Если файл не существует, вывести сообщение «Файл не найден». Если файл не является текстовым, выбрасывается исключение «Файл не является текстовым». В остальных случаях вывести сообщение «Файл успешно открыт». Используйте исключения `FileNotFoundError` и `TypeError`.<br>б) Необходимо проверить, является ли введенная пользователем строка числом. Если строка не является числом, выбрасывается исключение «Строка не является числом». В остальных случаях выводится сообщение «Строка является числом».<br>в) Необходимо открыть файл с заданным именем. Если файл не существует, используя инструкцию `assert`, проверить условие и вывести сообщение «Файл не найден». Если файл не является текстовым, выбрасывается исключение «Файл не является текстовым». В остальных случаях вывести сообщение «Файл успешно открыт»."
   ]
  },
  {
   "cell_type": "markdown",
   "metadata": {
    "id": "Hc_POcb_WfQv"
   },
   "source": [
    "6. <br>а) Необходимо возвести число, введенное пользователем, в степень, также введенную пользователем. Если степень отрицательная, выбрасывается исключение «Отрицательная степень». В остальных случаях выводится результат возведения в степень. Используйте исключение `ValueError`.<br>б) Необходимо проверить, является ли введенное пользователем число четным. Если число не является четным, выбрасывается исключение «Число не является четным». В остальных случаях выводится сообщение «Число является четным».<br>в) Необходимо возвести число, введенное пользователем, в степень, также введенную пользователем. Если степень отрицательная, используя инструкцию `assert`, проверить условие и вывести сообщение «Отрицательная степень». В остальных случаях выводится результат возведения в степень."
   ]
  },
  {
   "cell_type": "markdown",
   "metadata": {
    "id": "mMOdpvk2Wl3C"
   },
   "source": [
    "7. <br>а) Пользователь вводит свое имя. Если имя содержит цифры или специальные символы, выбрасывается исключение «Некорректное имя». В остальных случаях выводится сообщение «Имя введено корректно».<br>б) Пользователь вводит номер телефона. Если номер не соответствует формату «+7XXXXXXXXXX», выбрасывается исключение «Неверный формат номера». В остальных случаях выводится сообщение «Номер введен корректно».<br>в) Пользователь вводит email адрес. Если адрес не соответствует формату «example@example.com», выбрасывается исключение «Неверный формат email». В остальных случаях выводится сообщение «Email введен корректно»."
   ]
  },
  {
   "cell_type": "markdown",
   "metadata": {
    "id": "2t5_dI0mWq1k"
   },
   "source": [
    "8. <br>а) Необходимо открыть файл с заданным именем. Если файл не существует, вывести сообщение «Файл не найден». Если файл пустой, выбрасывается исключение «Файл пустой». В остальных случаях вывести сообщение «Файл успешно открыт». Используйте исключения `FileNotFoundError` и `EOFError`.<br>б) Необходимо проверить, является ли введенная пользователем строка URL-адресом. Если строка не является URL-адресом, выбрасывается исключение «Строка не является URL-адресом». В остальных случаях выводится сообщение «Строка является URL-адресом».<br>в) Необходимо открыть файл с заданным именем. Если файл не существует, используя инструкцию `assert`, проверить условие и вывести сообщение «Файл не найден». Если файл пустой, выбрасывается исключение «Файл пустой». В остальных случаях вывести сообщение «Файл успешно открыт»."
   ]
  },
  {
   "cell_type": "markdown",
   "metadata": {
    "id": "SBoP5Wq-W0wB"
   },
   "source": [
    "9. <br>а) Необходимо посчитать факториал числа, введенного пользователем. Если число отрицательное, выбрасывается исключение «Отрицательное число». В остальных случаях выводится результат вычисления факториала. Используйте исключение `ValueError`.<br>б) Необходимо проверить, является ли введенное пользователем число положительным. Если число не является положительным, выбрасывается исключение «Число не является положительным». В остальных случаях выводится сообщение «Число является положительным».<br>в) Необходимо посчитать факториал числа, введенного пользователем. Если число отрицательное, используя инструкцию `assert`, проверить условие и вывести сообщение «Отрицательное число». В остальных случаях выводится результат вычисления факториала."
   ]
  },
  {
   "cell_type": "markdown",
   "metadata": {
    "id": "35wUNOaVW9WR"
   },
   "source": [
    "10. <br>а) Пользователь вводит свой рост. Если рост меньше 0 или больше 300 см, выбрасывается исключение «Некорректный рост». В остальных случаях выводится сообщение «Рост введен корректно».<br>б) Пользователь вводит вес. Если вес меньше 0 или больше 500 кг, выбрасывается исключение «Некорректный вес». В остальных случаях выводится сообщение «Вес введен корректно».<br>в) Пользователь вводит температуру. Если температура меньше –273.15 градусов Цельсия, выбрасывается исключение «Некорректная температура». В остальных случаях выводится сообщение «Температура введена корректно»."
   ]
  },
  {
   "cell_type": "markdown",
   "metadata": {
    "id": "HHKJ_4I9XFFl"
   },
   "source": [
    "11. <br>а) Необходимо открыть файл с заданным именем. Если файл не существует, вывести сообщение «Файл не найден». Если файл содержит недопустимые символы, выбрасывается исключение «Файл содержит недопустимые символы». В остальных случаях вывести сообщение «Файл успешно открыт». Используйте исключения `FileNotFoundError` и `ValueError`.<br>б) Необходимо проверить, является ли введенная пользователем строка пустой. Если строка не является пустой, выбрасывается исключение «Строка не является пустой». В остальных случаях выводится сообщение «Строка является пустой».<br>в) Необходимо открыть файл с заданным именем. Если файл не существует, используя инструкцию `assert`, проверить условие и вывести сообщение «Файл не найден». Если файл содержит недопустимые символы, выбрасывается исключение «Файл содержит недопустимые символы». В остальных случаях вывести сообщение «Файл успешно открыт»."
   ]
  },
  {
   "cell_type": "markdown",
   "metadata": {
    "id": "IBCOAnCMXLa0"
   },
   "source": [
    "12. <br>а) Необходимо проверить, является ли введенное пользователем число квадратом целого числа. Если число не является квадратом целого числа, выбрасывается исключение «Число не является квадратом целого числа». В остальных случаях выводится сообщение «Число является квадратом целого числа».<br>б) Необходимо проверить, является ли введенная пользователем строка палиндромом. Если строка не является палиндромом, выбрасывается исключение «Строка не является палиндромом». В остальных случаях выводится сообщение «Строка является палиндромом».<br>в) Необходимо проверить, является ли введенное пользователем число квадратом целого числа. Если число не является квадратом целого числа, используя инструкцию `assert`, проверить условие и вывести сообщение «Число не является квадратом целого числа». В остальных случаях выводится сообщение «Число является квадратом целого числа»."
   ]
  },
  {
   "cell_type": "markdown",
   "metadata": {
    "id": "74JY9_ZyWvO_"
   },
   "source": [
    "13. <br>а) Пользователь вводит свой возраст. Если возраст меньше 0 или больше 150 лет, выбрасывается исключение «Некорректный возраст». В остальных случаях выводится сообщение «Возраст введен корректно».<br>б) Пользователь вводит свой пол. Если пол не равен «м» или «ж», выбрасывается исключение «Некорректный пол». В остальных случаях выводится сообщение «Пол введен корректно».<br>в) Пользователь вводит свое имя. Если имя содержит цифры или специальные символы, используя инструкцию `assert`, проверить условие и вывести сообщение «Некорректное имя». В остальных случаях выводится сообщение «Имя введено корректно»."
   ]
  },
  {
   "cell_type": "markdown",
   "metadata": {
    "id": "pTFj-jueXa6F"
   },
   "source": [
    "14. <br>а) Необходимо проверить, является ли введенное пользователем число степенью двойки. Если число не является степенью двойки, выбрасывается исключение «Число не является степенью двойки». В остальных случаях выводится сообщение «Число является степенью двойки».<br>б) Необходимо проверить, является ли введенная пользователем строка палиндромом. Если строка не является палиндромом, выбрасывается исключение «Строка не является палиндромом». В остальных случаях выводится сообщение «Строка является палиндромом».<br>в) Необходимо проверить, является ли введенное пользователем число степенью двойки. Если число не является степенью двойки, используя инструкцию `assert`, проверить условие и вывести сообщение «Число не является степенью двойки». В остальных случаях выводится сообщение «Число является степенью двойки»."
   ]
  },
  {
   "cell_type": "markdown",
   "metadata": {
    "id": "_CoU1wxvXh2J"
   },
   "source": [
    "15. <br>а) Пользователь вводит свое имя. Если имя содержит только пробелы или пустую строку, выбрасывается исключение «Некорректное имя». В остальных случаях выводится сообщение «Имя введено корректно».<br>б) Пользователь вводит свой возраст. Если возраст меньше 0 или больше 120 лет, выбрасывается исключение «Некорректный возраст». В остальных случаях выводится сообщение «Возраст введен корректно».<br>в) Пользователь вводит свой пол. Если пол не равен «м» или «ж», используя инструкцию assert, проверить условие и вывести сообщение «Некорректный пол». В остальных случаях выводится сообщение «Пол введен корректно»."
   ]
  },
  {
   "cell_type": "markdown",
   "metadata": {
    "id": "nTJboR7ycqP2"
   },
   "source": [
    "#### <font color='LightCoral'> **ЗАДАНИЕ 24.** Продвинутые коллекции."
   ]
  },
  {
   "cell_type": "markdown",
   "metadata": {
    "id": "vwPShvufoigb"
   },
   "source": [
    "1. <br>а) **`Counter`**: Подсчитать количество повторений каждого элемента в списке и вывести на экран.<br>б) **`defaultdictr`**: Написать функцию, которая принимает на вход список слов и возвращает словарь, в котором каждое слово является ключом, а значение — количество раз, которое это слово встречается в списке.<br>в) **`enum`**: Создать перечисление для дней недели и написать функцию, которая принимает на вход день недели и выводит его название на русском языке.<br>г) **`frozenset`**: Напишите программу, которая принимает на вход два множества и выводит их пересечение в виде `frozenset`.<br>д) **`namedtuple`**: Написать функцию, которая принимает список кортежей (имя, фамилия, возраст) и возвращает список объектов класса `namedtuple` с соответствующими полями.<br>е) **`OrderedDict`**: Создать упорядоченный словарь, содержащий информацию о количестве продаж каждого товара в интернет-магазине за последний месяц."
   ]
  },
  {
   "cell_type": "markdown",
   "metadata": {
    "id": "IvQQtsDhokNs"
   },
   "source": [
    "2. <br>а) **`Counter`**: Подсчитать количество слов в тексте и вывести на экран.<br>б) **`defaultdictr`**: Написать функцию, которая принимает на вход список кортежей (имя, оценка) и возвращает словарь, в котором каждое имя является ключом, а значение — список оценок этого человека.<br>в) **`enum`**: Создать перечисление для цветов и написать функцию, которая принимает на вход два цвета и возвращает их смешение (например, смешение красного и синего даст фиолетовый).<br>г) **`frozenset`**: Напишите функцию, которая принимает на вход список чисел и возвращает `frozenset` с уникальными значениями из этого списка.<br>д) **`namedtuple`**: Написать функцию, которая принимает список объектов класса `namedtuple` с информацией о продуктах и возвращает общую стоимость всех товаров.<br>е) **`OrderedDict`**: Реализовать функцию, которая принимает на вход список слов и возвращает упорядоченный словарь, в котором ключами являются слова, а значениями — количество повторений каждого слова в списке."
   ]
  },
  {
   "cell_type": "markdown",
   "metadata": {
    "id": "Se4K-Q2zpans"
   },
   "source": [
    "3. <br>а) **`Counter`**: Найти наиболее часто встречающийся элемент в списке.<br>б) **`defaultdictr`**: Написать функцию, которая принимает на вход список чисел и возвращает словарь, в котором каждое число является ключом, а значение — список индексов, на которых это число встречается в списке.<br>в) **`enum`**: Создать перечисление для типов животных (например, кошка, собака, птица) и написать функцию, которая принимает на вход тип животного и выводит звук, который оно издает.<br>г) **`frozenset`**: Напишите программу, которая принимает на вход два множества и выводит их объединение в виде `frozenset`.<br>д) **`namedtuple`**: Написать функцию, которая принимает список объектов класса `namedtuple` с информацией о погоде и возвращает среднюю температуру за все дни.<br>е) **`OrderedDict`**: Написать программу, которая считывает из файла список студентов и их оценки за экзамены, и выводит на экран упорядоченный словарь, в котором ключами являются имена студентов, а значениями — средний балл каждого студента."
   ]
  },
  {
   "cell_type": "markdown",
   "metadata": {
    "id": "SY4SFc9yqMlD"
   },
   "source": [
    "4. <br>а) **`Counter`**: Найти наименее часто встречающийся элемент в списке.<br>б) **`defaultdictr`**: Написать функцию, которая принимает на вход список кортежей (город, население) и возвращает словарь, в котором каждый город является ключом, а значение — население этого города. Если город уже есть в словаре, то население должно добавляться к уже имеющемуся значению.<br>в) **`enum`**: Создать перечисление для видов транспорта (например, автомобиль, велосипед, самолет) и написать функцию, которая принимает на вход вид транспорта и выводит максимальную скорость, которую он может развить.<br>г) **`frozenset`**: Напишите функцию, которая принимает на вход строку и возвращает `frozenset` с уникальными символами из этой строки.<br>д) **`namedtuple`**: Написать функцию, которая принимает список объектов класса `namedtuple` с информацией о книгах и сортирует их по году издания в порядке убывания.<br>е) **`OrderedDict`**: Написать программу, которая считывает из файла список товаров и их цен, и выводит на экран упорядоченный словарь, в котором ключами являются названия товаров, а значениями — цены на каждый товар. При этом цены должны быть отсортированы в порядке возрастания."
   ]
  },
  {
   "cell_type": "markdown",
   "metadata": {
    "id": "MT7PGDeyqOFL"
   },
   "source": [
    "5. <br>а) **`Counter`**: Найти все элементы, которые встречаются в списке более одного раза.<br>б) **`defaultdictr`**: Написать функцию, которая принимает на вход список чисел и возвращает список уникальных чисел из этого списка в том же порядке, в котором они были в исходном списке. Для решения задачи можно использовать defaultdict с типом значений set.<br>в) **`enum`**: Создать перечисление для месяцев года и написать функцию, которая принимает на вход две даты и выводит количество полных месяцев между ними.<br>г) **`frozenset`**: Напишите программу, которая принимает на вход два `frozenset` и выводит их разность в виде `frozenset`.<br>д) **`namedtuple`**: Написать функцию, которая принимает список объектов класса `namedtuple` с информацией о пользователях и возвращает список всех email-адресов.<br>е) **`OrderedDict`**: Написать программу, которая считывает из файла список слов и их частоту встречаемости в тексте, и выводит на экран упорядоченный словарь, в котором ключами являются слова, а значениями — их частота встречаемости. При этом слова должны быть отсортированы в порядке убывания частоты встречаемости."
   ]
  },
  {
   "cell_type": "markdown",
   "metadata": {
    "id": "IATNaMsjqgi8"
   },
   "source": [
    "6. <br>а) **`Counter`**: Отсортировать список по частоте элементов (от наиболее часто встречающихся до наименее).<br>б) **`defaultdictr`**: Написать функцию, которая принимает на вход список строк и возвращает словарь, в котором каждая строка является ключом, а значение — список индексов, на которых эта строка встречается в списке.<br>в) **`enum`**: Создать перечисление для типов планет в солнечной системе (например, Земля, Марс, Юпитер) и написать функцию, которая принимает на вход тип планеты и выводит её радиус.<br>г) **`frozenset`**: Напишите программу, которая принимает на вход список списков и возвращает `frozenset` с уникальными элементами из всех списков.<br>д) **`namedtuple`**: Написать функцию, которая принимает список объектов класса `namedtuple` с информацией о заказах и возвращает список заказов, сделанных в определенный день.<br>е) **`OrderedDict`**: Написать программу, которая считывает из файла список городов и их население, и выводит на экран упорядоченный словарь, в котором ключами являются названия городов, а значениями — население каждого города. При этом города должны быть отсортированы в порядке алфавитного порядка."
   ]
  },
  {
   "cell_type": "markdown",
   "metadata": {
    "id": "xM1h9Sucqlje"
   },
   "source": [
    "7. <br>а) **`Counter`**: Подсчитать количество каждого элемента в списке.<br>б) **`defaultdictr`**: Написать функцию, которая принимает на вход список кортежей (название книги, автор) и возвращает словарь, в котором каждый автор является ключом, а значение — список названий книг этого автора.<br>в) **`enum`**: Создать перечисление для типов материалов (например, дерево, металл, стекло) и написать функцию, которая принимает на вход два материала и возвращает true, если они совместимы, и false в противном случае.<br>г) **`frozenset`**: Напишите функцию, которая принимает на вход два множества и возвращает `frozenset` с элементами, которые есть только в одном из множеств.<br>д) **`namedtuple`**: Написать функцию, которая принимает список объектов класса `namedtuple` с информацией о фильмах и возвращает список фильмов, выпущенных после определенного года.<br>е) **`OrderedDict`**: Написать программу, которая считывает из файла список студентов и их оценки по предметам, и выводит на экран упорядоченный словарь, в котором ключами являются имена студентов, а значениями — их средний балл по всем предметам. При этом студенты должны быть отсортированы в порядке убывания среднего балла."
   ]
  },
  {
   "cell_type": "markdown",
   "metadata": {
    "id": "YxCymglSqpn-"
   },
   "source": [
    "8. <br>а) **`Counter`**: Подсчитать количество каждого слова в тексте.<br>б) **`defaultdictr`**: Написать функцию, которая принимает на вход список чисел и возвращает словарь, в котором каждое число является ключом, а значение — количество раз, которое это число встречается в списке.<br>в) **`enum`**: Создать перечисление для типов спорта (например, футбол, баскетбол, теннис) и написать функцию, которая принимает на вход тип спорта и выводит количество игроков в команде.<br>г) **`frozenset`**: Напишите программу, которая принимает на вход список строк и возвращает `frozenset` с уникальными словами из всех строк (слова разделены пробелами).<br>д) **`namedtuple`**: Написать функцию, которая принимает список объектов класса `namedtuple` с информацией о музыкальных альбомах и возвращает список альбомов, выпущенных до определенного года.<br>е) **`OrderedDict`**: Написать программу, которая считывает из файла список товаров и их цены, и выводит на экран упорядоченный словарь, в котором ключами являются названия товаров, а значениями — их цена. При этом товары должны быть отсортированы в порядке алфавитного порядка."
   ]
  },
  {
   "cell_type": "markdown",
   "metadata": {
    "id": "sJpSahOlqt1m"
   },
   "source": [
    "9. <br>а) **`Counter`**: Подсчитать количество букв в словах текста.<br>б) **`defaultdictr`**: Написать функцию, которая принимает на вход список кортежей (название города, температура) и возвращает словарь, в котором каждый город является ключом, а значение — список температур этого города.<br>в) **`enum`**: Создать перечисление для типов еды (например, фрукты, овощи, мясо) и написать функцию, которая принимает на вход тип еды и выводит количество калорий на 100 грамм.<br>г) **`frozenset`**: Напишите функцию, которая принимает на вход два множества и возвращает `frozenset` с элементами, которые есть только в первом множестве и не встречаются во втором.<br>д) **`namedtuple`**: Написать функцию, которая принимает список объектов класса `namedtuple` с информацией о товарах и возвращает список товаров, количество которых меньше определенного значения.<br>е) **`OrderedDict`**: Создать упорядоченный словарь, содержащий информацию о количестве продаж различных товаров за последний месяц. Ключом является название товара, а значением — количество продаж."
   ]
  },
  {
   "cell_type": "markdown",
   "metadata": {
    "id": "GKXg8iCFqwnN"
   },
   "source": [
    "10. <br>а) **`Counter`**: Найти наиболее часто встречающийся элемент в списке.<br>б) **`defaultdictr`**: Написать функцию, которая принимает на вход список строк и возвращает словарь, в котором каждая строка является ключом, а значение — количество раз, которое эта строка встречается в списке.<br>в) **`enum`**: Создать перечисление для типов музыкальных инструментов (например, гитара, фортепиано, скрипка) и написать функцию, которая принимает на вход тип инструмента и выводит название его создателя.<br>г) **`frozenset`**: Напишите программу, которая принимает на вход список кортежей и возвращает `frozenset` с уникальными элементами из всех кортежей.<br>д) **`namedtuple`**: Написать функцию, которая принимает список объектов класса `namedtuple` с информацией о футбольных командах и возвращает список команд, у которых количество побед больше определенного значения.<br>е) **`OrderedDict`**: Написать функцию, которая принимает на вход список кортежей, содержащих информацию о различных товарах (название, цена, количество) и возвращает упорядоченный словарь, в котором ключом является название товара, а значением — список кортежей с информацией о цене и количестве."
   ]
  },
  {
   "cell_type": "markdown",
   "metadata": {
    "id": "oNs7GaXiqz6t"
   },
   "source": [
    "11. <br>а) **`Counter`**: Найти наиболее часто встречающееся слово в тексте.<br>б) **`defaultdictr`**: Написать функцию, которая принимает на вход список чисел и возвращает словарь, в котором ключами являются четные числа из списка, а значениями — список нечетных чисел, которые следуют за этим четным числом.<br>в) **`enum`**: Создать перечисление для типов цветов (например, красный, зеленый, синий) и написать функцию, которая принимает на вход тип цвета и выводит его RGB код.<br>г) **`frozenset`**: Напишите функцию, которая принимает на вход два множества и возвращает `frozenset` с элементами, которые есть в обоих множествах.<br>д) **`namedtuple`**: Написать функцию, которая принимает список объектов класса `namedtuple` с информацией о студентах и возвращает список студентов, чей средний балл выше определенного значения.<br>е) **`OrderedDict`**: Создать класс для работы с упорядоченным словарем, который позволяет добавлять, удалять и изменять элементы словаря, а также получать отсортированный список ключей и значений."
   ]
  },
  {
   "cell_type": "markdown",
   "metadata": {
    "id": "yOcog7ueq2rO"
   },
   "source": [
    "12. <br>а) **`Counter`**: Найти наименее часто встречающийся элемент в списке.<br>б) **`defaultdictr`**: Написать функцию, которая принимает на вход список кортежей (название города, население) и возвращает словарь, в котором ключами являются диапазоны населения (например, «менее 100 тыс.», «от 100 тыс. до 1 млн.», «более 1 млн.»), а значениями — список городов, попадающих в каждый диапазон.<br>в) **`enum`**: Создать перечисление для типов животных (например, кошка, собака, кролик) и написать функцию, которая принимает на вход тип животного и выводит его средний вес.<br>г) **`frozenset`**: Напишите программу, которая принимает на вход список словарей и возвращает `frozenset` с уникальными ключами из всех словарей.<br>д) **`namedtuple`**: Написать функцию, которая принимает список объектов класса `namedtuple` с информацией о книгах и возвращает список книг, количество страниц в которых больше определенного значения.<br>е) **`OrderedDict`**: Написать функцию, которая принимает на вход упорядоченный словарь и возвращает новый словарь, содержащий только те элементы, значения которых больше заданного числа."
   ]
  },
  {
   "cell_type": "markdown",
   "metadata": {
    "id": "FgpLCX4mq433"
   },
   "source": [
    "13. <br>а) **`Counter`**: Найти наименее часто встречающееся слово в тексте.<br>б) **`defaultdictr`**: Написать функцию, которая принимает на вход список кортежей (название товара, цена) и возвращает словарь, в котором ключами являются диапазоны цен (например, «до 100 руб.», «от 100 руб. до 500 руб.», «более 500 руб.»), а значениями — список товаров, попадающих в каждый диапазон.<br>в) **`enum`**: Создать перечисление для типов напитков (например, чай, кофе, сок) и написать функцию, которая принимает на вход тип напитка и выводит его содержание кофеина.<br>г) **`frozenset`**: Напишите функцию, которая принимает на вход два множества и возвращает `frozenset` с элементами, которые есть только во втором множестве и не встречаются в первом.<br>д) **`namedtuple`**: Написать функцию, которая принимает список объектов класса `namedtuple` с информацией о поставщиках и возвращает список поставщиков из определенного города.<br>е) **`OrderedDict`**: Написать функцию, которая принимает на вход упорядоченный словарь и возвращает список ключей, значения которых начинаются с заданной буквы."
   ]
  },
  {
   "cell_type": "markdown",
   "metadata": {
    "id": "7-9OGkTlq76X"
   },
   "source": [
    "14. <br>а) **`Counter`**: Определить, сколько раз каждая цифра встречается в числе.<br>б) **`defaultdictr`**: Написать функцию, которая принимает на вход список кортежей (название страны, столица) и возвращает словарь, в котором ключами являются первые буквы названий стран (в верхнем регистре), а значениями — список кортежей с названиями стран и их столиц.<br>в) **`enum`**: Создать перечисление для типов видов транспорта (например, автомобиль, велосипед, самолет) и написать функцию, которая принимает на вход тип транспорта и выводит его максимальную скорость.<br>г) **`frozenset`**: Напишите программу, которая принимает на вход список строк и возвращает `frozenset` с уникальными символами из всех строк.<br>д) **`namedtuple`**: Написать функцию, которая принимает список объектов класса `namedtuple` с информацией о клиентах и возвращает список клиентов из определенного города.<br>е) **`OrderedDict`**: Написать функцию, которая принимает на вход упорядоченный словарь и возвращает новый словарь, содержащий только те элементы, ключи которых начинаются с заданной буквы."
   ]
  },
  {
   "cell_type": "markdown",
   "metadata": {
    "id": "qoOSwndhq--i"
   },
   "source": [
    "15. <br>а) **`Counter`**: Определить, сколько раз каждая буква алфавита встречается в тексте.<br>б) **`defaultdictr`**: Написать функцию, которая принимает на вход список строк и возвращает словарь, в котором ключами являются первые три буквы строк (в верхнем регистре), а значениями — количество строк, начинающихся с этих трех букв.<br>в) **`enum`**: Создать перечисление для типов драгоценных камней (например, алмаз, изумруд, рубин) и написать функцию, которая принимает на вход тип камня и выводит его твердость по шкале Мооса.<br>г) **`frozenset`**: Напишите функцию, которая принимает на вход два множества и возвращает `frozenset` с элементами, которые есть только в одном из множествах, но не в обоих.<br>д) **`namedtuple`**: Написать функцию, которая принимает список объектов класса `namedtuple` с информацией о транспортных средствах и возвращает список транспортных средств, выпущенных после определенного года.<br>е) **`OrderedDict`**: Написать функцию, которая принимает на вход упорядоченный словарь и возвращает новый словарь, содержащий только те элементы, значения которых содержат заданную подстроку."
   ]
  },
  {
   "cell_type": "markdown",
   "metadata": {
    "id": "Eiz1r57hl3Lv"
   },
   "source": [
    "## <font color='CadetBlue'> **ВТОРОЙ СЕМЕСТР**"
   ]
  },
  {
   "cell_type": "markdown",
   "metadata": {
    "id": "WtxZotV6eLD2"
   },
   "source": [
    "### <font color='CadetBlue'> **I** —  февраль, март"
   ]
  },
  {
   "cell_type": "markdown",
   "metadata": {
    "id": "s2CXmHkJeW6N"
   },
   "source": [
    "#### <font color='LightCoral'> **ЗАДАНИЕ 25.** Описание класса."
   ]
  },
  {
   "cell_type": "markdown",
   "metadata": {
    "id": "Nj2PsaR7Fai6"
   },
   "source": [
    "1. Класс – комплексное число. Методы – сумма, разность, произведение комплексных чисел. Поля – действительная и мнимая часть комплексного числа."
   ]
  },
  {
   "cell_type": "markdown",
   "metadata": {
    "id": "W6MQR6pAFb4G"
   },
   "source": [
    "2. Класс – десятичная дробь. Методы класса – сумма, разность, произведение, частное десятичных дробей. Поля класса – целая и дробная часть числа."
   ]
  },
  {
   "cell_type": "markdown",
   "metadata": {
    "id": "90JJLDN0FhxH"
   },
   "source": [
    "3. Класс – натуральная дробь. Методы класса – сумма, разность, произведение, частное натуральных дробей. Поля класса – числитель и знаменатель дроби."
   ]
  },
  {
   "cell_type": "markdown",
   "metadata": {
    "id": "RhQ2vaJSFl3s"
   },
   "source": [
    "4. Класс – строка символов. Методы класса – расчет длины строки и коли-чества слов. Поля класса – строка, длина строки, кол–во слов в строке."
   ]
  },
  {
   "cell_type": "markdown",
   "metadata": {
    "id": "u-XeyYkRFqFh"
   },
   "source": [
    "5. Класс – отрезок. Методы – расчет середины и длины. Поля класса – координаты начала, конца, середины и длина."
   ]
  },
  {
   "cell_type": "markdown",
   "metadata": {
    "id": "LcZB0oNfFs7k"
   },
   "source": [
    "6. Класс – окружность. Методы – расчет длины окружности и ее площади. Поля класса – координаты центра, радиус, длина, площадь окружности."
   ]
  },
  {
   "cell_type": "markdown",
   "metadata": {
    "id": "oOXS_Am7FxNJ"
   },
   "source": [
    "7. Класс – квадратное уравнение. Методы – расчет корней уравнения. Поля – корни уравнения, коэффициенты  $a$, $b$, $c$."
   ]
  },
  {
   "cell_type": "markdown",
   "metadata": {
    "id": "lOMtr2Q3F5nW"
   },
   "source": [
    "8. Класс – шар. Методы – расчет площади и объема шара. Поля – координаты центра ($x$, $y$, $z$), радиус шара."
   ]
  },
  {
   "cell_type": "markdown",
   "metadata": {
    "id": "mDiM5tREGETd"
   },
   "source": [
    "9. Класс – конус. Методы – расчет площади и объема конуса. Поля – радиус основания, высота конуса."
   ]
  },
  {
   "cell_type": "markdown",
   "metadata": {
    "id": "BVyKGnfiGHaJ"
   },
   "source": [
    "10. Класс – параллелепипед. Методы – расчет площади поверхности и объема параллелепипеда. Поля – ребра $a$, $b$, $c$, площадь и объем."
   ]
  },
  {
   "cell_type": "markdown",
   "metadata": {
    "id": "iavPLGYIGRoR"
   },
   "source": [
    "11. Класс – целочисленный вектор фиксированной размерности. Методы – сумма, разность, скалярное произведение векторов. Поля – размерность вектора, координаты вектора."
   ]
  },
  {
   "cell_type": "markdown",
   "metadata": {
    "id": "c_-H2DlIGWti"
   },
   "source": [
    "12. Класс – треугольник. Методы – расчет площади и периметра треуголь-ника. Поля – стороны треугольника."
   ]
  },
  {
   "cell_type": "markdown",
   "metadata": {
    "id": "_-sacydeGXpO"
   },
   "source": [
    "13. Класс – студент. Методы – определение среднего балла и решение о начислении стипендии. Поля – ФИО студента, оценки по дисциплинам в текущую сессию, средний балл."
   ]
  },
  {
   "cell_type": "markdown",
   "metadata": {
    "id": "6dGaKB6OGaDC"
   },
   "source": [
    "14. Класс – трапеция. Методы – расчет площади и периметра трапеции. Поля – стороны трапеции, площадь и периметр."
   ]
  },
  {
   "cell_type": "markdown",
   "metadata": {
    "id": "3Qglr0unGcrb"
   },
   "source": [
    "15. Класс – целочисленный вектор фиксированной размерности. Методы – сравнение двух векторов на равенство, вычисление длины вектора. Поля – размерность вектора, координаты вектора."
   ]
  },
  {
   "cell_type": "markdown",
   "metadata": {
    "id": "YpP98h6Lej5f"
   },
   "source": [
    "#### <font color='LightCoral'> **ЗАДАНИЕ 26.** Работа с классами."
   ]
  },
  {
   "cell_type": "markdown",
   "metadata": {
    "id": "momSNTdcGrkB"
   },
   "source": [
    "1. Опишите класс `Point`. Для точки задаются декартовы координаты $x$, $y$. Включите в описание класса методы, позволяющие вывести координаты точки на экран, рассчитать расстояние от начала координат до точки, пе-реместить точку на плоскости на вектор $(a, b)$ и свойство, позволяющее умножить координаты точки на скаляр.\n"
   ]
  },
  {
   "cell_type": "markdown",
   "metadata": {
    "id": "Lg4RrDrSG3DR"
   },
   "source": [
    "2. Опишите класс `Triangle`, заданный длинами сторон. Включите в описание класса методы, позволяющие вывести длины сторон треугольника на экран, рассчитать периметр, площадь и высоты треугольника и свойство, позволяющее установить, существует ли треугольник с данными длинами сторон.\n"
   ]
  },
  {
   "cell_type": "markdown",
   "metadata": {
    "id": "lis8Yq4DG-Fk"
   },
   "source": [
    "3. Опишите класс `Rectangle`, заданный длинами сторон. Включите в описа-ние класса методы, позволяющие вывести длины сторон прямоугольника на экран, рассчитать периметр, площадь и диагональ прямоугольника, изменить его размеры, умножив его длины на скаляр, и свойство, позволяющее установить, является ли данный прямоугольник квадратом."
   ]
  },
  {
   "cell_type": "markdown",
   "metadata": {
    "id": "qgVzd0tgHAew"
   },
   "source": [
    "4. Опишите класс `Money`, заданный двумя полями, которые определяют номинал купюры и количество купюр. Включите в описание класса методы, позволяющие вывести номинал и количество купюр, определить, хватит ли денежных средств на покупку товара на сумму   рублей, и метод определения, сколько штук товара стоимости   рублей можно купить на имеющиеся денежные средства, а также свойство, позволяющее рассчитать сумму денег."
   ]
  },
  {
   "cell_type": "markdown",
   "metadata": {
    "id": "nZHQuT8QHD9E"
   },
   "source": [
    "5. Опишите класс `Angle`, заданный величиной в градусах и минутах (двумя полями). Включите в описание класса методы, позволяющие реализовать перевод в радианы, привести величину угла к диапазону 0–360°, увеличить и уменьшить угол на заданную величину и свойство, позволяющее определить, является ли угол тупым."
   ]
  },
  {
   "cell_type": "markdown",
   "metadata": {
    "id": "R9f9bHiiHMAD"
   },
   "source": [
    "6. Опишите класс для работы со списком целых чисел размером $n$. Включите в описание класса методы ввода элементов списка, вывода списка на экран, нахождения максимального и минимального элементов списка и их индексов, а также свойства, позволяющие: определить, является ли список упорядоченным по убыванию, домножить все элементы списка на скаляр."
   ]
  },
  {
   "cell_type": "markdown",
   "metadata": {
    "id": "-iXPxzUSHVTy"
   },
   "source": [
    "7. Составьте описание класса многочлена вида $ax^2 + bx + c$. Включите в класс метод вывода описания многочлена на экран и метод вычисления значения многочлена для заданного аргумента, а также свойства, позволяющие: определить, имеет ли квадратное уравнение действительные корни; умножить многочлен на скаляр."
   ]
  },
  {
   "cell_type": "markdown",
   "metadata": {
    "id": "HIxMWeHBHdGA"
   },
   "source": [
    "8. Составьте описание класса многочлена вида $ax + b$. Включите в класс методы: вывода описания многочлена на экран, вычисления значения многочлена для заданного аргумента, вычисления корня линейного уравнения с проверкой неравенства коэффициента $b$ нулю, а также свойство, позволяющее возвести многочлен в квадрат."
   ]
  },
  {
   "cell_type": "markdown",
   "metadata": {
    "id": "VHWu7CkPHlYS"
   },
   "source": [
    "9. Опишите класс `Triangle`, заданный длиной одной стороны и двумя прилежащими углами (в градусах). Включите в описание класса методы, позволяющие вычислить две другие стороны и третий угол треугольника, и свойство, доступное только для чтения, позволяющее установить вид треугольника (равносторонний, равнобедренный, прямоугольный и т. п.)."
   ]
  },
  {
   "cell_type": "markdown",
   "metadata": {
    "id": "rNOMEeNKHxWl"
   },
   "source": [
    "10. Опишите класс `Account`. Для банковского счета задаются фамилия владельца, номер счёта, процент начисления за год и сумма в рублях. Включите в описание класса методы: пополнения счёта, снятия денег со счёта, перевода суммы в доллары и в евро, а также свойство, позволяющее начислить процент за заданное количество месяцев."
   ]
  },
  {
   "cell_type": "markdown",
   "metadata": {
    "id": "I3B9M_elH1bM"
   },
   "source": [
    "11. Опишите класс `Date`, заданный тремя атрибутами для года, месяца и дня. Включите в описание класса методы, позволяющие вычислить дату следующего дня, определить, сколько дней осталось до конца месяца, и свойство, позволяющее выяснить, является ли год високосным."
   ]
  },
  {
   "cell_type": "markdown",
   "metadata": {
    "id": "Y2Pn6yxhH4bI"
   },
   "source": [
    "12. Опишите класс `Salary`. Для класса задаются атрибуты: фамилия, имя и отчество, год поступления на работу, оклад в рублях, процент надбавки, количество отработанных дней в месяце, количество рабочих дней в месяце, начисленная и удержанная суммы. Включите в описание класса методы: вычисления начисленной суммы, вычисления удержанной суммы, вычисления суммы, выдаваемой на руки, а также свойство только для чтения, позволяющее определить стаж работы (вычисляется как полное количество лет, прошедших с момента зачисления на работу до задаваемого текущего года). Начисленная сумма вычисляется за отработанные дни месяца плюс надбавка. Удержания — подоходный налог 13%."
   ]
  },
  {
   "cell_type": "markdown",
   "metadata": {
    "id": "g0tY4kn0H8eQ"
   },
   "source": [
    "13. Опишите класс `Time`, заданный тремя полями для часов, минут и секунд. Включите в описание класса методы, позволяющие перевести время в секунды, изменить время на заданное количество секунд, и свойство только для чтения, позволяющее определить время суток (утро, день, вечер, ночь)."
   ]
  },
  {
   "cell_type": "markdown",
   "metadata": {
    "id": "5i4s1pdsIA7s"
   },
   "source": [
    "14. Опишите класс `ATM`. В классе задаются поля для хранения идентификационного номера банкомата, минимальной и максимальной сумм денег, которые позволено снять клиенту за один раз. Сумма денег, оставшаяся в банкомате, представляется шестью полями — номиналами российских рублей (10, 50, 100, 500, 1000, 5000), значениями которых является количество купюр данного достоинства. Включите в описание класса методы загрузки денег в банкомат и снятия определенной суммы денег, а также свойство, позволяющее вывести на экран сумму денег в банкомате в виде строки."
   ]
  },
  {
   "cell_type": "markdown",
   "metadata": {
    "id": "JSYqPo1wIE_1"
   },
   "source": [
    "15. Опишите класс `Window` для работы с моделями экранных окон. В качестве полей задаются координаты левого верхнего угла и размеры окна по вертикали и по горизонтали (целые числа), заголовок окна, состояние (видимое/невидимое). Включите в описание класса методы передвижения окна по горизонтали и по вертикали, изменения высоты и ширины окна с проверкой на пересечение границ экрана и свойство, позволяющее установить, является ли данное окно квадратным."
   ]
  },
  {
   "cell_type": "markdown",
   "metadata": {
    "id": "C_MzbmEnesp0"
   },
   "source": [
    "#### <font color='LightCoral'> **ЗАДАНИЕ 27.** Иерархия классов (наследование и полиморфизм)."
   ]
  },
  {
   "cell_type": "markdown",
   "metadata": {
    "id": "VVzZypIrIpiZ"
   },
   "source": [
    "1. Создайте класс ФИГУРА с методами вычисления площади и периметра, а также методом, выводящим информацию о фигуре на экран. Создайте дочерние классы ПРЯМОУГОЛЬНИК, КРУГ, ТРЕУГОЛЬНИК со своими методами вычисления площади и периметра. Создайте список $n$ фигур и выведите полную информацию о фигурах на экран.\n"
   ]
  },
  {
   "cell_type": "markdown",
   "metadata": {
    "id": "yFSEt0b3IttF"
   },
   "source": [
    "2. Создайте класс ИЗДАНИЕ с методом, позволяющим вывести на экран информацию об издании, а также определить, является ли данное издание искомым. Создайте дочерние классы КНИГА (название, фамилия автора, год издания, издательство), СТАТЬЯ (название, фамилия автора, название журнала, его номер и год издания), ЭЛЕКТРОННЫЙ РЕСУРС (название, фамилия автора, ссылка, аннотация) со своими методами вывода информации на экран. Создайте список из $n$ изданий, выведите полную информацию из списка, а также организуйте поиск изданий по фамилии автора."
   ]
  },
  {
   "cell_type": "markdown",
   "metadata": {
    "id": "XFp2WUYYIyeS"
   },
   "source": [
    "3. Создайте класс ТРЕУГОЛЬНИК, заданный длинами двух сторон и угла между ними, с методами вычисления площади и периметра треугольника, а также методом, выводящим информацию о фигуре на экран. Создайте дочерние классы ПРЯМОУГОЛЬНЫЙ, РАВНОБЕДРЕННЫЙ, РАВНОСТОРОННИЙ со своими методами вычисления площади и периметра. Создайте список $n$ треугольников и выведите полную информацию о треугольниках на экран."
   ]
  },
  {
   "cell_type": "markdown",
   "metadata": {
    "id": "MWYJcANkI4Yx"
   },
   "source": [
    "4. Создайте класс ТОВАР с методами, позволяющими вывести на экран информацию о товаре, а также определить, может ли приобрести товар покупатель, имеющий заданную сумму денег. Создайте дочерние классы ПРОДУКТ (название, цена, дата производства, срок годности), ПАРТИЯ (название, цена за штуку, количество штук, дата производства, срок годности), ТЕЛЕФОН (название, цена) со своими методами вывода информации на экран и определения соответствия заданной цене. Создайте список из $n$ товаров, выведите полную информацию из базы на экран, а также организуйте поиск товара, который может приобрести покупатель, имеющий заданную сумму денег."
   ]
  },
  {
   "cell_type": "markdown",
   "metadata": {
    "id": "_XHh1rJBI9d4"
   },
   "source": [
    "5. Создайте класс ТОВАР с методами, позволяющими вывести на экран информацию о товаре, а также определить, предназначен ли он для заданного возраста потребителя. Создайте дочерние классы ИГРУШКА (название, цена, производитель, материал, возраст, на который рассчитана), КНИГА (название, автор, цена, издательство, возраст, на который рассчитана), СПОРТИНВЕНТАРЬ (название, цена, производитель, возраст, на который рассчитан) со своими методами вывода информации на экран и определения соответствия возрасту потребителя. Создайте список из $n$ товаров, выведите полную информацию из базы на экран, а также организуйте поиск товаров для потребителя в заданном возрастном диапазоне."
   ]
  },
  {
   "cell_type": "markdown",
   "metadata": {
    "id": "hyG_AiFGJBsF"
   },
   "source": [
    "6. Создайте класс ТЕЛЕФОННЫЙ СПРАВОЧНИК с методами, позволяющими вывести на экран информацию о записях в телефонном справочнике, а также определить соответствие записи критерию поиска. Создайте дочерние классы ПЕРСОНА (фамилия, адрес, номер телефона), ОРГАНИЗАЦИЯ (название, адрес, телефон, факс, контактное лицо), ДРУГ (фамилия, адрес, номер телефона, дата рождения) со своими методами вывода информации на экран и определения соответствия заданной фамилии. Создайте список из $n$ записей, выведите полную информацию из базы на экран, а также организуйте поиск в базе по фамилии."
   ]
  },
  {
   "cell_type": "markdown",
   "metadata": {
    "id": "JDo00i08JHB3"
   },
   "source": [
    "7. Создайте класс КЛИЕНТ с методами, позволяющими вывести на экран информацию о клиентах банка, а также определить соответствие клиента критерию поиска. Создайте дочерние классы ВКЛАДЧИК (фамилия, дата открытия вклада, размер вклада, процент по вкладу), КРЕДИТОР (фамилия, дата выдачи кредита, размер кредита, процент по кредиту, остаток долга), ОРГАНИЗАЦИЯ (название, дата открытия счета, номер счета, сумма на счету) со своими методами вывода информации на экран и определения соответствия дате (открытия вклада, выдаче кредита, открытия счета). Создайте список из $n$ клиентов, выведите полную информацию из базы на экран, а также организуйте поиск клиентов, начавших сотрудничать с банком в заданную дату."
   ]
  },
  {
   "cell_type": "markdown",
   "metadata": {
    "id": "g5AdFEapJM1T"
   },
   "source": [
    "8. Создайте класс ПРОГРАММНОЕ ОБЕСПЕЧЕНИЕ с методами, позво-ляющими вывести на экран информацию о программном обеспечении, а также определить соответствие возможности использования (на текущую дату). Создайте дочерние классы СВОБОДНОЕ (название, производитель), УСЛОВНО БЕСПЛАТНОЕ (название, производитель, дата установки, срок бесплатного использования), КОММЕРЧЕСКОЕ (название, производитель, цена, дата установки, срок использования) со своими методами вывода информации на экран и определения возможности использования на текущую дату. Создайте список из   видов программного обеспечения, выведите полную информацию из базы на экран, а также организуйте поиск программного обеспечения, которое допустимо использовать на текущую дату."
   ]
  },
  {
   "cell_type": "markdown",
   "metadata": {
    "id": "bipOzyOQJW8Z"
   },
   "source": [
    "9. Создайте класс ТРАНСПОРТ с методами, позволяющими вывести на экран информацию о транспортном средстве, а также определить, находится ли транспортное средство в пределах заданных координат. Создайте дочерние классы САМОЛЕТ (марка, максимальные скорость и высота, количество пассажиров, координаты), АВТОМОБИЛЬ (марка, номер, год выпуска, координаты), КОРАБЛЬ (название, координаты, скорость, количество пассажиров, порт приписки) со своими методами вывода информации на экран и определения присутствия транспортного средства в пределах заданных координат. Создайте список из $n$ транспортных средств, выведите полную информацию из базы на экран, а также организуйте поиск транспортных средств, которые сейчас находятся в пределах заданных координат."
   ]
  },
  {
   "cell_type": "markdown",
   "metadata": {
    "id": "6h-83h83JcWk"
   },
   "source": [
    "10. Создайте класс ИГРУШКА с методами, позволяющими вывести на экран информацию о товаре, а также определить соответствие игрушки критерию поиска. Создайте дочерние классы КУБИК (цвет, цена, материал, размер ребра), МЯЧ (цена, цвет, диаметр, материал), МАШИНКА (название, цена, производитель, цвет) со своими методами вывода информации на экран и определения соответствия заданному цвету. Создайте список из $n$ игрушек, выведите полную информацию из базы на экран, а также организуйте поиск игрушек заданного цвета."
   ]
  },
  {
   "cell_type": "markdown",
   "metadata": {
    "id": "YFuH-QvHJlzI"
   },
   "source": [
    "11. Создайте класс ТЕЛО с методами вычисления площади поверхности и объема, а также методом, выводящим информацию о фигуре на экран. Создайте дочерние классы ПАРАЛЛЕЛЕПИПЕД, ШАР, ПИРАМИДА со своими методами вычисления площади и объема. Создайте список $n$ фигур и выведите полную информацию о фигурах на экран."
   ]
  },
  {
   "cell_type": "markdown",
   "metadata": {
    "id": "zFQ7gJLAJxgX"
   },
   "source": [
    "12. Создайте класс УРАВНЕНИЕ с методами вычисления корня уравнения и вывода результата на экран. Создайте дочерние классы ЛИНЕЙНОЕ, КВАДРАТНОЕ со своими методами вычисления корней и вывода на экран. Создайте список $n$ уравнений и выведите полную информацию об уравнениях на экран."
   ]
  },
  {
   "cell_type": "markdown",
   "metadata": {
    "id": "HmDstxApJ2C5"
   },
   "source": [
    "13. Создайте класс ВАЛЮТА с методами перевода денежной суммы в руб-ли и вывода на экран. Создайте дочерние классы ДОЛЛАР, ЕВРО со своими методами перевода и вывода на экран. Создайте список $n$ валютных денежных сумм и выведите полную информацию о них на экран."
   ]
  },
  {
   "cell_type": "markdown",
   "metadata": {
    "id": "pKT0xk8xJgv7"
   },
   "source": [
    "14. Создайте класс ПРОГРЕССИЯ с методами вычисления  $i$-го элемента прогрессии, её суммы и методом, выводящим сумму на экран. Создайте дочерние классы: АРИФМЕТИЧЕСКАЯ, ГЕОМЕТРИЧЕСКАЯ со своими методами вычисления. Создайте список $n$ прогрессий и выведите сумму каждой из них экран."
   ]
  },
  {
   "cell_type": "markdown",
   "metadata": {
    "id": "vwk-3E66KDid"
   },
   "source": [
    "15. Создайте класс ТРАНСПОРТ с методами, позволяющими вывести на экран информацию о транспортном средстве, а также определить грузоподъемность транспортного средства. Создайте дочерние классы АВТОМОБИЛЬ (марка, номер, скорость, грузоподъемность), МОТОЦИКЛ (марка, номер, скорость, грузоподъемность, наличие коляски, при этом если коляска отсутствует, то грузоподъемность равна нулю), ГРУЗОВИК (марка, номер, скорость, грузоподъемность, наличие прицепа, при этом если есть прицеп, то грузоподъемность увеличивается в два раза) со своими методами вывода информации на экран и определения грузоподъемности. Создайте список из $n$ машин, выведите полную информацию на экран, а также организуйте поиск машин, удовлетворяющих требованиям грузоподъемности."
   ]
  },
  {
   "cell_type": "markdown",
   "metadata": {
    "id": "ICWe68Cre6qx"
   },
   "source": [
    "#### <font color='LightCoral'> **ЗАДАНИЕ 28.** Основы функционального программирования: лямбда-функции."
   ]
  },
  {
   "cell_type": "markdown",
   "metadata": {
    "id": "6Vy3BOAWhhWq"
   },
   "source": [
    "1. <br>а) Напишите лямбда-функцию, которая добавляет 15 к заданному числу, переданному в качестве аргумента, а также лямбда-функцию, которая умножает аргумент `x` на аргумент `y`, и выведите результат.<br>б) Найти максимальное и минимальное значения в заданном списке кортежей с помощью лямбда-функции.<br>в) Извлечь строки с заданной длиной из списка строковых значений с помощью лямбда-функции."
   ]
  },
  {
   "cell_type": "markdown",
   "metadata": {
    "id": "BzABUUcHhqsU"
   },
   "source": [
    "2. <br>а) Напишите лямбда-функцию, которая принимает один аргумент, и этот аргумент должен быть умножен на неизвестное заданное число.<br>б) Найти числа, делящиеся на девятнадцать или тринадцать, из списка чисел, используя лямбда-функцию.<br>в) Напишите программу для подсчёта вещественных чисел в заданном смешанном списке с помощью лямбда-функции."
   ]
  },
  {
   "cell_type": "markdown",
   "metadata": {
    "id": "RC0u_vLIhymu"
   },
   "source": [
    "3. <br>а) Используя лямбда-функцию, отсортировать список кортежей. _Пример_: `[('English', 88), ('Science', 90), ('Maths', 97), ('Social sciences', 82)]` → `[('Social sciences', 82), ('English', 88), ('Science', 90), ('Maths', 97)]`.<br>б) Найдите палиндромы в заданном списке строк с помощью лямбда- функции.<br>в) Найти индекс и значение максимального и минимального значений в заданном списке чисел."
   ]
  },
  {
   "cell_type": "markdown",
   "metadata": {
    "id": "5kJwGIMjiBcO"
   },
   "source": [
    "4. <br>а) Используя лямбда-функцию, отсортировать список словарей. _Пример_: `[{'make': 'Nokia', 'model': 216, 'color': 'Black'}, {'make': 'Mi Max', 'model': '2', 'color': 'Gold'}, {'make': 'Samsung', 'model': 7, 'color': 'Blue'}]` → `[{'make': 'Nokia', 'model': 216, 'color': 'Black'}, {'make': 'Samsung', 'model': 7, 'color': 'Blue'}, {'make': 'Mi Max', 'model': '2', 'color': 'Gold'}]`.<br>б) Найти все анаграммы в заданном списке строк с помощью лямбда- функции. _Пример_: `'abcd'`, `['bcda', 'abce', 'cbda', 'cbea', 'adcb']` → `['bcda', 'cbda', 'adcb']`.<br>в) Напишите программу для сортировки заданного смешанного списка целых чисел и строк с помощью лямбда-функции. Числа должны быть отсортированы перед строками. _Пример_: `[19, 'red', 12, 'green', 'blue', 10, 'white', 'green', 1]` → `[1, 10, 12, 19, 'blue', 'green', 'green', 'red', 'white']`.\n"
   ]
  },
  {
   "cell_type": "markdown",
   "metadata": {
    "id": "nM4_EXBYiUlm"
   },
   "source": [
    "5. <br>а) Отфильтровать список целых чисел на чётные и нечётные числа с помощью лямбда-функции.<br>б) Для удаления определённых слов из заданного списка используйте лямбда-функцию. _Пример_: дан список слов `['orange', 'red', 'green', 'blue', 'white', 'black']`, удалить слова `['orange', 'black']` → `['red', 'green', 'blue', 'white']`.<br>в) Используя лямбда-функцию, проверить, отсортирован ли указанный список или нет.\n"
   ]
  },
  {
   "cell_type": "markdown",
   "metadata": {
    "id": "z3oobEJ2idSt"
   },
   "source": [
    "6. <br>а) Возвести в квадрат и куб каждое число в заданном списке целых чисел с помощью лямбда-функции.<br>б) Умножьте каждое число заданного списка на заданное число, при это используйте лямбда-функцию.<br>в) Используйте лямбда-функцию для извлечения $n$-го элемента кортежа из заданного списка кортежей. _Пример_: дан список кортежей `[('Greyson Fulton', 98, 99), ('Brady Kent', 97, 96), ('Wyatt Knott', 91, 94), ('Beau Turnbull', 94, 98)]`, при `n = 0` → `['Greyson Fulton', 'Brady Kent', 'Wyatt Knott', 'Beau Turnbull']`, при `n = 2` → `[99, 96, 94, 98]`."
   ]
  },
  {
   "cell_type": "markdown",
   "metadata": {
    "id": "A1d5CMujjC5L"
   },
   "source": [
    "7. <br>а) Используя лямбда-функцию, найти, начинается ли данная строка с заданного символа.<br>б) Суммируйте длину имён заданного списка после удаления имён, начинающихся со строчной буквы. Используйте лямбда-функцию. _Пример_: `['sally', 'Dylan', 'rebecca', 'Diana', 'Joanne', 'keith']` → `16`.<br>в) Удалите определённые слова из заданного списка с помощью лямбда- функции."
   ]
  },
  {
   "cell_type": "markdown",
   "metadata": {
    "id": "_A47hwamjMIu"
   },
   "source": [
    "8. <br>а) Используя лямбда-функцию, из текущего времени извлеките год, месяц, дату и время.<br>б) Вычислите сумму положительных и отрицательных чисел заданного списка чисел, используя лямбда-функцию.<br>в) Для подсчёта вхождений элементов в заданный список используйте лямбда-функцию. _Пример_: `[3, 4, 5, 8, 0, 3, 8, 5, 0, 3, 1, 5, 2, 3, 4, 2]` → `{3: 4, 4: 2, 5: 3, 8: 2, 0: 2, 1: 1, 2: 2}`."
   ]
  },
  {
   "cell_type": "markdown",
   "metadata": {
    "id": "9k9fJcA0jSb2"
   },
   "source": [
    "9. <br>а) С помощью лямбда-функции проверьте, является ли данная строка числом или нет.<br>б) Напишите программу для поиска чисел в заданном диапазоне, где каждое число делится на каждую цифру, которую оно содержит. _Пример_: задан диапазон от `1` до `22` → `[1, 2, 3, 4, 5, 6, 7, 8, 9, 11, 12, 15, 22]`.<br>в) Удалите все элементы из заданного списка, присутствующие в другом списке. _Пример_: `[1, 2, 3, 4, 5, 6, 7, 8, 9, 10]`, `[2, 4, 6, 8]` → `[1, 3, 5, 7, 9, 10]`."
   ]
  },
  {
   "cell_type": "markdown",
   "metadata": {
    "id": "g3dcJ5KrjaF8"
   },
   "source": [
    "10. <br>а) Вывести ряд Фибоначчи до n чисел, используя лямбда-функцию.<br>б) Найти следующее после заданного число, полученное перестановкой цифр заданного числа. _Примеры_: `12` → `21`, `10` → `False`, `201` → `210`, `102` → `120`, `445` → `454`.<br>в) Напишите программу для поиска элементов заданного списка строк, содержащих определённую подстроку, используя лямбда-функцию. _Пример_: `['red', 'black', 'white', 'green', 'orange']`; `ack` → `['black']`; `abc` → `[]`."
   ]
  },
  {
   "cell_type": "markdown",
   "metadata": {
    "id": "0-z9ugKgjpc1"
   },
   "source": [
    "11. <br>а) Найти пересечение двух заданных списков с помощью лямбда- функции. _Пример_: `[1, 2, 3, 5, 7, 8, 9, 10]`, `[1, 2, 4, 8, 9]` → `[1, 2, 8, 9]`.<br>б) Найти список с максимальной и минимальной длиной, используя лямбда-функцию. _Пример_: `[[0], [1, 3], [5, 7], [9, 11], [13, 15, 17]]` → `(3, [13, 15, 17])`, (1, [0]).<br>в) Найти вложенные элементы списков, которые присутствуют в другом списке с помощью лямбда-функции. _Пример_: `[1, 2, 3, 4, 5, 6, 7, 8, 9, 10, 11, 12, 13, 14]`, `[[12, 18, 23, 25, 45], [7, 11, 19, 24, 28], [1, 5, 8, 18, 15, 16]]` → `[[12], [7, 11], [1, 5, 8]]`."
   ]
  },
  {
   "cell_type": "markdown",
   "metadata": {
    "id": "LaAPzXg2j4-G"
   },
   "source": [
    "12. <br>а) Используя лямбда-функцию, в заданном массиве отсортируйте числа следующим образом: сначала идут положительные числа по возрастанию, затем отрицательные — также по возрастанию.<br>б) Напишите программу для сортировки каждого подсписка строк в заданном списке списков. Используйте лямбда-функцию.<br>в) Вычислить произведение элементов заданного списка чисел с помощью лямбда-функции."
   ]
  },
  {
   "cell_type": "markdown",
   "metadata": {
    "id": "5z2mvCMZj-rf"
   },
   "source": [
    "13. <br>а) Подсчитайте чётные и нечётные числа в заданном списке целых чисел, используя лямбда-функцию. <br>б) Отсортируйте заданный список списков по длине и значению, используя при этом лямбда-функцию. _Пример_: `[[2], [0], [1, 3], [0, 7], [9, 11], [13, 15, 17]]` → `[[0], [2], [0, 7], [1, 3], [9, 11], [13, 15, 17]]`.<br>в) Используйте лямбда-функцию для вычисления среднего значения чисел в заданном кортеже кортежей. Примеры: `((10, 10, 10), (30, 45, 56), (81, 80, 39), (1, 2, 3))` → `(30.5, 34.25, 27.0)`; `((1, 1, -5), (30, -15, 56), (81, -60, -39), (-10, 2, 3))` → `(25.5, -18.0, 3.75)`."
   ]
  },
  {
   "cell_type": "markdown",
   "metadata": {
    "id": "RTJdAZQokKmN"
   },
   "source": [
    "14. <br>а) С помощью лямбда-функции в заданном списке слов найти слова, длина которых равна шести.<br>б) Найти максимальное значение в заданном гетерогенном списке с помощью лямбда-функции. _Пример_: `['Python', 3, 2, 4, 5, 'version']` → `5`.<br>в) Удалите значения `None` из заданного списка с помощью лямбда- функции. _Пример_: `[12, 0, None, 23, None, -55, 234, 89, None, 0, 6, -12]` → `[12, 0, 23, -55, 234, 89, 0, 6, -12]`."
   ]
  },
  {
   "cell_type": "markdown",
   "metadata": {
    "id": "SwCnArAVkmG8"
   },
   "source": [
    "15. <br>а) Сложите два заданных списка с помощью лямбда-функции и функции `map`.<br>б) Используйте лямбда-функцию для сортировки данной матрицы в порядке возрастания по сумме элементов её строк. _Пример_: `[[1, 2, 3], [2, 4, 5], [1, 1, 1]]` → `[[1, 1, 1], [1, 2, 3], [2, 4, 5]]`; `[[1, 2, 3], [-2, 4, -5], [1, -1, 1]]` → `[[-2, 4, -5], [1, -1, 1], [1, 2, 3]]`.<br>в) Напишите программу для сортировки заданного списка строк (чисел) численно с помощью лямбда-функции. _Пример_: `['4', '12', '45', '7', '0', '100', '200', '-12', '-500']` → `['-500', '-12', '0', '4', '7', '12', '45', '100', '200']`.\n"
   ]
  },
  {
   "cell_type": "markdown",
   "metadata": {
    "id": "Ufb_V5ALe70J"
   },
   "source": [
    "#### <font color='LightCoral'> **ЗАДАНИЕ 29.** Основы функционального программирования: функции `map`, `filter`, `reduce`."
   ]
  },
  {
   "cell_type": "markdown",
   "metadata": {
    "id": "mpe0QtitnWBJ"
   },
   "source": [
    "1. <br>а) Утройте все числа из заданного списка целых чисел, используя функцию `map()`.<br>б) Сгенерировать список целых чисел. С помощью функции `filter()` выбрать из списка все нечетные числа и упорядочить их по убыванию. Используя функцию `reduce()`, найти их произведение."
   ]
  },
  {
   "cell_type": "markdown",
   "metadata": {
    "id": "L1aUT7fQniLI"
   },
   "source": [
    "2. <br>а) Создайте списки, содержащие определенные элементы из кортежа, и преобразуйте строковые значения в целое число. _Пример_: `[('Alberto Franco', '15/05/2002', '35kg'), ('Gino Mcneill', '17/05/2002', '37kg'), ('Ryan Parkes', '16/02/1999', '39kg'), ('Eesha Hinton', '25/09/1998', '35kg')]` → `['Alberto Franco', 'Gino Mcneill', 'Ryan Parkes', 'Eesha Hinton']`; `['15/05/2002', '17/05/2002', '16/02/1999', '25/09/1998']`; `[35, 37, 39, 35]`.<br>б) Сгенерировать список целых чисел. С помощью функции `filter()` выбрать из списка все положительные числа и упорядочить их по возрастанию. Используя функцию `reduce()`, найти их сумму.\n"
   ]
  },
  {
   "cell_type": "markdown",
   "metadata": {
    "id": "pSaQjkzjn9Ik"
   },
   "source": [
    "3. <br>а) Сложите три заданных списка, используя `map()` и лямбда-функцию.<br>б) Сгенерировать список целых чисел. С помощью функции `filter()` выбрать из списка все положительные числа и упорядочить их по убыванию. Используя функцию `reduce()`, найти их произведение."
   ]
  },
  {
   "cell_type": "markdown",
   "metadata": {
    "id": "HIh-AG5NoMTo"
   },
   "source": [
    "4. <br>а) Сложите два заданных списка и найдите разницу между ними, используя функцию `map()`. _Пример_: `[6, 5, 3, 9], [0, 1, 7, 7]` → `[(6, 6), (6, 4), (10, –4), (16, 2)]`.<br>б) Сгенерировать список целых чисел. С помощью функции `filter()` выбрать из списка все четные числа и упорядочить их по возрастанию. Используя функцию `reduce()`, найти их сумму."
   ]
  },
  {
   "cell_type": "markdown",
   "metadata": {
    "id": "vkX1yEtmncsJ"
   },
   "source": [
    "5. <br>а) С помощью функции `map()` преобразуйте каждую строку из заданного списка строк в список символов. _Пример_: `['Red', 'Blue', 'Black', 'White', 'Pink']` → `[['R', 'e', 'd'], ['B', 'l', 'u', 'e'], ['B', 'l', 'a', 'c', 'k'], ['W', 'h', 'i', 't', 'e'], ['P', 'i', 'n', 'k']]`.<br>б) Сгенерировать список целых чисел. С помощью функции `filter()` выбрать из списка все числа больше заданного числа   и упорядочить их по убыванию. Используя функцию `reduce()`, найти их произведение."
   ]
  },
  {
   "cell_type": "markdown",
   "metadata": {
    "id": "UI8D1r_BoY40"
   },
   "source": [
    "6. <br>а) С использованием функции `map()` создайте список, содержащий заданные числа, возведенные в соответствующую степень. _Пример_: `bases = [10, 20, 30, 40, 50, 60, 70, 80, 90, 100]`, `exponents = [1, 2, 3, 4, 5, 6, 7, 8, 9, 10]` → `result = [10, 400, 27000, 2560000, 312500000, 46656000000, 8235430000000, 1677721600000000, 387420489000000000, 100000000000000000000]`.<br>б) Сгенерировать список целых чисел. С помощью функции `filter()` выбрать из списка все числа больше 10 и упорядочить их по возрастанию. Используя функцию `reduce()`, найти их сумму.\n"
   ]
  },
  {
   "cell_type": "markdown",
   "metadata": {
    "id": "e-bBn_8XohPA"
   },
   "source": [
    "7. <br>а) Разделите заданный словарь списков на список словарей, используя функцию `map()`. _Пример_: `{'Science': [88, 89, 62, 95], 'Language': [77, 78, 84, 80]}` → `[{'Science': 88, 'Language': 77}, {'Science': 89, 'Language': 78}, {'Science': 62, 'Language': 84}, {'Science': 95, 'Language': 80}]`.<br>б) Сгенерировать список целых чисел. С помощью функции `filter()` выбрать из списка все числа кратные 5 и упорядочить их по убыванию. Используя функцию `reduce()`, найти их произведение."
   ]
  },
  {
   "cell_type": "markdown",
   "metadata": {
    "id": "OhgXcAV_op6C"
   },
   "source": [
    "8. <br>а) Преобразуйте заданный список целых чисел и кортеж целых чисел в список строк. _Пример_: `[1, 2, 3, 4]`, `(0, 1, 2, 3)` → `['1', '2', '3', '4']`, `('0', '1', '2', '3')`.<br>б) Сгенерировать список целых чисел. С помощью функции `filter()` выбрать из списка все числа меньше заданного числа   и упорядочить их по возрастанию. Используя функцию `reduce()`, найти их произведение."
   ]
  },
  {
   "cell_type": "markdown",
   "metadata": {
    "id": "IkAIEg4bo1kG"
   },
   "source": [
    "9. <br>а) Преобразуйте заданный список строк в список списков с помощью функции `map()`. _Пример_: `['Red', 'Green', 'Black', 'Orange']` → `[['R', 'e', 'd'], ['G', 'r', 'e', 'e', 'n'], ['B', 'l', 'a', 'c', 'k'], ['O', 'r', 'a', 'n', 'g', 'e']]`.<br>б) Сгенерировать список целых чисел. С помощью функции `filter()` выбрать из списка все числа меньше 15 и упорядочить их по убыванию. Используя функцию `reduce()`, найти их сумму."
   ]
  },
  {
   "cell_type": "markdown",
   "metadata": {
    "id": "CD4EsUc2o-Xo"
   },
   "source": [
    "10. <br>а) Преобразуйте заданный список кортежей в список строк с помощью функции `map()`. _Пример_: `[('red', 'pink'), ('white', 'black'), ('orange', 'green')]` → `['red pink', 'white black', 'orange green']`; `[('Sheridan', 'Gentry'); ('Laila', 'Mckee'), ('Ahsan', 'Rivas'), ('Conna', 'Gonzalez')]` → `['Sheridan Gentry', 'Laila Mckee', 'Ahsan Rivas', 'Conna Gonzalez']`.<br>б) Сгенерировать список целых чисел. С помощью функции `filter()` выбрать из списка все числа кратные 3 и упорядочить их по возрастанию. Используя функцию `reduce()`, найти их произведение."
   ]
  },
  {
   "cell_type": "markdown",
   "metadata": {
    "id": "r65mHO3LpGzo"
   },
   "source": [
    "11. <br>а) Напишите программу для подсчета пар одинаковых значений в двух заданных списках. Используйте функцию `map()`. _Пример_: `[1, 2, 3, 4, 5, 6, 7, 8]`, `[2, 2, 3, 1, 2, 6, 7, 9]` → `4`.<br>б) Сгенерировать список целых чисел. С помощью функции `filter()` выбрать из списка все числа кратные заданному числу и упорядочить их по убыванию. Используя функцию `reduce()`, найти их сумму."
   ]
  },
  {
   "cell_type": "markdown",
   "metadata": {
    "id": "Uhduv_bqpNhe"
   },
   "source": [
    "12. <br>а) Найдите соотношение положительных чисел, отрицательных чисел и нулей в массиве целых чисел. _Пример_: `[0, 1, 2, –1, –5, 6, 0, –3, –2, 3, 4, 6, 8]` → `(0.54, 0.31, 0.15)`; `[2, 1, 2, –1, –5, 6, 4, –3, –2, 3, 4, 6, 8]` → `(0.69, 0.31, 0.0)`.<br>б) Сгенерировать список целых чисел. С помощью функции `filter()` выбрать из списка все отрицательные числа и упорядочить их по возрастанию. Используя функцию `reduce()`, найти их произведение."
   ]
  },
  {
   "cell_type": "markdown",
   "metadata": {
    "id": "X7oMZ_KgpWd7"
   },
   "source": [
    "13. <br>а) Используя функцию `map()`(), переведите все символы заданной последовательности в верхний и нижний регистр и удалите повторяющиеся буквы. _Пример_: `'a'`, `'b'`, `'E'`, `'f'`, `'a'`, `'i'`, `'o'`, `'U'`, `'a'` → `{('E', 'e'), ('B', 'b'), ('U', 'u'), ('I', 'i'), ('A', 'a'), ('O', 'o'), ('F', 'f')}`.<br>б) Сгенерировать список целых чисел. С помощью функции `filter()` выбрать из списка все числа на нечетных позициях и упорядочить эти числа по убыванию. Используя функцию `reduce()`, найти их сумму."
   ]
  },
  {
   "cell_type": "markdown",
   "metadata": {
    "id": "4Rm0PbXSpj-h"
   },
   "source": [
    "14. <br>а) Вычислите квадраты первых $N$ чисел Фибоначчи, используя функцию `map()`, и сгенерируйте из них список чисел. _Пример_: `N = 10` → `[0, 1, 1, 2, 3, 5, 8, 13, 21, 34]` → `[0, 1, 1, 4, 9, 25, 64, 169, 441, 1156]`.<br>б) Сгенерировать список целых чисел. С помощью функции `filter()` выбрать из списка все двузначные числа и упорядочить эти числа по возрастанию. Используя функцию `reduce()`, найти их произведение."
   ]
  },
  {
   "cell_type": "markdown",
   "metadata": {
    "id": "sYWBM7xHpxd7"
   },
   "source": [
    "15. <br>а) Возведите в квадрат элементы списка с помощью функции `map()`.<br>б) Сгенерировать список целых чисел. С помощью функции `filter()` выбрать из списка все числа на четных позициях и упорядочить эти числа по возрастанию. Используя функцию `reduce()`, найти их сумму."
   ]
  },
  {
   "cell_type": "markdown",
   "metadata": {
    "id": "jIET26XX-1iW"
   },
   "source": [
    "#### <font color='LightCoral'> **ЗАДАНИЕ 30.** Декораторы."
   ]
  },
  {
   "cell_type": "markdown",
   "metadata": {
    "id": "EztubtBQAx1W"
   },
   "source": [
    "1. <br>а) Создайте декоратор, который будет выводить время выполнения функции и сохранять его в файл.<br>б) Создайте декоратор, который будет принимать аргументы и передавать их в функцию в качестве позиционных параметров с заданными значениями по умолчанию."
   ]
  },
  {
   "cell_type": "markdown",
   "metadata": {
    "id": "5uQShfd_AzGG"
   },
   "source": [
    "2. <br>а) Создайте декоратор, который будет выводить на экран результат выполнения функции.<br>б) Создайте декоратор, который будет принимать аргументы и передавать их в функцию в качестве позиционных параметров и ключевых параметров с заданными значениями по умолчанию."
   ]
  },
  {
   "cell_type": "markdown",
   "metadata": {
    "id": "Y6Mw3kYSA4ns"
   },
   "source": [
    "3. <br>а) Создайте декоратор, который будет выводить на экран аргументы функции и их типы.<br>б) Создайте декоратор, который будет принимать несколько аргументов и передавать их в функцию в определенном порядке."
   ]
  },
  {
   "cell_type": "markdown",
   "metadata": {
    "id": "pDT8SdqYBCeO"
   },
   "source": [
    "4. <br>а) Создайте декоратор, который будет выводить на экран имя функции и модуль, где она определена.<br>б) Создайте декоратор, который будет принимать несколько аргументов и передавать их в функцию в качестве ключевых параметров с заданными значениями по умолчанию."
   ]
  },
  {
   "cell_type": "markdown",
   "metadata": {
    "id": "3-9ph3tfBE6G"
   },
   "source": [
    "5. <br>а) Создайте декоратор, который будет выводить на экран количество вызовов функции за определенный период времени.<br>б) Создайте декоратор, который будет принимать несколько аргументов и передавать их в функцию в качестве позиционных параметров с заданными значениями по умолчанию."
   ]
  },
  {
   "cell_type": "markdown",
   "metadata": {
    "id": "66-8jQeMBHRV"
   },
   "source": [
    "6. <br>а) Создайте декоратор, который будет выводить на экран статистику вызовов функции и сохранять ее в текстовый файл.<br>б) Создайте декоратор, который будет принимать несколько аргументов и передавать их в функцию в качестве позиционных параметров и ключевых параметров с заданными значениями по умолчанию."
   ]
  },
  {
   "cell_type": "markdown",
   "metadata": {
    "id": "BEotHZ_YBJvA"
   },
   "source": [
    "7. <br>а) Создайте декоратор, который будет кэшировать результаты выполнения функции и очищать кэш при превышении заданного размера.<br>б) Создайте декоратор, который будет принимать список аргументов и передавать его в функцию в определенном порядке."
   ]
  },
  {
   "cell_type": "markdown",
   "metadata": {
    "id": "D93ssi2iBbD6"
   },
   "source": [
    "8. <br>а) Создайте декоратор, который будет логировать ошибки, возникающие при выполнении функции, и отправлять уведомления об этих ошибках.<br>б) Создайте декоратор, который будет принимать словарь аргументов и передавать его в функцию с заданными значениями по умолчанию."
   ]
  },
  {
   "cell_type": "markdown",
   "metadata": {
    "id": "ZYe08yMRBf-F"
   },
   "source": [
    "9. <br>а) Создайте декоратор, который будет проверять аргументы функции на корректность и выбрасывать исключение при обнаружении некорректных данных.<br>б) Создайте декоратор, который будет принимать список и словарь аргументов и передавать их в функцию в определенном порядке и с заданными значениями по умолчанию."
   ]
  },
  {
   "cell_type": "markdown",
   "metadata": {
    "id": "rbpKJRIWBiEZ"
   },
   "source": [
    "10. <br>а) Создайте декоратор, который будет проверять возвращаемое значение функции на корректность и заменять его на предопределенное значение при обнаружении некорректных данных.<br>б) Создайте декоратор, который будет заменять значение аргумента на заданное значение только если оно удовлетворяет определенному условию."
   ]
  },
  {
   "cell_type": "markdown",
   "metadata": {
    "id": "BDS5DZzeBklY"
   },
   "source": [
    "11. <br>а) Создайте декоратор, который будет заменять исключения, возникающие при выполнении функции, на заданное значение и логировать эти замены.<br>б) Создайте декоратор, который будет заменять значение аргумента на результат выполнения заданной функции только если оно удовлетворяет определенному условию."
   ]
  },
  {
   "cell_type": "markdown",
   "metadata": {
    "id": "53S0OXIeBmt5"
   },
   "source": [
    "12. <br>а) Создайте декоратор, который будет ограничивать время выполнения функции и выбрасывать исключение при превышении этого времени.<br>б) Создайте декоратор, который будет заменять значение аргумента на результат выполнения заданной функции с использованием других аргументов функции только если оно удовлетворяет определенному условию."
   ]
  },
  {
   "cell_type": "markdown",
   "metadata": {
    "id": "46E6MpziBo-O"
   },
   "source": [
    "13. <br>а) Создайте декоратор, который будет ограничивать количество вызовов функции за определенный период времени.<br>б) Создайте декоратор, который будет заменять значение аргумента на результат выполнения заданной функции с использованием других аргументов функции и некоторого контекста только если оно удовлетворяет определенному условию."
   ]
  },
  {
   "cell_type": "markdown",
   "metadata": {
    "id": "yIKEgtH3BrfT"
   },
   "source": [
    "14. <br>а) Создайте декоратор, который будет принимать аргументы и передавать их в функцию в определенном порядке.<br>б) Создайте декоратор, который будет заменять значение аргумента на результат выполнения заданной функции с использованием других аргументов функции и контекста извне только если оно удовлетворяет определенному условию."
   ]
  },
  {
   "cell_type": "markdown",
   "metadata": {
    "id": "guNiG7HDBtbu"
   },
   "source": [
    "15. <br>а) Создайте декоратор, который будет принимать аргументы и передавать их в функцию в качестве ключевых параметров с заданными значениями по умолчанию.<br>б) Создайте декоратор, который будет заменять значение аргумента на результат выполнения заданной функции с использованием других аргументов функции и контекста извне, если условие выполняется и логировать эти замены."
   ]
  },
  {
   "cell_type": "markdown",
   "metadata": {
    "id": "grEFfrT1Ptd9"
   },
   "source": [
    "#### <font color='LightCoral'> **ЗАДАНИЕ 31.** Функции-генераторы и выражения-генераторы."
   ]
  },
  {
   "cell_type": "markdown",
   "metadata": {
    "id": "Qoo1yaQpRe3N"
   },
   "source": [
    "1. <br>а) Написать функцию-генератор, которая создает последовательность чисел Фибоначчи до заданного числа.\n",
    "<br>б) Написать функцию-генератор, которая создает все возможные варианты расположения фотографий на стене.\n",
    "<br>в) Найти сумму квадратов всех чисел от 1 до 10, используя выражение-генератор.\n",
    "<br>г) Создать список всех чисел, являющихся квадратами других чисел, в заданном диапазоне, используя выражение-генератор."
   ]
  },
  {
   "cell_type": "markdown",
   "metadata": {
    "id": "A7kZIUb3oLlE"
   },
   "source": [
    "2. <br>а) Реализовать функцию-генератор, которая создает случайные строки заданной длины из заданного набора символов.\n",
    "<br>б) Реализовать функцию-генератор, которая создает все возможные варианты расположения мебели в комнате.\n",
    "<br>в) Найти все простые числа в диапазоне от 1 до 100, используя выражение-генератор.\n",
    "<br>г) Отфильтровать список строк, оставив только те, которые содержат только цифры, используя выражение-генератор."
   ]
  },
  {
   "cell_type": "markdown",
   "metadata": {
    "id": "AlU0cV74oOl0"
   },
   "source": [
    "3. <br>а) Создать функцию-генератор, которая создает случайные числа в заданном диапазоне с заданным шагом.\n",
    "<br>б) Создать функцию-генератор, которая создает все возможные варианты расположения зданий на карте города.\n",
    "<br>в) Отфильтровать список строк, оставив только те, которые начинаются с заглавной буквы, используя выражение-генератор.\n",
    "<br>г) Создать список всех простых чисел Фибоначчи в заданном диапазоне, используя выражение-генератор."
   ]
  },
  {
   "cell_type": "markdown",
   "metadata": {
    "id": "iyIqwN_GoSHB"
   },
   "source": [
    "4. <br>а) Написать функцию-генератор, которая создает все простые числа до заданного числа.\n",
    "<br>б) Написать функцию-генератор, которая создает все возможные варианты расположения книг на полке.\n",
    "<br>в) Создать список из квадратов всех четных чисел в заданном диапазоне, используя выражение-генератор.\n",
    "<br>г) Отфильтровать список чисел, оставив только те, которые являются палиндромами, используя выражение-генератор."
   ]
  },
  {
   "cell_type": "markdown",
   "metadata": {
    "id": "vciRa4kPoUow"
   },
   "source": [
    "5. <br>а) Реализовать функцию-генератор, которая создает все возможные перестановки элементов списка.\n",
    "<br>б) Реализовать функцию-генератор, которая создает все возможные варианты расположения продуктов на полке в магазине.\n",
    "<br>в) Отфильтровать список чисел, оставив только положительные значения, используя выражение-генератор.\n",
    "<br>г) Создать список всех троек чисел $(a, b, c)$, где $a+b+c=0$, используя выражение-генератор:"
   ]
  },
  {
   "cell_type": "markdown",
   "metadata": {
    "id": "vDnxkAosoYAO"
   },
   "source": [
    "6. <br>а) Создать функцию-генератор, которая создает все подмножества заданного множества.\n",
    "<br>б) Создать функцию-генератор, которая создает все возможные варианты расположения слов в предложении.\n",
    "<br>в) Создать список всех возможных комбинаций двух списков, используя выражение-генератор.\n",
    "<br>г) Отфильтровать список строк, оставив только те, которые содержат только буквы, используя выражение-генератор."
   ]
  },
  {
   "cell_type": "markdown",
   "metadata": {
    "id": "93DPjkoeoa8g"
   },
   "source": [
    "7. <br>а) Написать функцию-генератор, которая создает все возможные комбинации заданных элементов.\n",
    "<br>б) Написать функцию-генератор, которая создает все возможные комбинации чисел в массиве.\n",
    "<br>в) Отсортировать список строк по длине слов в порядке убывания, используя выражение-генератор.\n",
    "<br>г) Создать список всех чисел, являющихся степенями двойки, в заданном диапазоне, используя выражение-генератор."
   ]
  },
  {
   "cell_type": "markdown",
   "metadata": {
    "id": "vz9kdmQLod40"
   },
   "source": [
    "8. <br>а) Реализовать функцию-генератор, которая создает все возможные варианты расположения заданных элементов в матрице.\n",
    "<br>б) Реализовать функцию-генератор, которая создает все возможные варианты расположения элементов на странице сайта.\n",
    "<br>в) Создать список всех чисел Фибоначчи в заданном диапазоне, используя выражение-генератор.\n",
    "<br>г) Отфильтровать список чисел, оставив только те, которые являются простыми числами Фибоначчи, используя выражение-генератор."
   ]
  },
  {
   "cell_type": "markdown",
   "metadata": {
    "id": "sFNBWw80of8D"
   },
   "source": [
    "9. <br>а) Создать функцию-генератор, которая создает все возможные варианты расположения заданных элементов на шахматной доске.\n",
    "<br>б) Создать функцию-генератор, которая создает все возможные варианты расположения карточек товаров на странице интернет-магазина.\n",
    "<br>в) Отфильтровать список чисел, оставив только те, которые делятся на 3 и на 5, используя выражение-генератор.\n",
    "<br>г) Создать список всех возможных подстрок заданной строки, используя выражение-генератор."
   ]
  },
  {
   "cell_type": "markdown",
   "metadata": {
    "id": "jLhsn7V5oiou"
   },
   "source": [
    "10. <br>а) Написать функцию-генератор, которая создает все возможные варианты расположения заданных элементов на круговой доске.\n",
    "<br>б) Написать функцию-генератор, которая создает все возможные варианты расположения изображений на сайте.\n",
    "<br>в) Создать список всех возможных перестановок элементов заданного списка, используя выражение-генератор.\n",
    "<br>г) Отсортировать список чисел в порядке возрастания, используя выражение-генератор."
   ]
  },
  {
   "cell_type": "markdown",
   "metadata": {
    "id": "ZJXvKJNgolv8"
   },
   "source": [
    "11. <br>а) Реализовать функцию-генератор, которая создает все возможные комбинации цветов RGB.\n",
    "<br>б) Реализовать функцию-генератор, которая создает все возможные варианты расположения элементов на графике.\n",
    "<br>в) Отфильтровать список строк, оставив только те, которые содержат определенную подстроку, используя выражение-генератор.\n",
    "<br>г) Создать список всех возможных перестановок элементов заданного списка без повторений, используя выражение-генератор."
   ]
  },
  {
   "cell_type": "markdown",
   "metadata": {
    "id": "kySq_nENooT2"
   },
   "source": [
    "12. <br>а) Создать функцию-генератор, которая создает все возможные варианты расположения фигур в игре шашки.\n",
    "<br>б) Создать функцию-генератор, которая создает все возможные варианты расположения элементов на диаграмме.\n",
    "<br>в) Создать список всех троек чисел $(a, b, c)$, где $a^2 + b^2 = c^2$, используя выражение-генератор.\n",
    "<br>г) Отфильтровать список словарей, оставив только те, у которых значение определенного ключа больше заданного значения, используя выражение-генератор."
   ]
  },
  {
   "cell_type": "markdown",
   "metadata": {
    "id": "rn-stg0Voq9r"
   },
   "source": [
    "13. <br>а) Написать функцию-генератор, которая создает все возможные варианты расположения букв в слове.\n",
    "<br>б) Написать функцию-генератор, которая создает все возможные варианты расположения кнопок на интерфейсе приложения.\n",
    "<br>в) Отфильтровать список чисел, оставив только простые числа, используя выражение-генератор.\n",
    "<br>г) Создать список всех чисел, являющихся степенями тройки, в заданном диапазоне, используя выражение-генератор."
   ]
  },
  {
   "cell_type": "markdown",
   "metadata": {
    "id": "CIr_0lIuotEm"
   },
   "source": [
    "14. <br>а) Реализовать функцию-генератор, которая создает все возможные варианты расположения карт в колоде.\n",
    "<br>б) Реализовать функцию-генератор, которая создает все возможные варианты расположения элементов на карте местности.\n",
    "<br>в) Создать список всех возможных сочетаний элементов заданного списка, используя выражение-генератор.\n",
    "<br>г) Отфильтровать список чисел, оставив только те, которые являются палиндромами в двоичной системе счисления, используя выражение-генератор."
   ]
  },
  {
   "cell_type": "markdown",
   "metadata": {
    "id": "CQsBhSisoviq"
   },
   "source": [
    "15. <br>а) Создать функцию-генератор, которая создает все возможные варианты расположения элементов на сетке.\n",
    "<br>б) Создать функцию-генератор, которая создает все возможные комбинации символов в пароле.\n",
    "<br>в) Отсортировать список словарей по значению определенного ключа в порядке возрастания, используя выражение-генератор.\n",
    "<br>г) Создать список всех возможных сочетаний элементов заданного списка определенной длины, используя выражение-генератор."
   ]
  },
  {
   "cell_type": "markdown",
   "metadata": {
    "id": "_50nhig8e8WB"
   },
   "source": [
    "#### <font color='LightCoral'> **ЗАДАНИЕ 32.** Структуры данных: массивы."
   ]
  },
  {
   "cell_type": "markdown",
   "metadata": {
    "id": "WdI-OP4YtdCP"
   },
   "source": [
    "1. Используя модуль `array` и  библиотеку `numpy`, решить следующие задачи:<br>а) Дан массив размера $N$. Найти количество участков, на которых его элементы возрастают.<br>б) Дана квадратная матрица $A$ порядка $M$. Найти сумму элементов каждой ее диагонали, параллельной главной (начиная с одноэлементной диагонали $A_{1,M}$)."
   ]
  },
  {
   "cell_type": "markdown",
   "metadata": {
    "id": "4sISE-SptioF"
   },
   "source": [
    "2. Используя модуль `array` и  библиотеку `numpy`, решить следующие задачи:<br>а) Дано множество $A$ из $N$ точек с целочисленными координатами $x$, $y$. Для хранения данных о каждом наборе точек следует использовать по два массива: первый массив для хранения абсцисс, второй — для хранения ординат. Порядок на координатной плоскости определим следующим образом: $(x_1, y_1) < (x_2, y_2)$, если либо $x_1 + y_1 < x_2 + y_2$, либо $x_1 + y_1 = x_2 + y_2$ и $x_1 < x_2$. Расположить точки данного множества по убыванию в соответствии с указанным порядком.<br>б) Дана квадратная матрица $A$ порядка $M$. Повернуть ее на угол 90° в отрицательном направлении, т. е. по часовой стрелке (при этом элемент $A_{1,1}$ перейдет в $A_{1,M}$, элемент $A_{1,M}$ — в $A_{M,M}$ и т. д.). Вспомогательную матрицу не использовать."
   ]
  },
  {
   "cell_type": "markdown",
   "metadata": {
    "id": "xYjFCGEbuJ56"
   },
   "source": [
    "3. Используя модуль `array` и  библиотеку `numpy`, решить следующие задачи:<br>а) Дано число $R$ и массив $A$ размера $N$. Найти элемент массива, который наиболее близок к числу $R$.<br>б) Дана квадратная матрица порядка $M$. Обнулить элементы матрицы, лежащие на побочной диагонали и ниже нее. Условный оператор не использовать."
   ]
  },
  {
   "cell_type": "markdown",
   "metadata": {
    "id": "coOn7qGiuOb6"
   },
   "source": [
    "4. Используя модуль `array` и  библиотеку `numpy`, решить следующие задачи:<br>а) Дано число $R$ и массив размера $N$. Найти два соседних элемента массива, сумма которых наиболее близка к числу $R$, и вывести эти элементы в порядке возрастания их индексов.<br>б) Дана целочисленная матрица размера $M×N$. Найти номер первого из ее столбцов, содержащих максимальное количество одинаковых элементов."
   ]
  },
  {
   "cell_type": "markdown",
   "metadata": {
    "id": "4aPTmuQBuSQH"
   },
   "source": [
    "5. Используя модуль `array` и  библиотеку `numpy`, решить следующие задачи:<br>а) Дан массив размера $N$. Найти номера двух ближайших элементов из этого массива (т. е. элементов с наименьшим модулем разности) и вывести эти номера в порядке возрастания.<br>б) Дана целочисленная матрица размера $M×N$, элементы которой могут принимать значения от 0 до 100. Различные строки матрицы назовем похожими, если совпадают множества чисел, встречающихся в этих строках. Найти количество строк, похожих на первую строку данной матрицы."
   ]
  },
  {
   "cell_type": "markdown",
   "metadata": {
    "id": "iECB314RuWDT"
   },
   "source": [
    "6. Используя модуль `array` и  библиотеку `numpy`, решить следующие задачи:<br>а) Дан целочисленный массив размера $N$. Найти максимальное количество его одинаковых элементов.<br>б) Дана целочисленная матрица размера $M×N$. Найти количество ее столбцов, все элементы которых различны."
   ]
  },
  {
   "cell_type": "markdown",
   "metadata": {
    "id": "Pdj5HZaiuZ-j"
   },
   "source": [
    "7. Используя модуль `array` и  библиотеку `numpy`, решить следующие задачи:<br>а) Даны два массива $A$ и B одинакового размера $N$. Сформировать новый массив $C$ того же размера, каждый элемент которого равен максимальному из элементов массивов $A$ и B с тем же индексом.<br>б) Дана целочисленная матрица размера $M×N$. Найти элемент, являющийся максимальным в своей строке и минимальным в своем столбце. Если такой элемент отсутствует, то вывести 0."
   ]
  },
  {
   "cell_type": "markdown",
   "metadata": {
    "id": "NAY9Y59jucwc"
   },
   "source": [
    "8. Используя модуль `array` и  библиотеку `numpy`, решить следующие задачи:<br>а) Дан массив $A$ размера $N$. Сформировать новый массив B того же размера по следующему правилу: элемент BK равен сумме элементов массива $A$ с номерами от 1 до $K$.<br>б) Дана матрица размера $M×N$. Элемент матрицы называется ее локальным минимумом, если он меньше всех окружающих его элементов. Заменить все локальные минимумы данной матрицы на нули."
   ]
  },
  {
   "cell_type": "markdown",
   "metadata": {
    "id": "1Sg-2Pk7ug9q"
   },
   "source": [
    "9. Используя модуль `array` и  библиотеку `numpy`, решить следующие задачи:<br>а) Дан массив $A$ размера $N$. Сформировать новый массив B того же размера по следующему правилу: элемент BK равен среднему арифметическому элементов массива $A$ с номерами от 1 до $K$.<br>б) Дана квадратная матрица $A$ порядка $M$. Зеркально отразить ее элементы относительно побочной диагонали (при этом элементы побочной диагонали останутся на прежнем месте, элемент $A_{1,1}$ поменяется местами с $A_{M,M}$, элемент $A_{1,2}$ — с $A_{M−1,M}$ и т. д.). Вспомогательную матрицу не использовать."
   ]
  },
  {
   "cell_type": "markdown",
   "metadata": {
    "id": "JskCpDL6ulnK"
   },
   "source": [
    "10. Используя модуль `array` и  библиотеку `numpy`, решить следующие задачи:<br>а) Дан массив $A$ размера $N$. Сформировать новый массив B того же размера по следующему правилу: элемент BK равен сумме элементов массива $A$ с номерами от $K$ до $N$.<br>б) Дана матрица размера $M×N$. Упорядочить ее строки так, чтобы их первые элементы образовывали возрастающую последовательность."
   ]
  },
  {
   "cell_type": "markdown",
   "metadata": {
    "id": "RM8d6xBOusnf"
   },
   "source": [
    "11. Используя модуль `array` и  библиотеку `numpy`, решить следующие задачи:<br>а) Дан массив размера $N$. После каждого отрицательного элемента массива вставить элемент с нулевым значением.<br>б) Дана матрица размера $M×N$. Упорядочить ее столбцы так, чтобы их последние элементы образовывали убывающую последовательность."
   ]
  },
  {
   "cell_type": "markdown",
   "metadata": {
    "id": "H5mUQglWuwdp"
   },
   "source": [
    "12. Используя модуль `array` и  библиотеку `numpy`, решить следующие задачи:<br>а) Дан целочисленный массив размера $N$. Удалить из массива все элементы, встречающиеся ровно два раза, и вывести размер полученного массива и его содержимое.<br>б) Дана матрица размера $M×N$. Упорядочить ее столбцы так, чтобы их максимальные элементы образовывали возрастающую последовательность."
   ]
  },
  {
   "cell_type": "markdown",
   "metadata": {
    "id": "Jq3h1T4Uu1FM"
   },
   "source": [
    "13. Используя модуль `array` и  библиотеку `numpy`, решить следующие задачи:<br>а) Дан целочисленный массив размера $N$. Удалить из массива все элементы, встречающиеся менее трех раз, и вывести размер полученного массива и его содержимое.<br>б) Дана квадратная матрица $A$ порядка $M$. Найти максимальный элемент для каждой ее диагонали, параллельной побочной (начиная с одноэлементной диагонали $A_{1,1}$)."
   ]
  },
  {
   "cell_type": "markdown",
   "metadata": {
    "id": "cMxzFcX_u4nh"
   },
   "source": [
    "14. Используя модуль `array` и  библиотеку `numpy`, решить следующие задачи:<br>а) Дано множество $A$ из $N$ точек (точки заданы своими координатами $x$, $y$). Для хранения данных о каждом наборе точек следует использовать по два массива: первый массив для хранения абсцисс, второй — для хранения ординат. Среди всех точек этого множества, лежащих во второй четверти, найти точку, наиболее удаленную от начала координат. Если таких точек нет, то вывести точку с нулевыми координатами.<br>б) Дана матрица размера $M×N$. Элемент матрицы называется ее локальным максимумом, если он больше всех окружающих его элементов. Поменять знак всех локальных максимумов данной матрицы на противоположный."
   ]
  },
  {
   "cell_type": "markdown",
   "metadata": {
    "id": "0b05yuiju8yU"
   },
   "source": [
    "15. Используя модуль `array` и  библиотеку `numpy`, решить следующие задачи:<br>а) Дано целое число $L>1$ и целочисленный массив размера $N$. Заменить каждую серию массива, длина которой меньше $L$, на один элемент с нулевым значением. Серией называется группа подряд идущих одинаковых элементов, а длиной серии — количество этих элементов (длина серии может быть равна 1).<br>б) Дана квадратная матрица $A$ порядка $M$. Найти среднее арифметическое элементов каждой ее диагонали, параллельной главной (начиная с одноэлементной диагонали $A_{1,M}$)."
   ]
  },
  {
   "cell_type": "markdown",
   "metadata": {
    "id": "GZgHsGJmeKrR"
   },
   "source": [
    "### <font color='CadetBlue'> **II** —  апрель, май"
   ]
  },
  {
   "cell_type": "markdown",
   "metadata": {
    "id": "Y5IzArqPfc6g"
   },
   "source": [
    "#### <font color='LightCoral'> **ЗАДАНИЕ 33.** Структуры данных: стек."
   ]
  },
  {
   "cell_type": "markdown",
   "metadata": {
    "id": "fAHsgG-Iwa2A"
   },
   "source": [
    "Задачу решить двумя способами:\n",
    "\n",
    "1. Реализовать класс стек через использование списка:\n",
    "   * Создать класс `Stack` с методами:\n",
    "     - `push(item)`: добавляет элемент `item` в верхушку стека;\n",
    "     - `pop()`: удаляет и возвращает элемент из верхушки стека;\n",
    "     - `peek()`: возвращает элемент из верхушки стека без его удаления;\n",
    "     - `is_empty()`: проверяет, пуст ли стек;\n",
    "     - `size()`: возвращает текущий размер стека.\n",
    "\n",
    "2. Реализовать класс стек через связный список:\n",
    "   * Создать класс `Node` для представления узла связного списка с двумя атрибутами: `data` (значение узла) и `next` (ссылка на следующий узел).\n",
    "\n",
    "   * Создать класс `Stack` с методами:\n",
    "     - `push(item)`: добавляет элемент `item` в верхушку стека;\n",
    "     - `pop()`: удаляет и возвращает элемент из верхушки стека;\n",
    "     - `peek()`: возвращает элемент из верхушки стека без его удаления;\n",
    "     - `is_empty()`: проверяет, пуст ли стек;\n",
    "     - `size()`: возвращает текущий размер стека/\n",
    "\n",
    "Оба способа реализации должны обеспечивать функциональность стека: добавление элементов в верхушку, удаление элементов из верхушки, получение элемента из верхушки без его удаления, проверку на пустоту и получение текущего размера стека."
   ]
  },
  {
   "cell_type": "markdown",
   "metadata": {
    "id": "-Hbnwm81vlJo"
   },
   "source": [
    "1. Дан стек. Необходимо перевернуть его содержимое так, чтобы верхний элемент стал нижним, а нижний — верхним."
   ]
  },
  {
   "cell_type": "markdown",
   "metadata": {
    "id": "gadb9MTQvmFw"
   },
   "source": [
    "2. Дан стек. Необходимо удалить из него все элементы, которые не являются простыми числами."
   ]
  },
  {
   "cell_type": "markdown",
   "metadata": {
    "id": "GaZOxwo1vpue"
   },
   "source": [
    "3. Дан стек. Необходимо отсортировать его содержимое по возрастанию или убыванию, в зависимости от переданного параметра (`False` — по возрастанию, `True` — по убыванию)."
   ]
  },
  {
   "cell_type": "markdown",
   "metadata": {
    "id": "NlTV5vBpvuPy"
   },
   "source": [
    "4. Дан стек. Необходимо проверить, есть ли в нем повторяющиеся элементы. Вывести повторяющиеся элементы, если они есть."
   ]
  },
  {
   "cell_type": "markdown",
   "metadata": {
    "id": "cv_foLSnvyoc"
   },
   "source": [
    "5. Дан стек. Необходимо найти максимальный или минимальный элемент в нем, в зависимости от переданного параметра (`True` — максимальный, `False` — минимальный)."
   ]
  },
  {
   "cell_type": "markdown",
   "metadata": {
    "id": "my7x7RSHv1SY"
   },
   "source": [
    "6. Дан стек и два элемента $A$ и $B$. Необходимо удалить из стека все элементы, которые находятся между $A$ и $B$ (включая сами $A$ и $B$)."
   ]
  },
  {
   "cell_type": "markdown",
   "metadata": {
    "id": "jB3x0j7Lv4jn"
   },
   "source": [
    "7. Дан стек. Необходимо разделить его на два так, чтобы в первом были элементы с четными индексами, а во втором — с нечетными."
   ]
  },
  {
   "cell_type": "markdown",
   "metadata": {
    "id": "qt-EN8Kov8xQ"
   },
   "source": [
    "8. Дан стек. Необходимо проверить, является ли его содержимое палиндромом (то есть читается одинаково как слева направо, так и справа налево)."
   ]
  },
  {
   "cell_type": "markdown",
   "metadata": {
    "id": "QYEXbH_ewEh2"
   },
   "source": [
    "9. Дан стек. Необходимо удалить из него все отрицательные элементы."
   ]
  },
  {
   "cell_type": "markdown",
   "metadata": {
    "id": "ivGN0girwH6S"
   },
   "source": [
    "10. Дан стек. Необходимо проверить, является ли его содержимое последовательностью арифметической прогрессии."
   ]
  },
  {
   "cell_type": "markdown",
   "metadata": {
    "id": "KeCUir8awK1T"
   },
   "source": [
    "11. Дан стек. Необходимо найти среднее арифметическое всех его элементов."
   ]
  },
  {
   "cell_type": "markdown",
   "metadata": {
    "id": "fKxjHk5ZwNQ-"
   },
   "source": [
    "12. Дан стек и значение $A$. Необходимо удалить из стека все элементы, которые больше $A$."
   ]
  },
  {
   "cell_type": "markdown",
   "metadata": {
    "id": "MNtqYus3wPTO"
   },
   "source": [
    "13. Дан стек и число $k$. Необходимо найти $k$-й по счету элемент в стеке."
   ]
  },
  {
   "cell_type": "markdown",
   "metadata": {
    "id": "c3JdfsGywR_o"
   },
   "source": [
    "14. Дан стек. Необходимо проверить, является ли его содержимое последовательностью геометрической прогрессии."
   ]
  },
  {
   "cell_type": "markdown",
   "metadata": {
    "id": "i-mmoANewVqQ"
   },
   "source": [
    "15. Дан стек и число $N$, необходимо удалить из стека все элементы, которые кратны $N$."
   ]
  },
  {
   "cell_type": "markdown",
   "metadata": {
    "id": "Zz7Pa6d9fp0N"
   },
   "source": [
    "#### <font color='LightCoral'> **ЗАДАНИЕ 34.** Структуры данных: очередь."
   ]
  },
  {
   "cell_type": "markdown",
   "metadata": {
    "id": "213jeUuw8Aq5"
   },
   "source": [
    "Задачу решить двумя способами:\n",
    "\n",
    "1. Реализовать класс очередь через использование списка:\n",
    "   * Создать класс `Queue` с методами:\n",
    "     - `enqueue(item)`: добавляет элемент `item` в конец очереди;\n",
    "     - `dequeue()`: удаляет и возвращает элемент из начала очереди;\n",
    "     - `peek()`: возвращает элемент из начала очереди без его удаления;\n",
    "     - `is_empty()`: проверяет, пуста ли очередь;\n",
    "     - `size()`: возвращает текущий размер очереди.\n",
    "\n",
    "2. Реализовать класс очередь через связный список:\n",
    "   * Создать класс `Node` для представления узла связного списка с двумя атрибутами: `data` (значение узла) и `next` (ссылка на следующий узел).\n",
    "\n",
    "   * Создать класс `Queue` с методами:\n",
    "     - `enqueue(item)`: добавляет элемент `item` в конец очереди;\n",
    "     - `dequeue()`: удаляет и возвращает элемент из начала очереди;\n",
    "     - `peek()`: возвращает элемент из начала очереди без его удаления;\n",
    "     - `is_empty()`: проверяет, пуста ли очередь;\n",
    "     - `size()`: возвращает текущий размер очереди.\n",
    "\n",
    "Оба способа реализации должны обеспечивать функциональность очереди: добавление элементов в конец, удаление элементов из начала, получение элемента из начала без его удаления, проверку на пустоту и получение текущего размера очереди."
   ]
  },
  {
   "cell_type": "markdown",
   "metadata": {
    "id": "dtZx4p0L8m9Z"
   },
   "source": [
    "1. Создать класс очереди, который будет хранить только уникальные элементы. При добавлении элемента, если он уже есть в очереди, то он не должен добавляться."
   ]
  },
  {
   "cell_type": "markdown",
   "metadata": {
    "id": "f4_m8jlB80fF"
   },
   "source": [
    "2. Создать класс очереди, который будет хранить только четные или только нечетные числа в зависимости от параметра, передаваемого при инициализации объекта класса очереди (`True` — хранить только четные числа, `False` — нечетные числа). При добавлении элемента, если его значение не соответствует заданному условию, то он не должен добавляться."
   ]
  },
  {
   "cell_type": "markdown",
   "metadata": {
    "id": "ExFZpf8t9EVm"
   },
   "source": [
    "3. Создать класс очереди с ограниченной емкостью. Если при добавлении элемента очередь уже заполнена, то новый элемент должен заменить первый элемент в очереди."
   ]
  },
  {
   "cell_type": "markdown",
   "metadata": {
    "id": "qbv9UMSk9KiE"
   },
   "source": [
    "4. Создать класс очереди, который будет поддерживать операции добавления элемента в конец очереди и удаления элемента из середины очереди по индексу."
   ]
  },
  {
   "cell_type": "markdown",
   "metadata": {
    "id": "02kRPkrA9Mz7"
   },
   "source": [
    "5. Создать класс очереди, который будет поддерживать операции добавления элемента в конец очереди, удаления элемента из начала очереди и сортировки элементов в очереди по возрастанию."
   ]
  },
  {
   "cell_type": "markdown",
   "metadata": {
    "id": "wjLxhGiC9Pjs"
   },
   "source": [
    "6. Создать класс очереди, который будет поддерживать операции добавления элемента в конец очереди, удаления элемента из начала очереди и поиска минимального элемента в очереди."
   ]
  },
  {
   "cell_type": "markdown",
   "metadata": {
    "id": "5-54PJcP9TzQ"
   },
   "source": [
    "7. Создать класс очереди, который будет поддерживать операции добавления элемента в конец очереди и удаления всех элементов из очереди, которые меньше заданного значения."
   ]
  },
  {
   "cell_type": "markdown",
   "metadata": {
    "id": "ceew3tR39V1e"
   },
   "source": [
    "8. Создать класс двусторонней очереди, который будет поддерживать операции добавления элемента в начало и конец очереди, удаления элемента из начала и конца очереди, а также удаления минимального и максимального элементов из очереди."
   ]
  },
  {
   "cell_type": "markdown",
   "metadata": {
    "id": "OSpy49ZK9Yd-"
   },
   "source": [
    "9. Создать класс очереди, который будет поддерживать операции добавления элемента в конец очереди и удаления всех повторяющихся элементов из очереди."
   ]
  },
  {
   "cell_type": "markdown",
   "metadata": {
    "id": "U7cTmIEk9bXh"
   },
   "source": [
    "10. Создать класс очереди, который будет хранить только элементы определенного типа данных. Тип элементов задается при инициализации объекта класса очереди. При добавлении элемента, если его тип не соответствует заданному, то он не должен добавляться."
   ]
  },
  {
   "cell_type": "markdown",
   "metadata": {
    "id": "Kxgptij59dkG"
   },
   "source": [
    "11. Создать класс очереди, который будет поддерживать операции добавления элемента в конец очереди и удаления элемента из середины очереди по значению."
   ]
  },
  {
   "cell_type": "markdown",
   "metadata": {
    "id": "6R45C7ea9gER"
   },
   "source": [
    "12. Создать класс очереди, который будет хранить только элементы, кратные заданному числу, которое определяется при инициализации объекта класса очереди. При добавлении элемента, который не является кратным заданному числу, то он не должен добавляться."
   ]
  },
  {
   "cell_type": "markdown",
   "metadata": {
    "id": "phxY0hR39jsF"
   },
   "source": [
    "13. Создать класс очереди, который будет поддерживать операции добавления элемента в конец очереди и добавления элемента в середину очереди по индексу."
   ]
  },
  {
   "cell_type": "markdown",
   "metadata": {
    "id": "4dxQNsSJ9mZZ"
   },
   "source": [
    "14. Создать класс очереди, который будет поддерживать операции добавления элемента в конец очереди и удаления всех элементов из очереди, которые больше заданного значения."
   ]
  },
  {
   "cell_type": "markdown",
   "metadata": {
    "id": "ekgosSkt9opI"
   },
   "source": [
    "15. Создать класс очереди, который будет хранить только простые числа. При добавлении элемента, не являющийся простым числом, то он не должен добавляться."
   ]
  },
  {
   "cell_type": "markdown",
   "metadata": {
    "id": "pbF7QemofsxE"
   },
   "source": [
    "#### <font color='LightCoral'> **ЗАДАНИЕ 35.** Структуры данных: создание двусвязного списка."
   ]
  },
  {
   "cell_type": "markdown",
   "metadata": {
    "id": "pNx8t2il9t1V"
   },
   "source": [
    "1. Создайте двусвязный список для хранения и управления информацией о студентах в университете. Каждый элемент списка должен содержать имя, фамилию, номер студенческого билета и список курсов, на которые студент записан."
   ]
  },
  {
   "cell_type": "markdown",
   "metadata": {
    "id": "QZLShnnW96dH"
   },
   "source": [
    "2. Создайте двусвязный список для хранения информации о покупках в интернетмагазине. Каждый элемент списка должен содержать название товара, цену, количество и дату покупки."
   ]
  },
  {
   "cell_type": "markdown",
   "metadata": {
    "id": "Sehmfokp-Bas"
   },
   "source": [
    "3. Создайте двусвязный список для хранения информации о задачах в проекте. Каждый элемент списка должен содержать название задачи, описание, дату начала и дату окончания."
   ]
  },
  {
   "cell_type": "markdown",
   "metadata": {
    "id": "BEy0asB4-K71"
   },
   "source": [
    "4. Создайте двусвязный список для хранения информации о заказах в ресторане. Каждый элемент списка должен содержать название блюда, цену, количество, дату заказа и статус заказа (например, «в обработке», «готов», «доставлен»)."
   ]
  },
  {
   "cell_type": "markdown",
   "metadata": {
    "id": "_ph3QBvX-Okz"
   },
   "source": [
    "5. Создайте двусвязный список для хранения информации о задачах в календаре. Каждый элемент списка должен содержать название задачи, описание, дату начала и дату окончания, а также список напоминаний о задаче (например, за день до окончания, за час до начала и т.д.)."
   ]
  },
  {
   "cell_type": "markdown",
   "metadata": {
    "id": "HBvAEuA0-Q3H"
   },
   "source": [
    "6. Создайте двусвязный список для хранения информации о задачах в системе управления проектами для строительства зданий. Каждый элемент списка должен содержать название задачи, описание, дату начала и дату окончания, а также информацию о том, какие инженеры и рабочие работают над этой задачей."
   ]
  },
  {
   "cell_type": "markdown",
   "metadata": {
    "id": "LbDZEk2z-UAh"
   },
   "source": [
    "7. Создайте двусвязный список для хранения информации о пациентах в больнице. Каждый элемент списка должен содержать имя и фамилию пациента, диагноз, дату поступления и выписки, а также список проведенных процедур и назначенных лекарств."
   ]
  },
  {
   "cell_type": "markdown",
   "metadata": {
    "id": "viCzm9Ur-Wvp"
   },
   "source": [
    "8. Создайте двусвязный список для хранения информации о задачах в проекте по разработке программного обеспечения. Каждый элемент списка должен содержать название задачи, описание, дату начала и дату окончания, а также информацию о том, какие разработчики работают над этой задачей."
   ]
  },
  {
   "cell_type": "markdown",
   "metadata": {
    "id": "ot2cT70P-ZvZ"
   },
   "source": [
    "9. Создайте двусвязный список для хранения информации о посетителях музея. Каждый элемент списка должен содержать имя и фамилию посетителя, дату посещения, список экспонатов, которые он посмотрел, и оценку каждого из них."
   ]
  },
  {
   "cell_type": "markdown",
   "metadata": {
    "id": "S0aByMp2-ehK"
   },
   "source": [
    "10. Создайте двусвязный список для хранения информации о заказах в интернетмагазине. Каждый элемент списка должен содержать номер заказа, дату создания, список товаров, их количество и стоимость, а также информацию о доставке и оплате."
   ]
  },
  {
   "cell_type": "markdown",
   "metadata": {
    "id": "GSnmdYcZ-fwm"
   },
   "source": [
    "11. Создайте двусвязный список для хранения информации о студентах в университете. Каждый элемент списка должен содержать имя, фамилию, номер группы, список предметов, которые студент изучает, и оценки по каждому предмету."
   ]
  },
  {
   "cell_type": "markdown",
   "metadata": {
    "id": "XpvtcwQZ-ifB"
   },
   "source": [
    "12. Создайте двусвязный список для хранения информации о сотрудниках в компании. Каждый элемент списка должен содержать имя, фамилию, должность, дату приема на работу и список проектов, над которыми сотрудник работает."
   ]
  },
  {
   "cell_type": "markdown",
   "metadata": {
    "id": "WNACZ3Pw-k2E"
   },
   "source": [
    "13. Создайте двусвязный список для хранения информации о задачах в игре. Каждый элемент списка должен содержать название задачи, описание, уровень сложности, дату начала и дату окончания, а также список игроков, которые работают над этой задачей."
   ]
  },
  {
   "cell_type": "markdown",
   "metadata": {
    "id": "mYAYP_8U-nAe"
   },
   "source": [
    "14. Создайте двусвязный список для хранения информации о книгах в библиотеке. Каждый элемент списка должен содержать название книги, автора, год издания, количество экземпляров и список читателей, которые взяли эту книгу."
   ]
  },
  {
   "cell_type": "markdown",
   "metadata": {
    "id": "SI0h8uOo-pTJ"
   },
   "source": [
    "15. Создайте двусвязный список для хранения информации о задачах в системе управления проектами. Каждый элемент списка должен содержать название задачи, описание, дату начала и дату окончания, а также список комментариев и прикрепленных файлов к задаче."
   ]
  },
  {
   "cell_type": "markdown",
   "metadata": {
    "id": "7km8KaMcftjL"
   },
   "source": [
    "#### <font color='LightCoral'> **ЗАДАНИЕ 36.** Структуры данных: работа с двусвязным списком."
   ]
  },
  {
   "cell_type": "markdown",
   "metadata": {
    "id": "d_o509KICOMF"
   },
   "source": [
    "1. Реализовать функцию, которая переворачивает двусвязный список."
   ]
  },
  {
   "cell_type": "markdown",
   "metadata": {
    "id": "rnYtn1H_CPIv"
   },
   "source": [
    "2. Реализовать функцию, которая объединяет два отсортированных двусвязных списка в один отсортированный список."
   ]
  },
  {
   "cell_type": "markdown",
   "metadata": {
    "id": "SE-QdW2rCRjW"
   },
   "source": [
    "3. Реализовать функцию, которая проверяет, является ли двусвязный список палиндромом."
   ]
  },
  {
   "cell_type": "markdown",
   "metadata": {
    "id": "sMYOJvOmCUsr"
   },
   "source": [
    "4. Реализовать функцию, которая удаляет все повторяющиеся элементы из двусвязного списка."
   ]
  },
  {
   "cell_type": "markdown",
   "metadata": {
    "id": "sYC0h5ZaCXU2"
   },
   "source": [
    "5. Реализовать функцию, которая находит средний элемент в двусвязном списке."
   ]
  },
  {
   "cell_type": "markdown",
   "metadata": {
    "id": "8iun7-9KCa7M"
   },
   "source": [
    "6. Реализовать функцию, которая находит $k$-й элемент с конца в двусвязном списке."
   ]
  },
  {
   "cell_type": "markdown",
   "metadata": {
    "id": "EQ2YNohYCdko"
   },
   "source": [
    "7. Реализовать функцию, которая удаляет каждый $n$-й элемент из двусвязного списка."
   ]
  },
  {
   "cell_type": "markdown",
   "metadata": {
    "id": "ZOqj4Ai9Cidi"
   },
   "source": [
    "8. Реализовать функцию, которая находит пересечение двух двусвязных списков."
   ]
  },
  {
   "cell_type": "markdown",
   "metadata": {
    "id": "wi2qCgcUCkru"
   },
   "source": [
    "9. Реализовать функцию, которая находит сумму двух чисел, представленных в виде двусвязных списков."
   ]
  },
  {
   "cell_type": "markdown",
   "metadata": {
    "id": "1kJnAxC2Cm5U"
   },
   "source": [
    "10. Реализовать функцию, которая разделяет двусвязный список на два списка, один из которых содержит все элементы, меньшие заданного значения, а другой — все элементы, большие или равные заданному значению."
   ]
  },
  {
   "cell_type": "markdown",
   "metadata": {
    "id": "xHQIiAAZCpZk"
   },
   "source": [
    "11. Реализовать функцию, которая находит среднее арифметическое всех элементов двусвязного списка."
   ]
  },
  {
   "cell_type": "markdown",
   "metadata": {
    "id": "v1N7QybxCr77"
   },
   "source": [
    "12. Реализовать функцию, которая удаляет все элементы с заданным значением из двусвязного списка."
   ]
  },
  {
   "cell_type": "markdown",
   "metadata": {
    "id": "-ZTLlxizCuFM"
   },
   "source": [
    "13. Реализовать функцию, которая находит медиану двусвязного списка."
   ]
  },
  {
   "cell_type": "markdown",
   "metadata": {
    "id": "261N-yNLCwIe"
   },
   "source": [
    "14. Реализовать функцию, которая находит сумму всех элементов двусвязного списка, кроме первого и последнего."
   ]
  },
  {
   "cell_type": "markdown",
   "metadata": {
    "id": "SkDt6KxNCyVi"
   },
   "source": [
    "15. Реализовать функцию, которая находит сумму всех элементов двусвязного списка, удовлетворяющих заданному условию."
   ]
  },
  {
   "cell_type": "markdown",
   "metadata": {
    "id": "jFhR9iC2ftuv"
   },
   "source": [
    "#### <font color='LightCoral'> **ЗАДАНИЕ 37.** Структуры данных: циклический двусвязный список."
   ]
  },
  {
   "cell_type": "markdown",
   "metadata": {
    "id": "IPH-HDmGC9fl"
   },
   "source": [
    "1. Реализовать функцию, которая находит индекс первого вхождения заданного элемента в циклический двусвязный список."
   ]
  },
  {
   "cell_type": "markdown",
   "metadata": {
    "id": "n9HiSWmWC-pu"
   },
   "source": [
    "2. Реализовать функцию, которая перемещает заданное количество элементов из начала циклического двусвязного списка в его конец."
   ]
  },
  {
   "cell_type": "markdown",
   "metadata": {
    "id": "i--0LFDVDA34"
   },
   "source": [
    "3. Реализовать функцию, которая переворачивает циклический двусвязный список."
   ]
  },
  {
   "cell_type": "markdown",
   "metadata": {
    "id": "yhoEo6FkDDCM"
   },
   "source": [
    "4. Реализовать функцию, которая удаляет все элементы циклического двусвязного списка, равные заданному значению."
   ]
  },
  {
   "cell_type": "markdown",
   "metadata": {
    "id": "iKFe9_IeDFJn"
   },
   "source": [
    "5. Реализовать функцию, которая сортирует циклический двусвязный список по возрастанию."
   ]
  },
  {
   "cell_type": "markdown",
   "metadata": {
    "id": "iP0w9lB-DHVb"
   },
   "source": [
    "6. Реализовать функцию, которая удаляет все элементы циклического двусвязного списка, меньшие заданного значения."
   ]
  },
  {
   "cell_type": "markdown",
   "metadata": {
    "id": "oKXJ2HpWDJS0"
   },
   "source": [
    "7. Реализовать функцию, которая возвращает элемент по заданному индексу в циклический двусвязном списке."
   ]
  },
  {
   "cell_type": "markdown",
   "metadata": {
    "id": "1Lz5LAngDLVT"
   },
   "source": [
    "8. Реализовать функцию, которая вставляет элемент на заданную позицию в циклическом двусвязном списке."
   ]
  },
  {
   "cell_type": "markdown",
   "metadata": {
    "id": "Ewt0iyRnDNhh"
   },
   "source": [
    "9. Реализовать функцию, которая удаляет все элементы циклического двусвязного списка, большие заданного значения."
   ]
  },
  {
   "cell_type": "markdown",
   "metadata": {
    "id": "kXwDtGWgDRio"
   },
   "source": [
    "10. Реализовать функцию, которая проверяет, содержится ли заданный элемент в циклическом двусвязном списке.\n"
   ]
  },
  {
   "cell_type": "markdown",
   "metadata": {
    "id": "OoRaG1sjDPp1"
   },
   "source": [
    "11. Реализовать функцию, которая удаляет все повторяющиеся элементы из циклического двусвязного списка.\n"
   ]
  },
  {
   "cell_type": "markdown",
   "metadata": {
    "id": "7wDXzylaD5HB"
   },
   "source": [
    "12. Реализовать функцию, которая находит максимальный элемент в циклическом двусвязном списке."
   ]
  },
  {
   "cell_type": "markdown",
   "metadata": {
    "id": "J4LMsrnIEBkT"
   },
   "source": [
    "13. Реализовать функцию, которая сортирует циклический двусвязный список по убыванию."
   ]
  },
  {
   "cell_type": "markdown",
   "metadata": {
    "id": "DwJqu0woEDxk"
   },
   "source": [
    "14. Реализовать функцию, которая проверяет, является ли циклический двусвязный список палиндромом."
   ]
  },
  {
   "cell_type": "markdown",
   "metadata": {
    "id": "cu1WnrPIEF_Z"
   },
   "source": [
    "15. Реализовать функцию, которая возвращает сумму всех элементов циклического двусвязного списка."
   ]
  },
  {
   "cell_type": "markdown",
   "metadata": {
    "id": "YbpTd9oaft6R"
   },
   "source": [
    "#### <font color='LightCoral'> **ЗАДАНИЕ 38.** Алгоритмы поиска и сортировки."
   ]
  },
  {
   "cell_type": "markdown",
   "metadata": {
    "id": "v-Z6pO2QEhyX"
   },
   "source": [
    "1. Необходимо отсортировать список студентов по их среднему баллу за сессию и вывести результат на экран. Использовать алгоритмы сортировки: сортировку выбором, сортировку слиянием и быструю сортировку. Сравнить время выполнения алгоритмов сортировки с помощью декоратора. Данные о студентах хранятся в файле."
   ]
  },
  {
   "cell_type": "markdown",
   "metadata": {
    "id": "_pdO3jGREj0N"
   },
   "source": [
    "2. Необходимо отсортировать массив объектов по заданному критерию и вывести результат на экран. В зависимости от переданного параметра отсортировать массив объектов класса «Книга» по автору, названию или году издания, используя алгоритмы сортировки: пузырьковую, сортировку вставками и быструю сортировку. Сравнить время выполнения алгоритмов сортировки с помощью декоратора. Данные о книгах хранятся в файле."
   ]
  },
  {
   "cell_type": "markdown",
   "metadata": {
    "id": "XSF4gr5eEmM8"
   },
   "source": [
    "3. Необходимо отсортировать массив строк по алфавиту и вывести результат на экран. Использовать алгоритмы сортировки: сортировку пузырьком, сортировку слиянием и быструю сортировку. Сравнить время выполнения алгоритмов сортировки с помощью декоратора. Строки хранятся в файле."
   ]
  },
  {
   "cell_type": "markdown",
   "metadata": {
    "id": "koV_2jAEEo28"
   },
   "source": [
    "4. Необходимо отсортировать список товаров по цене и вывести результат на экран. В зависимости от переданного параметра отсортировать список товаров по возрастанию цены или по убыванию цены, используя алгоритмы сортировки: сортировку пузырьком, сортировку слиянием и быструю сортировку. Сравнить время выполнения алгоритмов сортировки с помощью декоратора. Данные о товарах хранятся в файле."
   ]
  },
  {
   "cell_type": "markdown",
   "metadata": {
    "id": "YyHlSX41ErKp"
   },
   "source": [
    "5. Необходимо отсортировать массив строк по длине и вывести результат на экран. В зависимости от переданного параметра отсортировать массив строк по возрастанию длины или по убыванию длины, используя алгоритмы сортировки: сортировку выбором, сортировку пузырьком и быструю сортировку. Сравнить время выполнения алгоритмов сортировки с помощью декоратора. Строки хранятся в файле."
   ]
  },
  {
   "cell_type": "markdown",
   "metadata": {
    "id": "b8SJ2W5hEuGa"
   },
   "source": [
    "6. Необходимо отсортировать массив чисел по частоте их встречаемости и вывести результат на экран. В зависимости от переданного параметра отсортировать массив чисел по возрастанию частоты их встречаемости или по убыванию частоты их встречаемости, используя алгоритмы сортировки: сортировку пузырьком, сортировку выбором и быструю сортировку. Сравнить время выполнения алгоритмов сортировки с помощью декоратора. Числа хранятся в файле."
   ]
  },
  {
   "cell_type": "markdown",
   "metadata": {
    "id": "hdP-NQNzEv8n"
   },
   "source": [
    "7. Необходимо отсортировать список городов по населению и вывести результат на экран. В зависимости от переданного параметра отсортировать список городов по возрастанию населения или по убыванию населения, используя алгоритмы сортировки: сортировку пузырьком, сортировку вставками и быструю сортировку. Сравнить время выполнения алгоритмов сортировки с помощью декоратора. Данные о городах хранятся в файле."
   ]
  },
  {
   "cell_type": "markdown",
   "metadata": {
    "id": "ZYJglq5kEx_5"
   },
   "source": [
    "8. Необходимо отсортировать массив объектов по определенному полю и вывести результат на экран. В зависимости от переданного параметра отсортировать массив объектов по возрастанию или по убыванию значения определенного поля, используя алгоритмы сортировки: сортировку выбором, сортировку пузырьком и быструю сортировку. Сравнить время выполнения алгоритмов сортировки с помощью декоратора. Данные об объектах хранятся в файле."
   ]
  },
  {
   "cell_type": "markdown",
   "metadata": {
    "id": "VBuoLsl-E0D2"
   },
   "source": [
    "9. Необходимо отсортировать список слов по алфавиту и вывести результат на экран. В зависимости от переданного параметра отсортировать список слов по возрастанию или по убыванию алфавитного порядка, используя алгоритмы сортировки: сортировку вставками, сортировку выбором и быструю сортировку. Сравнить время выполнения алгоритмов сортировки с помощью декоратора. Текст хранится в файле."
   ]
  },
  {
   "cell_type": "markdown",
   "metadata": {
    "id": "blWhcwwME18r"
   },
   "source": [
    "10. Необходимо отсортировать массив дат и вывести результат на экран. В зависимости от переданного параметра отсортировать массив дат по возрастанию или по убыванию даты, используя алгоритмы сортировки: сортировку выбором, сортировку пузырьком и быструю сортировку. Сравнить время выполнения алгоритмов сортировки с помощью декоратора. Даты хранятся в файле."
   ]
  },
  {
   "cell_type": "markdown",
   "metadata": {
    "id": "jgu8XNawE3-8"
   },
   "source": [
    "11. Необходимо отсортировать список товаров по количеству продаж и вывести результат на экран. В зависимости от переданного параметра отсортировать список товаров по возрастанию или по убыванию количества продаж, используя алгоритмы сортировки: сортировку вставками, сортировку выбором и быструю сортировку. Сравнить время выполнения алгоритмов сортировки с помощью декоратора. Данные о товарах хранятся в файле."
   ]
  },
  {
   "cell_type": "markdown",
   "metadata": {
    "id": "xPFBA8i6E6IK"
   },
   "source": [
    "12. Необходимо отсортировать массив чисел по сумме цифр каждого числа и вывести результат на экран. В зависимости от переданного параметра отсортировать массив чисел по возрастанию или по убыванию суммы цифр каждого числа, используя алгоритмы сортировки: сортировку выбором, сортировку пузырьком и быструю сортировку. Сравнить время выполнения алгоритмов сортировки с помощью декоратора. Числа хранятся в файле."
   ]
  },
  {
   "cell_type": "markdown",
   "metadata": {
    "id": "KrcDUDgNE8XZ"
   },
   "source": [
    "13. Необходимо отсортировать массив точек на плоскости по расстоянию до начала координат и вывести результат на экран. В зависимости от переданного параметра отсортировать массив точек по возрастанию или по убыванию расстояния до начала координат, используя алгоритмы сортировки: сортировку выбором, сортировку пузырьком и быструю сортировку. Сравнить время выполнения алгоритмов сортировки с помощью декоратора. Координаты точек хранятся в файле."
   ]
  },
  {
   "cell_type": "markdown",
   "metadata": {
    "id": "bhdiCLrjE-rm"
   },
   "source": [
    "14. Необходимо отсортировать список фильмов по году выпуска и вывести результат на экран. В зависимости от переданного параметра отсортировать список фильмов по возрастанию или по убыванию года выпуска, используя алгоритмы сортировки: сортировку вставками, сортировку выбором и быструю сортировку. Сравнить время выполнения алгоритмов сортировки с помощью декоратора. Информация о фильмах хранится в файле."
   ]
  },
  {
   "cell_type": "markdown",
   "metadata": {
    "id": "jKa66GEoFDoI"
   },
   "source": [
    "15. Необходимо отсортировать массив звездных величин по яркости и вывести результат на экран. В зависимости от переданного параметра отсортировать массив звездных величин по возрастанию или по убыванию яркости, используя алгоритмы сортировки: сортировку выбором, сортировку пузырьком и быструю сортировку. Сравнить время выполнения алгоритмов сортировки с помощью декоратора. Звездные величины хранятся в файле."
   ]
  },
  {
   "cell_type": "markdown",
   "metadata": {
    "id": "83V3q8I8fuFK"
   },
   "source": [
    "#### <font color='LightCoral'> **ЗАДАНИЕ 39.** Структуры данных: бинарные деревья."
   ]
  },
  {
   "cell_type": "markdown",
   "metadata": {
    "id": "oUZZ0n6LFncr"
   },
   "source": [
    "1. Реализовать класс бинарного дерева. Написать функцию для поиска элемента в бинарном дереве."
   ]
  },
  {
   "cell_type": "markdown",
   "metadata": {
    "id": "j3wYaAheFpt7"
   },
   "source": [
    "2. Реализовать класс бинарного дерева. Написать функцию для проверки, является ли бинарное дерево сбалансированным."
   ]
  },
  {
   "cell_type": "markdown",
   "metadata": {
    "id": "W783wUiFFsOX"
   },
   "source": [
    "3. Реализовать класс бинарного дерева. Написать функцию для поиска наименьшего и наибольшего элементов в бинарном дереве."
   ]
  },
  {
   "cell_type": "markdown",
   "metadata": {
    "id": "O4DktWEaFuse"
   },
   "source": [
    "4. Реализовать класс бинарного дерева. Написать функцию для проверки, является ли бинарное дерево деревом поиска."
   ]
  },
  {
   "cell_type": "markdown",
   "metadata": {
    "id": "DOM03ifuFxil"
   },
   "source": [
    "5. Реализовать класс бинарного дерева. Написать функцию для нахождения наибольшей глубины листьев в бинарном дереве."
   ]
  },
  {
   "cell_type": "markdown",
   "metadata": {
    "id": "iDa7ZzsRFz3y"
   },
   "source": [
    "6. Реализовать класс бинарного дерева. Написать функцию для нахождения наименьшего общего предка двух узлов в бинарном дереве."
   ]
  },
  {
   "cell_type": "markdown",
   "metadata": {
    "id": "9c3taYNSF18r"
   },
   "source": [
    "7. Реализовать класс бинарного дерева. Написать функцию для нахождения суммы всех элементов в бинарном дереве."
   ]
  },
  {
   "cell_type": "markdown",
   "metadata": {
    "id": "ShxVEAx5F5C2"
   },
   "source": [
    "8. Реализовать класс бинарного дерева. Написать функцию для нахождения диаметра бинарного дерева (максимального расстояния между двумя узлами)."
   ]
  },
  {
   "cell_type": "markdown",
   "metadata": {
    "id": "NrJjZwkjF7Ss"
   },
   "source": [
    "9. Реализовать класс бинарного дерева. Написать функцию для нахождения всех узлов, которые имеют только одного потомка в бинарном дереве."
   ]
  },
  {
   "cell_type": "markdown",
   "metadata": {
    "id": "4wy5ECRFF9Ya"
   },
   "source": [
    "10. Реализовать класс бинарного дерева. Написать функцию для нахождения всех узлов, которые имеют двух потомков в бинарном дереве."
   ]
  },
  {
   "cell_type": "markdown",
   "metadata": {
    "id": "rOQOcfeqF_bD"
   },
   "source": [
    "11. Реализовать класс бинарного дерева. Написать функцию для нахождения всех узлов, которые являются листьями в бинарном дереве."
   ]
  },
  {
   "cell_type": "markdown",
   "metadata": {
    "id": "1coFyqPPGBZm"
   },
   "source": [
    "12. Реализовать класс бинарного дерева. Написать функцию для проверки, является ли бинарное дерево полным."
   ]
  },
  {
   "cell_type": "markdown",
   "metadata": {
    "id": "fv31zNv9GDVb"
   },
   "source": [
    "13. Реализовать класс бинарного дерева. Написать функцию для проверки, является ли бинарное дерево симметричным (зеркально симметричным)."
   ]
  },
  {
   "cell_type": "markdown",
   "metadata": {
    "id": "dB9EVEPtGFSP"
   },
   "source": [
    "14. Реализовать класс бинарного дерева. Написать функцию для нахождения всех путей от корня до листьев в бинарном дереве."
   ]
  },
  {
   "cell_type": "markdown",
   "metadata": {
    "id": "pAKv8BEZGHF_"
   },
   "source": [
    "15. Реализовать класс бинарного дерева. Написать функцию для нахождения всех узлов на заданной глубине в бинарном дереве."
   ]
  },
  {
   "cell_type": "markdown",
   "metadata": {
    "id": "gttR9xjtFbtf"
   },
   "source": [
    "#### <font color='LightCoral'> **ЗАДАНИЕ 40.** Структуры данных: двоичная куча."
   ]
  },
  {
   "cell_type": "markdown",
   "metadata": {
    "id": "RhVVceGEGZ0O"
   },
   "source": [
    "1. Набор данных представляет собой пары «ключ-значение». Реализуйте структуру данных на основе двоичной кучи, которая будет поддерживать операции вставки пары, удаления пары по ключу и поиска значения по ключу."
   ]
  },
  {
   "cell_type": "markdown",
   "metadata": {
    "id": "0ehvwIcwGdE4"
   },
   "source": [
    "2. Работает система, которая отслеживает активность пользователей на веб-сайте. Каждый раз, когда пользователь посещает страницу, система создает запись с временной меткой. Реализовать структуру данных на основе двоичной кучи, которая будет поддерживать операции добавления записи и извлечения записей за определенный период времени."
   ]
  },
  {
   "cell_type": "markdown",
   "metadata": {
    "id": "Bv9uLpkJGlwb"
   },
   "source": [
    "3. Даны две двоичные кучи. Напишите функцию, которая объединяет эти две кучи в одну."
   ]
  },
  {
   "cell_type": "markdown",
   "metadata": {
    "id": "JBXiDRJxGopx"
   },
   "source": [
    "4. Дан список задач с указанием времени выполнения каждой задачи. Напишите программу, использующую двоичную кучу, для определения порядка выполнения задач таким образом, чтобы минимизировать общее время ожидания."
   ]
  },
  {
   "cell_type": "markdown",
   "metadata": {
    "id": "Gc7sddLQGs8A"
   },
   "source": [
    "5. Создайте структуру данных «Top N», которая хранит $N$ наибольших элементов из потока входных данных. Структура должна поддерживать операцию добавления нового элемента в поток и операцию извлечения одного из «Top N» элементов. Используйте для этого двоичную кучу."
   ]
  },
  {
   "cell_type": "markdown",
   "metadata": {
    "id": "zLb6WbpWG7IV"
   },
   "source": [
    "6. Предоставлен набор данных, содержащий информацию о студентах и их оценках. Разработайте систему ранжирования студентов по их среднему баллу с использованием двоичной кучи."
   ]
  },
  {
   "cell_type": "markdown",
   "metadata": {
    "id": "eJFMIOUTG9-i"
   },
   "source": [
    "7. Даны две отсортированные последовательности. Напишите функцию, которая объединяет эти две последовательности в одну отсортированную последовательность с использованием двоичной кучи."
   ]
  },
  {
   "cell_type": "markdown",
   "metadata": {
    "id": "JICG7gGhHAkQ"
   },
   "source": [
    "8. Дан массив строк. Напишите программу, которая использует двоичную кучу для сортировки массива в лексикографическом порядке."
   ]
  },
  {
   "cell_type": "markdown",
   "metadata": {
    "id": "PG67tddvHEbR"
   },
   "source": [
    "9. Имеется набор данных, представляющих собой пары «слово-частота». Реализуйте структуру данных на основе двоичной кучи, которая будет поддерживать операции вставки пары, удаления пары по слову и поиска частоты по слову."
   ]
  },
  {
   "cell_type": "markdown",
   "metadata": {
    "id": "NnXbsVBOHJ3g"
   },
   "source": [
    "10. Имеется система управления задачами. Каждая задача имеет приоритет и дедлайн. Реализовать структуру данных на основе двоичной кучи, которая будет поддерживать операции добавления задачи и извлечения задачи с наивысшим приоритетом и дедлайном до определенного времени."
   ]
  },
  {
   "cell_type": "markdown",
   "metadata": {
    "id": "3s3oHSk9HNRY"
   },
   "source": [
    "11. Реализуйте алгоритм поиска медианы в отсортированном массиве с использованием двоичной кучи."
   ]
  },
  {
   "cell_type": "markdown",
   "metadata": {
    "id": "n9qGg_iHHPc9"
   },
   "source": [
    "12. Дан массив точек на плоскости. Напишите программу, которая использует двоичную кучу для сортировки точек по их расстоянию от начала координат."
   ]
  },
  {
   "cell_type": "markdown",
   "metadata": {
    "id": "K9FCv-cBHSsw"
   },
   "source": [
    "13. Имеется набор данных, представляющих собой пары «имя-возраст». Реализуйте структуру данных на основе двоичной кучи, которая будет поддерживать операции вставки пары, удаления пары по имени и поиска возраста по имени."
   ]
  },
  {
   "cell_type": "markdown",
   "metadata": {
    "id": "bwA4wIFvHYh6"
   },
   "source": [
    "14. Разработайте систему управления автобусным расписанием. Каждый автобус имеет номер маршрута и время отправления. Реализовать структуру данных на основе двоичной кучи, которая будет поддерживать операции добавления автобуса и извлечения автобуса с наименьшим временем отправления."
   ]
  },
  {
   "cell_type": "markdown",
   "metadata": {
    "id": "bMUvcsWvHccB"
   },
   "source": [
    "15. Разработайте систему учета книг в библиотеке. Каждая книга имеет название и количество экземпляров. Реализовать структуру данных на основе двоичной кучи, которая будет поддерживать операции добавления книги и извлечения книги с наименьшим количеством экземпляров."
   ]
  },
  {
   "cell_type": "markdown",
   "metadata": {
    "id": "meJCexfTfuPn"
   },
   "source": [
    "#### <font color='LightCoral'> **ЗАДАНИЕ 41.** Хеш-таблицы."
   ]
  },
  {
   "cell_type": "markdown",
   "metadata": {
    "id": "XxV5Rzk1IUgi"
   },
   "source": [
    "1. <br>а) Создать класс «Студент» с полями «Имя», «Фамилия», «Год рождения» и «Средний балл». Создать хеш-таблицу для хранения объектов класса «Студент» по ключу — номеру зачетной книжки.<br>б) Написать функцию для объединения двух хеш-таблиц.<br>в) Реализуйте хеш-таблицу для хранения информации о клиентах туристического агентства. Ключом является номер паспорта клиента, значение — объект, содержащий информацию о клиенте (ФИО, контактная информация, список заказанных туров и т.д.). Используйте метод разрешения коллизий методом открытой адресации с линейным пробированием."
   ]
  },
  {
   "cell_type": "markdown",
   "metadata": {
    "id": "J9U0eOHAIY2m"
   },
   "source": [
    "2. <br>а) Создать класс «Товар» с полями «Название», «Цена» и «Количество». Создать хеш-таблицу для хранения объектов класса «Товар» по ключу — артикулу товара.<br>б) Написать функцию для разделения хеш-таблицы на две, где первая будет содержать элементы с четными ключами, а вторая — с нечетными.<br>в) Реализуйте хеш-таблицу для хранения информации о документах в архиве. Ключом является номер документа, значение — объект, содержащий информацию о документе (название, дата создания, автор и т.д.). Используйте метод разрешения коллизий методом цепочек и реализуйте возможность удаления элементов из таблицы."
   ]
  },
  {
   "cell_type": "markdown",
   "metadata": {
    "id": "MwA6deKJIfw8"
   },
   "source": [
    "3. <br>а) Создать класс «Клиент» с полями «Имя», «Фамилия», «Адрес» и «Номер телефона». Создать хеш-таблицу для хранения объектов класса «Клиент» по ключу — номеру клиентской карты.<br>б) Написать функцию для удаления всех элементов из хеш-таблицы, которые не удовлетворяют заданному условию.<br>в) Реализуйте хеш-таблицу для хранения информации о студентах университета. Ключом является номер студенческого билета, значение — объект, содержащий информацию о студенте (ФИО, группа, оценки и т.д.). Используйте метод разрешения коллизий методом цепочек."
   ]
  },
  {
   "cell_type": "markdown",
   "metadata": {
    "id": "bhy-qpOrIkqs"
   },
   "source": [
    "4. <br>а) Создать класс «Заказ» с полями «Номер заказа», «Дата заказа», «Сумма заказа» и «Статус заказа». Создать хеш-таблицу для хранения объектов класса «Заказ» по ключу — номеру заказа.<br>б) Написать функцию для удаления всех элементов из хеш-таблицы, которые меньше заданного значения.<br>в) Реализуйте хеш-таблицу для хранения информации о сотрудниках компании. Ключом является табельный номер, значение — объект, содержащий информацию о сотруднике (ФИО, должность, зарплата и т.д.). Используйте метод разрешения коллизий методом открытой адресации с двойным хешированием."
   ]
  },
  {
   "cell_type": "markdown",
   "metadata": {
    "id": "c3HojoFfImw-"
   },
   "source": [
    "5. <br>а) Создать класс «Книга» с полями «Название», «Автор», «Год выпуска» и «Количество страниц». Создать хеш-таблицу для хранения объектов класса «Книга» по ключу — ISBN.<br>б) Написать функцию для нахождения количества элементов из хеш-таблицы, у которых значение больше заданного значения.<br>в) Реализуйте хеш-таблицу для хранения информации о товарах на складе. Ключом является штрих-код товара, значение — объект, содержащий информацию о товаре (название, количество, цена и т.д.). Используйте метод разрешения коллизий методом цепочек."
   ]
  },
  {
   "cell_type": "markdown",
   "metadata": {
    "id": "MLxGnEfNIqYo"
   },
   "source": [
    "6. <br>а) Создать класс «Сотрудник» с полями «Имя», «Фамилия», «Должность» и «Зарплата». Создать хеш-таблицу для хранения объектов класса «Сотрудник» по ключу — табельному номеру.<br>б) Написать функцию для удаления всех дубликатов из хеш-таблицы.<br>в) Реализуйте хеш-таблицу для хранения информации о книгах в библиотеке. Ключом является ISBN книги, значение — объект, содержащий информацию о книге (название, автор, количество экземпляров и т.д.). Используйте метод разрешения коллизий методом открытой адресации с квадратичным пробированием."
   ]
  },
  {
   "cell_type": "markdown",
   "metadata": {
    "id": "WsrFC-U3Itz0"
   },
   "source": [
    "7. <br>а) Создать класс «Ресторан» с полями «Название», «Адрес», «Телефон» и «Тип кухни». Создать хеш-таблицу для хранения объектов класса «Ресторан» по ключу — названию ресторана.<br>б) Написать функцию для проверки, содержит ли хеш-таблица заданный ключ.<br>в) Реализуйте хеш-таблицу для хранения информации о заказах в интернет-магазине. Ключом является номер заказа, значение — объект, содержащий информацию о заказе (список товаров, стоимость заказа, адрес доставки и т.д.). Используйте метод разрешения коллизий методом цепочек и реализуйте возможность изменения элементов в таблице."
   ]
  },
  {
   "cell_type": "markdown",
   "metadata": {
    "id": "gQcN8YjHIv_3"
   },
   "source": [
    "8. <br>а) Создать класс «Пользователь» с полями «Имя», «Фамилия», «Логин» и «Пароль». Создать хеш-таблицу для хранения объектов класса «Пользователь» по ключу — логину.<br>б) Написать функцию для сортировки значений в хеш-таблице по возрастанию/убыванию.<br>в) Реализуйте хеш-таблицу для хранения информации о клиентах банка. Ключом является номер счета, значение — объект, содержащий информацию о клиенте (ФИО, адрес, баланс и т.д.). Используйте метод разрешения коллизий методом открытой адресации с линейным пробированием."
   ]
  },
  {
   "cell_type": "markdown",
   "metadata": {
    "id": "Z8JlhOZJIyir"
   },
   "source": [
    "9. <br>а) Создать класс «Страна» с полями «Название», «Столица», «Население» и «Площадь». Создать хеш-таблицу для хранения объектов класса «Страна» по ключу — названию страны.<br>б) Написать функцию для нахождения наименьшего значения в хеш-таблице.<br>в) Реализуйте хеш-таблицу для хранения информации о продуктах в интернет-магазине. Ключом является артикул товара, значение — объект, содержащий информацию о товаре (название, описание, цена и т.д.). Используйте метод разрешения коллизий методом цепочек и реализуйте возможность удаления элементов из таблицы."
   ]
  },
  {
   "cell_type": "markdown",
   "metadata": {
    "id": "fSG3PCCLI0z_"
   },
   "source": [
    "10. <br>а) Создать класс «Фильм» с полями «Название», «Режиссер», «Год выпуска» и «Жанр». Создать хеш-таблицу для хранения объектов класса «Фильм» по ключу — названию фильма.<br>б) Написать функцию для нахождения элемента в хеш-таблице, который наиболее близок по значению к заданному числу.<br>в) Реализуйте хеш-таблицу для хранения информации о пациентах в больнице. Ключом является номер медицинской карты, значение — объект, содержащий информацию о пациенте (ФИО, диагноз, лечение и т.д.). Используйте метод разрешения коллизий методом открытой адресации с квадратичным пробированием."
   ]
  },
  {
   "cell_type": "markdown",
   "metadata": {
    "id": "VW3m9Xn0I3u2"
   },
   "source": [
    "11. <br>а) Создать класс «Продукт» с полями «Название», «Цена», «Количество» и «Срок годности». Создать хеш-таблицу для хранения объектов класса «Продукт» по ключу — названию продукта.<br>б) Написать функцию для нахождения наиболее часто встречающегося ключа в хеш-таблице.<br>в) Реализуйте хеш-таблицу для хранения информации о заказах в ресторане. Ключом является номер заказа, значение — объект, содержащий информацию о заказе (список блюд, стоимость заказа, адрес доставки и т.д.). Используйте метод разрешения коллизий методом цепочек и реализуйте возможность поиска элементов в таблице."
   ]
  },
  {
   "cell_type": "markdown",
   "metadata": {
    "id": "smwVeC0mI52T"
   },
   "source": [
    "12. <br>а) Создать класс «Адрес» с полями «Улица», «Дом», «Квартира» и «Индекс». Создать хеш-таблицу для хранения объектов класса «Адрес» по ключу — индексу.<br>б) Написать функцию для нахождения среднего значения всех значений в хеш-таблице.<br>в) Реализуйте хеш-таблицу для хранения информации о клиентах страховой компании. Ключом является номер полиса, значение — объект, содержащий информацию о клиенте (ФИО, адрес, страховые услуги и т.д.). Используйте метод разрешения коллизий методом открытой адресации с двойным хешированием и реализуйте возможность добавления новых элементов в таблицу."
   ]
  },
  {
   "cell_type": "markdown",
   "metadata": {
    "id": "QSZcDR9fI8K0"
   },
   "source": [
    "13. <br>а) Создать класс «Курс» с полями «Название», «Преподаватель», «Количество студентов» и «День недели». Создать хеш-таблицу для хранения объектов класса «Курс» по ключу — названию курса.<br>б) Написать функцию для нахождения медианы всех значений в хеш-таблице.<br>в) Реализуйте хеш-таблицу для хранения информации о студентах университета. Ключом является номер зачетной книжки, значение — объект, содержащий информацию о студенте (ФИО, факультет, курс и т.д.). Используйте метод разрешения коллизий методом цепочек и реализуйте возможность изменения информации о студентах."
   ]
  },
  {
   "cell_type": "markdown",
   "metadata": {
    "id": "380ebyddI-UN"
   },
   "source": [
    "14. <br>а) Создать класс «Автомобиль» с полями «Марка», «Модель», «Год выпуска» и «Цвет». Создать хеш-таблицу для хранения объектов класса «Автомобиль» по ключу — номеру государственной регистрации.<br>б) Написать функцию для нахождения наиболее часто встречающегося значения в хеш-таблице.<br>в) Реализуйте хеш-таблицу для хранения информации о товарах на складе. Ключом является штрих-код товара, значение — объект, содержащий информацию о товаре (название, количество, цена и т.д.). Используйте метод разрешения коллизий методом открытой адресации с квадратичным пробированием и реализуйте возможность изменения количества товаров."
   ]
  },
  {
   "cell_type": "markdown",
   "metadata": {
    "id": "VV9jqY-hJAgd"
   },
   "source": [
    "15. <br>а) Создать класс «Квартира» с полями «Адрес», «Количество комнат», «Площадь» и «Цена за квадратный метр». Создать хеш-таблицу для хранения объектов класса «Квартира» по ключу — адресу.<br>б) Написать функцию для проверки, содержит ли хеш-таблица заданное значение.<br>в) Реализуйте хеш-таблицу для хранения информации о задачах в проекте. Ключом является номер задачи, значение — объект, содержащий информацию о задаче (описание, статус выполнения, ответственный и т.д.). Используйте метод разрешения коллизий методом цепочек и реализуйте возможность удаления задач из таблицы."
   ]
  }
 ],
 "metadata": {
  "colab": {
   "collapsed_sections": [
    "Qtks3ldxSlRQ",
    "deqygj8V4cFn",
    "iTMMjxHx34ze",
    "hHvyt-v4tqHf",
    "CRGxay6Yuc7F",
    "jtrdGrUwvGSW",
    "JJyN-79_JHIz",
    "5ASh5cH0JJzO",
    "pSYyv9rQJKeQ",
    "LOrWCgzgJKqw",
    "sJf0cye_JKzu",
    "yUJ1yoYFJLRx",
    "RBeJ_jewJLc7",
    "J8W2WrivJLmB",
    "nbrmNnQkSqTF",
    "eEfJ3hdacn2O",
    "XdpHm6SQco3u",
    "DfIGsLWPwH6D",
    "AsCxG7xFcpFg",
    "nODNI4fhcpR_",
    "S1z_xRDucpkG",
    "tdV2beFdcpuO",
    "YbP9A-Z4cp5y",
    "jLbD02v5Ef9L",
    "jRQwjKp1cqGI",
    "nTJboR7ycqP2",
    "Eiz1r57hl3Lv",
    "WtxZotV6eLD2",
    "s2CXmHkJeW6N",
    "YpP98h6Lej5f",
    "C_MzbmEnesp0",
    "ICWe68Cre6qx",
    "Ufb_V5ALe70J",
    "jIET26XX-1iW",
    "grEFfrT1Ptd9",
    "_50nhig8e8WB",
    "GZgHsGJmeKrR",
    "Y5IzArqPfc6g",
    "Zz7Pa6d9fp0N",
    "pbF7QemofsxE",
    "7km8KaMcftjL",
    "jFhR9iC2ftuv",
    "YbpTd9oaft6R",
    "83V3q8I8fuFK",
    "gttR9xjtFbtf",
    "meJCexfTfuPn"
   ],
   "provenance": [
    {
     "file_id": "1X0SnSDIQQUVvi5W_3FlN0a-hTdgvHwO9",
     "timestamp": 1760137503347
    }
   ]
  },
  "kernelspec": {
   "display_name": "Python 3",
   "name": "python3"
  },
  "language_info": {
   "codemirror_mode": {
    "name": "ipython",
    "version": 3
   },
   "file_extension": ".py",
   "mimetype": "text/x-python",
   "name": "python",
   "nbconvert_exporter": "python",
   "pygments_lexer": "ipython3",
   "version": "3.12.10"
  }
 },
 "nbformat": 4,
 "nbformat_minor": 0
}
